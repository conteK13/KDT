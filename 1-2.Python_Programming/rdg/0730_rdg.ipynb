{
 "cells": [
  {
   "cell_type": "code",
   "execution_count": 3,
   "id": "40cf760f-2e5b-4ff6-b407-435b96cb583a",
   "metadata": {},
   "outputs": [
    {
     "name": "stdout",
     "output_type": "stream",
     "text": [
      "==============================\n",
      "주사위 게임 게임\n",
      "==============================\n",
      "나 : 3\n",
      "당신 : 1\n",
      "나의 승리입니다!\n",
      "------------------------------\n"
     ]
    },
    {
     "name": "stdin",
     "output_type": "stream",
     "text": [
      "계속하려면 y를 입력하세요! y\n"
     ]
    },
    {
     "name": "stdout",
     "output_type": "stream",
     "text": [
      "\n",
      "나 : 4\n",
      "당신 : 4\n",
      "무승부입니다!\n",
      "------------------------------\n"
     ]
    },
    {
     "name": "stdin",
     "output_type": "stream",
     "text": [
      "계속하려면 y를 입력하세요! y\n"
     ]
    },
    {
     "name": "stdout",
     "output_type": "stream",
     "text": [
      "\n",
      "나 : 3\n",
      "당신 : 6\n",
      "당신의 승리입니다!\n",
      "------------------------------\n"
     ]
    },
    {
     "name": "stdin",
     "output_type": "stream",
     "text": [
      "계속하려면 y를 입력하세요! y\n"
     ]
    },
    {
     "name": "stdout",
     "output_type": "stream",
     "text": [
      "\n",
      "나 : 4\n",
      "당신 : 6\n",
      "당신의 승리입니다!\n",
      "------------------------------\n"
     ]
    },
    {
     "name": "stdin",
     "output_type": "stream",
     "text": [
      "계속하려면 y를 입력하세요! y\n"
     ]
    },
    {
     "name": "stdout",
     "output_type": "stream",
     "text": [
      "\n",
      "나 : 2\n",
      "당신 : 5\n",
      "당신의 승리입니다!\n",
      "------------------------------\n"
     ]
    },
    {
     "name": "stdin",
     "output_type": "stream",
     "text": [
      "계속하려면 y를 입력하세요! y\n"
     ]
    },
    {
     "name": "stdout",
     "output_type": "stream",
     "text": [
      "\n",
      "나 : 4\n",
      "당신 : 1\n",
      "나의 승리입니다!\n",
      "------------------------------\n"
     ]
    },
    {
     "name": "stdin",
     "output_type": "stream",
     "text": [
      "계속하려면 y를 입력하세요! y\n"
     ]
    },
    {
     "name": "stdout",
     "output_type": "stream",
     "text": [
      "\n",
      "나 : 5\n",
      "당신 : 6\n",
      "당신의 승리입니다!\n",
      "------------------------------\n"
     ]
    },
    {
     "name": "stdin",
     "output_type": "stream",
     "text": [
      "계속하려면 y를 입력하세요! z\n"
     ]
    },
    {
     "name": "stdout",
     "output_type": "stream",
     "text": [
      "\n"
     ]
    }
   ],
   "source": [
    "#주사위 게임\n",
    "import random\n",
    "def whoWin(x, y) :   #x는 나, y는 상대\n",
    "    if x==y:\n",
    "        msg = '무승부입니다!'\n",
    "    elif x>y:\n",
    "        msg = '나의 승리입니다!'\n",
    "    else:\n",
    "        msg = '당신의 승리입니다!'\n",
    "    return msg\n",
    "\n",
    "print('=' * 30)\n",
    "print('주사위 게임 게임')\n",
    "print('=' * 30)\n",
    "again = 'y'\n",
    "while again == 'y' :\n",
    "    me = random.randint(1, 6)\n",
    "    you = random.randint(1, 6)\n",
    "    result = whoWin(me, you)\n",
    "    print('나 : %s' % me)\n",
    "    print('당신 : %s' % you)\n",
    "    print(result)\n",
    "    print('-' * 30)\n",
    "    again = input('계속하려면 y를 입력하세요!')\n",
    "    print()"
   ]
  }
 ],
 "metadata": {
  "kernelspec": {
   "display_name": "Python 3 (ipykernel)",
   "language": "python",
   "name": "python3"
  },
  "language_info": {
   "codemirror_mode": {
    "name": "ipython",
    "version": 3
   },
   "file_extension": ".py",
   "mimetype": "text/x-python",
   "name": "python",
   "nbconvert_exporter": "python",
   "pygments_lexer": "ipython3",
   "version": "3.12.4"
  }
 },
 "nbformat": 4,
 "nbformat_minor": 5
}
