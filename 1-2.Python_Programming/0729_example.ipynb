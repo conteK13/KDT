{
 "cells": [
  {
   "cell_type": "code",
   "execution_count": 21,
   "id": "7b39b317-dcc2-4a42-add8-8b9aa94ca6f1",
   "metadata": {},
   "outputs": [
    {
     "name": "stdout",
     "output_type": "stream",
     "text": [
      "구구단표\n",
      "------------------------------\n",
      "2 x 1 = 2\n",
      "2 x 2 = 4\n",
      "2 x 3 = 6\n",
      "2 x 4 = 8\n",
      "2 x 5 = 10\n",
      "2 x 6 = 12\n",
      "2 x 7 = 14\n",
      "2 x 8 = 16\n",
      "2 x 9 = 18\n",
      "------------------------------\n",
      "3 x 1 = 3\n",
      "3 x 2 = 6\n",
      "3 x 3 = 9\n",
      "3 x 4 = 12\n",
      "3 x 5 = 15\n",
      "3 x 6 = 18\n",
      "3 x 7 = 21\n",
      "3 x 8 = 24\n",
      "3 x 9 = 27\n",
      "------------------------------\n",
      "4 x 1 = 4\n",
      "4 x 2 = 8\n",
      "4 x 3 = 12\n",
      "4 x 4 = 16\n",
      "4 x 5 = 20\n",
      "4 x 6 = 24\n",
      "4 x 7 = 28\n",
      "4 x 8 = 32\n",
      "4 x 9 = 36\n",
      "------------------------------\n",
      "5 x 1 = 5\n",
      "5 x 2 = 10\n",
      "5 x 3 = 15\n",
      "5 x 4 = 20\n",
      "5 x 5 = 25\n",
      "5 x 6 = 30\n",
      "5 x 7 = 35\n",
      "5 x 8 = 40\n",
      "5 x 9 = 45\n",
      "------------------------------\n",
      "6 x 1 = 6\n",
      "6 x 2 = 12\n",
      "6 x 3 = 18\n",
      "6 x 4 = 24\n",
      "6 x 5 = 30\n",
      "6 x 6 = 36\n",
      "6 x 7 = 42\n",
      "6 x 8 = 48\n",
      "6 x 9 = 54\n",
      "------------------------------\n",
      "7 x 1 = 7\n",
      "7 x 2 = 14\n",
      "7 x 3 = 21\n",
      "7 x 4 = 28\n",
      "7 x 5 = 35\n",
      "7 x 6 = 42\n",
      "7 x 7 = 49\n",
      "7 x 8 = 56\n",
      "7 x 9 = 63\n",
      "------------------------------\n",
      "8 x 1 = 8\n",
      "8 x 2 = 16\n",
      "8 x 3 = 24\n",
      "8 x 4 = 32\n",
      "8 x 5 = 40\n",
      "8 x 6 = 48\n",
      "8 x 7 = 56\n",
      "8 x 8 = 64\n",
      "8 x 9 = 72\n",
      "------------------------------\n",
      "9 x 1 = 9\n",
      "9 x 2 = 18\n",
      "9 x 3 = 27\n",
      "9 x 4 = 36\n",
      "9 x 5 = 45\n",
      "9 x 6 = 54\n",
      "9 x 7 = 63\n",
      "9 x 8 = 72\n",
      "9 x 9 = 81\n",
      "------------------------------\n"
     ]
    }
   ],
   "source": [
    "#Q6-1 튜플로 구구단표 만들기\n",
    "\n",
    "dans = (2, 3, 4, 5, 6, 7, 8, 9)\n",
    "print('구구단표')\n",
    "print('-' * 30)\n",
    "\n",
    "for dan in dans :\n",
    "    for i in range(1, 10) :\n",
    "        print('%d x %d = %d' % (dan, i , dan*i))\n",
    "    print('-' * 30)"
   ]
  },
  {
   "cell_type": "code",
   "execution_count": 7,
   "id": "1a503363-73ac-4bb9-9638-64339e5990ed",
   "metadata": {},
   "outputs": [
    {
     "name": "stdin",
     "output_type": "stream",
     "text": [
      "관리자 아이디를 입력하세요 :  test\n",
      "관리자 비밀번호를 입력하세요 :  12345\n"
     ]
    },
    {
     "name": "stdout",
     "output_type": "stream",
     "text": [
      "아이디 또는 비밀번호가 잘못 입력되었습니다.\n"
     ]
    }
   ],
   "source": [
    "#Q6-2 튜플로 관리자 정보 처리하기\n",
    "admin_info = ('admin', '12345', 'rubato@naver.com')\n",
    "id = input('관리자 아이디를 입력하세요 : ')\n",
    "password = input('관리자 비밀번호를 입력하세요 : ')\n",
    "if id == admin_info[0] and password == admin_info[1] :\n",
    "    print('관리자입니다.')\n",
    "else :\n",
    "    print('아이디 또는 비밀번호가 잘못 입력되었습니다.')"
   ]
  },
  {
   "cell_type": "code",
   "execution_count": 9,
   "id": "c5d7ad99-2e02-40a7-9507-6f2568d5b72c",
   "metadata": {},
   "outputs": [
    {
     "name": "stdout",
     "output_type": "stream",
     "text": [
      "김예진 : 90\n",
      "박영진 : 95\n",
      "김소희 : 84\n",
      "합계 : 269, 평균 : 89.67\n"
     ]
    }
   ],
   "source": [
    "#Q6-3 딕셔너리로 성적 합계/평균 구하기\n",
    "scores = {'김예진': 90, '박영진': 95, '김소희': 84}\n",
    "sum = 0\n",
    "for key in scores :\n",
    "    sum += scores[key]\n",
    "    print('%s : %d' % (key , scores[key]))\n",
    "avg = sum/len(scores)\n",
    "print('합계 : %d, 평균 : %.2f' % (sum, avg ))\n"
   ]
  },
  {
   "cell_type": "code",
   "execution_count": 59,
   "id": "67b53b97-0464-42ec-8840-06d919acb3cb",
   "metadata": {},
   "outputs": [
    {
     "name": "stdin",
     "output_type": "stream",
     "text": [
      "아이디를 입력하세요:  admin\n",
      "비밀번호를 입력하세요:  11111\n"
     ]
    },
    {
     "name": "stdout",
     "output_type": "stream",
     "text": [
      "모든 정보에 접근 가능합니다!\n"
     ]
    }
   ],
   "source": [
    "#Q6-4 딕셔너리로 정보 접근 제어하기\n",
    "ad = {'id':'admin', 'password':'11111'}\n",
    "in_id = input('아이디를 입력하세요: ')\n",
    "in_password = input('비밀번호를 입력하세요: ')\n",
    "if (in_id == ad['id'] and in_password == ad['password']) :\n",
    "    print('모든 정보에 접근 가능합니다!')\n",
    "else :\n",
    "    print('정보에 접근 권한이 없습니다!')"
   ]
  },
  {
   "cell_type": "code",
   "execution_count": 19,
   "id": "2573030b-111e-49f6-b714-ed5188b1bc58",
   "metadata": {},
   "outputs": [
    {
     "name": "stdin",
     "output_type": "stream",
     "text": [
      "사과에 해당되는 영어 단어를 입력해주세요: test\n"
     ]
    },
    {
     "name": "stdout",
     "output_type": "stream",
     "text": [
      "틀렸습니다!\n"
     ]
    },
    {
     "name": "stdin",
     "output_type": "stream",
     "text": [
      "컴퓨터에 해당되는 영어 단어를 입력해주세요: test\n"
     ]
    },
    {
     "name": "stdout",
     "output_type": "stream",
     "text": [
      "틀렸습니다!\n"
     ]
    },
    {
     "name": "stdin",
     "output_type": "stream",
     "text": [
      "학교에 해당되는 영어 단어를 입력해주세요: test\n"
     ]
    },
    {
     "name": "stdout",
     "output_type": "stream",
     "text": [
      "틀렸습니다!\n"
     ]
    },
    {
     "name": "stdin",
     "output_type": "stream",
     "text": [
      "책상에 해당되는 영어 단어를 입력해주세요: test\n"
     ]
    },
    {
     "name": "stdout",
     "output_type": "stream",
     "text": [
      "틀렸습니다!\n"
     ]
    },
    {
     "name": "stdin",
     "output_type": "stream",
     "text": [
      "의자에 해당되는 영어 단어를 입력해주세요: test\n"
     ]
    },
    {
     "name": "stdout",
     "output_type": "stream",
     "text": [
      "틀렸습니다!\n"
     ]
    }
   ],
   "source": [
    "#Q6-5 딕셔너리로 영어 단어 퀴즈 만들기\n",
    "words = {'사과':'apple', '컴퓨터':'computer', '학교':'school', '책상':'desk', '의자':'chair'}\n",
    "for key in words :\n",
    "    in_word = input('%s에 해당되는 영어 단어를 입력해주세요:' % key)\n",
    "    if in_word == words[key] :\n",
    "        print('정답입니다!')\n",
    "    else :\n",
    "        print('틀렸습니다!')"
   ]
  },
  {
   "cell_type": "code",
   "execution_count": 23,
   "id": "b7431ef6-b9f8-4073-9cf8-660ec2619966",
   "metadata": {},
   "outputs": [
    {
     "name": "stdout",
     "output_type": "stream",
     "text": [
      "10 ~ 100의 정수 합계 : 5005\n",
      "100 ~ 1000의 정수 합계 : 495550\n",
      "1000 ~ 10000의 정수 합계 : 49505500\n"
     ]
    }
   ],
   "source": [
    "#Q7-1 함수로 정수 합계 구하기\n",
    "def sum(start, end) :\n",
    "    total = 0\n",
    "    for i in range(start, end+1) :\n",
    "        total += i\n",
    "    print('%d ~ %d의 정수 합계 : %d' % (start, end, total))\n",
    "    \n",
    "sum(10, 100)\n",
    "sum(100, 1000)\n",
    "sum(1000, 10000)"
   ]
  },
  {
   "cell_type": "code",
   "execution_count": 27,
   "id": "382d9dc7-a3a8-4234-bc0f-ee27e63b14a9",
   "metadata": {},
   "outputs": [
    {
     "name": "stdin",
     "output_type": "stream",
     "text": [
      "시작 수를 입력하세요:  10\n",
      "끝 수를 입력하세요:  100\n",
      "합계를 구할 배수를 입력하세요:  5\n"
     ]
    },
    {
     "name": "stdout",
     "output_type": "stream",
     "text": [
      "10 ~ 100의 정수 중 5의 배수의 합 : 1045\n"
     ]
    }
   ],
   "source": [
    "#Q7-2 함수로 배수 합계 구하기\n",
    "def sum_besu(n1, n2, num) :\n",
    "    sum = 0\n",
    "    for i in range(n1, n2+1) :\n",
    "        if i % num == 0 :\n",
    "            sum += i\n",
    "    return sum\n",
    "\n",
    "start = int(input('시작 수를 입력하세요: '))\n",
    "end = int(input('끝 수를 입력하세요: '))\n",
    "besu = int(input('합계를 구할 배수를 입력하세요: '))\n",
    "result = sum_besu(start, end, besu)\n",
    "print('%d ~ %d의 정수 중 %d의 배수의 합 : %d' % (start, end, besu, result))"
   ]
  },
  {
   "cell_type": "code",
   "execution_count": 63,
   "id": "c52f027a-df8e-492c-b60c-c95df3078dd0",
   "metadata": {},
   "outputs": [
    {
     "name": "stdin",
     "output_type": "stream",
     "text": [
      "첫 번째 수를 입력하세요:  33\n",
      "두 번째 수를 입력하세요:  44\n"
     ]
    },
    {
     "name": "stdout",
     "output_type": "stream",
     "text": [
      "33과(와) 44의 최대공약수 : 11\n"
     ]
    }
   ],
   "source": [
    "#Q7-3 함수로 최대공약수 구하기\n",
    "def computeMaxGong(x, y):\n",
    "    if x > y:\n",
    "        small = y\n",
    "    else:\n",
    "        small = x \n",
    "\n",
    "    for i in range(1, small+1):\n",
    "        if((x % i == 0) and (y % i == 0)):\n",
    "            result = i\n",
    "    return result\n",
    "            \n",
    "num1 = int(input(\"첫 번째 수를 입력하세요: \"))\n",
    "num2 = int(input(\"두 번째 수를 입력하세요: \"))\n",
    "max_gong = computeMaxGong(num1, num2)\n",
    "print('%d과(와) %d의 최대공약수 : %d' % (num1, num2,max_gong))"
   ]
  },
  {
   "cell_type": "code",
   "execution_count": 61,
   "id": "04269b9f-0b7d-4dd2-a289-1319a2c27f47",
   "metadata": {},
   "outputs": [
    {
     "name": "stdin",
     "output_type": "stream",
     "text": [
      "첫 번째 수를 입력하세요:  33\n",
      "두 번째 수를 입력하세요:  44\n"
     ]
    },
    {
     "name": "stdout",
     "output_type": "stream",
     "text": [
      "33과(와) 44의 최대공약수 : 11\n"
     ]
    }
   ],
   "source": [
    "#Q7-3 (개선)함수로 최대공약수 구하기\n",
    "def computeMaxGong(x, y):\n",
    "    if x > y:\n",
    "        small = y\n",
    "    else:\n",
    "        small = x \n",
    "\n",
    "    for i in range(small, 0, -1):      #최대 공배수를 구하려면 가장 큰 값에서 -1하는게 맞음\n",
    "        if((x % i == 0) and (y % i == 0)):\n",
    "            result = i return i\n",
    "            \n",
    "num1 = int(input(\"첫 번째 수를 입력하세요: \"))\n",
    "num2 = int(input(\"두 번째 수를 입력하세요: \"))\n",
    "max_gong = computeMaxGong(num1, num2)\n",
    "print('%d과(와) %d의 최대공약수 : %d' % (num1, num2,max_gong))"
   ]
  },
  {
   "cell_type": "code",
   "execution_count": 51,
   "id": "b77385a5-587e-4ea7-9a0c-29f49cfe87c8",
   "metadata": {},
   "outputs": [
    {
     "name": "stdin",
     "output_type": "stream",
     "text": [
      "오렌지에 맞는 영어 단어는?  orange\n"
     ]
    },
    {
     "name": "stdout",
     "output_type": "stream",
     "text": [
      "맞습니다!\n"
     ]
    },
    {
     "name": "stdin",
     "output_type": "stream",
     "text": [
      "과자에 맞는 영어 단어는?  cookie\n"
     ]
    },
    {
     "name": "stdout",
     "output_type": "stream",
     "text": [
      "맞습니다!\n"
     ]
    },
    {
     "name": "stdin",
     "output_type": "stream",
     "text": [
      "어머니에 맞는 영어 단어는?  mother\n"
     ]
    },
    {
     "name": "stdout",
     "output_type": "stream",
     "text": [
      "맞습니다!\n"
     ]
    },
    {
     "name": "stdin",
     "output_type": "stream",
     "text": [
      "형 제에 맞는 영어 단어는?  brother\n"
     ]
    },
    {
     "name": "stdout",
     "output_type": "stream",
     "text": [
      "맞습니다!\n"
     ]
    },
    {
     "name": "stdin",
     "output_type": "stream",
     "text": [
      "파이썬에 맞는 영어 단어는?  python\n"
     ]
    },
    {
     "name": "stdout",
     "output_type": "stream",
     "text": [
      "맞습니다!\n"
     ]
    }
   ],
   "source": [
    "#Q7-4 함수로 만드는 영어단어 퀴즈\n",
    "def matchWord(word, answer) :\n",
    "    if word == answer :\n",
    "        msg = '맞습니다!'\n",
    "    else :\n",
    "        msg = '틀렸습니다!'\n",
    "    return msg\n",
    "eng_dict = {'orange':'오렌지', 'cookie':'과자', 'mother':'어머니', 'brother':'형 제', 'python':'파이썬'}\n",
    "for key in eng_dict :\n",
    "    string = input(eng_dict[key] + '에 맞는 영어 단어는? ')\n",
    "    result = matchWord(string, key)\n",
    "    print(result)"
   ]
  },
  {
   "cell_type": "code",
   "execution_count": 57,
   "id": "4e1d3ca1-d069-4f7d-9bbd-e086176552e6",
   "metadata": {},
   "outputs": [
    {
     "name": "stdin",
     "output_type": "stream",
     "text": [
      "첫 번째 수를 입력하세요:  33\n",
      "두 번째 수를 입력하세요:  66\n",
      "세 번째 수를 입력하세요:  77\n"
     ]
    },
    {
     "name": "stdout",
     "output_type": "stream",
     "text": [
      "33, 66, 77 중 가장 큰 수 : 77\n"
     ]
    }
   ],
   "source": [
    "#Q7-5 함수로 세 수 중 큰 수 찾기\n",
    "def maxTwo(i, j):\n",
    "    if i > j:\n",
    "        return i\n",
    "    else :\n",
    "        return j\n",
    "        \n",
    "def maxThree(x, y, z) :\n",
    "    max1 = maxTwo(x, y)\n",
    "    max2 = maxTwo(y, z)\n",
    "    if max1 > max2 :\n",
    "        largest = max1\n",
    "    else :\n",
    "        largest = max2\n",
    "    return largest\n",
    "    \n",
    "a = int(input('첫 번째 수를 입력하세요: '))\n",
    "b = int(input('두 번째 수를 입력하세요: '))\n",
    "c = int(input('세 번째 수를 입력하세요: '))\n",
    "max_num = maxThree(a, b, c)\n",
    "print('%d, %d, %d 중 가장 큰 수 : %d' % (a, b, c, max_num))"
   ]
  }
 ],
 "metadata": {
  "kernelspec": {
   "display_name": "Python 3 (ipykernel)",
   "language": "python",
   "name": "python3"
  },
  "language_info": {
   "codemirror_mode": {
    "name": "ipython",
    "version": 3
   },
   "file_extension": ".py",
   "mimetype": "text/x-python",
   "name": "python",
   "nbconvert_exporter": "python",
   "pygments_lexer": "ipython3",
   "version": "3.12.4"
  }
 },
 "nbformat": 4,
 "nbformat_minor": 5
}
