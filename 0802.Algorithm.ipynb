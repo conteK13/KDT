{
 "cells": [
  {
   "cell_type": "code",
   "execution_count": 81,
   "id": "cc740787-3d68-4890-b5be-177f5f7b531a",
   "metadata": {},
   "outputs": [
    {
     "name": "stdout",
     "output_type": "stream",
     "text": [
      "[['a', 'b', 'c'], ['d', 'e', 'f'], ['g', 'h', 'i']]\n",
      "b\n",
      "h\n",
      "d\n",
      "e\n"
     ]
    }
   ],
   "source": [
    "#이해하기 위한 기본 모델.\n",
    "#list로 구현.\n",
    "#delta값을 이용하여 List 값 출력.\n",
    "#중앙값(1,1)의 상하좌우 값을 출력.\n",
    "\n",
    "delta = [['a', 'b', 'c'],['d', 'e', 'f'],['g', 'h', 'i']]\n",
    "\n",
    "print(delta) #입력한 delta 확인 용.\n",
    "\n",
    "#data[x][y] = x행 y열으로 만들기 위해 x를 행으로, y를 열으로 사용.\n",
    "gx = len(delta)      #행.\n",
    "gy = len(delta[0])   #열.\n",
    "\n",
    "#(시계방향)북 동 남 서.\n",
    "# dx = [-1, 0, 1, 0]\n",
    "# dy = [0, 1, 0, -1]\n",
    "\n",
    "dx = [-1, 1, 0, 0] #상하좌우\n",
    "dy = [0, 0, -1, 0]\n",
    "\n",
    "x, y = 1, 1 #중앙값\n",
    "\n",
    "for i in range(4):\n",
    "    nx = x + dx[i]\n",
    "    ny = y + dy[i]\n",
    "\n",
    "    if nx >= 0 and nx < gx and ny >= 0 and ny < gy: #list의 크기를 벗어나지 않게 = error index out of range 를 방지하기 위해.\n",
    "        print(delta[nx][ny])\n",
    "\n",
    "#print(delta)"
   ]
  },
  {
   "cell_type": "code",
   "execution_count": 53,
   "id": "b3f4f596-a3c6-499d-a770-35f611dd96f5",
   "metadata": {},
   "outputs": [
    {
     "name": "stdout",
     "output_type": "stream",
     "text": [
      "[['a', 'b', 'c'], ['d', 'e', 'f'], ['g', 'h', 'i']]\n",
      "d\n",
      "b\n"
     ]
    }
   ],
   "source": [
    "#이해하기 위한 기본 모델.\n",
    "#list로 구현.\n",
    "#delta값을 이용하여 List 값 출력.\n",
    "#중앙값(1,1)의 상하좌우 값을 출력.\n",
    "\n",
    "delta = [\n",
    "        ['a', 'b', 'c'],\n",
    "        ['d', 'e', 'f'],\n",
    "        ['g', 'h', 'i']\n",
    "       ]\n",
    "\n",
    "print(delta) #입력한 delta 확인 용.\n",
    "\n",
    "#data[x][y] = x행 y열으로 만들기 위해 x를 행으로, y를 열으로 사용.\n",
    "gx = len(delta)      #행.\n",
    "gy = len(delta[0])   #열.\n",
    "\n",
    "\n",
    "#(시계방향)북 동 남 서.\n",
    "# dx = [-1, 0, 1, 0]\n",
    "# dy = [0, 1, 0, -1]\n",
    "#상하좌우.\n",
    "# dx = [-1, 1, 0, 0] \n",
    "# dy = [0, 0, -1, 0]\n",
    "\n",
    "\n",
    "#튜플로 짝을 지어 List 2개를 하나로 만들었다. \n",
    "dxy = [(-1, 0), (1, 0), (0, -1), (0, 1)]\n",
    "\n",
    "x, y = 0, 0 #중앙값.\n",
    "\n",
    "for dx, dy in dxy:\n",
    "    nx = x + dx\n",
    "    ny = y + dy\n",
    "\n",
    "    if nx >= 0 and nx < gx and ny >= 0 and ny < gy: #list의 크기를 벗어나지 않게.\n",
    "        print(delta[nx][ny])\n",
    "\n",
    "#print(delta)"
   ]
  },
  {
   "cell_type": "code",
   "execution_count": 155,
   "id": "3b24db5c-0c58-43ad-993c-a8a44afe34b4",
   "metadata": {},
   "outputs": [
    {
     "name": "stdout",
     "output_type": "stream",
     "text": [
      "1. 리스트 초기값\n",
      "\n",
      "[35, 39, 83, 90, 2]\n",
      "[32, 63, 27, 4, 63]\n",
      "[50, 90, 6, 79, 70]\n",
      "[9, 31, 47, 35, 65]\n",
      "[23, 61, 24, 34, 96]\n",
      "\n",
      "2. 특정 위치에서의 이웃요소들의 차의 절대값 합계 \n",
      " \n",
      "[7, 72, 107, 181, 149]\n",
      "[52, 118, 136, 243, 127]\n",
      "[99, 210, 219, 201, 21]\n",
      "[77, 127, 92, 87, 66]\n",
      "[52, 105, 70, 73, 93]\n",
      "\n",
      "3. 모든 이웃요소들의 차의 절대값의 전체 합계 : 2784\n",
      "\n",
      "시간 복잡도 :  0.0 s\n"
     ]
    }
   ],
   "source": [
    "import random #랜덤한 숫자를 할당하기 위해 import.\n",
    "import time   #시간복잡도를 확인하기 위해 import.\n",
    "\n",
    "start_time = time.time()\n",
    "#5x5의 크기의 2차원 리스트에, 1부터 100까지의 숫자를 랜덤하게 넣는다.\n",
    "data = [[random.randrange(1,101) for i in range(5)] for j in range(5)]\n",
    "\n",
    "#만들어진 data를 출력할때, 가독성을 높이기 위해서 for문 사용.\n",
    "print(\"1. 리스트 초기값\\n\")\n",
    "for i in data:\n",
    "    print(i)\n",
    "\n",
    "#특정 위치(x,y)의 차의 절대값의 합계를 저장할 변수.\n",
    "result = [[0]*5 for _ in range(5)]\n",
    "\n",
    "gx = len(data)       #배열의 크기 5.\n",
    "gy = len(data[0])    #배열의 크기 5.\n",
    "\n",
    " #dx, dy를 한 리스트로만들었다. \n",
    "dxy = [(-1, 0), (1, 0), (0, -1), (0, 1)]\n",
    "\n",
    "sum = 0   #모든 이웃 요소들의 차의 절대값의 전체 합계를 구할 변수.\n",
    "for x in range(gx):\n",
    "    for y in range(gy):\n",
    "        sumxy = 0   #(x,y)의 위치가 변화할 때마다 0으로 초기화\n",
    "        for dx, dy in dxy:\n",
    "            nx = x + dx\n",
    "            ny = y + dy\n",
    "            if nx >= 0 and nx < gx and ny >= 0 and ny < gy: #list의 크기를 벗어나지 않게.\n",
    "                sum += abs(data[x][y] - data[nx][ny])\n",
    "                sumxy += abs(data[x][y] - data[nx][ny])\n",
    "        #print(\"a[\",x, \"][\", y,\"]=\", sumxy ,sep= '')   #a[0][0]=79 형식으로 출력.\n",
    "        \n",
    "        result[x][y] = sumxy\n",
    "        \n",
    "print()      \n",
    "print(\"2. 특정 위치에서의 이웃요소들의 차의 절대값 합계 \\n \")\n",
    "for i in result:\n",
    "    print(i)\n",
    "\n",
    "print()  \n",
    "print(\"3. 모든 이웃요소들의 차의 절대값의 전체 합계 :\", sum)\n",
    "print()\n",
    "print(\"시간 복잡도 : \", time.time() - start_time, \"s\")"
   ]
  },
  {
   "cell_type": "code",
   "execution_count": 157,
   "id": "d8e800fa-49d1-4694-a82e-243da1aa3fb8",
   "metadata": {},
   "outputs": [
    {
     "name": "stdout",
     "output_type": "stream",
     "text": [
      "1. 리스트 초기값\n",
      "\n",
      "[6, 3, 2]\n",
      "[1, 6, 5]\n",
      "[1, 4, 7]\n",
      "\n",
      "2. 특정 위치에서의 이웃요소들의 차의 절대값 합계 \n",
      " \n",
      "[8, 7, 4]\n",
      "[10, 11, 6]\n",
      "[3, 8, 5]\n",
      "\n",
      "3. 모든 이웃요소들의 차의 절대값의 전체 합계 : 62\n"
     ]
    }
   ],
   "source": [
    "import random\n",
    " # 1) 리스트 초기값을 화면에 출력\n",
    " # 2) a[1][1] 이웃요소들 차의 절대값 합계 :  30\n",
    " #     a[1][2] 이웃요소들 차의 절대값 합계 :  92\n",
    "#data = [[random.randrange(1,10) for i in range(3)] for j in range(3)]\n",
    "\n",
    "\n",
    "data = [[6, 3, 2], [1, 6, 5], [1, 4, 7]]\n",
    "print(\"1. 리스트 초기값\\n\")\n",
    "for i in data:\n",
    "    print(i)\n",
    "result = [[0]*3 for _ in range(3)]  #\n",
    "gx = len(data)\n",
    "gy = len(data[0])\n",
    "dxy = [(-1, 0), (1, 0), (0, -1), (0, 1)]\n",
    "\n",
    "sum = 0 #모든 차의 절대값의 합을 구할 변수.\n",
    "for x in range(gx):\n",
    "    for y in range(gy):\n",
    "        sumxy = 0 #새로운 위치로 가면 0 으로 초기화.\n",
    "        for dx, dy in dxy:\n",
    "            nx = x + dx\n",
    "            ny = y + dy\n",
    "            if nx >= 0 and nx < gx and ny >= 0 and ny < gy: #index out of range error 방지.\n",
    "                sum += abs(data[x][y] - data[nx][ny])\n",
    "                sumxy += abs(data[x][y] - data[nx][ny])\n",
    "        result[x][y] = sumxy\n",
    "        \n",
    "print()      \n",
    "print(\"2. 특정 위치에서의 이웃요소들의 차의 절대값 합계 \\n \")\n",
    "for i in result:\n",
    "    print(i)\n",
    "print()  \n",
    "print(\"3. 모든 이웃요소들의 차의 절대값의 전체 합계 :\", sum)"
   ]
  },
  {
   "cell_type": "code",
   "execution_count": 163,
   "id": "164ff36d-94ee-4509-a7cd-6cbab725f2bd",
   "metadata": {},
   "outputs": [
    {
     "name": "stdout",
     "output_type": "stream",
     "text": [
      "[[6, 3, 3], [8, 1, 3], [5, 5, 5]]\n"
     ]
    }
   ],
   "source": [
    "data = [[random.randrange(1,10) for _ in range(3)] for _ in range(3)]\n",
    "\n",
    "print(data)"
   ]
  }
 ],
 "metadata": {
  "kernelspec": {
   "display_name": "Python 3 (ipykernel)",
   "language": "python",
   "name": "python3"
  },
  "language_info": {
   "codemirror_mode": {
    "name": "ipython",
    "version": 3
   },
   "file_extension": ".py",
   "mimetype": "text/x-python",
   "name": "python",
   "nbconvert_exporter": "python",
   "pygments_lexer": "ipython3",
   "version": "3.12.4"
  }
 },
 "nbformat": 4,
 "nbformat_minor": 5
}
