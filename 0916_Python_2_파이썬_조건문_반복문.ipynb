{
 "cells": [
  {
   "cell_type": "markdown",
   "metadata": {},
   "source": [
    "# 파이썬 기초\n",
    "## chapter 3. 조건문\n",
    "특정 조건을 만족하는지 아닌지를 판별한다."
   ]
  },
  {
   "cell_type": "markdown",
   "metadata": {},
   "source": [
    "### 비교 연산자\n",
    "| 비교 연산자 | 설명 |\n",
    "| --- | --- |\n",
    "| a > b | a가 b보다 크다 |\n",
    "| a >= b | a가 b보다 크거나 같다 |\n",
    "| a < b | a가 b보다 작다 |\n",
    "| a <= b | a가 b보다 작거나 같다 |\n",
    "| a == b | a와 b와 같다 |\n",
    "| a != b | a와 b가 다르다 |"
   ]
  },
  {
   "cell_type": "markdown",
   "metadata": {},
   "source": [
    "### 파이썬에서의 False\n",
    "파이썬에서는 0이 아닌 모든 수는 True이다. (0인 경우에만 False)"
   ]
  },
  {
   "cell_type": "code",
   "execution_count": 2,
   "metadata": {},
   "outputs": [
    {
     "name": "stdout",
     "output_type": "stream",
     "text": [
      "True\n",
      "False\n",
      "True\n"
     ]
    }
   ],
   "source": [
    "if -1:\n",
    "    print(\"True\")   #result : True\n",
    "else:\n",
    "    print(\"False\")\n",
    "\n",
    "\n",
    "if 0:\n",
    "    print(\"True\")   #result : False\n",
    "else:\n",
    "    print(\"False\")\n",
    "\n",
    "\n",
    "if 1:\n",
    "    print(\"True\")   #result : True\n",
    "else:\n",
    "    print(\"False\")    "
   ]
  },
  {
   "cell_type": "markdown",
   "metadata": {},
   "source": [
    "### 아래의 조건과 순서도를 읽고 코딩해보기\n",
    "조건 1. 서비스 만족도를 입력받는다.\n",
    "- 단, 1, 2, 3, 0 외의 숫자가 들어오면 다시 입력받는다.\n",
    "- 0을 입력 받으면 바로 프로그램을 종료 한다.\n",
    "- 서비스 만족도는 다음과 같다. (1: 매우 만족, 2: 만족, 3: 불만족)\n",
    "\n",
    "조건 2. 음식값을 입력 받는다.\n",
    "- 음식값에 문자열이 들어있을 경우 숫자형으로 바꾸어 계산한다.\n",
    "- (예시 : 8,000원 / 8000 won / 8,000달러 / $ 8000 / etc.)\n",
    "\n",
    "조건 3. 서비스 만족도와 팁을 출력한다.\n",
    "- 팁의 조건은 다음과 같다.\n",
    "- 매우 만족 : 음식값의 20%, 만족 : 음식값의 10%, 불만족: 음식값의 5%"
   ]
  },
  {
   "cell_type": "markdown",
   "metadata": {},
   "source": [
    "### 문제 풀이 순서\n",
    "1. 한국어로 코드를 작성한다.\n",
    "2. 필요한 변수나 함수를 간단히 작성한다.\n",
    "3. 코드로 작성한다.\n",
    "4. 모르는 부분은 검색해 본다.\n",
    "\n",
    "물론 챗 지피티가 작성에 많은 도움이 되지만,\n",
    "\n",
    "스스로 코드를 고쳐보는 시도를 해봐야 실력이 많이 늘어납니다."
   ]
  },
  {
   "cell_type": "markdown",
   "metadata": {},
   "source": [
    "![Sample Image](https://postfiles.pstatic.net/MjAyNDA5MTRfMTk1/MDAxNzI2Mjk0Nzg1NTMy.ddXi6FIXyVptiD8pWxa84KNyo3zJdaEZjcxDWSaLyw4g.rziEUO-nmhnmyKFyX5GrMYJsDSQQH59kPo6C-JZrfBQg.PNG/%EC%88%9C%EC%84%9C%EB%8F%84.png?type=w966)"
   ]
  },
  {
   "cell_type": "markdown",
   "metadata": {},
   "source": [
    "## chapter 4. 반복문\n",
    "특정 내용을 조건이나 횟수에 따라 반복하여 실행"
   ]
  },
  {
   "cell_type": "markdown",
   "metadata": {},
   "source": [
    "### for문\n",
    "i는 start 부터 최대 end-1까지, step씩 증가(혹은 감소) 하며 코드를 실행한다."
   ]
  },
  {
   "cell_type": "code",
   "execution_count": null,
   "metadata": {},
   "outputs": [],
   "source": [
    "for i in range(start, end, step):\n",
    "\t<code>"
   ]
  },
  {
   "cell_type": "markdown",
   "metadata": {},
   "source": [
    "### while문 형식\n",
    "조건을 만족하는 동안 반복하여 code를 실행\n",
    "\n",
    "조건을 불만족하면 종료됨.\n",
    "\n",
    "code에는 반드시 조건과 관련된 변수 혹은 내용을 변경하는 기능이 포함되어 있어야 한다"
   ]
  },
  {
   "cell_type": "code",
   "execution_count": null,
   "metadata": {},
   "outputs": [],
   "source": [
    "while (조건):\n",
    "\t<조건과 관련된 내용을 변경하는 기능이 포함된 code>"
   ]
  },
  {
   "cell_type": "markdown",
   "metadata": {},
   "source": [
    "### 아래의 조건과 순서도를 읽고 코딩해보기\n",
    "조건 1. 거스름돈을 입력받는다.\n",
    "- 문자열이 들어있을 경우 숫자형으로 바꾸어 계산한다.\n",
    "- (예시 : 8,000원 / 8000 won / 8,000달러 / $ 8000 / etc.)\n",
    "\n",
    "조건 2. 동전 갯수를 최소한으로 만드는 경우의 수를 찾는다.\n",
    "- 동전 타입은 500, 100, 50, 10 이다. \n",
    "\n",
    "조건 3. 총 동전의 개수와 각 동전의 갯수를 전달한다. \n",
    "- 동전의 개수가 0개라면 출력하지 않는다.\n",
    "- (예시 : 500원 : 1개, 10원 : 4개)"
   ]
  },
  {
   "cell_type": "markdown",
   "metadata": {},
   "source": [
    "![Sample Image](https://postfiles.pstatic.net/MjAyNDA5MTRfNzQg/MDAxNzI2Mjk5OTc3OTkw.Ng4L5yinkKlOmKutE1ZNtwmP-KAXPpy2edk5bt4gJbEg.beXO2ytbvP25HY_h0z8Gta2F6TvMmIpywki_7-MUps8g.PNG/%EA%B1%B0%EC%8A%A4%EB%A6%84%EB%8F%88_%EC%98%88%EC%A0%9C.PNG?type=w966)"
   ]
  }
 ],
 "metadata": {
  "kernelspec": {
   "display_name": "Python 3",
   "language": "python",
   "name": "python3"
  },
  "language_info": {
   "codemirror_mode": {
    "name": "ipython",
    "version": 3
   },
   "file_extension": ".py",
   "mimetype": "text/x-python",
   "name": "python",
   "nbconvert_exporter": "python",
   "pygments_lexer": "ipython3",
   "version": "3.12.2"
  }
 },
 "nbformat": 4,
 "nbformat_minor": 2
}
