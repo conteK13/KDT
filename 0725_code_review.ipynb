{

 "cells": [
  {
   "cell_type": "code",
   "execution_count": 114,
   "id": "9a0a2c1b-76b6-461d-8671-c3c1f2710375",
   "metadata": {},
   "outputs": [
    {
     "name": "stdout",
     "output_type": "stream",
     "text": [
      "50\n"
     ]
    }
   ],
   "source": [
    "a= 20\n",
    "b= 30\n",
    "c = a+b\n",
    "print(c)"
   ]
  },
  {
   "cell_type": "code",
   "execution_count": 104,
   "id": "bdcdeec1-2ad4-4873-adaf-37e2a23219ce",
   "metadata": {},
   "outputs": [
    {
     "ename": "SyntaxError",
     "evalue": "invalid syntax (783790329.py, line 1)",
     "output_type": "error",
     "traceback": [
      "\u001b[1;36m  Cell \u001b[1;32mIn[104], line 1\u001b[1;36m\u001b[0m\n\u001b[1;33m    eng score = 90     #SyntaxError: invalid syntax\u001b[0m\n\u001b[1;37m        ^\u001b[0m\n\u001b[1;31mSyntaxError\u001b[0m\u001b[1;31m:\u001b[0m invalid syntax\n"
     ]
    }
   ],
   "source": [
    "eng score = 90     #SyntaxError: invalid syntax\n",
    "#7font = '굴림'    #SyntaxError: invalid decimal literal\n",
    "my_age =20\n",
    "percent% =100\n",
    "animal#='사슴'"
   ]
  },
  {
   "cell_type": "code",
   "execution_count": 13,
   "id": "dae4f138-6c8b-44ab-a4d2-222281f62a2f",
   "metadata": {},
   "outputs": [
    {
     "name": "stdout",
     "output_type": "stream",
     "text": [
      "3.3764 3.0 3\n",
      "<class 'float'> <class 'float'> <class 'int'>\n"
     ]
    }
   ],
   "source": [
    "x = 3.3764\n",
    "y = 6/2\n",
    "z = 6//2\n",
    "\n",
    "print(x, y, z)\n",
    "print(type(x), type(y), type(z))"
   ]
  },
  {
   "cell_type": "code",
   "execution_count": 3,
   "id": "a8a31a16-61dd-48f2-807f-e84895444513",
   "metadata": {},
   "outputs": [
    {
     "name": "stdout",
     "output_type": "stream",
     "text": [
      "4\n",
      "4 -4\n"
     ]
    }
   ],
   "source": [
    "x = 20\n",
    "y = 4\n",
    "x = y % x\n",
    "print(x)\n",
    "y -= x * 2\n",
    "print(x, y)\n"
   ]
  },
  {
   "cell_type": "code",
   "execution_count": 7,
   "id": "bbb67b01-4edb-4e62-8e97-dcd39a71ebd4",
   "metadata": {},
   "outputs": [
    {
     "name": "stdout",
     "output_type": "stream",
     "text": [
      "15\n"
     ]
    }
   ],
   "source": [
    "a = '쥐 구멍에 볕 들 날 있다.'\n",
    "b = len(a)\n",
    "print(b)"
   ]
  },
  {
   "cell_type": "code",
   "execution_count": 15,
   "id": "65ab8392-a366-4f4d-8b4d-218568b14e32",
   "metadata": {},
   "outputs": [
    {
     "name": "stdout",
     "output_type": "stream",
     "text": [
      "영어 점수 : 80점\n"
     ]
    }
   ],
   "source": [
    "eng = 80\n",
    "#result = '영어 점수 : ' + eng + '점'\n",
    "print('영어 점수 : ', eng, '점', sep =\"\")    #한번 출력하는 일회용 변수라면, 굳이 메모리를 쓰지 말자!"
   ]
  },
  {
   "cell_type": "code",
   "execution_count": 53,
   "id": "88a61603-5e38-49c0-bf77-b10bfb298e8c",
   "metadata": {},
   "outputs": [
    {
     "name": "stdout",
     "output_type": "stream",
     "text": [
      "우리는 20살 김수영, 김땡땡입니다.\n",
      "내 키는    153.565입니다.\n",
      "2020-12-05\n"
     ]
    }
   ],
   "source": [
    "name = '김수영'\n",
    "name2 = '김땡땡'\n",
    "age1 = 20\n",
    "a = '우리는 %d살 %s, %s입니다.' % (age1, name, name2)\n",
    "print(a)\n",
    "\n",
    "height = 153.564547467\n",
    "#a = '내 키는 %10.3f입니다.' % (height)\n",
    "print('내 키는 %10.3f입니다.' % (height))\n",
    "\n",
    "year = 2020\n",
    "month = 12\n",
    "day = 5\n",
    "a = '%d-%02d-%02d' % (year, month, day)\n",
    "print(a)"
   ]
  },
  {
   "cell_type": "code",
   "execution_count": 67,
   "id": "d3592b9d-8a33-40da-a82a-79e3edb92a26",
   "metadata": {},
   "outputs": [
    {
     "name": "stdout",
     "output_type": "stream",
     "text": [
      "이름 : 황예린\n",
      "나이 : 18세\n",
      "시력 : 1.2\n"
     ]
    }
   ],
   "source": [
    "name = '황예린'\n",
    "age = 18\n",
    "eyesight = 1.2\n",
    "a = '이름 : {}'.format(name)\n",
    "b = '나이 : {}세'.format(age)\n",
    "c = '시력 : {}'.format(eyesight)\n",
    "print(a)\n",
    "print(b)\n",
    "print(c)"
   ]
  },
  {
   "cell_type": "code",
   "execution_count": 77,
   "id": "356db30e-562a-448d-9663-64d47c2b3eca",
   "metadata": {},
   "outputs": [
    {
     "name": "stdout",
     "output_type": "stream",
     "text": [
      "두 과목 점수 : 80, 87\n",
      "합계 : 167, 평균 : 83.50\n"
     ]
    }
   ],
   "source": [
    "score1 = 80\n",
    "score2 = 87\n",
    "sum = score1 + score2\n",
    "avg = sum/2\n",
    "print('두 과목 점수 : %d, %d' % (score1, score2))\n",
    "print('합계 : %d, 평균 : %.2f' % (sum, avg))"
   ]
  },
  {
   "cell_type": "code",
   "execution_count": 94,
   "id": "4eab8f04-b624-41bf-b574-5806e0d6ebb2",
   "metadata": {},
   "outputs": [
    {
     "name": "stdout",
     "output_type": "stream",
     "text": [
      "2020/3/5\n"
     ]
    }
   ],
   "source": [
    "#정처리할때 자주 사용함\n",
    "\n",
    "year = 2020\n",
    "month = 3\n",
    "day = 5\n",
    "print(year, month, day, sep='/')"
   ]
  },
  {
   "cell_type": "code",
   "execution_count": 100,
   "id": "847ca033-fb83-4f45-b399-8b10a44e2bbc",
   "metadata": {},
   "outputs": [
    {
     "name": "stdout",
     "output_type": "stream",
     "text": [
      "안녕하세요.\n",
      "반갑습니다.\n",
      "\n",
      "\n",
      "\n",
      "안녕하세요.반갑습니다.\n"
     ]
    }
   ],
   "source": [
    "a = '안녕하세요.'\n",
    "b = '반갑습니다.'\n",
    "print(a)\n",
    "print(b)\n",
    "print('\\n\\n')\n",
    "print(a, end='')\n",
    "print(b)"
   ]
  },
  {
   "cell_type": "code",
   "execution_count": 116,
   "id": "6a3e5493-d634-4dd8-976f-a3f31b875173",
   "metadata": {},
   "outputs": [
    {
     "name": "stdin",
     "output_type": "stream",
     "text": [
      "첫 번째 숫자를 입력하세요 :  1\n",
      "두 번째 숫자를 입력하세요 :  2\n"
     ]
    },
    {
     "name": "stdout",
     "output_type": "stream",
     "text": [
      "3\n",
      "12\n"
     ]
    }
   ],
   "source": [
    "a = input('첫 번째 숫자를 입력하세요 : ')\n",
    "b = input('두 번째 숫자를 입력하세요 : ')\n",
    "c = int(a) + int(b)\n",
    "\n",
    "d = a+b    #문자열+문자열 =문자열문자열\n",
    "\n",
    "print(c)\n",
    "print(d)"
   ]
  },
  {
   "cell_type": "code",
   "execution_count": 120,
   "id": "dcbd7db1-f2d2-42e8-90c3-caa2b9f38343",
   "metadata": {},
   "outputs": [
    {
     "name": "stdin",
     "output_type": "stream",
     "text": [
      "인치(inch)를 입력하세요 :  1\n"
     ]
    },
    {
     "name": "stdout",
     "output_type": "stream",
     "text": [
      "센티미터 : 2.54\n"
     ]
    }
   ],
   "source": [
    "inch = float(input('인치(inch)를 입력하세요 : '))\n",
    "cm = inch * 2.54\n",
    "print('센티미터 : %.2f' % cm)"
   ]
  },
  {
   "cell_type": "code",
   "execution_count": 134,
   "id": "fdded448-524b-4a38-a1c2-36f30ebbf1d5",
   "metadata": {},
   "outputs": [
    {
     "name": "stdout",
     "output_type": "stream",
     "text": [
      "30\n",
      "300\n"
     ]
    }
   ],
   "source": [
    "# 파일명 : ex2-35.py\n",
    "\"\"\"\n",
    "프로그램명 : 두 수 더하기\n",
    "작성자 : 홍길동\n",
    "작성일 : 2021.9.20\n",
    "\"\"\"\n",
    "a = 10 # 변수 a에 10 저장\n",
    "b = 20 # 변수 b에 20 저장\n",
    "c = a + b # 두 수를 더해 변수 c에 저장\n",
    "# 결과를 출력한다.\n",
    "print(c)\n",
    "\n",
    "a = 100 # 변수 a에 100 저장\n",
    "b = 200 # 변수 b에 200 저장\n",
    "c = a + b # 두 수를 더해 변수 c에 저장\n",
    "# 결과를 출력한다.\n",
    "print(c)"
   ]
  },
  {
   "cell_type": "code",
   "execution_count": 142,
   "id": "e13adba9-f784-4447-add6-e346d161e569",
   "metadata": {},
   "outputs": [
    {
     "name": "stdout",
     "output_type": "stream",
     "text": [
      "삼각형의 밑변 길이 : 10\n",
      "삼각형의 높이 : 3\n",
      "삼각형의 면적 : 15.0\n"
     ]
    }
   ],
   "source": [
    "width = 10\n",
    "height = 3\n",
    "area = width * height / 2\n",
    "print('삼각형의 밑변 길이 :', width)\n",
    "print('삼각형의 높이 :', height)\n",
    "print('삼각형의 면적 :', area)"
   ]
  },
  {
   "cell_type": "code",
   "execution_count": 146,
   "id": "c0f86b96-aac3-4c02-a406-0f53bf334a42",
   "metadata": {},
   "outputs": [
    {
     "name": "stdout",
     "output_type": "stream",
     "text": [
      "삼각형의 밑변 길이 : 10\n",
      "삼각형의 높이 : 3\n",
      "삼각형의 면적 : 15.0\n"
     ]
    }
   ],
   "source": [
    "width = 10\n",
    "height = 3\n",
    "area = width * height *0.5     #나눗셈보다 곱셈이 더 빠름\n",
    "print('삼각형의 밑변 길이 :', width)\n",
    "print('삼각형의 높이 :', height)\n",
    "print('삼각형의 면적 :', area)"
   ]
  },
  {
   "cell_type": "code",
   "execution_count": 148,
   "id": "5baef0ba-0877-4f4f-963e-7b1dd8efeaff",
   "metadata": {},
   "outputs": [
    {
     "name": "stdout",
     "output_type": "stream",
     "text": [
      "물건가격 : 800 원\n",
      "구개개수 : 3 개\n",
      "지불금액 : 5000 원\n",
      "거스름돈 : 2600 원\n"
     ]
    }
   ],
   "source": [
    "price = 800\n",
    "buy = 3\n",
    "pay = 5000\n",
    "change = pay - price * buy\n",
    "print('물건가격 :', price, '원')\n",
    "print('구개개수 :', buy, '개')\n",
    "print('지불금액 :', pay, '원')\n",
    "print('거스름돈 :', change, '원')"
   ]
  },
  {
   "cell_type": "code",
   "execution_count": 152,
   "id": "b9ba96ac-0540-4115-89c9-f08e551f4653",
   "metadata": {},
   "outputs": [
    {
     "name": "stdout",
     "output_type": "stream",
     "text": [
      "4\n"
     ]
    }
   ],
   "source": [
    "#거스름돈 구하기 거스름돈 줄이기 알고리즘(그리디 알고리즘 = 탐욕 알고리즘)\n",
    "\n",
    "price = 800\n",
    "buy = 3\n",
    "pay = 5000\n",
    "change = pay - price * buy\n",
    "\n",
    "#거스름돈의 갯수를 최소화 하여 주세요\n",
    "\n",
    "coins = [1000, 500, 100, 50, 10]\n",
    "count = 0\n",
    "\n",
    "for coin in coins:\n",
    "    count += change//coin\n",
    "    change %= coin\n",
    "    if change == 0:\n",
    "        break\n",
    "\n",
    "print(count)"
   ]
  },
  {
   "cell_type": "code",
   "execution_count": 172,
   "id": "f0f80740-ac94-452d-b566-99345c766b6b",
   "metadata": {},
   "outputs": [
    {
     "name": "stdout",
     "output_type": "stream",
     "text": [
      "성 : 홍\n",
      "이름 : 길동\n",
      "홍길동의 나이 : 30세, 키 : 171.50cm\n",
      "홍길동의 나이 : 30세, 키 : 171.50cm\n",
      "홍길동의 나이 : 30세, 키 : 171.50cm\n"
     ]
    }
   ],
   "source": [
    "name = \"홍길동\"\n",
    "age = 30\n",
    "height = 171.5\n",
    "print('성 :', name[0])\n",
    "print('이름 :', name[1:])\n",
    "print(\"%s의 나이 : %d세, 키 : %0.2fcm\" % (name, age, height))\n",
    "print(f\"{name}의 나이 : {age}세, 키 : {height:.2f}cm\".format())\n",
    "print(\"{}의 나이 : {}세, 키 : {:.2f}cm\".format(name, age, height))"
   ]
  },
  {
   "cell_type": "code",
   "execution_count": 178,
   "id": "842c607f-2eba-4a5e-ba19-cab370ee2125",
   "metadata": {
    "scrolled": true
   },
   "outputs": [
    {
     "name": "stdin",
     "output_type": "stream",
     "text": [
      "학생 이름을 입력하세요 : 황예린\n",
      "국어 성적을 입력하세요 : 83\n",
      "영어 성적을 입력하세요 : 85\n",
      "수학 성적을 입력하세요 : 91\n"
     ]
    },
    {
     "name": "stdout",
     "output_type": "stream",
     "text": [
      "이름:황예린, 국어:83, 영어:85,수학:91, 평균:86.3점\n"
     ]
    }
   ],
   "source": [
    "name = input('학생 이름을 입력하세요 :')\n",
    "kor = int(input('국어 성적을 입력하세요 :'))\n",
    "eng = int(input('영어 성적을 입력하세요 :')) \n",
    "math= int(input('수학 성적을 입력하세요 :'))\n",
    "total = kor + eng + math\n",
    "avg = total *0.333333    #소수점 아래 몇째자리까지 : 디폴트 = 6\n",
    "\n",
    "print('이름:%s, 국어:%d, 영어:%d,수학:%d, 평균:%.1f점' % (name, kor, eng, math, avg))"
   ]
  },
  {
   "cell_type": "code",
   "execution_count": 186,
   "id": "ee8c3570-630b-459b-977b-cf769c56dec6",
   "metadata": {},
   "outputs": [
    {
     "name": "stdin",
     "output_type": "stream",
     "text": [
      "숫자를 입력하세요 :  1\n"
     ]
    },
    {
     "name": "stdout",
     "output_type": "stream",
     "text": [
      "양수\n",
      "조건 제어문의 대표적인 명령은 if문 입니다.\n"
     ]
    }
   ],
   "source": [
    "x = int(input('숫자를 입력하세요 : '))\n",
    "if x> 0:\n",
    "    print(\"양수\")\n",
    "elif x ==0 :\n",
    "    print(\"0\")\n",
    "else:\n",
    "    print(\"음수\")\n",
    "\n",
    "print(\"조건 제어문의 대표적인 명령은 if문 입니다.\")"
   ]
  },
  {
   "cell_type": "code",
   "execution_count": 194,
   "id": "9e9fdd0a-506d-454c-84bc-462f7a972b36",
   "metadata": {},
   "outputs": [
    {
     "name": "stdin",
     "output_type": "stream",
     "text": [
      "숫자를 입력하세요 :  14\n"
     ]
    },
    {
     "name": "stdout",
     "output_type": "stream",
     "text": [
      "7의 배수이다.\n"
     ]
    }
   ],
   "source": [
    "num = int(input('숫자를 입력하세요 : '))\n",
    "if num % 7 == 0:\n",
    "    print('7의 배수이다.')\n",
    "else :\n",
    "    print('7의 배수가 아니다.')"
   ]
  },
  {
   "cell_type": "code",
   "execution_count": 208,
   "id": "1b4b4254-942a-444c-9345-755eec668252",
   "metadata": {},
   "outputs": [
    {
     "name": "stdin",
     "output_type": "stream",
     "text": [
      " 28\n"
     ]
    },
    {
     "name": "stdout",
     "output_type": "stream",
     "text": [
      "28은 3과 7의 공배수가 아님\n",
      "False\n"
     ]
    }
   ],
   "source": [
    "num = int(input())\n",
    "\n",
    "#3의 배수이며 7의 배수인 값을 출력\n",
    "if num % 3 == 0 and num % 7 ==0:\n",
    "    print(num)\n",
    "else:\n",
    "    print(num,\"은 3과 7의 공배수가 아님\", sep=\"\")\n",
    "\n",
    "print(not num)"
   ]
  },
  {
   "cell_type": "code",
   "execution_count": 212,
   "id": "22fd21b9-d49e-4d53-8dee-cbde6d3bb964",
   "metadata": {},
   "outputs": [
    {
     "name": "stdin",
     "output_type": "stream",
     "text": [
      "이름을 입력하세요 :  홍길동\n"
     ]
    },
    {
     "name": "stdout",
     "output_type": "stream",
     "text": [
      "이름 : 홍길동\n"
     ]
    }
   ],
   "source": [
    "name = input('이름을 입력하세요 : ')\n",
    "if not name :\n",
    "    print('이름이 입력되지 않았다.')\n",
    "else :\n",
    "    print('이름 : %s' % name)"
   ]
  },
  {
   "cell_type": "code",
   "execution_count": 226,
   "id": "976161d8-d528-4666-abea-9069d1745e00",
   "metadata": {},
   "outputs": [
    {
     "name": "stdin",
     "output_type": "stream",
     "text": [
      "나이를 입력하세요 :  24\n"
     ]
    },
    {
     "name": "stdout",
     "output_type": "stream",
     "text": [
      "입장료 : 3000원\n"
     ]
    }
   ],
   "source": [
    "age = int(input('나이를 입력하세요 : '))\n",
    "\n",
    "#65세 이상 7세 미만은 무료\n",
    "if age >= 65 or age < 7 :\n",
    "    pay = '무료'\n",
    "\n",
    "#7세 ~ 18세 : 1000원\n",
    "elif age <=18:\n",
    "    pay = '1000원'\n",
    "    \n",
    "#19세 ~ 64세 : 3000원\n",
    "else:\n",
    "    pay = '3000원'\n",
    "\n",
    "print('입장료 : %s' % pay)"
   ]
  },
  {
   "cell_type": "code",
   "execution_count": 232,
   "id": "b3afc17e-40f1-4af6-bcb3-9b9cf115e5f3",
   "metadata": {},
   "outputs": [
    {
     "name": "stdin",
     "output_type": "stream",
     "text": [
      " 12345\n"
     ]
    },
    {
     "name": "stdout",
     "output_type": "stream",
     "text": [
      "비밀번호 OK!\n"
     ]
    },
    {
     "name": "stdin",
     "output_type": "stream",
     "text": [
      " 12345\n"
     ]
    },
    {
     "name": "stdout",
     "output_type": "stream",
     "text": [
      "비밀번호 OK!\n"
     ]
    }
   ],
   "source": [
    "pwd = '12345'\n",
    "pwd_u = input()\n",
    "\n",
    "if pwd == pwd_u:\n",
    "    print(\"비밀번호 OK!\")\n",
    "else:\n",
    "    print(\"비밀번호 Not OK!\")\n",
    "\n",
    "\n",
    "pwd = 12345\n",
    "pwd_u = int(input())\n",
    "\n",
    "if pwd == pwd_u:\n",
    "    print(\"비밀번호 OK!\")\n",
    "else:\n",
    "    print(\"비밀번호 Not OK!\")\n"
   ]
  },
  {
   "cell_type": "code",
   "execution_count": 252,
   "id": "1ba64a51-566d-4cc8-9eaf-e42525ea2818",
   "metadata": {},
   "outputs": [
    {
     "name": "stdin",
     "output_type": "stream",
     "text": [
      "월을 입력하세요 :  1\n"
     ]
    },
    {
     "name": "stdout",
     "output_type": "stream",
     "text": [
      "1월은 겨울입니다.\n"
     ]
    }
   ],
   "source": [
    "month = int(input('월을 입력하세요 : '))\n",
    "\n",
    "if month >= 3 and month <= 5 :\n",
    "    print('%d월은 봄입니다.' % month)\n",
    "    \n",
    "if month >= 6 and month <= 8 :\n",
    "    print('%d월은 여름입니다.' % month)\n",
    "    \n",
    "if month >= 9 and month <= 11 :\n",
    "    print('%d월은 가을입니다.' % month)\n",
    "    \n",
    "if month == 12 or month == 1 or month == 2 :\n",
    "    print('%d월은 겨울입니다.' % month)"
   ]
  },
  {
   "cell_type": "code",
   "execution_count": 262,
   "id": "fdcec99c-a718-464b-9291-5f4c345124a6",
   "metadata": {},
   "outputs": [
    {
     "name": "stdout",
     "output_type": "stream",
     "text": [
      "i의 값 : 1, 합계 : 1\n",
      "i의 값 : 2, 합계 : 3\n",
      "i의 값 : 3, 합계 : 6\n",
      "i의 값 : 4, 합계 : 10\n",
      "i의 값 : 5, 합계 : 15\n",
      "i의 값 : 6, 합계 : 21\n",
      "i의 값 : 7, 합계 : 28\n",
      "i의 값 : 8, 합계 : 36\n",
      "i의 값 : 9, 합계 : 45\n",
      "i의 값 : 10, 합계 : 55\n"
     ]
    }
   ],
   "source": [
    "sum = 0\n",
    "for i in range(1, 11) :\n",
    "    sum += i\n",
    "    print('i의 값 : %d, 합계 : %d' % (i, sum))\n"
   ]
  },
  {
   "cell_type": "code",
   "execution_count": 268,
   "id": "8c9da9a1-258e-477b-86a3-25d470d9625d",
   "metadata": {},
   "outputs": [
    {
     "name": "stdin",
     "output_type": "stream",
     "text": [
      "합계를 구할 최종값을 입력하세요 100000\n"
     ]
    },
    {
     "name": "stdout",
     "output_type": "stream",
     "text": [
      "1~ 100000 까지 합계 : 5000050000\n"
     ]
    }
   ],
   "source": [
    "num = int(input(\"합계를 구할 최종값을 입력하세요\"))\n",
    "#알고리즘1\n",
    "sum = 0\n",
    "\n",
    "for i in range(1, num+1):\n",
    "    sum += i    #sum = sum + i\n",
    "\n",
    "print('1~', num, '까지 합계 : %d' % sum)"
   ]
  },
  {
   "cell_type": "code",
   "execution_count": 275,
   "id": "55773459-60a9-43c4-984b-073e7a369ec0",
   "metadata": {},
   "outputs": [
    {
     "name": "stdin",
     "output_type": "stream",
     "text": [
      "합계를 구할 최종값을 입력하세요 100000\n"
     ]
    },
    {
     "name": "stdout",
     "output_type": "stream",
     "text": [
      "1~ 100000 까지 합계 : 5000050000\n"
     ]
    }
   ],
   "source": [
    "num = int(input(\"합계를 구할 최종값을 입력하세요\"))\n",
    "#알고리즘2\n",
    "sum = 0\n",
    "\n",
    "#시그마공식\n",
    "sum = num * (num + 1) * 0.5\n",
    "\n",
    "\n",
    "print('1~', num, '까지 합계 : %d' % sum)"
   ]
  },
  {
   "cell_type": "code",
   "execution_count": 281,
   "id": "5b27889c-5a74-4847-8fe9-62c79a50159f",
   "metadata": {},
   "outputs": [
    {
     "name": "stdin",
     "output_type": "stream",
     "text": [
      "n부터 m까지의 합계를 구하려 합니다. n과 m을 숫자로 입력하세요 :  2 10\n"
     ]
    },
    {
     "name": "stdout",
     "output_type": "stream",
     "text": [
      "2 부터 10 까지 합계 : 52\n"
     ]
    }
   ],
   "source": [
    "n, m = map(int, input(\"n부터 m까지의 합계를 구하려 합니다. n과 m을 숫자로 입력하세요 : \").split())\n",
    "\n",
    "sum = (m *(m+1) - n*(n+1))*0.5 \n",
    "print(n, \"부터\", m, \"까지 합계 : %d\" % sum)"
   ]
  },
  {
   "cell_type": "code",
   "execution_count": null,
   "id": "e0de2692-0589-4698-8838-0b8c0775b665",
   "metadata": {},
   "outputs": [],
   "source": []
  },
  {
   "cell_type": "code",
   "execution_count": null,
   "id": "83c3eb75-b926-4a5b-9782-df968b9b78fd",
   "metadata": {},
   "outputs": [],
   "source": []
  }
 ],
 "metadata": {
  "kernelspec": {
   "display_name": "Python 3 (ipykernel)",
   "language": "python",
   "name": "python3"
  },
  "language_info": {
   "codemirror_mode": {
    "name": "ipython",
    "version": 3
   },
   "file_extension": ".py",
   "mimetype": "text/x-python",
   "name": "python",
   "nbconvert_exporter": "python",
   "pygments_lexer": "ipython3",
   "version": "3.12.4"
  }
 },
 "nbformat": 4,
 "nbformat_minor": 5
}
