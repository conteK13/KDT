{
 "cells": [
  {
   "cell_type": "code",
   "execution_count": 1,
   "id": "1ef4d25c-dd94-48e4-9a11-f3765a07f490",
   "metadata": {},
   "outputs": [
    {
     "name": "stdout",
     "output_type": "stream",
     "text": [
      "Requirement already satisfied: flask in c:\\users\\user\\anaconda3\\lib\\site-packages (3.0.3)\n",
      "Requirement already satisfied: Werkzeug>=3.0.0 in c:\\users\\user\\anaconda3\\lib\\site-packages (from flask) (3.0.3)\n",
      "Requirement already satisfied: Jinja2>=3.1.2 in c:\\users\\user\\anaconda3\\lib\\site-packages (from flask) (3.1.4)\n",
      "Requirement already satisfied: itsdangerous>=2.1.2 in c:\\users\\user\\anaconda3\\lib\\site-packages (from flask) (2.2.0)\n",
      "Requirement already satisfied: click>=8.1.3 in c:\\users\\user\\anaconda3\\lib\\site-packages (from flask) (8.1.7)\n",
      "Requirement already satisfied: blinker>=1.6.2 in c:\\users\\user\\anaconda3\\lib\\site-packages (from flask) (1.6.2)\n",
      "Requirement already satisfied: colorama in c:\\users\\user\\appdata\\roaming\\python\\python312\\site-packages (from click>=8.1.3->flask) (0.4.6)\n",
      "Requirement already satisfied: MarkupSafe>=2.0 in c:\\users\\user\\anaconda3\\lib\\site-packages (from Jinja2>=3.1.2->flask) (2.1.3)\n"
     ]
    }
   ],
   "source": [
    "!pip install flask"
   ]
  },
  {
   "cell_type": "code",
   "execution_count": null,
   "id": "abc26396-b915-40d6-956e-0a18b1c6f153",
   "metadata": {},
   "outputs": [
    {
     "name": "stdout",
     "output_type": "stream",
     "text": [
      " * Serving Flask app '__main__'\n",
      " * Debug mode: off\n"
     ]
    },
    {
     "name": "stderr",
     "output_type": "stream",
     "text": [
      "WARNING: This is a development server. Do not use it in a production deployment. Use a production WSGI server instead.\n",
      " * Running on http://127.0.0.1:5000\n",
      "Press CTRL+C to quit\n",
      "127.0.0.1 - - [30/Aug/2024 18:47:12] \"GET / HTTP/1.1\" 200 -\n",
      "127.0.0.1 - - [30/Aug/2024 18:47:14] \"GET /join HTTP/1.1\" 200 -\n",
      "127.0.0.1 - - [30/Aug/2024 18:47:39] \"POST /insert HTTP/1.1\" 200 -\n"
     ]
    }
   ],
   "source": [
    "from flask import Flask, render_template, request\n",
    "import pymysql\n",
    "app = Flask(__name__)\n",
    "# mydb 데이터베이스에 연결\n",
    "conn = pymysql.connect(host = '127.0.0.1', user ='root', password = 'mysql904#', db = 'mydb', charset= 'utf8')\n",
    "# 커서를 생성하고 user 테이블에 내용을 불러와서 화면에 출력\n",
    "cur = conn.cursor()\n",
    "@app.route(\"/\")    #메인 폴더\n",
    "# def hello():\n",
    "#     # return \"<h1> Flask Server on ~ !!! </h1>\"\n",
    "#     return render_template('login.html')\n",
    "\n",
    "def index():\n",
    "    # cur.execute(\"select * from usertable\")\n",
    "    # results = cur.fetchall()\n",
    "    # for result in results:\n",
    "    #     print(result)\n",
    "    return render_template('login.html')\n",
    "\n",
    "@app.route(\"/insert\", methods=['post'])    #메인 폴더\n",
    "def insertApp():\n",
    "    global conn\n",
    "    id = request.form['id']\n",
    "    pwd = request.form['pwd']\n",
    "    name = request.form['name'] \n",
    "    email = request.form['email'] \n",
    "    birthyear = request.form['birthyear'] \n",
    "\n",
    "    cur.execute(f\"insert into usertable values('{id}', '{pwd}', '{name}', '{email}', {birthyear})\")\n",
    "    conn.commit()\n",
    "    return render_template('login.html')\n",
    "\n",
    "# 경로를 이용하여 파일명을 숨길 수 있다.\n",
    "@app.route(\"/favorite\")    #메인 폴더\n",
    "def testApp():\n",
    "    return render_template('favorite.html')\n",
    "\n",
    "@app.route(\"/join\")    #메인 폴더\n",
    "def joinApp():\n",
    "    return render_template('join.html')\n",
    "    \n",
    "host_addr = \"127.0.0.1\"\n",
    "port_num = \"5000\"\n",
    "if __name__ == \"__main__\":\n",
    "    app.run(host=host_addr, port=port_num)\n"
   ]
  },
  {
   "cell_type": "code",
   "execution_count": null,
   "id": "cb5e6f0a-03a9-4dd7-8e7b-234b501408e9",
   "metadata": {},
   "outputs": [],
   "source": []
  }
 ],
 "metadata": {
  "kernelspec": {
   "display_name": "Python 3 (ipykernel)",
   "language": "python",
   "name": "python3"
  },
  "language_info": {
   "codemirror_mode": {
    "name": "ipython",
    "version": 3
   },
   "file_extension": ".py",
   "mimetype": "text/x-python",
   "name": "python",
   "nbconvert_exporter": "python",
   "pygments_lexer": "ipython3",
   "version": "3.12.4"
  }
 },
 "nbformat": 4,
 "nbformat_minor": 5
}
