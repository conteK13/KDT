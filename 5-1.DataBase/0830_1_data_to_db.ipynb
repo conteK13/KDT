{
 "cells": [
  {
   "cell_type": "code",
   "execution_count": 1,
   "id": "fbdaa62a-4213-4da3-9263-f7243d892c7b",
   "metadata": {},
   "outputs": [
    {
     "name": "stdout",
     "output_type": "stream",
     "text": [
      "DB가 연결되었습니다.\n"
     ]
    }
   ],
   "source": [
    "import pymysql\n",
    "\n",
    "# pip install pymysql\n",
    "\n",
    "# 1.MySQL DB에 연결 - connect() 함수 사용\n",
    "# 2.커서(cursor) 생성 - cursor()함수 사용\n",
    "# 3.생성된 커서를 이용해서 sql 명령어를 실행한다 - execute()\n",
    "# 4.입력한 데이터를 저장한다 - commit() 사용\n",
    "# 5.MySQL 연결해제 - close() 함수 사용 \n",
    "\n",
    "#==================================================\n",
    "\n",
    "# 1.MySQL DB에 연결 - connect() 함수 사용\n",
    "conn = pymysql.connect(host='localhost', port =3306, user = 'root', password = 'mysql904#', db = 'solodb', charset = 'utf8')\n",
    "#utf-8로 쓰면 AttributeError: 'NoneType' object has no attribute 'encoding' 에러 발생\n",
    "print(\"DB가 연결되었습니다.\")\n",
    "\n",
    "# 2.커서(cursor) 생성 - cursor()함수 사용\n",
    "cur = conn.cursor()\n",
    "\n",
    "# 3.생성된 커서를 이용해서 sql 명령어를 실행한다 - execute()\n",
    "# 테이블 생성하기\n",
    "# cur.execute(\"use solodb\") #conn에서 설정했기 때문에, use 설정을 하지 않아도 됨\n",
    "\n",
    "cur.execute(\"create table usertable(id varchar(20), username varchar(20) not null, email varchar(20), birthyear int, primary key(id))\")\n",
    "\n",
    "#데이터 입력하기\n",
    "cur.execute(\"insert into usertable values('hong', '홍지윤', 'hong@naver.com', 1996)\")\n",
    "cur.execute(\"insert into usertable values('kim', '김태연', 'kim@daum.net', 2011)\")\n",
    "cur.execute(\"insert into usertable values('star', '별사랑', 'star@paran.com', 1990)\")\n",
    "cur.execute(\"insert into usertable values('yang', '양지은', 'yang@google.com', 1993)\")\n",
    "\n",
    "# 4.입력한 데이터를 저장한다 - commit() 사용\n",
    "# DDL은 commit 안해도 됨\n",
    "# insert, delete, update는 commit 필요\n",
    "conn.commit()\n",
    "print(\"DB에 Commit 완료되었습니다.\")"
   ]
  },
  {
   "cell_type": "code",
   "execution_count": 3,
   "id": "94033fc4-76c3-45d3-ae90-f3363a4eb8dd",
   "metadata": {},
   "outputs": [
    {
     "data": {
      "text/plain": [
       "0"
      ]
     },
     "execution_count": 3,
     "metadata": {},
     "output_type": "execute_result"
    }
   ],
   "source": [
    "#usertable에 pwd 필드를 추가함\n",
    "cur.execute(\"alter table usertable add pwd varchar(20)\")\n",
    "print(\"table을 추가했습니다.\")"
   ]
  },
  {
   "cell_type": "code",
   "execution_count": 5,
   "id": "76e254e9-6095-4862-ba39-f950b1380f6a",
   "metadata": {},
   "outputs": [
    {
     "name": "stdout",
     "output_type": "stream",
     "text": [
      "DB에 Commit 완료되었습니다.\n"
     ]
    }
   ],
   "source": [
    "cur.execute(\"update usertable set pwd ='a1234'\")\n",
    "\n",
    "conn.commit()\n",
    "print(\"DB에 Commit 완료되었습니다.\")"
   ]
  },
  {
   "cell_type": "code",
   "execution_count": 11,
   "id": "61bb44e3-1cb6-4ab3-99b3-6651b379ab7c",
   "metadata": {},
   "outputs": [
    {
     "name": "stdout",
     "output_type": "stream",
     "text": [
      "<class 'tuple'>\n",
      "('hong', '홍지윤', 'hong@naver.com', 1996, 'a1234')\n",
      "('kim', '김태연', 'kim@daum.net', 2011, 'a1234')\n",
      "('star', '별사랑', 'star@paran.com', 1990, 'a1234')\n",
      "('yang', '양지은', 'yang@google.com', 1993, 'a1234')\n"
     ]
    }
   ],
   "source": [
    "results = cur.execute(\"select * from usertable\")\n",
    "print(type(results))\n",
    "\n",
    "for result in results:\n",
    "    print(result)"
   ]
  },
  {
   "cell_type": "code",
   "execution_count": 9,
   "id": "60ac2ec4-5f46-4d13-b513-6731a55f2923",
   "metadata": {},
   "outputs": [
    {
     "name": "stdout",
     "output_type": "stream",
     "text": [
      "DB가 연결 해제되었습니다.\n"
     ]
    }
   ],
   "source": [
    "# 5.MySQL 연결해제 - close() 함수 사용 \n",
    "conn.close()\n",
    "print(\"DB가 연결 해제되었습니다.\")"
   ]
  }
 ],
 "metadata": {
  "kernelspec": {
   "display_name": "Python 3 (ipykernel)",
   "language": "python",
   "name": "python3"
  },
  "language_info": {
   "codemirror_mode": {
    "name": "ipython",
    "version": 3
   },
   "file_extension": ".py",
   "mimetype": "text/x-python",
   "name": "python",
   "nbconvert_exporter": "python",
   "pygments_lexer": "ipython3",
   "version": "3.12.4"
  }
 },
 "nbformat": 4,
 "nbformat_minor": 5
}
