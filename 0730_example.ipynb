{
 "cells": [
  {
   "cell_type": "code",
   "execution_count": null,
   "id": "69967fc1-79d0-47d4-9474-b78d67401e07",
   "metadata": {},
   "outputs": [],
   "source": [
    "file = ❶_______('scores.txt', 'r', encoding='utf8')\n",
    "lines = file.readlines() file.close()\n",
    "print('-' * 50)\n",
    "for line in lines :\n",
    "student = line.split()\n",
    "i = 0\n",
    "sum = 0\n",
    "while i < ❷__________ :\n",
    "if i == 0 :\n",
    "print(❸_________)\n",
    "else :\n",
    "❹_______ += int(student[i])\n",
    "i += 1\n",
    "print('합계 : %d, 평균 : %.2f' % (sum, sum/5))\n",
    "print('-' * 50)\n"
   ]
  }
 ],
 "metadata": {
  "kernelspec": {
   "display_name": "Python 3 (ipykernel)",
   "language": "python",
   "name": "python3"
  },
  "language_info": {
   "codemirror_mode": {
    "name": "ipython",
    "version": 3
   },
   "file_extension": ".py",
   "mimetype": "text/x-python",
   "name": "python",
   "nbconvert_exporter": "python",
   "pygments_lexer": "ipython3",
   "version": "3.12.4"
  }
 },
 "nbformat": 4,
 "nbformat_minor": 5
}
