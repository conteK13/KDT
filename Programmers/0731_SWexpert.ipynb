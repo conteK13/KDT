{
 "cells": [
  {
   "cell_type": "code",
   "execution_count": 13,
   "id": "f7d94954-a0bb-4dde-a0b3-0dcd07016303",
   "metadata": {},
   "outputs": [
    {
     "name": "stdin",
     "output_type": "stream",
     "text": [
      " 2\n",
      " 4\n",
      " wait\n",
      " weit\n",
      " aeit\n"
     ]
    },
    {
     "name": "stdout",
     "output_type": "stream",
     "text": [
      "#1 2\n"
     ]
    },
    {
     "name": "stdin",
     "output_type": "stream",
     "text": [
      " 7\n",
      " samsung\n",
      " samsung\n",
      " samsung\n"
     ]
    },
    {
     "name": "stdout",
     "output_type": "stream",
     "text": [
      "#2 0\n"
     ]
    }
   ],
   "source": [
    "#10202 문자열 동화 \n",
    "T = int(input())\n",
    "for test_case in range(1, T + 1):\n",
    "    n = int(input())\n",
    "    data =[]\n",
    "    count = 0\n",
    "    \n",
    "    for _ in range(3):\n",
    "        data.append(input())\n",
    "        \n",
    "    for i in range(n):\n",
    "        s =[]\n",
    "        for j in range(3):\n",
    "            #print(data[j][i])\n",
    "            s.append(data[j][i])\n",
    "        data_set = set(s)\n",
    "        count += len(data_set) -1\n",
    "\n",
    "    print(f\"#{test_case} {count}\")\n",
    "            "
   ]
  },
  {
   "cell_type": "code",
   "execution_count": 1,
   "id": "8d33f218-75b8-4b14-922b-9b0691b0f6e4",
   "metadata": {},
   "outputs": [
    {
     "name": "stdin",
     "output_type": "stream",
     "text": [
      " 3\n",
      " 3 17 1 39 8 41 2 32 99 2\n"
     ]
    },
    {
     "name": "stdout",
     "output_type": "stream",
     "text": [
      "#1 200\n"
     ]
    },
    {
     "name": "stdin",
     "output_type": "stream",
     "text": [
      " 22 8 5 123 7 2 63 7 3 46\n"
     ]
    },
    {
     "name": "stdout",
     "output_type": "stream",
     "text": [
      "#2 208\n"
     ]
    },
    {
     "name": "stdin",
     "output_type": "stream",
     "text": [
      " 6 63 2 3 58 76 21 33 8 1\n"
     ]
    },
    {
     "name": "stdout",
     "output_type": "stream",
     "text": [
      "#3 121\n"
     ]
    }
   ],
   "source": [
    "#2072 홀수만 더하기\n",
    "T = int(input())\n",
    "for test_case in range(1, T + 1):\n",
    "    data = list(map(int, input().split()))\n",
    "    result = 0\n",
    "    \n",
    "    for i in data:\n",
    "        if i % 2 ==1:\n",
    "            result += i\n",
    "    \n",
    "    print(f\"#{test_case} {result}\")"
   ]
  },
  {
   "cell_type": "code",
   "execution_count": 5,
   "id": "1e81dd3d-8237-496d-a7ba-9ccbee0b9050",
   "metadata": {},
   "outputs": [
    {
     "name": "stdin",
     "output_type": "stream",
     "text": [
      " 1234\n"
     ]
    },
    {
     "name": "stdout",
     "output_type": "stream",
     "text": [
      "10\n"
     ]
    }
   ],
   "source": [
    "#2058 자릿수 더하기\n",
    "n = input()\n",
    "result = 0\n",
    "for i in n:\n",
    "    result += int(i)\n",
    "\n",
    "print(result)"
   ]
  },
  {
   "cell_type": "code",
   "execution_count": 11,
   "id": "b810c426-ccf2-4acb-9ba7-dff4354daec5",
   "metadata": {},
   "outputs": [
    {
     "name": "stdin",
     "output_type": "stream",
     "text": [
      " test\n"
     ]
    },
    {
     "name": "stdout",
     "output_type": "stream",
     "text": [
      "TEST\n"
     ]
    }
   ],
   "source": [
    "#2047 신문 헤드라인\n",
    "data = input()\n",
    "result = data.upper()\n",
    "\n",
    "print(result)"
   ]
  },
  {
   "cell_type": "code",
   "execution_count": 17,
   "id": "18e99f2f-5634-43f9-83a3-7e749f25ec6c",
   "metadata": {},
   "outputs": [
    {
     "name": "stdin",
     "output_type": "stream",
     "text": [
      " 123 100\n"
     ]
    },
    {
     "name": "stdout",
     "output_type": "stream",
     "text": [
      "24\n"
     ]
    }
   ],
   "source": [
    "# 2043 서랍의 비밀번호\n",
    "p, k = map(int, input().split())\n",
    "\n",
    "print(p-k+1)"
   ]
  },
  {
   "cell_type": "code",
   "execution_count": 25,
   "id": "cdfd9cf9-e418-4f5e-97fb-97ea3c548db5",
   "metadata": {},
   "outputs": [
    {
     "name": "stdin",
     "output_type": "stream",
     "text": [
      " 10\n"
     ]
    },
    {
     "name": "stdout",
     "output_type": "stream",
     "text": [
      "55\n"
     ]
    }
   ],
   "source": [
    "#2025 n줄 덧셈\n",
    "n = int(input())\n",
    "\n",
    "result = 0\n",
    "for i in range(0, n+1):\n",
    "    result += i\n",
    "\n",
    "print(result)"
   ]
  },
  {
   "cell_type": "code",
   "execution_count": 33,
   "id": "778f4b89-37a4-4d40-8288-cc0463bf1e4c",
   "metadata": {},
   "outputs": [
    {
     "name": "stdin",
     "output_type": "stream",
     "text": [
      " 4\n"
     ]
    },
    {
     "name": "stdout",
     "output_type": "stream",
     "text": [
      "10\n"
     ]
    }
   ],
   "source": [
    "#2025 n줄 덧셈\n",
    "n = int(input())\n",
    "result = n *(n+1) //2\n",
    "print(result)"
   ]
  },
  {
   "cell_type": "code",
   "execution_count": 39,
   "id": "a21abf27-7743-4832-ad53-ca579550f801",
   "metadata": {},
   "outputs": [
    {
     "name": "stdin",
     "output_type": "stream",
     "text": [
      " 1\n",
      " test\n"
     ]
    },
    {
     "name": "stdout",
     "output_type": "stream",
     "text": [
      "#1 0\n"
     ]
    }
   ],
   "source": [
    "1089 초심자의 회문 검사\n",
    "T = int(input())\n",
    "for test_case in range(1, T + 1):\n",
    "    data = input()\n",
    "    result = 1\n",
    "    for i in range(len(data)//2):\n",
    "        if data[i] != data[len(data)-1-i]:\n",
    "            result = 0\n",
    "            break\n",
    "    print(f\"#{test_case} {result}\")"
   ]
  },
  {
   "cell_type": "code",
   "execution_count": 65,
   "id": "b0dd0e5f-6206-47f0-a54b-3c2c192a0321",
   "metadata": {},
   "outputs": [
    {
     "name": "stdout",
     "output_type": "stream",
     "text": [
      "['trjac', 'wmvsx', 'wuswq', 'ntooh']\n"
     ]
    }
   ],
   "source": [
    "import random\n",
    "\n",
    "hanguls = list(\"abcdefghijklmnopqrstuvwxyz\")\n",
    "m = 4 #단어의 개수\n",
    "n= 5 #각 단어의 길이\n",
    "\n",
    "list_eng = [''] * m\n",
    "\n",
    "for i in range(n):\n",
    "    for j in range(m):\n",
    "        list_eng[j] += random.choice(hanguls)\n",
    "\n",
    "print(list_eng)\n"
   ]
  },
  {
   "cell_type": "code",
   "execution_count": null,
   "id": "3f37417a-da2c-4c71-8e39-800b64e98755",
   "metadata": {},
   "outputs": [],
   "source": [
    "T = int(input())\n",
    "for test_case in range(1, T + 1):\n",
    "    n=int(input())\n",
    "    data = []\n",
    "    for _ in range(3):\n",
    "        data.append(listinput())\n",
    "    A= data[0]\n",
    "    B= data[1]\n",
    "    C= data[2]\n",
    "    count=0\n",
    "    for i in range(n):\n",
    "        if A[i] == B[i] and B[i]==C[i] and A[i] == C[i]:\n",
    "            count += 0\n",
    "        elif A[i] != B[i] and B[i]!=C[i] and A[i] != C[i]:\n",
    "            count += 2\n",
    "        else: \n",
    "            count +=1\n",
    "    print(f\"#{test_case}  {count}\")"
   ]
  }
 ],
 "metadata": {
  "kernelspec": {
   "display_name": "Python 3 (ipykernel)",
   "language": "python",
   "name": "python3"
  },
  "language_info": {
   "codemirror_mode": {
    "name": "ipython",
    "version": 3
   },
   "file_extension": ".py",
   "mimetype": "text/x-python",
   "name": "python",
   "nbconvert_exporter": "python",
   "pygments_lexer": "ipython3",
   "version": "3.12.4"
  }
 },
 "nbformat": 4,
 "nbformat_minor": 5
}
