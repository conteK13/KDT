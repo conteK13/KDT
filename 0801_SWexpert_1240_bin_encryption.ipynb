{

 "cells": [
  {
   "cell_type": "code",
   "execution_count": 59,
   "id": "319cab29-3025-475c-b29b-3c8d917af470",
   "metadata": {},
   "outputs": [
    {
     "name": "stdin",
     "output_type": "stream",
     "text": [
      " 00000000000000011101101100010111011011000101100010001101001001101110110000000000\n"
     ]
    },
    {
     "name": "stdout",
     "output_type": "stream",
     "text": [
      "[7, 5, 7, 5, 5, 0, 2, 7]\n",
      "#1 38\n"
     ]
    }
   ],
   "source": [
    "pwd = ['0001101', '0011001', '0010011', '0111101', '0100011', '0110001', '0101111', '0111011','0110111','0001011']\n",
    "\n",
    "T = int(input())\n",
    "for test_case in range(1, T + 1):\n",
    "    n, m = map(int, input().split())\n",
    "    sw = False\n",
    "    code = []\n",
    "    \n",
    "    for _ in range(n):\n",
    "        data= input()\n",
    "        if '1' in data and sw == False: #처음 한번만 입력을 받기 위해서 \n",
    "            sw = True\n",
    "            temp = data\n",
    "            \n",
    "    for i in range(m-1, -1, -1):\n",
    "        if temp[i] == '1':\n",
    "            bin = temp[i-55:i+1]\n",
    "            break\n",
    "    \n",
    "    for i in range(8):\n",
    "        b = bin[7*i:7*(i+1)]\n",
    "        for j in range(10):\n",
    "            if b == pwd[j]:\n",
    "                code.append(j)\n",
    "                break\n",
    "\n",
    "    odd, even = 0, 0\n",
    "    for i in range(8):\n",
    "        if i % 2 == 0: #홀수 (index는 0부터 시작해서)\n",
    "            odd += code[i]\n",
    "        else:\n",
    "            even+= code[i]\n",
    "    \n",
    "    if (odd*3 +even) % 10 == 0:\n",
    "        result = sum(code)\n",
    "    else:\n",
    "        result = 0\n",
    "    \n",
    "    print(f\"#{test_case} {result}\")\n",
    "    "
   ]
  }
 ],
 "metadata": {
  "kernelspec": {
   "display_name": "Python 3 (ipykernel)",
   "language": "python",
   "name": "python3"
  },
  "language_info": {
   "codemirror_mode": {
    "name": "ipython",
    "version": 3
   },
   "file_extension": ".py",
   "mimetype": "text/x-python",
   "name": "python",
   "nbconvert_exporter": "python",
   "pygments_lexer": "ipython3",
   "version": "3.12.4"
  }
 },
 "nbformat": 4,
 "nbformat_minor": 5
}
