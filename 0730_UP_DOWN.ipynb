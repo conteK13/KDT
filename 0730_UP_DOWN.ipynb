{
 "cells": [
  {
   "cell_type": "code",
   "execution_count": 7,
   "id": "7c0c33ba-9448-422d-8b44-c376451eb348",
   "metadata": {},
   "outputs": [
    {
     "name": "stdin",
     "output_type": "stream",
     "text": [
      "게임의 입력 범위 n을 입력해 주세요 : 50\n",
      "값을 입력해 주세요 :  25\n"
     ]
    },
    {
     "name": "stdout",
     "output_type": "stream",
     "text": [
      "UP\n"
     ]
    },
    {
     "name": "stdin",
     "output_type": "stream",
     "text": [
      "값을 입력해 주세요 :  35\n"
     ]
    },
    {
     "name": "stdout",
     "output_type": "stream",
     "text": [
      "UP\n"
     ]
    },
    {
     "name": "stdin",
     "output_type": "stream",
     "text": [
      "값을 입력해 주세요 :  45\n"
     ]
    },
    {
     "name": "stdout",
     "output_type": "stream",
     "text": [
      "UP\n"
     ]
    },
    {
     "name": "stdin",
     "output_type": "stream",
     "text": [
      "값을 입력해 주세요 :  58\n"
     ]
    },
    {
     "name": "stdout",
     "output_type": "stream",
     "text": [
      "DOWN\n"
     ]
    },
    {
     "name": "stdin",
     "output_type": "stream",
     "text": [
      "값을 입력해 주세요 :  48\n"
     ]
    },
    {
     "name": "stdout",
     "output_type": "stream",
     "text": [
      "UP\n"
     ]
    },
    {
     "name": "stdin",
     "output_type": "stream",
     "text": [
      "값을 입력해 주세요 :  49\n"
     ]
    },
    {
     "name": "stdout",
     "output_type": "stream",
     "text": [
      "축하합니다, 6번 만에 정답 49을 맞추셨습니다~!!!\n"
     ]
    },
    {
     "name": "stdin",
     "output_type": "stream",
     "text": [
      "아무 키나 눌러서 프로그램을 종료 시키세요 \n"
     ]
    }
   ],
   "source": [
    "#UP_DOWN게임\n",
    "#조건1 : 값의 입력 범위 입력(1~n)\n",
    "#        1~n사이의 random한 값을 answer에 입력\n",
    "#조건2 : 사용자가 값을 입력하면, PC가 UP, DOWN을 외친다.\n",
    "#조건3 : 사용자가 답을 맞출 때까지 반복\n",
    "#조건4 : 정답을 맞춘 경우, 정답과 함께 몇번 시도했는지 횟수를 출력한다.\n",
    "#        \"축하합니다, 20번 만에 정답 30을 맞추셨습니다~!!!\"\n",
    "#조건5 : 실행파일을 만들어서 카페에 업로드. -> \"경연종원.exe\"\n",
    "\n",
    "\n",
    "#random한 숫자 answer를 만들기 위해 random import\n",
    "import random\n",
    "\n",
    "#정답, up, down 여부를 확인할 때마다 호출할 함수\n",
    "#함수 내에서 상태(정답 여부, up, down) 출력\n",
    "#반환값으로 정답여부를 출력한다.\n",
    "def check():\n",
    "    if u_user == answer:\n",
    "        print(\"축하합니다, %d번 만에 정답 %d을 맞추셨습니다~!!!\" % (count, answer))\n",
    "        return True\n",
    "    elif u_user > answer:\n",
    "        print(\"DOWN\")\n",
    "        return False\n",
    "    else:\n",
    "        print(\"UP\")\n",
    "        return False\n",
    "        \n",
    "count = 0 #입력 횟수를 셀 변수 count\n",
    "n = int(input(\"게임의 입력 범위 n을 입력해 주세요 :\"))\n",
    "answer = random.randint(1, n)\n",
    "\n",
    "while True:\n",
    "    u_user = int(input(\"값을 입력해 주세요 : \"))\n",
    "    count += 1   #loop를 한번 돌때마다 +1\n",
    "    result = check()\n",
    "    if result == True:\n",
    "        break\n",
    "\n",
    "comment = input(\"아무 키나 눌러서 프로그램을 종료 시키세요\")\n",
    "#이문장 없으면 자동 종료되서 마지막 문구를 확인할 수 없음"
   ]
  },
  {
   "cell_type": "code",
   "execution_count": 9,
   "id": "15186ad2-6a6f-42f6-b3c8-26b82666f072",
   "metadata": {},
   "outputs": [
    {
     "name": "stdin",
     "output_type": "stream",
     "text": [
      "게임의 입력 범위 n을 입력해 주세요 : 5\n",
      "값을 입력해 주세요 :  3\n"
     ]
    },
    {
     "name": "stdout",
     "output_type": "stream",
     "text": [
      "UP\n"
     ]
    },
    {
     "name": "stdin",
     "output_type": "stream",
     "text": [
      "값을 입력해 주세요 :  4\n"
     ]
    },
    {
     "name": "stdout",
     "output_type": "stream",
     "text": [
      "축하합니다, 2번 만에 정답 4을 맞추셨습니다~!!!\n"
     ]
    },
    {
     "name": "stdin",
     "output_type": "stream",
     "text": [
      "아무 키나 눌러서 프로그램을 종료 시키세요. 재시작하고 싶다면 GO를 입력하세요 GO\n",
      "게임의 입력 범위 n을 입력해 주세요 : 5\n",
      "값을 입력해 주세요 :  3\n"
     ]
    },
    {
     "name": "stdout",
     "output_type": "stream",
     "text": [
      "축하합니다, 1번 만에 정답 3을 맞추셨습니다~!!!\n"
     ]
    },
    {
     "name": "stdin",
     "output_type": "stream",
     "text": [
      "아무 키나 눌러서 프로그램을 종료 시키세요. 재시작하고 싶다면 GO를 입력하세요 \n"
     ]
    }
   ],
   "source": [
    "#UP_DOWN게임\n",
    "#조건1 : 값의 입력 범위 입력(1~n)\n",
    "#        1~n사이의 random한 값을 answer에 입력\n",
    "#조건2 : 사용자가 값을 입력하면, PC가 UP, DOWN을 외친다.\n",
    "#조건3 : 사용자가 답을 맞출 때까지 반복\n",
    "#조건4 : 정답을 맞춘 경우, 정답과 함께 몇번 시도했는지 횟수를 출력한다.\n",
    "#        \"축하합니다, 20번 만에 정답 30을 맞추셨습니다~!!!\"\n",
    "#조건5 : 실행파일을 만들어서 카페에 업로드. -> \"경연종원.exe\"\n",
    "\n",
    "\n",
    "#random한 숫자 answer를 만들기 위해 random import\n",
    "import random\n",
    "\n",
    "#정답, up, down 여부를 확인할 때마다 호출할 함수\n",
    "#함수 내에서 상태(정답 여부, up, down) 출력\n",
    "#반환값으로 정답여부를 출력한다.\n",
    "def check():\n",
    "    if u_user == answer:\n",
    "        print(\"축하합니다, %d번 만에 정답 %d을 맞추셨습니다~!!!\" % (count, answer))\n",
    "        return True\n",
    "    elif u_user > answer:\n",
    "        print(\"DOWN\")\n",
    "        return False\n",
    "    else:\n",
    "        print(\"UP\")\n",
    "        return False\n",
    "        \n",
    "count = 0 #입력 횟수를 셀 변수 count\n",
    "n = int(input(\"게임의 입력 범위 n을 입력해 주세요 :\"))\n",
    "answer = random.randint(1, n)\n",
    "\n",
    "while True:\n",
    "    u_user = int(input(\"값을 입력해 주세요 : \"))\n",
    "    count += 1   #loop를 한번 돌때마다 +1\n",
    "    result = check()\n",
    "    if result == True:\n",
    "        comment = input(\"아무 키나 눌러서 프로그램을 종료 시키세요. 재시작하고 싶다면 GO를 입력하세요\")\n",
    "        if comment != \"GO\":\n",
    "            break\n",
    "        n = int(input(\"게임의 입력 범위 n을 입력해 주세요 :\")) #그냥 게임 재시작을 하면, 기존 정답과동일하므로 값을 바꿔줘야 함\n",
    "        answer = random.randint(1, n)\n",
    "        count = 0"
   ]
  }
 ],
 "metadata": {
  "kernelspec": {
   "display_name": "Python 3 (ipykernel)",
   "language": "python",
   "name": "python3"
  },
  "language_info": {
   "codemirror_mode": {
    "name": "ipython",
    "version": 3
   },
   "file_extension": ".py",
   "mimetype": "text/x-python",
   "name": "python",
   "nbconvert_exporter": "python",
   "pygments_lexer": "ipython3",
   "version": "3.12.4"
  }
 },
 "nbformat": 4,
 "nbformat_minor": 5
}
