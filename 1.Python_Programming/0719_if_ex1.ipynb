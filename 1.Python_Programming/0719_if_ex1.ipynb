{
  "nbformat": 4,
  "nbformat_minor": 0,
  "metadata": {
    "colab": {
      "provenance": []
    },
    "kernelspec": {
      "name": "python3",
      "display_name": "Python 3"
    },
    "language_info": {
      "name": "python"
    }
  },
  "cells": [
    {
      "cell_type": "code",
      "source": [
        "score = int(input(\"성적을 입력하세요 : \"))\n",
        "if score >= 60:\n",
        "  print(\"합격입니다.\")\n",
        "else:\n",
        "  print(\"불합격입니다\")"
      ],
      "metadata": {
        "colab": {
          "base_uri": "https://localhost:8080/"
        },
        "id": "vpX-OsN0g8Dy",
        "outputId": "e63da3d6-8794-482e-c830-f36a9235aaf4"
      },
      "execution_count": null,
      "outputs": [
        {
          "output_type": "stream",
          "name": "stdout",
          "text": [
            "성적을 입력하세요 : 45\n",
            "불합격입니다\n"
          ]
        }
      ]
    },
    {
      "cell_type": "code",
      "source": [
        "!pip install pyvirtualdisplay\n",
        "from pyvirtualdisplay import Display\n",
        "display = Display\n",
        "\n",
        "import turtle\n",
        "t = turtle.Turtle()\n",
        "t.shape(\"turtle\")\n",
        "\n",
        "t.penup()\t\t\t# 펜을 올려서 그림이 그려지지 않게 한다.\n",
        "t.goto(100, 100)\t\t# 거북이를 (100, 100)으로 이동시킨다.\n",
        "t.write(\"거북이가 여기로 오면 양수입니다.\")\n",
        "t.goto(100, 0)\n",
        "t.write(\"거북이가 여기로 오면 0입니다.\")\n",
        "t.goto(100, -100)\n",
        "t.write(\"거북이가 여기로 오면 음수입니다.\")\n",
        "\n",
        "t.goto(0, 0)\t\t\t# (0, 0) 위치로 거북이를 이동시킨다.\n",
        "t.pendown()\t\t\t# 펜을 내려서 그림이 그려지게 한다.\n",
        "s = turtle.textinput(\"\", \"숫자를 입력하시오: \")\n",
        "n=int(s)\n",
        "if n > 0 :\n",
        "    t.goto(100, 100)\n",
        "if n == 0 :\n",
        "    t.goto(100, 0)\n",
        "if n < 0 :\n",
        "    t.goto(100, -100)\n",
        "turtle.done()"
      ],
      "metadata": {
        "id": "QY_tctWkucHg"
      },
      "execution_count": null,
      "outputs": []
    },
    {
      "cell_type": "code",
      "execution_count": null,
      "metadata": {
        "id": "lmdoj7AzgW1b"
      },
      "outputs": [],
      "source": [
        "#체육대회 다른 학년의 같은 반은 한 팀이다.\n",
        "#minsu와 students의 학생이 같은 팀인지 확인하는 코드 작성\n",
        "#학번 \"E60134\" E: 초등학생, 6: 학년, 01 :반, 34: 출석번호\n",
        "\n",
        "students = [\"E10123\", \"E31201\", \"E40156\"]\n",
        "minsu = \"E60134\"\n",
        "\n",
        "classroom = [students[0][2:4],students[1][2:4],students[2][2:4]]\n",
        "# classroom = [\"01\", \"12\", \"01\"]\n",
        "if minsu[2:4] in classroom:\n",
        "  print(\"같은 팀이 있습니다.\")\n",
        "\n",
        "if minsu[2:4] == students[0][2:4]:\n",
        "  print(\"같은 팀\")\n",
        "else:\n",
        "  print(\"다른 팀\")\n",
        "\n",
        "if minsu[2:4] == students[1][2:4]:\n",
        "  print(\"같은 팀\")\n",
        "else:\n",
        "  print(\"다른 팀\")\n",
        "\n",
        "if minsu[2:4] == students[2][2:4]:\n",
        "  print(\"같은 팀\")\n",
        "else:\n",
        "  print(\"다른 팀\")\n"
      ]
    },
    {
      "cell_type": "code",
      "source": [
        "students = [\"E10123\", \"E31201\", \"E40156\"]\n",
        "minsu = \"E60134\"\n",
        "team = []\n",
        "team.append(minsu)\n",
        "\n",
        "for i in students:\n",
        "  #print(i, i[2:4])\n",
        "  if minsu[2:4] == i[2:4]:\n",
        "    print(\"같은 팀\")\n",
        "    team.append(i)\n",
        "  else:\n",
        "    print(\"다른 팀\")\n",
        "\n",
        "print(team)"
      ],
      "metadata": {
        "colab": {
          "base_uri": "https://localhost:8080/"
        },
        "id": "tU73wJhKoCom",
        "outputId": "dfd94e47-8427-45a4-fb09-1f45a0f59f0c"
      },
      "execution_count": 20,
      "outputs": [
        {
          "output_type": "stream",
          "name": "stdout",
          "text": [
            "같은 팀\n",
            "다른 팀\n",
            "같은 팀\n",
            "['E60134', 'E10123', 'E40156']\n"
          ]
        }
      ]
    },
    {
      "cell_type": "code",
      "source": [
        "#국어, 영어, 수학의 점수를 각각 입력받는다.\n",
        "#세 점수의 평균을 출력한다,\n",
        "#세 점수의 평균이 80이상이면 \"우수학생입니다\"라는 문구를 출력한다.\n",
        "\n",
        "korean_score =int(input(\"국어 점수를 입력하시오: \"))\n",
        "english_score =int(input(\"영어 점수를 입력하시오: \"))\n",
        "math_score = int(input(\"수학 점수를 입력하시오: \"))\n",
        "\n"
      ],
      "metadata": {
        "id": "Z1aVwv7AhRMU"
      },
      "execution_count": null,
      "outputs": []
    },
    {
      "cell_type": "code",
      "source": [
        "#국어, 영어, 수학의 점수를 각각 입력받는다.\n",
        "#세 점수의 평균을 출력한다,\n",
        "#세 점수의 평균이 80이상이면 \"우수학생입니다\"라는 문구를 출력한다.\n",
        "\n",
        "scores = list(map(int, input(\"국어, 영어, 수학의 점수를 입력하시오: \").split()))\n",
        "sum_scores = sum(scores)\n",
        "average_scores = sum_scores / len(scores)\n",
        "\n",
        "print(int(average_scores))\n",
        "\n",
        "if average_scores >= 80:\n",
        "  print(\"우수 학생입니다.\")"
      ],
      "metadata": {
        "colab": {
          "base_uri": "https://localhost:8080/"
        },
        "id": "3FaOo6cVhu5C",
        "outputId": "890d15a8-7ba3-4b56-d242-9146dcd568b3"
      },
      "execution_count": null,
      "outputs": [
        {
          "output_type": "stream",
          "name": "stdout",
          "text": [
            "국어, 영어, 수학의 점수를 입력하시오: 70 80 90\n",
            "80\n",
            "우수 학생입니다.\n"
          ]
        }
      ]
    },
    {
      "cell_type": "code",
      "source": [
        "scores = [59, 20]\n",
        "\n",
        "if scores[0] > 60:\n",
        "  if scores[1] > 60:\n",
        "    print(\"합격\")\n",
        "  else:\n",
        "    print(\"국어는 합격이지만, 수학은 불합격하였습니다.\")\n",
        "\n",
        "else:\n",
        "  print(\"국어를 불합격했습니다.수학 점수는 확인하지 않았습니다.\")"
      ],
      "metadata": {
        "colab": {
          "base_uri": "https://localhost:8080/"
        },
        "id": "BjhSaRcclB37",
        "outputId": "0d058577-01ba-423f-a5e2-9cc7781ce700"
      },
      "execution_count": null,
      "outputs": [
        {
          "output_type": "stream",
          "name": "stdout",
          "text": [
            "국어를 불합격했습니다.수학 점수는 확인하지 않았습니다.\n"
          ]
        }
      ]
    }
  ]
}
