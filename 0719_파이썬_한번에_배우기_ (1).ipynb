{
  "nbformat": 4,
  "nbformat_minor": 0,
  "metadata": {
    "colab": {
      "provenance": []
    },
    "kernelspec": {
      "name": "python3",
      "display_name": "Python 3"
    },
    "language_info": {
      "name": "python"
    }
  },
  "cells": [
    {
      "cell_type": "markdown",
      "metadata": {
        "id": "bg5ZXMV2sn1M"
      },
      "source": [
        "# 파이썬 프로그래밍 언어(Python Programming Language)"
      ]
    },
    {
      "cell_type": "markdown",
      "metadata": {
        "id": "Lj_iZPKnCRP0"
      },
      "source": [
        "\n",
        "\n",
        "---\n",
        "\n"
      ]
    },
    {
      "cell_type": "markdown",
      "metadata": {
        "id": "E3Cd7WwAxDxm"
      },
      "source": [
        "## 프로그래밍 언어 개념\n",
        "\n",
        "![1-1 프로그래밍 개념.png](https://drive.google.com/uc?id=1r0Z3dkUlP09vUToNRNY-9euZIEnH1ZAc)\n",
        "\n",
        "* 프로그래머(programmer): 프로그래밍 언어를 사용해 소프트웨어를 만드는 사람\n",
        "* 프로그래밍 언어(programming language): 컴퓨터 시스템을 구동시키는 소프트웨어를 작성하기 위한 형식언어\n",
        "* 프로그래밍(programming): 프로그래밍 언어를 사용하여 프로그램을 개발하는 것\n"
      ]
    },
    {
      "cell_type": "markdown",
      "metadata": {
        "id": "aCgY8PtA_XHD"
      },
      "source": [
        "\n",
        "\n",
        "---\n",
        "\n"
      ]
    },
    {
      "cell_type": "markdown",
      "metadata": {
        "id": "bITJQHVfl0e8"
      },
      "source": [
        "## 파이썬 소개(Python Introduction)\n",
        "\n",
        "*   귀도 반 로섬(Guido Van Rossum)이 제작해 1991년에 공식 발표한 고급 프로그래밍 언어\n",
        "\n",
        "![1-2 귀도 반 로섬.jpg](https://drive.google.com/uc?id=1ua08oWtiNMfwZ5SrbdIJkpEB76WOfScG)\n",
        "\n",
        "*   플랫폼 독립적이며 인터프리터식, 객체지향적, 동적 타이핑(dynamic typed) 대화형 언어\n",
        "*   파이썬이라는 이름은 귀도가 좋아하는 코디미 <Monty Python's Flying Circus>에서 따온 것\n",
        "*   파이썬의 사전적인 의미는 비단뱀으로 로고 디자인도 파랑색과 노란색 비단뱀 두 마리가 서로 얽혀 있는 형태\n",
        "\n",
        "![1-3 파이썬 로고.png](https://drive.google.com/uc?id=1MdqjMXm0mLJVefMLUF9YzO3uwIC5cwUB)\n",
        "\n",
        "* 파이썬 프로그래밍 언어는 Google Trends를 통해 분석한 결과, 2020년 기준 가장 인기있는 언어 1위 (PYPL:PopularitY of Programming Language: http://pypl.github.io/PYPL.html)"
      ]
    },
    {
      "cell_type": "markdown",
      "metadata": {
        "id": "fCfoHPyOr5Pu"
      },
      "source": [
        "### 파이썬 특징(Python Features)\n",
        "\n",
        "#### 쉬운 문법과 간결함\n",
        "* 사람의 사고 체계와 유사하고 문법 자체가 아주 쉽고 간결함\n",
        "* 소스 코드가 이해하기 쉽어 공동 작업과 유지 보수가 쉬움\n",
        "\n",
        "#### 동적 타이핑(dynamic typing) 범용 프로그래밍 언어\n",
        "* 프로그램의 실행 시점에서 프로그램 변수의 타입을 결정하는 언어\n",
        "\n",
        "#### 다양한 플랫폼 지원과 호환성\n",
        "* 다양한 플랫폼에서 동작하도록 지원\n",
        "* C언어와의 호환성이 매우 뛰어남\n",
        "\n",
        "#### 풍부한 라이브러리(모듈)\n",
        "* 다양한 파이썬 내부 라이브러리 뿐만 아니라 다양한 서드 파티third party 라이브러리 사용 가능\n",
        "\n",
        "#### 풀 언어(glue language)\n",
        "* 다른 언어로 쓰인 모듈들을 연결하는 언어로 자주 이용\n",
        "* C나 C++ 언어로 만든 프로그램을 파이썬에서 사용 가능\n",
        "\n",
        "#### 다양한 언어의 문자 처리\n",
        "* 유니코드 문자열을 지원해서 다양한 언어의 문자 처리 가능"
      ]
    },
    {
      "cell_type": "markdown",
      "metadata": {
        "id": "XD6kg7T3A766"
      },
      "source": [
        "### 파이썬 응용(Python Applications)\n",
        "\n",
        "#### 시스템 유틸리티\n",
        "* 인증 / 권한 관리\n",
        "* 캐시 관리 / 파일 시스템 도구\n",
        "* 코드 분석 / 빌드, 디버깅 도구\n",
        "\n",
        "#### GUI(Graphic User Interface) 개발\n",
        "* 윈도우 형태의 프로그래밍 가능\n",
        "* Tkinter 패키지\n",
        "\n",
        "#### 웹 프로그래밍\n",
        "* 웹에서 회원 가입, 게시판, 블로그 등의 프로그램 제작 가능\n",
        "* Django, Flask 등 파이썬 기반 웹 프레임워크\n",
        "\n",
        "#### 데이터베이스\n",
        "* Oracle, MySQL, PostgreSQL 등의 데이터베이스에 접근 가능한 도구 제공\n",
        "* 데이터베이스를 이용한 다양한 프로그램 제작 가능\n",
        "\n",
        "#### 데이터 분석 및 시각화\n",
        "* 데이터 처리, 탐색, 분석, 시각화까지 구현 가능\n",
        "* NumPy, Pandas, DataFrame, Matplotlib 패키지\n",
        "\n",
        "#### 기계학습/딥러닝 모델\n",
        "* 모델 생성과 데이터 학습 등을 위한 편리한 도구 제공\n",
        "* Scikit-learn, TensorFlow, PyTorch, Keras 패키지\n",
        "\n",
        "#### 이미지 처리/컴퓨터 비전\n",
        "* 컴퓨터 비전과 관련된 다양한 처리와 알고리즘을 제공\n",
        "* OpenCV 패키지\n",
        "\n",
        "#### 자연어 처리\n",
        "* 텍스트 데이터나 자연어 처리를 위한 다양한 모델 제공\n",
        "* WordCloud, Gensim 패키지\n",
        "\n",
        "#### 게임 개발\n",
        "* 게임 개발에 필요한 이미지, 소리, 입력 장치 등의 효율적인 처리 방법을 제공\n",
        "* PyGame 패키지\n",
        "\n",
        "#### 기타\n",
        "* 로봇, 사물인터넷, 클라우드 컴퓨팅 등 수 많은 분야에서 다양한 응용으로 활용\n",
        "* 자세한 내용들은 Awesome Python(https://awesome-python.com) 참고"
      ]
    },
    {
      "cell_type": "markdown",
      "metadata": {
        "id": "PYRyw6P__eal"
      },
      "source": [
        "\n",
        "\n",
        "---\n",
        "\n"
      ]
    },
    {
      "cell_type": "markdown",
      "metadata": {
        "id": "UMnsiru-FWZa"
      },
      "source": [
        "## 파이썬 설치 및 환경\n",
        "* 파이썬을 이용하는 방법은 다양하게 존재하며 사용하기 원하는 환경에 따라서 선택\n",
        "* 개인 컴퓨터에서 파이썬 사용시에는 홈페이지(https://www.python.org) 에서 설치 파일을 다운로드하여 설치\n",
        "* 파이썬 기본 에디터보다는 다양한 통합개발환경(IDE)을 활용하여 프로그래밍 가능\n",
        "* 대표적인 통합개발환경(IDE): PyCharm(https://www.jetbrains.com/pycharm), Visual Studio Code(https://code.visualstudio.com)\n",
        "\n",
        "* 본 강의에서는 구글 클라우드 환경인 Google Colab(https://colab.research.google.com) 에서 파이썬을 쉽게 배우고 실습"
      ]
    },
    {
      "cell_type": "markdown",
      "metadata": {
        "id": "l5juryyE_6He"
      },
      "source": [
        "\n",
        "\n",
        "---\n",
        "\n"
      ]
    },
    {
      "cell_type": "markdown",
      "metadata": {
        "id": "qHumj4Amv_r0"
      },
      "source": [
        "## 파이썬 시작하기\n",
        "\n",
        "* 프로그래밍 언어를 배울 때 보통 가장 먼저 하는 것은 인사\n",
        "* 가장 기본이 되는 화면 출력 함수인 `print()`를 이용해서 문자열 \"Hello Python\"을 출력"
      ]
    },
    {
      "cell_type": "code",
      "metadata": {
        "id": "wGQsH_uNlSbS",
        "colab": {
          "base_uri": "https://localhost:8080/"
        },
        "outputId": "e7ed8fca-4bfc-43ad-d05a-ceb1fe0e0661"
      },
      "source": [
        "print(\"Hi Python\")"
      ],
      "execution_count": null,
      "outputs": [
        {
          "output_type": "stream",
          "name": "stdout",
          "text": [
            "Hi Python\n"
          ]
        }
      ]
    },
    {
      "cell_type": "markdown",
      "metadata": {
        "id": "6LUMthH9Lf9Z"
      },
      "source": [
        "## 파이썬으로 계산하기"
      ]
    },
    {
      "cell_type": "markdown",
      "metadata": {
        "id": "zImoFsf6T4U9"
      },
      "source": [
        "### 사칙연산\n",
        "\n",
        "* 파이썬에서는 기본적인 산술 연산을 바로 수행 가능\n",
        "* 더하기, 빼기, 곱하기, 나누기 같은 간단한 산술연산 예제"
      ]
    },
    {
      "cell_type": "code",
      "metadata": {
        "id": "VaRaodRLF6N_",
        "colab": {
          "base_uri": "https://localhost:8080/"
        },
        "outputId": "8b221aee-247e-4b30-bdc2-4f2ae09000ff"
      },
      "source": [
        "1 + 1"
      ],
      "execution_count": null,
      "outputs": [
        {
          "output_type": "execute_result",
          "data": {
            "text/plain": [
              "2"
            ]
          },
          "metadata": {},
          "execution_count": 1
        }
      ]
    },
    {
      "cell_type": "code",
      "metadata": {
        "id": "zpBz_0y9H_7I",
        "colab": {
          "base_uri": "https://localhost:8080/"
        },
        "outputId": "5bbea1e7-fdfd-4926-ce16-bf1f60c2c8c6"
      },
      "source": [
        "5 - 1"
      ],
      "execution_count": null,
      "outputs": [
        {
          "output_type": "execute_result",
          "data": {
            "text/plain": [
              "4"
            ]
          },
          "metadata": {},
          "execution_count": 3
        }
      ]
    },
    {
      "cell_type": "code",
      "metadata": {
        "id": "PLTZwXWFHPmv",
        "colab": {
          "base_uri": "https://localhost:8080/"
        },
        "outputId": "8d80ead4-504f-4125-d15f-c1f7c1e2c056"
      },
      "source": [
        "4 * 3"
      ],
      "execution_count": null,
      "outputs": [
        {
          "output_type": "execute_result",
          "data": {
            "text/plain": [
              "12"
            ]
          },
          "metadata": {},
          "execution_count": 4
        }
      ]
    },
    {
      "cell_type": "code",
      "metadata": {
        "id": "8BFrh9HmHVkz",
        "colab": {
          "base_uri": "https://localhost:8080/"
        },
        "outputId": "da0cfced-36cc-473b-b634-10de7f65a876"
      },
      "source": [
        "3 / 5"
      ],
      "execution_count": null,
      "outputs": [
        {
          "output_type": "execute_result",
          "data": {
            "text/plain": [
              "0.6"
            ]
          },
          "metadata": {},
          "execution_count": 5
        }
      ]
    },
    {
      "cell_type": "markdown",
      "metadata": {
        "id": "G3WJblW4KKLh"
      },
      "source": [
        "### 실수 사칙연산\n",
        "\n",
        "* 실수에 대해서도 사칙연산 가능"
      ]
    },
    {
      "cell_type": "code",
      "metadata": {
        "id": "SUWi_GcFKSH5",
        "colab": {
          "base_uri": "https://localhost:8080/"
        },
        "outputId": "6a6e2a06-3b6b-4389-bdf0-24cdac2e5733"
      },
      "source": [
        "1.1 + 2.4"
      ],
      "execution_count": null,
      "outputs": [
        {
          "output_type": "execute_result",
          "data": {
            "text/plain": [
              "3.5"
            ]
          },
          "metadata": {},
          "execution_count": 6
        }
      ]
    },
    {
      "cell_type": "code",
      "metadata": {
        "id": "CqBZeD9oKU72",
        "colab": {
          "base_uri": "https://localhost:8080/"
        },
        "outputId": "9dfd73ca-88cd-4a1e-d38c-93d356e1441f"
      },
      "source": [
        "4.2 - 1.2"
      ],
      "execution_count": null,
      "outputs": [
        {
          "output_type": "execute_result",
          "data": {
            "text/plain": [
              "3.0"
            ]
          },
          "metadata": {},
          "execution_count": 7
        }
      ]
    },
    {
      "cell_type": "code",
      "metadata": {
        "id": "s1xyEhRJKXZL",
        "colab": {
          "base_uri": "https://localhost:8080/"
        },
        "outputId": "abb6994c-55d1-41fc-c1a4-8461bd0ecca5"
      },
      "source": [
        "1.2 * 2.2"
      ],
      "execution_count": null,
      "outputs": [
        {
          "output_type": "execute_result",
          "data": {
            "text/plain": [
              "2.64"
            ]
          },
          "metadata": {},
          "execution_count": 8
        }
      ]
    },
    {
      "cell_type": "code",
      "metadata": {
        "id": "XKz3Ahc6KZwu",
        "colab": {
          "base_uri": "https://localhost:8080/"
        },
        "outputId": "9ce239f0-1989-4a66-c332-370127fa5394"
      },
      "source": [
        "5.4 / 2.7"
      ],
      "execution_count": null,
      "outputs": [
        {
          "output_type": "execute_result",
          "data": {
            "text/plain": [
              "2.0"
            ]
          },
          "metadata": {},
          "execution_count": 9
        }
      ]
    },
    {
      "cell_type": "markdown",
      "metadata": {
        "id": "2g1kd0ReKnvh"
      },
      "source": [
        "### 복잡한 연산\n",
        "\n",
        "* 여러 산술연산들이 포함된 복잡한 연산들도 가능"
      ]
    },
    {
      "cell_type": "code",
      "metadata": {
        "id": "06Tq0A94KvqH",
        "colab": {
          "base_uri": "https://localhost:8080/"
        },
        "outputId": "65ee2a1b-6c7b-4572-f307-864f396c6e57"
      },
      "source": [
        "1 + 2 + 3 / 3 * 2"
      ],
      "execution_count": null,
      "outputs": [
        {
          "output_type": "execute_result",
          "data": {
            "text/plain": [
              "5.0"
            ]
          },
          "metadata": {},
          "execution_count": 10
        }
      ]
    },
    {
      "cell_type": "code",
      "metadata": {
        "id": "zODjpBPxKyKy",
        "colab": {
          "base_uri": "https://localhost:8080/"
        },
        "outputId": "c504e761-fa0e-45d0-cd6b-739f9ec1ff59"
      },
      "source": [
        "4 / 2 * 2 - 10 / 4"
      ],
      "execution_count": null,
      "outputs": [
        {
          "output_type": "execute_result",
          "data": {
            "text/plain": [
              "1.5"
            ]
          },
          "metadata": {},
          "execution_count": 11
        }
      ]
    },
    {
      "cell_type": "code",
      "metadata": {
        "id": "yCDpG51AK6Vm",
        "colab": {
          "base_uri": "https://localhost:8080/"
        },
        "outputId": "76990077-61dd-48c1-9bc4-e0b56e1f5f46"
      },
      "source": [
        "(10 - 2 * 4) / (1 + 2) * (10 - 4)"
      ],
      "execution_count": null,
      "outputs": [
        {
          "output_type": "execute_result",
          "data": {
            "text/plain": [
              "4.0"
            ]
          },
          "metadata": {},
          "execution_count": 12
        }
      ]
    },
    {
      "cell_type": "markdown",
      "metadata": {
        "id": "dI2C7NDyQ_Uq"
      },
      "source": [
        "\n",
        "\n",
        "---\n",
        "\n"
      ]
    },
    {
      "cell_type": "markdown",
      "metadata": {
        "id": "FiUzzSZOVuIK"
      },
      "source": [
        "## 파이썬 문법(Python Syntax)\n"
      ]
    },
    {
      "cell_type": "markdown",
      "metadata": {
        "id": "Ia0eyXfzV5b7"
      },
      "source": [
        "### 들여쓰기(Indentation)\n",
        "\n",
        "* 코드 라인의 시작 부분에 들여쓰기\n",
        "* 파이썬은 들여쓰기로 코드의 블록을 표시"
      ]
    },
    {
      "cell_type": "code",
      "metadata": {
        "id": "jDZmAkxVV32c",
        "colab": {
          "base_uri": "https://localhost:8080/",
          "height": 106
        },
        "outputId": "3522c943-a912-4f2f-999d-5dea76c01cc6"
      },
      "source": [
        "if 2 > 1:\n",
        "print(2)"
      ],
      "execution_count": null,
      "outputs": [
        {
          "output_type": "error",
          "ename": "IndentationError",
          "evalue": "expected an indented block after 'if' statement on line 1 (<ipython-input-10-120183df125d>, line 2)",
          "traceback": [
            "\u001b[0;36m  File \u001b[0;32m\"<ipython-input-10-120183df125d>\"\u001b[0;36m, line \u001b[0;32m2\u001b[0m\n\u001b[0;31m    print(2)\u001b[0m\n\u001b[0m    ^\u001b[0m\n\u001b[0;31mIndentationError\u001b[0m\u001b[0;31m:\u001b[0m expected an indented block after 'if' statement on line 1\n"
          ]
        }
      ]
    },
    {
      "cell_type": "code",
      "metadata": {
        "id": "Hffc6CB4b8F6",
        "colab": {
          "base_uri": "https://localhost:8080/"
        },
        "outputId": "59a1b92d-fdc6-43f9-8f87-c9f4bf59068c"
      },
      "source": [
        "if 2 > 1:\n",
        "  print(2)"
      ],
      "execution_count": null,
      "outputs": [
        {
          "output_type": "stream",
          "name": "stdout",
          "text": [
            "2\n"
          ]
        }
      ]
    },
    {
      "cell_type": "code",
      "source": [
        "if 2 < 1:\n",
        "  print(2)"
      ],
      "metadata": {
        "id": "0iMXGw0jfWXm"
      },
      "execution_count": null,
      "outputs": []
    },
    {
      "cell_type": "markdown",
      "metadata": {
        "id": "XmkeU7cUWy2A"
      },
      "source": [
        "### 주석(Comments)\n",
        "\n",
        "* 코드에 대해 설명하는데 사용하고 가독성 증가\n",
        "* 일부 코드를 주석처리하여 실행 방지 가능"
      ]
    },
    {
      "cell_type": "code",
      "metadata": {
        "id": "qw9MLmHrW16P",
        "colab": {
          "base_uri": "https://localhost:8080/"
        },
        "outputId": "44ae2768-fe5b-462c-a897-146698cad6ef"
      },
      "source": [
        "# 주석 부분\n",
        "print(\"주석문\") # 출력\n",
        "#print(\"Comment\")"
      ],
      "execution_count": null,
      "outputs": [
        {
          "output_type": "stream",
          "name": "stdout",
          "text": [
            "주석문\n"
          ]
        }
      ]
    },
    {
      "cell_type": "markdown",
      "metadata": {
        "id": "6XGDdKnJyGJF"
      },
      "source": [
        "# 변수, 자료형, 연산자\n",
        "\n"
      ]
    },
    {
      "cell_type": "markdown",
      "metadata": {
        "id": "HAstuUfPCTnB"
      },
      "source": [
        "\n",
        "\n",
        "---\n",
        "\n"
      ]
    },
    {
      "cell_type": "markdown",
      "metadata": {
        "id": "90qvtJp_yMg4"
      },
      "source": [
        "\n",
        "## 변수(Variables)\n",
        "\n",
        "### 변수 개념\n",
        "\n",
        "* 어떠한 값을 저장하는 공간(메모리)\n",
        "* 일반적으로 데이터의 저장 위치와 데이터 값으로 구분\n",
        "* 변수에 값을 넣는 순간 메모리 저장 위치를 할당하고 그 위치는 메모리 주소로 관리"
      ]
    },
    {
      "cell_type": "markdown",
      "metadata": {
        "id": "BXzJKw6hJzeS"
      },
      "source": [
        "실제 변수에 대해서 실습하기 위해 그림과 같이 변수 `name`에 문자열`\"Suan\"`를 넣고, 변수 `num`에 값 `123`을 넣기\n",
        "\n",
        "![2-1 변수 예제.png](https://drive.google.com/uc?id=1sXsBY_n7waddaQOvo72Ww3aKvdlGw5LT)\n"
      ]
    },
    {
      "cell_type": "code",
      "metadata": {
        "id": "Wnq3OFyHy3FV",
        "colab": {
          "base_uri": "https://localhost:8080/"
        },
        "outputId": "c92fb065-3b84-4a72-fd32-72da4fe7ce88"
      },
      "source": [
        "name = \"Suan\"\n",
        "print(name)\n",
        "num = 123\n",
        "print(num)"
      ],
      "execution_count": null,
      "outputs": [
        {
          "output_type": "stream",
          "name": "stdout",
          "text": [
            "Suan\n",
            "123\n"
          ]
        }
      ]
    },
    {
      "cell_type": "code",
      "source": [
        "name = \"강경연\"\n",
        "num = \"010-9655-9428\"\n",
        "\n",
        "\n",
        "print(\"이름은 \", name,\"이고 전화번호는 \", num, \"입니다.\", sep = \"\")\n",
        "print(name +\" : \"+ num)"
      ],
      "metadata": {
        "colab": {
          "base_uri": "https://localhost:8080/"
        },
        "id": "NfSYlfAbf_XY",
        "outputId": "b3ae8f3d-b8d2-4b5e-8947-e38b248534c5"
      },
      "execution_count": null,
      "outputs": [
        {
          "output_type": "stream",
          "name": "stdout",
          "text": [
            "이름은 강경연이고 전화번호는 010-9655-9428입니다.\n",
            "강경연 : 010-9655-9428\n"
          ]
        }
      ]
    },
    {
      "cell_type": "markdown",
      "metadata": {
        "id": "RJfm_0kbyZih"
      },
      "source": [
        "### 변수명 규칙\n",
        "* 알파벳, 숫자, 언더바( _ )로 선언 가능\n",
        "* 의미 있는 단어로 표기하는 것이 좋음\n",
        "* 대소문자가 구분\n",
        "* 특별한 의미가 있는 예약어는 사용할 수 없음\n",
        "\n",
        "\n",
        "#### 예약어\n",
        "|예약어||||||\n",
        "|:---:|:---:|:---:|:---:|:---:|:---:|\n",
        "| and | exec | not | assert | finally | or |\n",
        "| break | for | pass | class | from | print |\n",
        "| continue | global | raise | def | if | return |\n",
        "| del | import | try | elif | in | while |\n",
        "| else | is | with | except | lambda | yield |\n"
      ]
    },
    {
      "cell_type": "code",
      "metadata": {
        "id": "SPyXej-mys0A",
        "colab": {
          "base_uri": "https://localhost:8080/"
        },
        "outputId": "c80db2b8-46a5-43fc-8ab1-daa3cb6c8990"
      },
      "source": [
        "abc = \"abc\"\n",
        "abc_123 = 123\n",
        "Abc_123 = 123\n",
        "print(abc)\n",
        "print(abc_123)\n",
        "print(Abc_123)"
      ],
      "execution_count": null,
      "outputs": [
        {
          "output_type": "stream",
          "name": "stdout",
          "text": [
            "abc\n",
            "123\n",
            "123\n"
          ]
        }
      ]
    },
    {
      "cell_type": "markdown",
      "metadata": {
        "id": "IzVR_OF3CV7l"
      },
      "source": [
        "\n",
        "\n",
        "---\n",
        "\n"
      ]
    },
    {
      "cell_type": "markdown",
      "metadata": {
        "id": "UnmfTSSR7gI8"
      },
      "source": [
        "## 자료형(Data Types)\n",
        "\n",
        "* 파이썬에서 자료형은 유형에 따라서 논리형, 수치형, 문자형, 구조형으로 구분\n",
        "* 일반적으로 숫자와 문자, 그리고 구조에 따른 저장을 위해서 여러가지 구분된 자료형을 제공\n",
        "\n",
        "| 유형 | 자료형 | 설명 | 선언 |\n",
        "| --- | --- | --- | --- |\n",
        "| 논리형 | 불리언(boolean type) | 참(True) 또는 거짓(False)을 표현할 때 사용 | `b = True` |\n",
        "| 수치형 | 정수(integer type) | 자연수를 포함해 값의 영역이 정수로 한정된 값 | `i = 10` |\n",
        "| 수치형 | 2진수 정수(binary type) | 2진수 자료형(숫자가 '0b'또는 '0B'로 시작) | `b = 0b010` |\n",
        "| 수치형 | 8진수 정수(octal type) | 8진수 자료형(숫자가 `0o` 또는 `0O`로 시작) | `o = 0o130` |\n",
        "| 수치형 | 16진수 정수(hexadecimal type) | 16진수 자료형(`0x`로 시작) | `h = 0xABC` |\n",
        "| 수치형 | 실수(floating-point type) | 소수점이 포함된 값 | `f = 12.34` |\n",
        "| 수치형 | 복소수(complex type) | 복소수 사용을 위한 자료형 | `j = 1 + 23j` |\n",
        "| 문자형 | 문자열(string type) | 값이 문자로 출력되는 자료형 | `s = \"Suan\"` |\n",
        "| 시퀀스형 | 리스트(list type) | 여러 요소를 묶어 하나의 변수로 사용 | `l = [1, 2, 3]` |\n",
        "| 시퀀스형 | 튜플(tuple type) | 리스트와 유사하지만 생성, 삭제, 수정 불가 | `t = (1, 2, 3)` |\n",
        "| 시퀀스형 | 범위(range type) | 숫자의 불변한 시퀀스 형태 | `range(10)` |\n",
        "| 집합형 | 집합(set type) | 중복과 순서가 없는 집합을 위한 자료형 | `s = {1, 2, 3}` |\n",
        "| 집합형 | 불변 집합(fronzenset type) | 불변한 집합을 위한 자료형 | `fs = frozenset{1, 2, 3}` |\n",
        "| 매핑형 | 딕셔너리(dictionary type) | 키(key)와 값(value)이 쌍(pair)으로 들어간 자료형 | `d = {1:'One', 2:'Two'}` |\n",
        "| 바이트 시퀀스형 | 바이트(byte type) | 바이트 값을 가지는 자료형 | `byte = b'hello'` |\n",
        "| 바이트 시퀀스형 | bytearray type | 바이트의 시퀀스 형태로 수정 가능한 자료형 | `ba = bytearray(b'hello')` |\n",
        "| 바이트 시퀀스형 | memoryview type | 바이트의 메모리 값으로 표현한 자료형 | `mv = memoryview(b'hello')` |\n"
      ]
    },
    {
      "cell_type": "markdown",
      "metadata": {
        "id": "E6w1S0AG7093"
      },
      "source": [
        "### 불리언형 자료형(Boolean Type)\n",
        "\n",
        "* 불리언은 `True`와 `False` 값으로만 표현할 때 사용하는 자료형\n",
        "* 예제 코드에서 변수 `b`에 `True` 값을 넣으면 불리언 자료형으로 결정\n",
        "* 자료형을 반환하는 내장함수 `type()` 함수를 이용하여 자료형을 확인하면 `bool`로 반환된 결과를 볼 수 있음"
      ]
    },
    {
      "cell_type": "code",
      "metadata": {
        "id": "VEmJO0Hl7uSL",
        "colab": {
          "base_uri": "https://localhost:8080/"
        },
        "outputId": "eb057852-9f4a-43c6-e2ad-733a73b40418"
      },
      "source": [
        "b = True\n",
        "print(b)\n",
        "print(type(b))"
      ],
      "execution_count": null,
      "outputs": [
        {
          "output_type": "stream",
          "name": "stdout",
          "text": [
            "True\n",
            "<class 'bool'>\n"
          ]
        }
      ]
    },
    {
      "cell_type": "markdown",
      "metadata": {
        "id": "zEQ7zJg8aafd"
      },
      "source": [
        "### 정수형 자료형(Integer Type)"
      ]
    },
    {
      "cell_type": "markdown",
      "metadata": {
        "id": "QyQdYV_If3kQ"
      },
      "source": [
        "#### 10진수(Decimal)\n",
        "\n",
        "* 10진수는 일반적인 숫자 표현을 그대로 사용\n",
        "* 변수 `i`에 10진수로 숫자 10을 값으로 넣고, `type()` 함수를 통해 자료형을 확인하기\n",
        "* 결과는 당연히 정수형(int) 자료형으로 출력\n"
      ]
    },
    {
      "cell_type": "code",
      "metadata": {
        "id": "Mt5AV2bR8NFr",
        "colab": {
          "base_uri": "https://localhost:8080/"
        },
        "outputId": "0259d6b2-c73f-4990-9834-e60ab3fc2b79"
      },
      "source": [
        "i = 10\n",
        "print(i)\n",
        "print(type(i))"
      ],
      "execution_count": null,
      "outputs": [
        {
          "output_type": "stream",
          "name": "stdout",
          "text": [
            "10\n",
            "<class 'int'>\n"
          ]
        }
      ]
    },
    {
      "cell_type": "markdown",
      "metadata": {
        "id": "oXUZbCF_z4ks"
      },
      "source": [
        "#### 2진수(Binary)\n",
        "\n",
        "* 2진수는 앞에 `0b`를 붙여서 표현\n",
        "* 변수 `b`에 2진수 표현으로 `0b010`을 넣고, `type()` 함수를 통해 자료형을 확인하기\n",
        "* 2진수 010이 10진수로 변환되는 계산: $ 010_{(2)} = 0 \\times 2^2 + 1 \\times 2^1 + 0 \\times 2^0 = 2_{(10)}$"
      ]
    },
    {
      "cell_type": "code",
      "metadata": {
        "id": "xxmW8Xp0u01Q",
        "colab": {
          "base_uri": "https://localhost:8080/"
        },
        "outputId": "9f914449-c0aa-4ca8-b739-99d08b8d49d1"
      },
      "source": [
        "b = 0b010\n",
        "print(b)\n",
        "print(type(b))"
      ],
      "execution_count": null,
      "outputs": [
        {
          "output_type": "stream",
          "name": "stdout",
          "text": [
            "2\n",
            "<class 'int'>\n"
          ]
        }
      ]
    },
    {
      "cell_type": "markdown",
      "metadata": {
        "id": "uWuYvhlMz-pL"
      },
      "source": [
        "#### 8진수(Octal)\n",
        "\n",
        "* 8진수는 앞에 `0o`를 붙여서 표현\n",
        "* 변수 `o`에 8진수 표현으로 `0o130`을 넣고 확인하기\n",
        "* 8진수 130이 10진수로 변환되는 계산: $ 130_{(8)} = 1 \\times 8^2 + 3 \\times 8^1 + 0 \\times 8^0 = 88_{(10)} $"
      ]
    },
    {
      "cell_type": "code",
      "metadata": {
        "id": "uS9NsK2ZYU8l",
        "colab": {
          "base_uri": "https://localhost:8080/"
        },
        "outputId": "faa27fdf-62f0-49a7-e7ca-24c6321050f9"
      },
      "source": [
        "o = 0o130\n",
        "print(o)\n",
        "print(type(o))"
      ],
      "execution_count": null,
      "outputs": [
        {
          "output_type": "stream",
          "name": "stdout",
          "text": [
            "88\n",
            "<class 'int'>\n"
          ]
        }
      ]
    },
    {
      "cell_type": "markdown",
      "metadata": {
        "id": "ObGeQFIA0CfR"
      },
      "source": [
        "#### 16진수(Hexadecimal)\n",
        "\n",
        "* 16진수은 앞에 `0x`를 붙여서 표현\n",
        "* 변수 `h`에 16진수 표현으로 `0xABC`를 넣고 확인하기\n",
        "* 16진수는 10진수와 달리 10부터 A에서 F까지 알파벳을 사용하여 표현: $ A_{(16)} = 10_{(10)}, B_{(16)} = 11_{(10)}, C_{(16)} = 12_{(10)}, D_{(16)} = 13_{(10)}, E_{(16)} = 14_{(10)}, F_{(16)} = 15_{(10)} $\n",
        "* 16진수 ABC가 10진수로 변환되는 계산: $ ABC_{(16)} = A \\times 16^2 + B \\times 16^1 + C \\times 16^0 = 2748_{(10)} $"
      ]
    },
    {
      "cell_type": "code",
      "metadata": {
        "id": "t6AMAPRLYVHG",
        "colab": {
          "base_uri": "https://localhost:8080/"
        },
        "outputId": "1dda0e8e-98d2-46bb-c07a-d4ec28fa664f"
      },
      "source": [
        "h = 0xABC\n",
        "print(h)\n",
        "print(type(h))"
      ],
      "execution_count": null,
      "outputs": [
        {
          "output_type": "stream",
          "name": "stdout",
          "text": [
            "2748\n",
            "<class 'int'>\n"
          ]
        }
      ]
    },
    {
      "cell_type": "code",
      "source": [
        "h = \"test\"\n",
        "print(type(h))"
      ],
      "metadata": {
        "colab": {
          "base_uri": "https://localhost:8080/"
        },
        "id": "WTcpDURukDj-",
        "outputId": "66a00eca-1774-4cb8-ec62-2fc21628cd03"
      },
      "execution_count": null,
      "outputs": [
        {
          "output_type": "stream",
          "name": "stdout",
          "text": [
            "<class 'str'>\n"
          ]
        }
      ]
    },
    {
      "cell_type": "markdown",
      "metadata": {
        "id": "ExS5VLXYgC0K"
      },
      "source": [
        "### 실수형 자료형(Floating-Point Type)\n",
        "\n",
        "* 실수형 자료형 표현은 고정소수점과 부동소수점으로 구분"
      ]
    },
    {
      "cell_type": "markdown",
      "metadata": {
        "id": "o9wEy__Akh68"
      },
      "source": [
        "#### 고정소수점(Fixed-Point)\n",
        "\n",
        "* 기본적으로 고정된 자리수의 소수를 사용하는 고정소수점 방식\n",
        "* 실수형 변수 `f`에 소수점이 포함된 `12.34` 값을 넣고 확인하기\n",
        "* `type(f)`를 통해서 결과를 확인해보면 실수형(float) 자료형으로 출력\n",
        "* 파이썬에서는 소수에서 정수부가 0인 경우에는 제외해서 표현 가능\n",
        "* 코드에서 값 `.123`은 `0.123`을 의미"
      ]
    },
    {
      "cell_type": "code",
      "metadata": {
        "id": "zRx3Lg_soF-d",
        "colab": {
          "base_uri": "https://localhost:8080/"
        },
        "outputId": "d7c66df5-9a5a-4a5b-9401-f187c5b19182"
      },
      "source": [
        "f = 12.34\n",
        "print(f)\n",
        "print(type(f))"
      ],
      "execution_count": null,
      "outputs": [
        {
          "output_type": "stream",
          "name": "stdout",
          "text": [
            "12.34\n",
            "<class 'float'>\n"
          ]
        }
      ]
    },
    {
      "cell_type": "code",
      "metadata": {
        "id": "YLdTH0EtgupN",
        "colab": {
          "base_uri": "https://localhost:8080/"
        },
        "outputId": "1c101bd0-7276-44b6-d9a5-e3ae1fcad385"
      },
      "source": [
        "f = .123\n",
        "print(f)"
      ],
      "execution_count": null,
      "outputs": [
        {
          "output_type": "stream",
          "name": "stdout",
          "text": [
            "0.123\n"
          ]
        }
      ]
    },
    {
      "cell_type": "markdown",
      "metadata": {
        "id": "NSsefZL8hx83"
      },
      "source": [
        "#### 부동소수점(Floating-Point)\n",
        "\n",
        "* 컴퓨터에서 소수점의 위치가 고정되지 않고 넓은 범위의 값을 근사하여 표현하는 부동소수점 방식이 있음\n",
        "* 부동소수점에 대한 개념을 모르는 경우에는 [링크](https://ko.wikipedia.org/wiki/%EB%B6%80%EB%8F%99%EC%86%8C%EC%88%98%EC%A0%90)를 참고\n",
        "* 파이썬에서는 e 기호를 이용하여 지수에 대한 표현을 사용\n",
        "* `e` 변수에 할당한 `1234e-2` 라는 표현은 $1234 \\times 10^{-2}$를 의미하고 실제 결과 값은 12.34\n",
        "* `type(e)` 함수를 통해 타입을 확인해보면 실수형\n",
        "* 마찬가지로 `123e-3`은 $123 \\times 10^{-3}$를 의미하며 결과는 0.123"
      ]
    },
    {
      "cell_type": "code",
      "metadata": {
        "id": "VflCID3tgVrO",
        "colab": {
          "base_uri": "https://localhost:8080/"
        },
        "outputId": "c8f58cdb-1ffb-474b-f87b-86dab9e8087f"
      },
      "source": [
        "e = 1234e-2\n",
        "print(e)\n",
        "print(type(e))"
      ],
      "execution_count": null,
      "outputs": [
        {
          "output_type": "stream",
          "name": "stdout",
          "text": [
            "12.34\n",
            "<class 'float'>\n"
          ]
        }
      ]
    },
    {
      "cell_type": "code",
      "metadata": {
        "id": "CmJN7I6EgVxT",
        "colab": {
          "base_uri": "https://localhost:8080/"
        },
        "outputId": "b2ee2d4a-d847-43f0-c8d8-642c7067b2c8"
      },
      "source": [
        "e = 123e-3\n",
        "print(e)"
      ],
      "execution_count": null,
      "outputs": [
        {
          "output_type": "stream",
          "name": "stdout",
          "text": [
            "0.123\n"
          ]
        }
      ]
    },
    {
      "cell_type": "markdown",
      "metadata": {
        "id": "-KDyVNOYErfS"
      },
      "source": [
        "### 문자열 자료형(String Type)\n",
        "\n",
        "* 문자열(string)은 문자들의 집합을 의미\n",
        "* 문자열을 저장하는 변수를 문자열 변수라고 함"
      ]
    },
    {
      "cell_type": "code",
      "metadata": {
        "id": "vMbIM94dEq85",
        "colab": {
          "base_uri": "https://localhost:8080/"
        },
        "outputId": "09b12edd-bb7c-418c-fc39-cae297af7d3f"
      },
      "source": [
        "string = \"Suan\"\n",
        "print(string)\n",
        "print(type(string))"
      ],
      "execution_count": null,
      "outputs": [
        {
          "output_type": "stream",
          "name": "stdout",
          "text": [
            "Suan\n",
            "<class 'str'>\n"
          ]
        }
      ]
    },
    {
      "cell_type": "markdown",
      "metadata": {
        "id": "mCkLTLt_GkqB"
      },
      "source": [
        "### 리스트 자료형(List Type)\n",
        "\n",
        "* 리스트(list)는 여러 값을 하나의 변수에 담을 수 있는 자료형\n",
        "* 대괄호 안에 여러 값을 쉽표를 구분자로 표현하여 리스트 변수 생성\n",
        "* 간단하게 리스트 생성과 출력을 위해 변수 `l` 안에 값 1, 2, 3을 넣어보자\n",
        "* 자료형을 출력해보면 'list'라는 결과 값을 가지는 것을 알 수 있음"
      ]
    },
    {
      "cell_type": "code",
      "metadata": {
        "id": "Y_KxRefG_AlV",
        "colab": {
          "base_uri": "https://localhost:8080/"
        },
        "outputId": "ce947af3-4972-4964-8710-7f61ddccf50f"
      },
      "source": [
        "l = [1, 2, 3]\n",
        "print(l)\n",
        "print(type(l))"
      ],
      "execution_count": null,
      "outputs": [
        {
          "output_type": "stream",
          "name": "stdout",
          "text": [
            "[1, 2, 3]\n",
            "<class 'list'>\n"
          ]
        }
      ]
    },
    {
      "cell_type": "markdown",
      "metadata": {
        "id": "YyMEboAsJA_f"
      },
      "source": [
        "* 리스트 자료형은 같은 자료형이 아니라 다른 자료형을 가지는 값들도 포함하여 구성 가능\n",
        "* 숫자와 문자열이 포함된 리스트 변수 사용하기"
      ]
    },
    {
      "cell_type": "code",
      "metadata": {
        "id": "_RxMxJkRILKq",
        "colab": {
          "base_uri": "https://localhost:8080/"
        },
        "outputId": "582f4806-0520-4005-ba45-7cfaf822f3d7"
      },
      "source": [
        "l = [1, 'One', 2, 'Two', 3, 'Three']\n",
        "print(l)\n",
        "print(type(l))"
      ],
      "execution_count": null,
      "outputs": [
        {
          "output_type": "stream",
          "name": "stdout",
          "text": [
            "[1, 'One', 2, 'Two', 3, 'Three']\n",
            "<class 'list'>\n"
          ]
        }
      ]
    },
    {
      "cell_type": "markdown",
      "metadata": {
        "id": "NrO0CmiFJTet"
      },
      "source": [
        "### 튜플 자료형(Tuple Type)\n",
        "\n",
        "* 튜플 자료형은 리스트 자료형과 유사하지만 생성, 삭제, 수정이 불가\n",
        "* 튜플은 괄호 안에 여러 값을 쉼표로 구분하여 사용\n",
        "* 변수 `t` 안에 값 1, 2, 3을 저장하고, 변수와 변수의 타입을 출력하기"
      ]
    },
    {
      "cell_type": "code",
      "metadata": {
        "id": "_Wm3Q7k_JPaX",
        "colab": {
          "base_uri": "https://localhost:8080/"
        },
        "outputId": "0534bd30-d463-4b37-dba0-a7a783de245c"
      },
      "source": [
        "t = (1, 2, 3)\n",
        "print(t)\n",
        "print(type(t))"
      ],
      "execution_count": null,
      "outputs": [
        {
          "output_type": "stream",
          "name": "stdout",
          "text": [
            "(1, 2, 3)\n",
            "<class 'tuple'>\n"
          ]
        }
      ]
    },
    {
      "cell_type": "markdown",
      "metadata": {
        "id": "xQJGvN1CVGST"
      },
      "source": [
        "### 범위 자료형(Range Type)\n",
        "\n",
        "* 불변한 숫자 시퀀스 자료형"
      ]
    },
    {
      "cell_type": "code",
      "metadata": {
        "id": "efGjqZz7VGqz",
        "colab": {
          "base_uri": "https://localhost:8080/"
        },
        "outputId": "b0a5bf0f-081c-404a-e1e7-3e08d5fc1f51"
      },
      "source": [
        "r = range(10)\n",
        "print(r)\n",
        "print(type(r))"
      ],
      "execution_count": null,
      "outputs": [
        {
          "output_type": "stream",
          "name": "stdout",
          "text": [
            "range(0, 10)\n",
            "<class 'range'>\n"
          ]
        }
      ]
    },
    {
      "cell_type": "markdown",
      "metadata": {
        "id": "cjPLDAii4Oj7"
      },
      "source": [
        "### 집합 자료형(Set Type)\n",
        "\n",
        "* 집합 자료형은 중복과 순서가 없다는 특징을 가지며 집합 처리를 쉽게할 수 있음\n",
        "* 집합은 중괄호를 이용해서 값을 쉼표로 구분하여 넣음\n",
        "* 변수 `s` 안에 값 2, 3, 1을 넣고 변수 `s`의 값과 타입을 출력한 예제\n",
        "* 변경 불가능한 집합 자료형으로 fronzenset이 있음"
      ]
    },
    {
      "cell_type": "code",
      "metadata": {
        "id": "ZvEn8hlvKDaE",
        "colab": {
          "base_uri": "https://localhost:8080/"
        },
        "outputId": "441e8160-5fec-422c-c5f0-0d106507917c"
      },
      "source": [
        "s = {2, 3, 1}\n",
        "print(s)\n",
        "print(type(s))\n",
        "\n",
        "fs = frozenset(s)\n",
        "print(fs)\n",
        "print(type(fs))"
      ],
      "execution_count": null,
      "outputs": [
        {
          "output_type": "stream",
          "name": "stdout",
          "text": [
            "{1, 2, 3}\n",
            "<class 'set'>\n",
            "frozenset({1, 2, 3})\n",
            "<class 'frozenset'>\n"
          ]
        }
      ]
    },
    {
      "cell_type": "markdown",
      "metadata": {
        "id": "9O8GBpoTa1HO"
      },
      "source": [
        "### 딕셔너리 자료형(Dictionary Type)\n",
        "\n",
        "* 딕셔너리 자료형은 다른 자료형과 달리 키(key)와 값(value)를 한 쌍으로 갖는 자료형\n",
        "* 변수 `d`에 키와 값을 구분자 `:`를 이용해서 쌍으로 묶어서 `1: 'One', 2: 'Two'` 형태로 넣을 수 있음"
      ]
    },
    {
      "cell_type": "code",
      "metadata": {
        "id": "9R-eJj_ja1oD",
        "colab": {
          "base_uri": "https://localhost:8080/"
        },
        "outputId": "ffbab1a4-6757-4755-e8a2-ca2715f827c2"
      },
      "source": [
        "d = {1: 'One', 2: 'Two'}\n",
        "print(d)\n",
        "print(type(d))"
      ],
      "execution_count": null,
      "outputs": [
        {
          "output_type": "stream",
          "name": "stdout",
          "text": [
            "{1: 'One', 2: 'Two'}\n",
            "<class 'dict'>\n"
          ]
        }
      ]
    },
    {
      "cell_type": "markdown",
      "metadata": {
        "id": "RsSgmmjFXFAS"
      },
      "source": [
        "## 자료형 변환\n",
        "\n",
        "* 파이썬에는 유용한 자료형을 제공하며, 자료형들간의 변환이 가능\n",
        "* 자료형 변환에 사용되는 내장 함수(Built-in Function) 모음\n",
        "\n",
        "| 함수 | 설명 |\n",
        "| -- | --- |\n",
        "| `book([x])` | x를 불리언형으로 변환 |\n",
        "| `int(x[,base])` | x를 정수로 변환, x가 문자열일 경우 base 지정 |\n",
        "| `float(x)` | x를 실수형(부동소수점 숫자)로 변환 |\n",
        "| `complex(real, [,imag])` | 복소수 생성 |\n",
        "| `str(x)` | 객체 x를 문자열 표현으로 변환 |\n",
        "| `repr(x)` | 객체 x를 표현식 문자열로 변환 |\n",
        "| `eval(str)` | 문자열을 평가하고 객체를 반환 |\n",
        "| `tuple(s)` | s를 튜플로 변환 |\n",
        "| `list(s)` | s를 리스트로 변환 |\n",
        "| `set(s)` | s를 집합으로 변환 |\n",
        "| `dict(d)` | 딕셔너리 생성, d는 (키 값) 튜플의 시퀀스이여야 함 |\n",
        "| `frozenset(s)` | s를 고정 집합으로 변환 |\n",
        "| `chr(x)` | 정수를 문자로 변환 |\n",
        "| `ord(x)` | 단일 문자를 정수 값으로 변환 |\n",
        "| `bin(x)` | 정수를 2진수 문자열로 변환 |\n",
        "| `oct(x)` | 정수를 8진수 문자열로 변환 |\n",
        "| `hex(x)` | 정수를 16진수 문자열로 변환 |\n",
        "| `bytes(x)` | 자료형을 바이트형으로 변환 |\n",
        "| `bytearray(x)` | 자료형을 변경가능한 바이트형으로 변환 |\n",
        "| `memoryview(x)` | 바이트 자료형을 메모리의 이진 데이터로 변환 |"
      ]
    },
    {
      "cell_type": "markdown",
      "metadata": {
        "id": "TUtif65eQ4kN"
      },
      "source": [
        "## 자료형 계산\n",
        "\n",
        "* 자료형들간의 계산이 가능하도록 몇 가지 유용한 내장 함수(Built-in Function) 제공\n",
        "\n",
        "| 함수 | 설명 |\n",
        "| -- | --- |\n",
        "| `min(iterable)` | 두개 이상의 값에서 가장 작은 값을 반환 |\n",
        "| `max(iterable)` | 두개 이상의 값에서 가장 큰 값을 반환 |\n",
        "| `sum(iterable)` | 값들의 합을 반환 |\n",
        "| `divmod(a, b)` | `a`를 `b`로 나눈 값과 나머지를 쌍으로 반환 |\n",
        "| `abs(x)` | `x`의 절대값을 반환 |\n",
        "| `pow(a, b)` | `a`의 `b`승의 값을 반환 |\n",
        "| `len(s)` | 시퀀스(문자열, 바이트, 튜플, 리스트 등)의 갯수를 반환 |\n",
        "| `round(x)` | 소수점 뒤를 반올림한 값을 반환 |\n",
        "| `all(iterable)` | 모든 값이 `True` 이거나 비어있을 때 `True` 반환 |\n",
        "| `any(iterable)` | 어떤 값이 `True` 이면 `True` 반환, 값이 비어있을 때 `False` 반환 |"
      ]
    },
    {
      "cell_type": "markdown",
      "metadata": {
        "id": "D_yWm1gBEo4p"
      },
      "source": [
        "\n",
        "\n",
        "---\n",
        "\n"
      ]
    },
    {
      "cell_type": "markdown",
      "metadata": {
        "id": "mypjHsFSEtLz"
      },
      "source": [
        "# 연산자(Operators)\n",
        "\n",
        "* 피연산자의 계산을 위해 다양한 연산자들이 존재\n",
        "* 파이썬에서 제공하는 연산자들의 종류\n",
        "  + 산술 연산자(Arithmetic Operators)\n",
        "  + 비교 연산자(Comparison Operators)\n",
        "  + 할당 연산자(Assignment Operators)\n",
        "  + 비트 연산자(Bitwise Operators)\n",
        "  + 논리 연산자(Logical Operators)\n",
        "  + 멤버 연산자(Membership Operators)\n",
        "  + 식별 연산자(Identity Operators)\n"
      ]
    },
    {
      "cell_type": "markdown",
      "metadata": {
        "id": "5vw1RQEmFpTn"
      },
      "source": [
        "## 산술 연산자(Arithmetic Operators)\n",
        "\n",
        "| 연산자 | 설명 | 예제 |\n",
        "| --- | --- | --- |\n",
        "| + | 덧셈 | `c = a + b` |\n",
        "| - | 뺄셈 | `c = a - b` |\n",
        "| * | 곱셈 | `c = a * b` |\n",
        "| / | 나눗셈 | `c = a / b` |\n",
        "| % | 나머지 | `c = a % b` |\n",
        "| ** | 제곱 | `c = a ** b` |\n",
        "| // | 몫 | `c = a // b` |\n"
      ]
    },
    {
      "cell_type": "code",
      "metadata": {
        "id": "iaozGCpH-Sze",
        "colab": {
          "base_uri": "https://localhost:8080/"
        },
        "outputId": "c2a55a5f-53ed-426d-af5e-3f16a76a63f6"
      },
      "source": [
        "a = 6\n",
        "b = 4\n",
        "print(a + b)\n",
        "print(a - b)\n",
        "print(a * b)\n",
        "print(a / b)\n",
        "print(a % b)\n",
        "print(a ** b)\n",
        "print(a // b)"
      ],
      "execution_count": null,
      "outputs": [
        {
          "output_type": "stream",
          "name": "stdout",
          "text": [
            "10\n",
            "2\n",
            "24\n",
            "1.5\n",
            "2\n",
            "1296\n",
            "1\n"
          ]
        }
      ]
    },
    {
      "cell_type": "markdown",
      "metadata": {
        "id": "BbNJjYvkSzyQ"
      },
      "source": [
        "## 비교 연산자(Comparison Operators)\n",
        "\n",
        "| 연산자 | 설명 | 예제 |\n",
        "| --- | --- | --- |\n",
        "| == | 두 피연산자의 값이 동일하면 True | `a == b` |\n",
        "| != | 두 피연산자의 값이 다르면 True | `a != b` |\n",
        "| > | 왼쪽 피연산자가 오른쪽 피연산자보다 크면 True | `a > b` |\n",
        "| < | 왼쪽 피연산자가 오른쪽 피연산자보다 작으면 True | `a < b` |\n",
        "| >= | 왼쪽 피연산자가 오른쪽 피연산자보다 크거나 같으면 True | `a >= b` |\n",
        "| <= | 왼쪽 피연산자가 오른쪽 피연산자보다 작거나 같으면 True | `a <= b` |\n"
      ]
    },
    {
      "cell_type": "code",
      "metadata": {
        "id": "EZELCQFgPmgI",
        "colab": {
          "base_uri": "https://localhost:8080/"
        },
        "outputId": "1ee1672c-54dd-464c-b9e0-8050b161562c"
      },
      "source": [
        "a, b = 6, 4\n",
        "print(a == b)\n",
        "print(a != b)\n",
        "print(a > b)\n",
        "print(a < b)\n",
        "print(a >= b)\n",
        "print(a <= b)"
      ],
      "execution_count": null,
      "outputs": [
        {
          "output_type": "stream",
          "name": "stdout",
          "text": [
            "False\n",
            "True\n",
            "True\n",
            "False\n",
            "True\n",
            "False\n"
          ]
        }
      ]
    },
    {
      "cell_type": "markdown",
      "metadata": {
        "id": "aKigU9vxWMPE"
      },
      "source": [
        "## 할당 연산자(Assignment Operators)\n",
        "\n",
        "| 연산자 | 설명 | 예제 |\n",
        "| --- | --- | --- |\n",
        "| = | 오른쪽 피연산자의 값을 왼쪽 피연산자에 할당 | `a, b = 20, 12` |\n",
        "| += | 왼쪽 피연산자의 값을 오른쪽 피연산자에 더하고 그 결과를 왼쪽 피연산자에 대입 | `a += b` |\n",
        "| -= | 왼쪽 피연산자의 값을 오른쪽 피연산자에 더하고 그 결과를 왼쪽 피연산자에 대입 | `a -= b` |\n",
        "| *= | 왼쪽 피연산자의 값을 오른쪽 피연산자에 곱하고 그 결과를 왼쪽 피연산자에 대입 | `a *= b` |\n",
        "| /= | 왼쪽 피연산자의 값을 오른쪽 피연산자에 나누고 그 결과를 왼쪽 피연산자에 대입 | `a /= b` |\n",
        "| %= | 왼쪽 피연산자의 값을 오른쪽 피연산자에 나눈 나머지 값을 왼쪽 피연산자에 대입 | `a %= b` |\n",
        "| **= | 왼쪽 피연산자의 값을 오른쪽 피연산자에 제곱한값을 왼쪽 피연산자에 대입 | `a **= b` |\n",
        "| //= | 왼쪽 피연산자의 값을 오른쪽 피연산자에 나눈 몫을 왼쪽 피연산자에 대입 | `a //= b` |\n"
      ]
    },
    {
      "cell_type": "code",
      "metadata": {
        "id": "8kQmBvcgVZag",
        "colab": {
          "base_uri": "https://localhost:8080/"
        },
        "outputId": "c9729477-4037-4e09-e3b2-568d5107218f"
      },
      "source": [
        "a, b = 6, 4\n",
        "a += b\n",
        "print(a)\n",
        "a -= b\n",
        "print(a)\n",
        "a *= b\n",
        "print(a)\n",
        "a /= b\n",
        "print(a)\n",
        "a %= b\n",
        "print(a)\n",
        "a **= b\n",
        "print(a)\n",
        "a //= b\n",
        "print(a)"
      ],
      "execution_count": null,
      "outputs": [
        {
          "output_type": "stream",
          "name": "stdout",
          "text": [
            "10\n",
            "6\n",
            "24\n",
            "6.0\n",
            "2.0\n",
            "16.0\n",
            "4.0\n"
          ]
        }
      ]
    },
    {
      "cell_type": "markdown",
      "metadata": {
        "id": "fEbvvt68ZEkR"
      },
      "source": [
        "## 비트 연산자(Bitwise Operators)\n",
        "\n",
        "| 연산자 | 설명 | 예제 |\n",
        "| --- | --- | --- |\n",
        "| & | 두 피연산자의 비트를 AND 연산 | `a & b` |\n",
        "| \\| | 두 피연산자의 비트를 OR 연산 | `a \\| b` |\n",
        "| ^ | 두 피연산자의 비트를 XOR 연산 | `a ^ b` |\n",
        "| ~ | 피연산자의 비트를 NOT 연산 | `a ~ b` |\n",
        "| << | 왼쪽 피연산자의 비트를 오른쪽 피연산자의 비트만큼 left shift 연산 | `a << b` |\n",
        "| >> | 왼쪽 피연산자의 비트를 오른쪽 피연산자의 비트만큼 right shift 연산 | `a >> b` |"
      ]
    },
    {
      "cell_type": "code",
      "metadata": {
        "id": "p7Py0jU6Xb-Y",
        "colab": {
          "base_uri": "https://localhost:8080/"
        },
        "outputId": "3490e7e0-7300-40e0-a20a-5c3ae05d2037"
      },
      "source": [
        "a, b = 6, 4\n",
        "print(bin(a))\n",
        "print(bin(b))\n",
        "print(a & b, bin(a & b))\n",
        "print(a | b, bin(a | b))\n",
        "print(a ^ b, bin(a ^ b))\n",
        "print(~a, bin(~a))\n",
        "print(a << b, bin(a << b))\n",
        "print(a >> b, bin(a >> b))"
      ],
      "execution_count": null,
      "outputs": [
        {
          "output_type": "stream",
          "name": "stdout",
          "text": [
            "0b110\n",
            "0b100\n",
            "4 0b100\n",
            "6 0b110\n",
            "2 0b10\n",
            "-7 -0b111\n",
            "96 0b1100000\n",
            "0 0b0\n"
          ]
        }
      ]
    },
    {
      "cell_type": "markdown",
      "metadata": {
        "id": "mTlDlBfHb56x"
      },
      "source": [
        "## 논리 연산자(Logical Operators)\n",
        "\n",
        "| 연산자 | 설명 | 예제 |\n",
        "| --- | --- | --- |\n",
        "| and | 두 피연산자가 모두 True이면 True  | `True and True` |\n",
        "| or | 두 피연산자 중 하나라도 True이면 True | `True or False` |\n",
        "| not | 피연산자가 True이면 False, False이면 True | `not False` |"
      ]
    },
    {
      "cell_type": "code",
      "metadata": {
        "id": "h_cAKWdLbRrT",
        "colab": {
          "base_uri": "https://localhost:8080/"
        },
        "outputId": "cd9ff1e6-154f-46e0-a0a2-03d500177f7e"
      },
      "source": [
        "print(True and True)\n",
        "print(True and False)\n",
        "print(True or False)\n",
        "print(not True)\n",
        "print(not False)\n",
        "print(not (True and False))"
      ],
      "execution_count": null,
      "outputs": [
        {
          "output_type": "stream",
          "name": "stdout",
          "text": [
            "True\n",
            "False\n",
            "True\n",
            "False\n",
            "True\n",
            "True\n"
          ]
        }
      ]
    },
    {
      "cell_type": "markdown",
      "metadata": {
        "id": "7YkZ_IM1cqO_"
      },
      "source": [
        "## 멤버 연산자(Membership Operators)\n",
        "\n",
        "| 연산자 | 설명 | 예제 |\n",
        "| --- | --- | --- |\n",
        "| in | 멤버로 포함되어 있으면 True, 포함되어 있지 않으면 False  | `a in l` |\n",
        "| not in | 멤버로 포함되어 있지 않으면 True, 포함되어 있으면 False | `a not in l` |"
      ]
    },
    {
      "cell_type": "code",
      "metadata": {
        "id": "7ZOrVkhMcfUE",
        "colab": {
          "base_uri": "https://localhost:8080/"
        },
        "outputId": "2c4a0acc-11fd-4152-94a8-19216c4b55ba"
      },
      "source": [
        "a, b = 6, 4\n",
        "l = [2, 4, 8]\n",
        "print(a in l)\n",
        "print(b in l)\n",
        "print(a not in l)\n",
        "print(b not in l)"
      ],
      "execution_count": null,
      "outputs": [
        {
          "output_type": "stream",
          "name": "stdout",
          "text": [
            "False\n",
            "True\n",
            "True\n",
            "False\n"
          ]
        }
      ]
    },
    {
      "cell_type": "markdown",
      "metadata": {
        "id": "rolPOjSYdQvA"
      },
      "source": [
        "## 식별 연산자(Identity Operators)\n",
        "\n",
        "| 연산자 | 설명 | 예제 |\n",
        "| --- | --- | --- |\n",
        "| is | 피연산자가 동일한 객체를 가리키면 True, 동일한 객체를 가리키고 있지 않으면 False | `a is b` |\n",
        "| is not | 피연산자가 동일한 객체를 가리키고 있지 않으면 True, 동일한 객체를 가리키면 False | `a is not b` |"
      ]
    },
    {
      "cell_type": "code",
      "metadata": {
        "id": "tZ5C_GI_dChN",
        "colab": {
          "base_uri": "https://localhost:8080/"
        },
        "outputId": "814c0901-7445-4e85-d12e-156204803771"
      },
      "source": [
        "a, b =  6, 4\n",
        "print(a is b)\n",
        "print(a is not b)\n",
        "a, b = 5, 5\n",
        "print(a is b)\n",
        "print(a is not b)"
      ],
      "execution_count": null,
      "outputs": [
        {
          "output_type": "stream",
          "name": "stdout",
          "text": [
            "False\n",
            "True\n",
            "True\n",
            "False\n"
          ]
        }
      ]
    },
    {
      "cell_type": "markdown",
      "metadata": {
        "id": "0DRdkVwJdwGV"
      },
      "source": [
        "## 연산자 우선순위(Operators Precedence)\n",
        "\n",
        "* 여러 연산자들이 사용되면 어떤 연산자들이 우선되는지를 결정하기 위해 연산자의 우선순위가 존재\n",
        "* 연산자 중에서 괄호가 가장 높은 연산 순위를 가지며, 논리 연산자가 가장 낮은 연산 순위를 가짐\n",
        "\n",
        "| 연산자 | 설명 |\n",
        "| --- | --- |\n",
        "| ( ) | 괄호 |\n",
        "| ** | 지수(승수) |\n",
        "| ~, +, - | 보수, 단향 덧셈과 뺄셈 |\n",
        "| *, /, %, // | 곱셈, 나눗셈, 나머지, 몫 |\n",
        "| +, - | 덧셈과 뺄셈 |\n",
        "| >>, << | 좌우 비트 시프트 |\n",
        "| & | 비트 AND |\n",
        "| ^, \\| | 비트 XOR, 비트 OR |\n",
        "| <=, <>, >= | 비교 연산자 |\n",
        "| ==, != | 동등 연산자 |\n",
        "| =, %=, /=, //=, -=, +=, *=, **= | 할당 연산자 |\n",
        "| is, is not | 식별 연산자 |\n",
        "| in, not in | 멤버 연산자 |\n",
        "| not, or, and | 논리 연산자 |"
      ]
    },
    {
      "cell_type": "markdown",
      "metadata": {
        "id": "Fo13P5uUPa1C"
      },
      "source": [
        "# 문자열(String)"
      ]
    },
    {
      "cell_type": "markdown",
      "metadata": {
        "id": "niaQxdZGPa1D"
      },
      "source": [
        "\n",
        "\n",
        "---\n",
        "\n"
      ]
    },
    {
      "cell_type": "markdown",
      "metadata": {
        "id": "blGYYJOTPa1D"
      },
      "source": [
        "## 문자열 정의\n",
        "\n",
        "* 문자, 단어 등으로 구성된 문자들의 집합\n",
        "* 시퀀스 자료형(sequence data type)\n",
        "\n",
        "![3-1 문자열 예제.png](https://drive.google.com/uc?id=1DqcOUzU6FCY17t1dWrS-Y461FWPbVDiR)"
      ]
    },
    {
      "cell_type": "code",
      "metadata": {
        "id": "YLGtw6y5iHPK",
        "colab": {
          "base_uri": "https://localhost:8080/"
        },
        "outputId": "838dd092-4885-4582-9420-c26995a887c8"
      },
      "source": [
        "s = \"String\"\n",
        "print(s)\n",
        "print(s[0])\n",
        "print(s[1])\n",
        "print(s[2])\n",
        "print(s[3])\n",
        "print(s[4])\n",
        "print(s[5])"
      ],
      "execution_count": null,
      "outputs": [
        {
          "output_type": "stream",
          "name": "stdout",
          "text": [
            "String\n",
            "S\n",
            "t\n",
            "r\n",
            "i\n",
            "n\n",
            "g\n"
          ]
        }
      ]
    },
    {
      "cell_type": "code",
      "metadata": {
        "id": "1t41e-64iKjc",
        "colab": {
          "base_uri": "https://localhost:8080/"
        },
        "outputId": "9db1b67f-7a71-485b-f853-54e3629fb0bf"
      },
      "source": [
        "s = \"문자열\"\n",
        "print(s)\n",
        "print(s[0])\n",
        "print(s[1])\n",
        "print(s[2])"
      ],
      "execution_count": null,
      "outputs": [
        {
          "output_type": "stream",
          "name": "stdout",
          "text": [
            "문자열\n",
            "문\n",
            "자\n",
            "열\n"
          ]
        }
      ]
    },
    {
      "cell_type": "markdown",
      "metadata": {
        "id": "aKsMBDZohTu4"
      },
      "source": [
        "## 문자열 생성\n",
        "\n",
        "* 파이썬에서 문자열은 작은따옴표(') 또는 큰 따옴표(\")로 표현\n"
      ]
    },
    {
      "cell_type": "code",
      "metadata": {
        "id": "qLh1E-1_hxR_",
        "colab": {
          "base_uri": "https://localhost:8080/"
        },
        "outputId": "34d34dd8-4b43-4b44-fecb-0107d1c8a528"
      },
      "source": [
        "print('Hello')\n",
        "print(\"파이썬은 재미있다.\")\n",
        "print('''파이썬은 심플하다.''')\n",
        "print(\"\"\"파이썬은 문자열 처리가 뛰어나다\"\"\")"
      ],
      "execution_count": null,
      "outputs": [
        {
          "output_type": "stream",
          "name": "stdout",
          "text": [
            "Hello\n",
            "파이썬은 재미있다.\n",
            "파이썬은 심플하다.\n",
            "파이썬은 문자열 처리가 뛰어나다\n"
          ]
        }
      ]
    },
    {
      "cell_type": "markdown",
      "metadata": {
        "id": "IKC5jvDpoGAT"
      },
      "source": [
        "* 작은 따옴표 3개 또는 큰 따옴표 3개를 이용하여 여러 줄이 있는 문자열 생성"
      ]
    },
    {
      "cell_type": "code",
      "metadata": {
        "id": "pgxgO7QwoDH8",
        "colab": {
          "base_uri": "https://localhost:8080/"
        },
        "outputId": "ba77b09c-292b-40d8-8966-4788206351a9"
      },
      "source": [
        "text = \"\"\"동해물과 백두산이 마르고 닳도록\n",
        "하느님이 보우하사 우리나라 만세.\n",
        "무궁화 삼천리 화려강산\n",
        "대한 사람, 대한으로 길이 보전하세.\"\"\"\n",
        "print(text)"
      ],
      "execution_count": null,
      "outputs": [
        {
          "output_type": "stream",
          "name": "stdout",
          "text": [
            "동해물과 백두산이 마르고 닳도록\n",
            "하느님이 보우하사 우리나라 만세.\n",
            "무궁화 삼천리 화려강산\n",
            "대한 사람, 대한으로 길이 보전하세.\n"
          ]
        }
      ]
    },
    {
      "cell_type": "markdown",
      "metadata": {
        "id": "PzXHy8FxoW5l"
      },
      "source": [
        "\n",
        "\n",
        "---\n",
        "\n"
      ]
    },
    {
      "cell_type": "markdown",
      "metadata": {
        "id": "d38eO6_roX5E"
      },
      "source": [
        "## 문자열 연산(String Operators)"
      ]
    },
    {
      "cell_type": "markdown",
      "metadata": {
        "id": "SP7ztoZhXRV4"
      },
      "source": [
        "### 문자열 더하기\n",
        "\n",
        "+ 연산자를 사용하여 문자열 연결\n"
      ]
    },
    {
      "cell_type": "code",
      "metadata": {
        "id": "ZuecZ1D2oPnq",
        "colab": {
          "base_uri": "https://localhost:8080/"
        },
        "outputId": "978468ac-ef4b-4d1f-daef-f9756bc39af0"
      },
      "source": [
        "s1 = \"동해물과 \"\n",
        "s2 = \"백두산이\"\n",
        "print(s1 + s2)"
      ],
      "execution_count": null,
      "outputs": [
        {
          "output_type": "stream",
          "name": "stdout",
          "text": [
            "동해물과 백두산이\n"
          ]
        }
      ]
    },
    {
      "cell_type": "markdown",
      "metadata": {
        "id": "0CPt-XMbvjWx"
      },
      "source": [
        "### 문자열 곱하기\n",
        "\n",
        "* \\* 연산자를 사용하여 문자열 반복\n"
      ]
    },
    {
      "cell_type": "code",
      "metadata": {
        "id": "tmpi5CMDolHd",
        "colab": {
          "base_uri": "https://localhost:8080/"
        },
        "outputId": "23bcc74d-3975-4d4b-b1e9-cac66fd672ef"
      },
      "source": [
        "s = \"String \"\n",
        "print(s * 3)"
      ],
      "execution_count": null,
      "outputs": [
        {
          "output_type": "stream",
          "name": "stdout",
          "text": [
            "String String String \n"
          ]
        }
      ]
    },
    {
      "cell_type": "markdown",
      "metadata": {
        "id": "pjKywfKlvvp5"
      },
      "source": [
        "### 문자열 길이(length)\n",
        "\n",
        "* 문자열 길이를 구하는 `len()` 함수"
      ]
    },
    {
      "cell_type": "code",
      "metadata": {
        "id": "vKff0qQdvtqh",
        "colab": {
          "base_uri": "https://localhost:8080/"
        },
        "outputId": "e0c023a9-a92c-44cb-d59a-ce5baeec9d6a"
      },
      "source": [
        "s = \"String \"\n",
        "print(len(s))\n",
        "print(len(s * 3))"
      ],
      "execution_count": null,
      "outputs": [
        {
          "output_type": "stream",
          "name": "stdout",
          "text": [
            "7\n",
            "21\n"
          ]
        }
      ]
    },
    {
      "cell_type": "markdown",
      "metadata": {
        "id": "QaeVCcgnv_lD"
      },
      "source": [
        "### 문자열 인덱싱(indexing)\n",
        "\n",
        "* 문자열은 리스트처럼 문자 하나하나가 상대적인 주소(offset)를 가짐\n",
        "* 이 주소를 사용해 할당된 값을 가져오는 인덱싱을 사용\n",
        "\n",
        "![3-2 문자열 인덱싱 예제.png](https://drive.google.com/uc?id=1Bzoali0rLyGAW_UslZz79t7ehSF0yzW7)"
      ]
    },
    {
      "cell_type": "code",
      "metadata": {
        "id": "yuYQOYe3v5iF",
        "colab": {
          "base_uri": "https://localhost:8080/"
        },
        "outputId": "f560105c-c530-4640-a102-96c16660ca50"
      },
      "source": [
        "s = \"String\"\n",
        "print(s)\n",
        "print(s[-6])\n",
        "print(s[-5])\n",
        "print(s[-4])\n",
        "print(s[-3])\n",
        "print(s[-2])\n",
        "print(s[-1])"
      ],
      "execution_count": null,
      "outputs": [
        {
          "output_type": "stream",
          "name": "stdout",
          "text": [
            "String\n",
            "S\n",
            "t\n",
            "r\n",
            "i\n",
            "n\n",
            "g\n"
          ]
        }
      ]
    },
    {
      "cell_type": "markdown",
      "metadata": {
        "id": "zcTUuycAw7np"
      },
      "source": [
        "### 문자열 슬라이싱(slicing)\n",
        "\n",
        "* 문자열의 주소를 이용하여 문자열을 조각(부분)을 추출"
      ]
    },
    {
      "cell_type": "code",
      "metadata": {
        "id": "JJUbjwcgw6PG",
        "colab": {
          "base_uri": "https://localhost:8080/"
        },
        "outputId": "fe6a8eb8-89e6-42d1-a8f6-700efbaacc58"
      },
      "source": [
        "s = \"SuanLab - Suan Computer Laboratory\"\n",
        "print(s)\n",
        "print(s[0:7])\n",
        "print(s[:7])\n",
        "print(s[10:])\n",
        "print(s[-10:])\n",
        "print(s[-19:-11])"
      ],
      "execution_count": null,
      "outputs": [
        {
          "output_type": "stream",
          "name": "stdout",
          "text": [
            "SuanLab - Suan Computer Laboratory\n",
            "SuanLab\n",
            "SuanLab\n",
            "Suan Computer Laboratory\n",
            "Laboratory\n",
            "Computer\n"
          ]
        }
      ]
    },
    {
      "cell_type": "code",
      "source": [
        "s = \"아무말이나 시작하고 일단 테스트를 해보겠습니다\"\n",
        "print(s[11])\n",
        "print(s[15:20])\n",
        "start = 6\n",
        "step = 3\n",
        "print(s[start:start+step])"
      ],
      "metadata": {
        "colab": {
          "base_uri": "https://localhost:8080/"
        },
        "id": "BncxAKmztnZV",
        "outputId": "c3faf1a6-8434-4471-a89a-fa8fbb7439f8"
      },
      "execution_count": null,
      "outputs": [
        {
          "output_type": "stream",
          "name": "stdout",
          "text": [
            "일\n",
            "스트를 해\n",
            "시작하\n"
          ]
        }
      ]
    },
    {
      "cell_type": "markdown",
      "metadata": {
        "id": "ZYyzer0TxVll"
      },
      "source": [
        "## 문자열 메소드(String Methods)\n",
        "\n",
        "* 파이썬은 문자열 처리를 아주 쉽게 처리할 수 있는 많은 메소드들을 제공\n",
        "* 문자열을 다루는 주요 메소드들을 표로 정리\n",
        "\n",
        "| 함수 | 설명 |\n",
        "| --- | --- |\n",
        "| `capitalize()` | 첫 문자를 대문자로하고, 나머지 문자를 소문자로 하는 문자열 반환 |\n",
        "| `casefold()` | 모든 대소문자 구분을 제거 |\n",
        "| `count(sub, [, start[, end]])` | [start, end] 범위에서 부분 문자열 sub의 중복되지 않은 수를 반환 |\n",
        "| `find(sub [, start [, end]])` | [start, end]에서 부분 문자열 sub가 문자열의 가장 작은 인덱스를 반환. sub가 발견되지 않는 경우는 -1 반환 |\n",
        "| `rfind(sub [, start [, end]])` | [start, end]에서 부분 문자열 sub가 문자열의 가장 작은 큰 인덱스를 반환. sub가 발견되지 않는 경우는 -1 반환 |\n",
        "| `index(sub [, start [, end]])` | find()과 유사하지만 부분 문자열 sub가 없으면 ValueError 발생 |\n",
        "| `rindex(sub [, start [, end]])` | rfind()과 유사하지만 부분 문자열 sub가 없으면 ValueError 발생 |\n",
        "| `isalnum()` | 문자열의 모든 문자가 영숫자로 1개 이상 있으면 True, 아니면 False 반환 |\n",
        "| `isalpha()` | 문자열의 모든 문자가 영문자로 1개 이상 있으면 True, 아니면 False 반환 |\n",
        "| `isdecimal()` | 문자열의 모든 문자가 10진수 문자이며 1개 이상 있을 때 True, 그렇지 않으면 False 반환 |\n",
        "| `isdigit()` | 문자열의 모든 문자가 숫자이며 1개 이상 있을 때 True, 그렇지 않으면 False 반환 |\n",
        "| `isnumeric()` | 문자열의 모든 문자가 수치형이며 1개 이상 있을 때 True, 그렇지 않으면 False 반환 |\n",
        "| `isidentifier()` | 문자열이 유효한 식별자인 경우 True 반환 |\n",
        "| `isspace()` | 문자열 내에 공백 문자가 있고, 문자가 1개 이상 있으면 True, 그렇지 않으면 False |\n",
        "| `istitle()` | 문자열이 제목이 있는 문자열에 문자가 1개 이상 있으면 True, 그렇지 않으면 False |\n",
        "| `islower()` | 문자열의 모든 문자가 소문자이며 1개 이상 있을 때 True, 그렇지 않으면 False 반환 |\n",
        "| `isupper()` | 문자열의 문자가 모두 대문자에 문자가 1개 이상 있으면 True, 그렇지 않으면 False |\n",
        "| `join(iterable)` | iterable에 있는 문자열에 연결된 문자열을 반환 |\n",
        "| `center(width [, fillchar])` | 길이 너비만큼 중앙정렬된 문자열 반환 |\n",
        "| `ljust(width [, fillchar])` | 너미만큼의 문자열에서 왼쪽 정렬된 문자열을 반환 |\n",
        "| `rjust(width [, fillchar])` | 너미만큼의 문자열에서 오른쪽 정렬된 문자열을 반환 |\n",
        "| `lower()` | 모든 대소문자가 소문자로 변환된 문자열을 반환 |\n",
        "| `upper()` | 문자열에서 모든 문자를 대문자로 변환한 문자열을 반환 |\n",
        "| `title()` | 문자열에서 첫 글자만 대문자이고 나머지는 소문자인 문자열 반환 |\n",
        "| `swapcase()` | 문자열에서 소문자를 대문자로 대문자를 소문자로 변환한 문자열 반환 |\n",
        "| `strip([chars])` | 문자열 양쪽에 지정된 chars 또는 공백을 제거한 문자열을 반환 |\n",
        "| `lstrip([chars])` | 문자열 왼쪽에 지정된 chars 또는 공백을 제거한 문자열을 반환 |\n",
        "| `rstrip([chars])` | 문자열 오른쪽에 지정된 chars 또는 공백을 제거한 문자열을 반환 |\n",
        "| `partition(sep)` | 문자열에서 첫번째 sep를 기준으로 분할하여 3개의 튜플을 반환 |\n",
        "| `rpartition(sep)` | 문자열에서 마지막 sep를 기준으로 분할하여 3개의 튜플을 반환 |\n",
        "| `replace(old, new[,count])` | 문자열의 모든 old를 new로 교체한 문자열을 반환 |\n",
        "| `split(sep=None, maxsplit=1)` | sep를 구분자 문자열로 사용하여 문자열의 단어 목록을 반환 |\n",
        "| `rsplit(sep=None, maxsplit=1)` | sep를 구분자 문자열로 사용하여 문자열의 단어 목록을 반환 |\n",
        "| `splitlines([keepends])` | 문자열에서 라인 단위로 구분하여 리스트를 반환 |\n",
        "| `startswith(prefix [, start[, end]])` | [start, end] 범위에서 지정한 prefix로 시작하면 True, 아니면 False 반환 |\n",
        "| `endswith(suffix [, start[, end]])` | [start, end] 범위에서 지정한 suffix로 끝나면 True, 아니면 False 반환 |\n",
        "| `zfill(width)` | 너비 만큼의 문자열에서 비어있는 부분에 ‘0’이 채워진 문자열 반환 |"
      ]
    },
    {
      "cell_type": "markdown",
      "metadata": {
        "id": "yjsh7OcA8fIu"
      },
      "source": [
        "\n",
        "\n",
        "---\n",
        "\n"
      ]
    },
    {
      "cell_type": "markdown",
      "source": [
        "split과 rsplit의 차이점 요약  \n",
        "<br>\n",
        "split(): 문자열의 왼쪽부터 시작하여 나눕니다.  \n",
        "rsplit(): 문자열의 오른쪽부터 시작하여 나눕니다."
      ],
      "metadata": {
        "id": "h55OdW2hxAgQ"
      }
    },
    {
      "cell_type": "markdown",
      "metadata": {
        "id": "jQ_5mUX2PjGB"
      },
      "source": [
        "# 리스트, 튜플, 세트, 딕셔너리"
      ]
    },
    {
      "cell_type": "markdown",
      "metadata": {
        "id": "_co8DYdpPjGC"
      },
      "source": [
        "\n",
        "\n",
        "---\n",
        "\n"
      ]
    },
    {
      "cell_type": "markdown",
      "metadata": {
        "id": "7WObaAtfPjGD"
      },
      "source": [
        "## 리스트(List)\n",
        "\n",
        "* 변경 가능한 시퀀스 자료형\n",
        "* 하나의 변수에 여러 값 할당 가능\n",
        "* 같은 자료형이 아니라 다른 자료형을 가지는 값들을 포함 가능\n",
        "* 일반적으로 비슷한 항목들의 모음을 순서대로 저장하는데 사용\n",
        "\n",
        "![4-1 리스트 예제.png](https://drive.google.com/uc?id=1VWLGQHpq1dBjh6MYAFDoB3SP4HGClhMV)\n",
        "\n"
      ]
    },
    {
      "cell_type": "code",
      "metadata": {
        "colab": {
          "base_uri": "https://localhost:8080/"
        },
        "outputId": "302e3312-3444-4be1-ebf4-47ba5a432e73",
        "id": "fAwa8gTkPjGE"
      },
      "source": [
        "print([])\n",
        "print([1, 2, 3])\n",
        "print(['One', 'Two', 'Three'])\n",
        "print([1, 'One', 2, 'Two', 3, 'Three'])\n",
        "print([1, 2, 3, ['One', 'Two', 'Three']])"
      ],
      "execution_count": null,
      "outputs": [
        {
          "output_type": "stream",
          "name": "stdout",
          "text": [
            "[]\n",
            "[1, 2, 3]\n",
            "['One', 'Two', 'Three']\n",
            "[1, 'One', 2, 'Two', 3, 'Three']\n",
            "[1, 2, 3, ['One', 'Two', 'Three']]\n"
          ]
        }
      ]
    },
    {
      "cell_type": "markdown",
      "metadata": {
        "id": "YApkWxX_Yo7K"
      },
      "source": [
        "### 리스트 인덱싱(List Indexing)\n",
        "\n",
        "* 리스트의 각 위치에 해당하는 값에 접근하기 위해서 주소 개념의 숫자를 사용\n",
        "\n",
        "![4-2 리스트 인덱싱 예제.png](https://drive.google.com/uc?id=1bNlXUlSx3GSv3lDPKmn0tzk6vBxKR1n5)"
      ]
    },
    {
      "cell_type": "code",
      "metadata": {
        "id": "DapQSgP4ZEM_",
        "colab": {
          "base_uri": "https://localhost:8080/"
        },
        "outputId": "3d33c8b1-efec-4b56-a5cc-c3f86ebc57dc"
      },
      "source": [
        "list = ['One', 'Two', 'Three']\n",
        "print(list)\n",
        "print(list[0])\n",
        "print(list[1])\n",
        "print(list[2])\n",
        "print(list[-1])\n",
        "print(list[-2])\n",
        "print(list[-3])"
      ],
      "execution_count": null,
      "outputs": [
        {
          "output_type": "stream",
          "name": "stdout",
          "text": [
            "['One', 'Two', 'Three']\n",
            "One\n",
            "Two\n",
            "Three\n",
            "Three\n",
            "Two\n",
            "One\n"
          ]
        }
      ]
    },
    {
      "cell_type": "markdown",
      "metadata": {
        "id": "zudx4zfHdAvz"
      },
      "source": [
        "### 중첩 리스트 인덱싱(Nested List Indexing)\n",
        "\n",
        "* 리스트 안에 리스트가 있을 경우 인덱스 접근 방법\n",
        "\n",
        "![4-3 중첩리스트 인덱싱 예제.png](https://drive.google.com/uc?id=1jMe7pwJqPupeUTcoy32LJqKxeHhu2Kd0)"
      ]
    },
    {
      "cell_type": "code",
      "metadata": {
        "id": "4-AbAyBsdiu4",
        "colab": {
          "base_uri": "https://localhost:8080/"
        },
        "outputId": "4df85d1e-f5ca-404e-c438-dd400903c4f7"
      },
      "source": [
        "list = [1, 2, 3, ['One', 'Two', 'Three']]\n",
        "print(list)\n",
        "print(list[3])\n",
        "print(list[3][0])\n",
        "print(list[3][1])\n",
        "print(list[3][2])"
      ],
      "execution_count": null,
      "outputs": [
        {
          "output_type": "stream",
          "name": "stdout",
          "text": [
            "[1, 2, 3, ['One', 'Two', 'Three']]\n",
            "['One', 'Two', 'Three']\n",
            "One\n",
            "Two\n",
            "Three\n"
          ]
        }
      ]
    },
    {
      "cell_type": "code",
      "source": [
        "list = [1, 2, 3, ['One', 'Two', 'Three']]\n",
        "print(list[0])\n",
        "print(list[1])\n",
        "print(list[2])\n",
        "print(list[3])\n",
        "print(list[3][0])\n",
        "print(list[3][1])\n",
        "print(list[3][2])"
      ],
      "metadata": {
        "colab": {
          "base_uri": "https://localhost:8080/"
        },
        "id": "L-mrR0TZxhpn",
        "outputId": "3f29aa39-2513-49cf-bea3-47387c431b7c"
      },
      "execution_count": null,
      "outputs": [
        {
          "output_type": "stream",
          "name": "stdout",
          "text": [
            "1\n",
            "2\n",
            "3\n",
            "['One', 'Two', 'Three']\n",
            "One\n",
            "Two\n",
            "Three\n"
          ]
        }
      ]
    },
    {
      "cell_type": "markdown",
      "metadata": {
        "id": "qYff3UXAd_gZ"
      },
      "source": [
        "### 리스트 슬라이싱(List Slicing)\n",
        "\n",
        "* 리스트의 인덱스를 통해서 부분만 가져올 때 사용"
      ]
    },
    {
      "cell_type": "code",
      "metadata": {
        "id": "XV6YtlM8eFZ7",
        "colab": {
          "base_uri": "https://localhost:8080/"
        },
        "outputId": "b7861594-5f54-4cd9-9651-b230e6401c49"
      },
      "source": [
        "list = ['One', 'Two', 'Three']\n",
        "print(list)\n",
        "print(list[0:])\n",
        "print(list[1:2])\n",
        "print(list[1:])"
      ],
      "execution_count": null,
      "outputs": [
        {
          "output_type": "stream",
          "name": "stdout",
          "text": [
            "['One', 'Two', 'Three']\n",
            "['One', 'Two', 'Three']\n",
            "['Two']\n",
            "['Two', 'Three']\n"
          ]
        }
      ]
    },
    {
      "cell_type": "code",
      "source": [
        "data = [\"파이썬\", \"알고리즘\", \"시험\"]\n",
        "print(data)"
      ],
      "metadata": {
        "id": "pCmzn0i6yXjW"
      },
      "execution_count": null,
      "outputs": []
    },
    {
      "cell_type": "markdown",
      "metadata": {
        "id": "7BBUTCoWfRFY"
      },
      "source": [
        "### 중첩 리스트 슬라이싱(Nested List Slicing)\n",
        "\n",
        "* 중첩된 리스트에서 일부분만 인덱스를 통해서 가져올 때 사용"
      ]
    },
    {
      "cell_type": "code",
      "metadata": {
        "id": "KXqdQhpminGG",
        "colab": {
          "base_uri": "https://localhost:8080/"
        },
        "outputId": "b7573c98-0f76-49bc-f078-661e325d3717"
      },
      "source": [
        "list = [1, 2, 3, ['One', 'Two', 'Three']]\n",
        "print(list)\n",
        "print(list[2:4])\n",
        "print(list[3][2:])\n",
        "print(list[3][:2])"
      ],
      "execution_count": null,
      "outputs": [
        {
          "output_type": "stream",
          "name": "stdout",
          "text": [
            "[1, 2, 3, ['One', 'Two', 'Three']]\n",
            "[3, ['One', 'Two', 'Three']]\n",
            "['Three']\n",
            "['One', 'Two']\n"
          ]
        }
      ]
    },
    {
      "cell_type": "markdown",
      "metadata": {
        "id": "q_9BaaINjg2l"
      },
      "source": [
        "### 리스트 연산자/함수(List Operators/Function)\n",
        "\n",
        "* 더하기 + 연산자\n",
        "* 곱하기 * 연산자\n",
        "* 리스트 길이를 구하는 `len()` 함수"
      ]
    },
    {
      "cell_type": "code",
      "metadata": {
        "id": "iylo3yUBjpBW",
        "colab": {
          "base_uri": "https://localhost:8080/"
        },
        "outputId": "d85632f4-185f-4bc3-bf08-a117e413aa18"
      },
      "source": [
        "list_1 = ['One', 'Two', 'Three']\n",
        "list_2 = ['Four', 'Five', 'Six']\n",
        "print(list_1)\n",
        "print(list_2)\n",
        "print(list_1 + list_2)\n",
        "print(list_1 * 3)\n",
        "print(len(list_1))\n",
        "print(len(list_1 * 3))"
      ],
      "execution_count": null,
      "outputs": [
        {
          "output_type": "stream",
          "name": "stdout",
          "text": [
            "['One', 'Two', 'Three']\n",
            "['Four', 'Five', 'Six']\n",
            "['One', 'Two', 'Three', 'Four', 'Five', 'Six']\n",
            "['One', 'Two', 'Three', 'One', 'Two', 'Three', 'One', 'Two', 'Three']\n",
            "3\n",
            "9\n"
          ]
        }
      ]
    },
    {
      "cell_type": "markdown",
      "metadata": {
        "id": "XTQWWsI7j-g0"
      },
      "source": [
        "### 리스트 수정(List Modify)\n",
        "\n",
        "* 리스트 인덱스 주소를 이용한 값 수정"
      ]
    },
    {
      "cell_type": "code",
      "metadata": {
        "id": "ZAvCJXhPkDIN",
        "colab": {
          "base_uri": "https://localhost:8080/"
        },
        "outputId": "89934d57-4337-4c97-a607-3e790cf52649"
      },
      "source": [
        "list = ['One', 'Two', 'Three']\n",
        "print(list)\n",
        "list[2] = 3\n",
        "print(list)\n",
        "list[1] = 2\n",
        "print(list)\n",
        "list[0] = 1\n",
        "print(list)"
      ],
      "execution_count": null,
      "outputs": [
        {
          "output_type": "stream",
          "name": "stdout",
          "text": [
            "['One', 'Two', 'Three']\n",
            "['One', 'Two', 3]\n",
            "['One', 2, 3]\n",
            "[1, 2, 3]\n"
          ]
        }
      ]
    },
    {
      "cell_type": "markdown",
      "metadata": {
        "id": "OolpuGcLlHrs"
      },
      "source": [
        "### 리스트 메소드(List Methods)\n"
      ]
    },
    {
      "cell_type": "markdown",
      "metadata": {
        "id": "m5xHM2-jlQh3"
      },
      "source": [
        "#### append()\n",
        "\n",
        "* 리스트 요소 추가"
      ]
    },
    {
      "cell_type": "code",
      "metadata": {
        "id": "8AaEGUxSlU_a",
        "colab": {
          "base_uri": "https://localhost:8080/"
        },
        "outputId": "779e9a6a-5d6d-45f0-d8fc-30400086b180"
      },
      "source": [
        "list = ['One', 'Two', 'Three']\n",
        "list.append('Four')\n",
        "print(list)\n",
        "list.append([1, 2, 3, 4])\n",
        "print(list)"
      ],
      "execution_count": null,
      "outputs": [
        {
          "output_type": "stream",
          "name": "stdout",
          "text": [
            "['One', 'Two', 'Three', 'Four']\n",
            "['One', 'Two', 'Three', 'Four', [1, 2, 3, 4]]\n"
          ]
        }
      ]
    },
    {
      "cell_type": "markdown",
      "metadata": {
        "id": "sIkoHvkJmQjD"
      },
      "source": [
        "#### sort()\n",
        "\n",
        "* 리스트 정렬"
      ]
    },
    {
      "cell_type": "code",
      "metadata": {
        "id": "XxCsua37mU7R",
        "colab": {
          "base_uri": "https://localhost:8080/"
        },
        "outputId": "c671440d-c5fb-4504-b3ff-4c14f6f45fbb"
      },
      "source": [
        "list = [10, 40, 20, 30]\n",
        "print(list)\n",
        "list.sort()\n",
        "print(list)\n",
        "list = ['orange', 'apple', 'banana', 'strawberry']\n",
        "print(list)\n",
        "list.sort()\n",
        "print(list)"
      ],
      "execution_count": null,
      "outputs": [
        {
          "output_type": "stream",
          "name": "stdout",
          "text": [
            "[10, 40, 20, 30]\n",
            "[10, 20, 30, 40]\n",
            "['orange', 'apple', 'banana', 'strawberry']\n",
            "['apple', 'banana', 'orange', 'strawberry']\n"
          ]
        }
      ]
    },
    {
      "cell_type": "markdown",
      "metadata": {
        "id": "YdfEfFUEmmBZ"
      },
      "source": [
        "#### reverse()\n",
        "\n",
        "* 리스트 요소 반전"
      ]
    },
    {
      "cell_type": "code",
      "metadata": {
        "id": "gaqQQwm0mrAs",
        "colab": {
          "base_uri": "https://localhost:8080/"
        },
        "outputId": "2f267ebd-0c22-468d-91e2-f675c1d6a28f"
      },
      "source": [
        "list = ['orange', 'apple', 'banana', 'strawberry']\n",
        "print(list)\n",
        "list.reverse()\n",
        "print(list)"
      ],
      "execution_count": null,
      "outputs": [
        {
          "output_type": "stream",
          "name": "stdout",
          "text": [
            "['orange', 'apple', 'banana', 'strawberry']\n",
            "['strawberry', 'banana', 'apple', 'orange']\n"
          ]
        }
      ]
    },
    {
      "cell_type": "markdown",
      "metadata": {
        "id": "B9GFsndRnwor"
      },
      "source": [
        "#### index()\n",
        "\n",
        "* 리스트의 요소 값에 대한 인덱스를 반환"
      ]
    },
    {
      "cell_type": "code",
      "metadata": {
        "id": "xs1Nlc_Hn1S3",
        "colab": {
          "base_uri": "https://localhost:8080/"
        },
        "outputId": "9a5f397a-eb19-4672-9d67-aa2194d4b18b"
      },
      "source": [
        "list = [10, 40, 20, 30]\n",
        "print(list)\n",
        "print(list.index(10))\n",
        "print(list.index(20))"
      ],
      "execution_count": null,
      "outputs": [
        {
          "output_type": "stream",
          "name": "stdout",
          "text": [
            "[10, 40, 20, 30]\n",
            "0\n",
            "2\n"
          ]
        }
      ]
    },
    {
      "cell_type": "markdown",
      "metadata": {
        "id": "nSuJKFcUn9UK"
      },
      "source": [
        "#### insert()\n",
        "\n",
        "* 리스트 요소 삽입"
      ]
    },
    {
      "cell_type": "code",
      "metadata": {
        "id": "3crOTMcLoAdE",
        "colab": {
          "base_uri": "https://localhost:8080/"
        },
        "outputId": "514741f6-2e3b-457b-d242-4817add43447"
      },
      "source": [
        "list = [10, 40, 20, 30]\n",
        "print(list)\n",
        "list.insert(4, 50)\n",
        "print(list)\n",
        "list.insert(0, 60)\n",
        "print(list)"
      ],
      "execution_count": null,
      "outputs": [
        {
          "output_type": "stream",
          "name": "stdout",
          "text": [
            "[10, 40, 20, 30]\n",
            "[10, 40, 20, 30, 50]\n",
            "[60, 10, 40, 20, 30, 50]\n"
          ]
        }
      ]
    },
    {
      "cell_type": "markdown",
      "metadata": {
        "id": "u9_0Hh5NyXXh"
      },
      "source": [
        "#### remove()\n",
        "\n",
        "* 리스트 요소 제거"
      ]
    },
    {
      "cell_type": "code",
      "metadata": {
        "id": "55jgJF1ZyjIp",
        "colab": {
          "base_uri": "https://localhost:8080/"
        },
        "outputId": "541b8c2c-a0a5-4edb-c7e0-9b139424a402"
      },
      "source": [
        "list = [10, 40, 20, 30]\n",
        "print(list)\n",
        "list.remove(40)\n",
        "print(list)\n",
        "list.remove(30)\n",
        "print(list)"
      ],
      "execution_count": null,
      "outputs": [
        {
          "output_type": "stream",
          "name": "stdout",
          "text": [
            "[10, 40, 20, 30]\n",
            "[10, 20, 30]\n",
            "[10, 20]\n"
          ]
        }
      ]
    },
    {
      "cell_type": "markdown",
      "metadata": {
        "id": "XE2VEcqyywE4"
      },
      "source": [
        "#### del\n",
        "\n",
        "* 리스트 요소 제거 연산"
      ]
    },
    {
      "cell_type": "code",
      "metadata": {
        "id": "AMDGcMSTy7RO",
        "colab": {
          "base_uri": "https://localhost:8080/"
        },
        "outputId": "b158f205-8f9c-4092-a1d6-1fc2e5adc89d"
      },
      "source": [
        "list = [10, 40, 20, 30]\n",
        "print(list)\n",
        "del list[0]\n",
        "print(list)\n",
        "del list[2]\n",
        "print(list)"
      ],
      "execution_count": null,
      "outputs": [
        {
          "output_type": "stream",
          "name": "stdout",
          "text": [
            "[10, 40, 20, 30]\n",
            "[40, 20, 30]\n",
            "[40, 20]\n"
          ]
        }
      ]
    },
    {
      "cell_type": "markdown",
      "metadata": {
        "id": "0R1KumQ8zPqj"
      },
      "source": [
        "#### pop()\n",
        "\n",
        "* 리스트 요소를 방출"
      ]
    },
    {
      "cell_type": "code",
      "metadata": {
        "id": "AES7G1e-za4k",
        "colab": {
          "base_uri": "https://localhost:8080/"
        },
        "outputId": "6cae0850-2369-4e6f-a389-19b2c3e1651c"
      },
      "source": [
        "list = [10, 40, 20, 30]\n",
        "print(list)\n",
        "list.pop()\n",
        "print(list)\n",
        "list.pop(0)\n",
        "print(list)"
      ],
      "execution_count": null,
      "outputs": [
        {
          "output_type": "stream",
          "name": "stdout",
          "text": [
            "[10, 40, 20, 30]\n",
            "[10, 40, 20]\n",
            "[40, 20]\n"
          ]
        }
      ]
    },
    {
      "cell_type": "markdown",
      "metadata": {
        "id": "BnKMoBtrzkUP"
      },
      "source": [
        "#### count()\n",
        "\n",
        "* 리스트 요소의 갯수 계산"
      ]
    },
    {
      "cell_type": "code",
      "metadata": {
        "id": "iv13N4uWznsm",
        "colab": {
          "base_uri": "https://localhost:8080/"
        },
        "outputId": "913ae6ad-7b4e-4cdd-d5e7-2b0a42bab290"
      },
      "source": [
        "list = [10, 20, 20, 30, 30, 30]\n",
        "print(list)\n",
        "print(list.count(30))\n",
        "print(list.count(20))"
      ],
      "execution_count": null,
      "outputs": [
        {
          "output_type": "stream",
          "name": "stdout",
          "text": [
            "[10, 20, 20, 30, 30, 30]\n",
            "3\n",
            "2\n"
          ]
        }
      ]
    },
    {
      "cell_type": "markdown",
      "metadata": {
        "id": "sI87ApvJzxcM"
      },
      "source": [
        "#### extend()\n",
        "\n",
        "* 리스트 확장"
      ]
    },
    {
      "cell_type": "code",
      "metadata": {
        "id": "0q944_Znz0XJ",
        "colab": {
          "base_uri": "https://localhost:8080/"
        },
        "outputId": "8e2d9c0d-d87f-4ec5-8701-4109c4eebcff"
      },
      "source": [
        "list = [10, 40, 20, 30]\n",
        "print(list)\n",
        "list.extend([50, 60])\n",
        "print(list)"
      ],
      "execution_count": null,
      "outputs": [
        {
          "output_type": "stream",
          "name": "stdout",
          "text": [
            "[10, 40, 20, 30]\n",
            "[10, 40, 20, 30, 50, 60]\n"
          ]
        }
      ]
    },
    {
      "cell_type": "code",
      "source": [
        "\n",
        "list1 = [1, 2, 3]\n",
        "list2 = [4, 5,6]\n",
        "\n",
        "list1 = list1+ list2\n",
        "\n",
        "print(list1)\n",
        "\n",
        "\"\"\"\n",
        "1. append와의 차이점 (리스트를 넣는 것과 요소를 넣는 것)\n",
        "2. list1 + list2로 했었을 때 충돌이 일어날 수 있는지 -> 원본 리스트를 보관하고 새로운 변수를 만드는 쪽으로\n",
        "3. 주피터 주석은 \"\"\" \"\"\"로는 되지 않음. 텍스트 박스로 설정하는 걸 추천함\n",
        "\"\"\"\n",
        "#주석 확인\n"
      ],
      "metadata": {
        "colab": {
          "base_uri": "https://localhost:8080/",
          "height": 72
        },
        "id": "lhywxP6d5hZK",
        "outputId": "e8164ab7-c469-4a45-95b3-fee80003c4f0"
      },
      "execution_count": null,
      "outputs": [
        {
          "output_type": "stream",
          "name": "stdout",
          "text": [
            "[1, 2, 3, 4, 5, 6]\n"
          ]
        },
        {
          "output_type": "execute_result",
          "data": {
            "text/plain": [
              "'\\n1. append와의 차이점 (리스트를 넣는 것과 요소를 넣는 것)<br/>\\n2. list1 + list2로 했었을 때 충돌이 일어날 수 있는지 -> 원본 리스트를 보관하고 새로운 변수를 만드는 쪽으로\\n3. 주피터 주석은 로는 되지 않음 \\n'"
            ],
            "application/vnd.google.colaboratory.intrinsic+json": {
              "type": "string"
            }
          },
          "metadata": {},
          "execution_count": 32
        }
      ]
    },
    {
      "cell_type": "markdown",
      "metadata": {
        "id": "PIs0GJfyPjGd"
      },
      "source": [
        "\n",
        "\n",
        "---\n",
        "\n"
      ]
    },
    {
      "cell_type": "markdown",
      "metadata": {
        "id": "uPvqZnMfPjGe"
      },
      "source": [
        "## 튜플(Tuple)\n",
        "\n",
        "* 리스트와 유사하지만 변경 불가능한 시퀀스 자료형\n",
        "* 하나의 변수에 여러 값 할당 가능\n",
        "* ‘(‘와 ‘)’를 사용하여 표현"
      ]
    },
    {
      "cell_type": "code",
      "metadata": {
        "id": "1s9_Z7hQ0Ft0",
        "colab": {
          "base_uri": "https://localhost:8080/"
        },
        "outputId": "2d088f86-cffd-4195-a287-777c6eba4cd0"
      },
      "source": [
        "print(())\n",
        "print((1, 2, 3))\n",
        "print(('One', 'Two', 'Three'))\n",
        "print((1, 'One', 2, 'Two', 3, 'Three'))\n",
        "print((1, 2, 3, ('One', 'Two', 'Three')))"
      ],
      "execution_count": null,
      "outputs": [
        {
          "output_type": "stream",
          "name": "stdout",
          "text": [
            "()\n",
            "(1, 2, 3)\n",
            "('One', 'Two', 'Three')\n",
            "(1, 'One', 2, 'Two', 3, 'Three')\n",
            "(1, 2, 3, ('One', 'Two', 'Three'))\n"
          ]
        }
      ]
    },
    {
      "cell_type": "markdown",
      "metadata": {
        "id": "e3TE7eO00UKJ"
      },
      "source": [
        "### 튜플 인덱싱(Tuple Indexing)\n",
        "\n",
        "* 튜플의 각 위치에 해당하는 값에 접근하기 위해서 주소 개념의 숫자를 사용"
      ]
    },
    {
      "cell_type": "code",
      "metadata": {
        "id": "_usfNdhc0a_7",
        "colab": {
          "base_uri": "https://localhost:8080/"
        },
        "outputId": "7b05bfcf-3b8f-415d-c63d-2109b2b68cb2"
      },
      "source": [
        "tuple = ('One', 'Two', 'Three')\n",
        "print(tuple)\n",
        "print(tuple[0])\n",
        "print(tuple[-1])"
      ],
      "execution_count": null,
      "outputs": [
        {
          "output_type": "stream",
          "name": "stdout",
          "text": [
            "('One', 'Two', 'Three')\n",
            "One\n",
            "Three\n"
          ]
        }
      ]
    },
    {
      "cell_type": "markdown",
      "metadata": {
        "id": "bFGXVZ8-05z2"
      },
      "source": [
        "### 중첩 튜플 인덱싱(Nested Tuple Indexing)\n",
        "\n",
        "* 튜플 안에 튜플이 중첩되어 있을 경우, 인덱스 접근 방법"
      ]
    },
    {
      "cell_type": "code",
      "metadata": {
        "id": "eq996H91097z",
        "colab": {
          "base_uri": "https://localhost:8080/"
        },
        "outputId": "1e16864c-477b-4dee-afe0-f76460a27317"
      },
      "source": [
        "tuple = (1, 2, 3, ('One', 'Two', 'Three'))\n",
        "print(tuple)\n",
        "print(tuple[3])\n",
        "print(tuple[3][1])"
      ],
      "execution_count": null,
      "outputs": [
        {
          "output_type": "stream",
          "name": "stdout",
          "text": [
            "(1, 2, 3, ('One', 'Two', 'Three'))\n",
            "('One', 'Two', 'Three')\n",
            "Two\n"
          ]
        }
      ]
    },
    {
      "cell_type": "markdown",
      "metadata": {
        "id": "nYYF6L223714"
      },
      "source": [
        "### 튜플 슬라이싱(Tuple Slicing)\n",
        "\n",
        "* 튜플의 인덱스를 통해서 부분만 가져올 때 사용"
      ]
    },
    {
      "cell_type": "code",
      "metadata": {
        "id": "J0lgz4SR67d8",
        "colab": {
          "base_uri": "https://localhost:8080/"
        },
        "outputId": "128039b7-9fe3-418a-f70e-43113b2f5c1e"
      },
      "source": [
        "tuple = ('One', 'Two', 'Three')\n",
        "print(tuple)\n",
        "print(tuple[0:])\n",
        "print(tuple[1:2])\n",
        "print(tuple[1:])"
      ],
      "execution_count": null,
      "outputs": [
        {
          "output_type": "stream",
          "name": "stdout",
          "text": [
            "('One', 'Two', 'Three')\n",
            "('One', 'Two', 'Three')\n",
            "('Two',)\n",
            "('Two', 'Three')\n"
          ]
        }
      ]
    },
    {
      "cell_type": "markdown",
      "metadata": {
        "id": "ddlDZ-iH7JI0"
      },
      "source": [
        "### 중첩 튜플 슬라이싱(Nested Tuple Slicing)\n",
        "\n",
        "* 중첩된 튜플에서 일부분만 인덱스를 통해서 가져올 때 사용"
      ]
    },
    {
      "cell_type": "code",
      "metadata": {
        "id": "2GeXCqV37Nc3",
        "colab": {
          "base_uri": "https://localhost:8080/"
        },
        "outputId": "437da767-524d-4f02-ab36-0ed682beea3b"
      },
      "source": [
        "tuple = (1, 2, 3, ('One', 'Two', 'Three'))\n",
        "print(tuple)\n",
        "print(tuple[3])\n",
        "print(tuple[3][2:])\n",
        "print(tuple[3][:2])"
      ],
      "execution_count": null,
      "outputs": [
        {
          "output_type": "stream",
          "name": "stdout",
          "text": [
            "(1, 2, 3, ('One', 'Two', 'Three'))\n",
            "('One', 'Two', 'Three')\n",
            "('Three',)\n",
            "('One', 'Two')\n"
          ]
        }
      ]
    },
    {
      "cell_type": "markdown",
      "metadata": {
        "id": "zXbENjlMCrkU"
      },
      "source": [
        "## 세트(Set)\n",
        "\n",
        "* 데이터 중복을 허용하지 않는 구조\n",
        "* 순서가 없는 데이터 집합을 위한 구조\n",
        "* 인덱싱으로 값을 접근할 수 없음\n",
        "\n",
        "<br/>\n",
        "'{}'를 사용하는 건 딕셔너리와 동일.  <br/>\n",
        "':'의 존재 유무로 딕셔너리와 구분함"
      ]
    },
    {
      "cell_type": "code",
      "metadata": {
        "id": "Rqyuh9dNC_FZ",
        "colab": {
          "base_uri": "https://localhost:8080/"
        },
        "outputId": "bb4fcf1c-ecc2-40b3-a2e0-a5ab53e0f110"
      },
      "source": [
        "print({})\n",
        "print({'One', 'Two', 'Three'})\n",
        "print({10, 20, 30, 40})"
      ],
      "execution_count": null,
      "outputs": [
        {
          "output_type": "stream",
          "name": "stdout",
          "text": [
            "{}\n",
            "{'Three', 'One', 'Two'}\n",
            "{40, 10, 20, 30}\n"
          ]
        }
      ]
    },
    {
      "cell_type": "markdown",
      "metadata": {
        "id": "QerabWfwCvtt"
      },
      "source": [
        "### 세트 연산자(Set Operators)\n",
        "\n",
        "* 교집합: &\n",
        "* 합집합: |\n",
        "* 차집합: -\n",
        "* 여집합: ^"
      ]
    },
    {
      "cell_type": "code",
      "metadata": {
        "id": "22ALZ21LE60j",
        "colab": {
          "base_uri": "https://localhost:8080/"
        },
        "outputId": "5c530153-68de-4ca1-be5e-931645d927fc"
      },
      "source": [
        "set_1 = {10, 20, 20, 30}\n",
        "set_2 = {30, 30, 40, 50}\n",
        "print(set_1)\n",
        "print(set_2)\n",
        "print(set_1 & set_2)\n",
        "print(set_1 | set_2)\n",
        "print(set_1 - set_2)\n",
        "print(set_1 ^ set_2)"
      ],
      "execution_count": null,
      "outputs": [
        {
          "output_type": "stream",
          "name": "stdout",
          "text": [
            "{10, 20, 30}\n",
            "{40, 50, 30}\n",
            "{30}\n",
            "{50, 20, 40, 10, 30}\n",
            "{10, 20}\n",
            "{40, 10, 50, 20}\n"
          ]
        }
      ]
    },
    {
      "cell_type": "markdown",
      "metadata": {
        "id": "of4Jq8l-McX7"
      },
      "source": [
        "### 세트 메소드(Set Methods)\n",
        "\n",
        "* 교집합: intersection()\n",
        "* 합집합: union()\n",
        "* 차집합: difference()\n",
        "* 여집합: symmetric_difference()"
      ]
    },
    {
      "cell_type": "code",
      "metadata": {
        "id": "w4JB__zpL_BW",
        "colab": {
          "base_uri": "https://localhost:8080/"
        },
        "outputId": "f5be2d90-f69c-4ae0-d4c8-e4da663b0414"
      },
      "source": [
        "set_1 = {10, 20, 20, 30}\n",
        "set_2 = {30, 30, 40, 50}\n",
        "print(set_1)\n",
        "print(set_2)\n",
        "print(set_1.intersection(set_2))\n",
        "print(set_1.union(set_2))\n",
        "print(set_1.difference(set_2))\n",
        "print(set_1.symmetric_difference(set_2))"
      ],
      "execution_count": null,
      "outputs": [
        {
          "output_type": "stream",
          "name": "stdout",
          "text": [
            "{10, 20, 30}\n",
            "{40, 50, 30}\n",
            "{30}\n",
            "{50, 20, 40, 10, 30}\n",
            "{10, 20}\n",
            "{40, 10, 50, 20}\n"
          ]
        }
      ]
    },
    {
      "cell_type": "markdown",
      "metadata": {
        "id": "lcdJvb_vFiKf"
      },
      "source": [
        "* 요소 추가: add()\n",
        "* 여러 요소 추가: update()\n",
        "* 요소 제거: remove()\n",
        "* 요소 제거: discard()\n",
        "* 모든 요소 제거: clear()"
      ]
    },
    {
      "cell_type": "code",
      "metadata": {
        "id": "xlo8NoTeF0dV",
        "colab": {
          "base_uri": "https://localhost:8080/"
        },
        "outputId": "fde221fc-b6a6-4a41-eea9-b3e52093b63d"
      },
      "source": [
        "set = {10, 20, 30, 40}\n",
        "print(set)\n",
        "\n",
        "set.add(50)\n",
        "print(set)\n",
        "\n",
        "set.update([60, 70])\n",
        "print(set)\n",
        "\n",
        "set.remove(70)\n",
        "set.remove(60)\n",
        "print(set)\n",
        "\n",
        "set.discard(30)\n",
        "print(set)\n",
        "\n",
        "set.clear()\n",
        "print(set)"
      ],
      "execution_count": null,
      "outputs": [
        {
          "output_type": "stream",
          "name": "stdout",
          "text": [
            "{40, 10, 20, 30}\n",
            "{40, 10, 50, 20, 30}\n",
            "{70, 40, 10, 50, 20, 60, 30}\n",
            "{40, 10, 50, 20, 30}\n",
            "{40, 10, 50, 20}\n",
            "set()\n"
          ]
        }
      ]
    },
    {
      "cell_type": "markdown",
      "metadata": {
        "id": "0BWIlqrPCr__"
      },
      "source": [
        "\n",
        "\n",
        "---\n",
        "\n"
      ]
    },
    {
      "cell_type": "markdown",
      "metadata": {
        "id": "ZfKg8LniN113"
      },
      "source": [
        "## 딕셔너리(Dictionary)\n",
        "\n",
        "* 키(key)와 값(value)의 쌍으로 구성된 데이터\n",
        "* 순서가 없는 데이터\n",
        "* 키를 통해 값을 얻음\n",
        "* 동일한 키가 있을경우 덮어씀"
      ]
    },
    {
      "cell_type": "code",
      "metadata": {
        "id": "Ij33VNSGN7_D",
        "colab": {
          "base_uri": "https://localhost:8080/"
        },
        "outputId": "056d3a09-41ac-45c7-ae00-da2c607a5cec"
      },
      "source": [
        "dic = {1:'One', 2:'Two', 3:'Three'}\n",
        "print(dic)\n",
        "\n",
        "dic = {1:'One', 2:'Two', 3:'Three', 1:'One', 2:'Two', 3:'Three'}\n",
        "print(dic)"
      ],
      "execution_count": null,
      "outputs": [
        {
          "output_type": "stream",
          "name": "stdout",
          "text": [
            "{1: 'One', 2: 'Two', 3: 'Three'}\n",
            "{1: 'One', 2: 'Two', 3: 'Three'}\n"
          ]
        }
      ]
    },
    {
      "cell_type": "markdown",
      "metadata": {
        "id": "Vq8tORypPmPX"
      },
      "source": [
        "### 딕셔너리 요소 추가/삭제\n",
        "\n",
        "* 딕셔너리의 해당 키 값에 값을 추가하여 요소 추가\n",
        "* del을 이용하여 요소 제거"
      ]
    },
    {
      "cell_type": "code",
      "metadata": {
        "id": "zjBqbHUhPjUX",
        "colab": {
          "base_uri": "https://localhost:8080/"
        },
        "outputId": "82670b63-c02b-4e21-ff28-e300b0b7edd8"
      },
      "source": [
        "dic = {1:'One', 2:'Two', 3:'Three'}\n",
        "print(dic)\n",
        "print(dic[2])\n",
        "dic[4] = 'Four'\n",
        "print(dic)\n",
        "dic[5] = 'Five'\n",
        "print(dic)\n",
        "del dic[4]\n",
        "print(dic)"
      ],
      "execution_count": null,
      "outputs": [
        {
          "output_type": "stream",
          "name": "stdout",
          "text": [
            "{1: 'One', 2: 'Two', 3: 'Three'}\n",
            "Two\n",
            "{1: 'One', 2: 'Two', 3: 'Three', 4: 'Four'}\n",
            "{1: 'One', 2: 'Two', 3: 'Three', 4: 'Four', 5: 'Five'}\n",
            "{1: 'One', 2: 'Two', 3: 'Three', 5: 'Five'}\n"
          ]
        }
      ]
    },
    {
      "cell_type": "markdown",
      "metadata": {
        "id": "SlUKOt2tSatr"
      },
      "source": [
        "### 딕셔너리 메소드(Dictionary Methods)\n",
        "\n",
        "| 메소드 | 설명 |\n",
        "| --- | --- |\n",
        "| keys() | 딕셔너리의 키 가져오기 |\n",
        "| values() | 딕셔너리의 값 가져오기 |\n",
        "| items() | 딕셔너리의 키와 값을 모두 가져오기 |\n",
        "| get() | 딕셔너리에서 키에 해당하는 값 가져오기 |\n",
        "| pop() | 딕셔너리에서 키에 해당하는 값 추출하기 |\n",
        "| clear() | 딕셔너리의 모든 요소를 제거하기 |"
      ]
    },
    {
      "cell_type": "code",
      "metadata": {
        "id": "JjF0-2zFP4vN",
        "colab": {
          "base_uri": "https://localhost:8080/"
        },
        "outputId": "82bedff6-802e-47f2-c7e9-803bc4ab9bda"
      },
      "source": [
        "dic = {1:'One', 2:'Two', 3:'Three'}\n",
        "print(dic)\n",
        "print(dic.keys())\n",
        "print(dic.values())\n",
        "print(dic.items())\n",
        "print(dic.get(2))\n",
        "print(dic.pop(3))\n",
        "print(dic)\n",
        "dic.clear()\n",
        "print(dic)"
      ],
      "execution_count": null,
      "outputs": [
        {
          "output_type": "stream",
          "name": "stdout",
          "text": [
            "{1: 'One', 2: 'Two', 3: 'Three'}\n",
            "dict_keys([1, 2, 3])\n",
            "dict_values(['One', 'Two', 'Three'])\n",
            "dict_items([(1, 'One'), (2, 'Two'), (3, 'Three')])\n",
            "Two\n",
            "Three\n",
            "{1: 'One', 2: 'Two'}\n",
            "{}\n"
          ]
        }
      ]
    },
    {
      "cell_type": "code",
      "source": [
        "def func_add(a, b, c):\n",
        "  return a+b+c\n",
        "\n",
        "\n",
        "result = func_add(10, 20,30)\n",
        "print(result)\n"
      ],
      "metadata": {
        "colab": {
          "base_uri": "https://localhost:8080/"
        },
        "id": "Jr9njLa__VFl",
        "outputId": "05407c79-de52-4b91-e21d-1818deafb1c3"
      },
      "execution_count": null,
      "outputs": [
        {
          "output_type": "stream",
          "name": "stdout",
          "text": [
            "60\n"
          ]
        }
      ]
    },
    {
      "cell_type": "markdown",
      "metadata": {
        "id": "3UZrWe4dPo-q"
      },
      "source": [
        "# 제어문(Control Statement)"
      ]
    },
    {
      "cell_type": "markdown",
      "metadata": {
        "id": "Kn-5VZmzPo-q"
      },
      "source": [
        "\n",
        "\n",
        "---\n",
        "\n"
      ]
    },
    {
      "cell_type": "markdown",
      "metadata": {
        "id": "x3_GDIyEPo-r"
      },
      "source": [
        "## 조건문(Conditional Statement)\n",
        "\n",
        "* 조건에 따라 문장을 수행\n",
        "* 주어진 조건을 판단하고 상황에 맞는 처리가 필요할 때 사용\n",
        "* 파이썬에서 제공하는 조건문\n",
        "  + if\n",
        "  + else\n",
        "  + elif"
      ]
    },
    {
      "cell_type": "markdown",
      "metadata": {
        "id": "i-BGTcvOPo-r"
      },
      "source": [
        "### if 문\n",
        "\n",
        "* if 문은 True와 False를 판단하는 조건문\n",
        "* if 조건 뒤에는 콜론(:)\n",
        "* if 기본 문법\n",
        "```python\n",
        "if <조건>:\n",
        "    <문장>\n",
        "```\n",
        "* if 구조도\n",
        "![5-1 if 문.png](https://drive.google.com/uc?id=1ynML1m4bqQlQw6MVa8hdcGEw0wdtfUiS)"
      ]
    },
    {
      "cell_type": "markdown",
      "metadata": {
        "id": "UkYuDgdYjW1p"
      },
      "source": [
        "* if 문을 이용한 미세먼지 측정\n",
        "  + 미세먼지 농도 pm\n",
        "  + 35 초과는 미세먼지 농도 나쁨"
      ]
    },
    {
      "cell_type": "code",
      "metadata": {
        "colab": {
          "base_uri": "https://localhost:8080/"
        },
        "outputId": "f17e5c7f-cdcc-491e-8563-e058c134ac5d",
        "id": "8tv8dsjRPo-r"
      },
      "source": [
        "pm = 40\n",
        "if pm > 35:\n",
        "  print(\"미세먼지 농도: 나쁨\")"
      ],
      "execution_count": null,
      "outputs": [
        {
          "output_type": "stream",
          "name": "stdout",
          "text": [
            "미세먼지 농도: 나쁨\n"
          ]
        }
      ]
    },
    {
      "cell_type": "markdown",
      "metadata": {
        "id": "ORi2o46CPo-s"
      },
      "source": [
        "### if-else 문\n",
        "\n",
        "* if-else 기본 문법\n",
        "```python\n",
        "if <조건>:\n",
        "    <문장 1>\n",
        "else:\n",
        "    <문장 2>\n",
        "```\n",
        "* else 문 뒤에는 콜론(:)\n",
        "* if-else 구조도\n",
        "![5-2 if-else 문.png](https://drive.google.com/uc?id=1FahWt1UPp3px6END9VmV7cPf-ps53ptH)"
      ]
    },
    {
      "cell_type": "markdown",
      "metadata": {
        "id": "KBi_DsHtkj5R"
      },
      "source": [
        "* if-else 문을 이용한 미세먼지 측정\n",
        "  + 미세먼지 농도 pm\n",
        "  + 36 이상은 미세먼지 농도 나쁨\n",
        "  + 35 이하는 미세먼지 농도 좋음"
      ]
    },
    {
      "cell_type": "code",
      "metadata": {
        "colab": {
          "base_uri": "https://localhost:8080/"
        },
        "outputId": "0dfdea99-5eba-49c9-9dfb-8d4fe303c5f2",
        "id": "LexkevvePo-s"
      },
      "source": [
        "pm = 30\n",
        "if pm >= 36:\n",
        "  print(\"미세먼지 농도: 나쁨\")\n",
        "else:\n",
        "  print(\"미세먼지 농도: 좋음\")"
      ],
      "execution_count": null,
      "outputs": [
        {
          "output_type": "stream",
          "name": "stdout",
          "text": [
            "미세먼지 농도: 좋음\n"
          ]
        }
      ]
    },
    {
      "cell_type": "code",
      "source": [
        "pm = 20\n",
        "if pm > 35:\n",
        "  print(\"미세먼지 농도: 나쁨\")\n",
        "else:\n",
        "  print(\"미세먼지 농도: 좋음\")"
      ],
      "metadata": {
        "id": "sZUcWZ_wGOoY"
      },
      "execution_count": null,
      "outputs": []
    },
    {
      "cell_type": "markdown",
      "metadata": {
        "id": "0ip0tEd4Po-t"
      },
      "source": [
        "### if-elif-else 문\n",
        "\n",
        "* if-elif-else 기본 문법\n",
        "```python\n",
        "if <조건>:\n",
        "    <문장 1>\n",
        "elif <조건>:\n",
        "    <문장 2>\n",
        "else:\n",
        "    <문장 3>\n",
        "```\n",
        "* elif 문 조건 뒤에는 콜론(:)\n",
        "* if-elif-else 구조도\n",
        "![5-3 if-elif-else 문.png](https://drive.google.com/uc?id=152GU1dktwb_u-Q6g9tzkEytCIYaP3w99)"
      ]
    },
    {
      "cell_type": "markdown",
      "metadata": {
        "id": "DV4n1qxhnFIV"
      },
      "source": [
        "* if-elif-else 문을 이용한 미세먼지 측정\n",
        "  + 미세먼지 농도 pm\n",
        "  + 미세먼지 농도 0~15: 좋음\n",
        "  + 미세먼지 농도 16~35: 보통\n",
        "  + 미세먼지 농도 36~75: 나쁨\n",
        "  + 미세먼지 농도 76~: 매우나쁨"
      ]
    },
    {
      "cell_type": "code",
      "metadata": {
        "colab": {
          "base_uri": "https://localhost:8080/"
        },
        "outputId": "06a26a8b-dc08-403b-dbbf-83df85f2d80f",
        "id": "MzZpYMP3Po-t"
      },
      "source": [
        "pm = 40\n",
        "if pm < 16:\n",
        "  print(\"미세먼지 농도: 좋음\")\n",
        "elif pm < 36:\n",
        "  print(\"미세먼지 농도: 보통\")\n",
        "elif pm < 76:\n",
        "  print(\"미세먼지 농도: 나쁨\")\n",
        "else:\n",
        "  print(\"미세먼지 농도: 매우나쁨\")"
      ],
      "execution_count": null,
      "outputs": [
        {
          "output_type": "stream",
          "name": "stdout",
          "text": [
            "미세먼지 농도: 나쁨\n"
          ]
        }
      ]
    },
    {
      "cell_type": "code",
      "source": [
        "score = 100\n",
        "if score >= 90:\n",
        "  print(\"A\")\n",
        "elif score >= 80:\n",
        "  print(\"B\")\n",
        "else:\n",
        "  print(\"노오력하세\")"
      ],
      "metadata": {
        "id": "Sia4ifDbGscp"
      },
      "execution_count": null,
      "outputs": []
    },
    {
      "cell_type": "code",
      "source": [
        "students = [\"E10123\", \"E31201\", \"E40156\"]\n",
        "minsu = \"E60134\"\n",
        "\n",
        "#체육대회 다른 학년의 같은 반은 한 팀이다.\n",
        "#minsu와 students의 학생이 같은 팀인지 확인하는 코드 작성\n",
        "#학번 \"E60134\" E: 초등학생, 6: 학년, 01 :반, 34: 출석번호\n",
        "\n",
        "classroom = [students[0][2:4],students[1][2:4],students[2][2:4]]\n",
        "# classroom = [\"01\", \"12\", \"01\"]\n",
        "if minsu[2:4] in classroom:\n",
        "  print(\"같은 팀이 있습니다.\")\n",
        "\n",
        "if minsu[2:4] == students[0][2:4]:\n",
        "  print(\"같은 팀\")\n",
        "else:\n",
        "  print(\"다른 팀\")\n",
        "\n",
        "if minsu[2:4] == students[1][2:4]:\n",
        "  print(\"같은 팀\")\n",
        "else:\n",
        "  print(\"다른 팀\")\n",
        "\n",
        "if minsu[2:4] == students[2][2:4]:\n",
        "  print(\"같은 팀\")\n",
        "else:\n",
        "  print(\"다른 팀\")\n",
        "\n"
      ],
      "metadata": {
        "colab": {
          "base_uri": "https://localhost:8080/"
        },
        "id": "VWl1kZqNH_dA",
        "outputId": "84c157a2-4e43-4d2b-fb69-ebbd89bb80a7"
      },
      "execution_count": null,
      "outputs": [
        {
          "output_type": "stream",
          "name": "stdout",
          "text": [
            "같은 팀이 있습니다.\n",
            "같은 팀\n",
            "다른 팀\n",
            "같은 팀\n"
          ]
        }
      ]
    },
    {
      "cell_type": "code",
      "source": [
        "students = [\"E10123\", \"E31201\", \"E40156\"]\n",
        "classrooms = []\n",
        "\n",
        "for i in students:\n",
        "  classroom = i[2:4]\n",
        "  classrooms.append(classroom)\n",
        "\n",
        "print(classrooms)"
      ],
      "metadata": {
        "colab": {
          "base_uri": "https://localhost:8080/"
        },
        "id": "l187NjtbMy4_",
        "outputId": "1988ed37-841c-483c-84c5-6022ed312b71"
      },
      "execution_count": null,
      "outputs": [
        {
          "output_type": "stream",
          "name": "stdout",
          "text": [
            "['01', '12', '01']\n"
          ]
        }
      ]
    },
    {
      "cell_type": "markdown",
      "metadata": {
        "id": "PdkLJlqioT_b"
      },
      "source": [
        "### 중첩 if 문\n",
        "\n",
        "* if 문 안에 if 문에 포함된 형태\n",
        "\n",
        "![5-4 중첩 if 문.png](https://drive.google.com/uc?id=135AU729-ek0KZElNvh18rLDHICGBx26_)\n",
        "\n",
        "\n",
        "\n"
      ]
    },
    {
      "cell_type": "markdown",
      "metadata": {
        "id": "8JdYeATzowCy"
      },
      "source": [
        "* 중첩 if 문을 이용한 미세먼지 측정\n",
        "  + 미세먼지 농도 pm\n",
        "  + 미세먼지 농도 0~15: 좋음\n",
        "  + 미세먼지 농도 16~35: 보통\n",
        "  + 미세먼지 농도 36~75: 나쁨\n",
        "  + 미세먼지 농도 76~: 매우나쁨"
      ]
    },
    {
      "cell_type": "code",
      "metadata": {
        "id": "ZuYX5TCro3B9",
        "colab": {
          "base_uri": "https://localhost:8080/"
        },
        "outputId": "d3098e07-1e33-4280-b7b4-ea854a54c0b7"
      },
      "source": [
        "pm = 80\n",
        "if pm < 36:\n",
        "  if pm < 16:\n",
        "    print(\"미세먼지 농도: 좋음\")\n",
        "  else:\n",
        "    print(\"미세먼지 농도: 보통\")\n",
        "else:\n",
        "  if pm < 76:\n",
        "    print(\"미세먼지 농도: 나쁨\")\n",
        "  else:\n",
        "    print(\"미세먼지 농도: 매우나쁨\")"
      ],
      "execution_count": null,
      "outputs": [
        {
          "output_type": "stream",
          "name": "stdout",
          "text": [
            "미세먼지 농도: 매우나쁨\n"
          ]
        }
      ]
    },
    {
      "cell_type": "markdown",
      "metadata": {
        "id": "sB6Li0FmU9eM"
      },
      "source": [
        "### if-pass 문\n",
        "\n",
        "* 조건문은 있지만 실행할 문장이 없는 경우, 오류가 발생하지 않도록 무시하고 넘어가는 기능"
      ]
    },
    {
      "cell_type": "code",
      "metadata": {
        "id": "iIOjo8LEVPqy",
        "colab": {
          "base_uri": "https://localhost:8080/"
        },
        "outputId": "df54e3b1-d3d0-4e70-f9a6-2bf86c8f7045"
      },
      "source": [
        "if 10 > 5:\n",
        "  print(10)\n",
        "else:\n",
        "  pass"
      ],
      "execution_count": null,
      "outputs": [
        {
          "output_type": "stream",
          "name": "stdout",
          "text": [
            "10\n"
          ]
        }
      ]
    },
    {
      "cell_type": "markdown",
      "metadata": {
        "id": "ERFC5XXnqTab"
      },
      "source": [
        "### if 조건 연산자\n",
        "\n",
        "* 비교연산자: <, >, ==, !=, >=, <=\n"
      ]
    },
    {
      "cell_type": "code",
      "metadata": {
        "id": "oON1NgdYvSVj",
        "colab": {
          "base_uri": "https://localhost:8080/"
        },
        "outputId": "8eb1932a-322d-4a6b-dd43-9d77d4763376"
      },
      "source": [
        "if 2 > 1:\n",
        "  print(2)\n",
        "\n",
        "if 3 == 3:\n",
        "  print(3)\n",
        "\n",
        "if 1 != 2:\n",
        "  print(1)"
      ],
      "execution_count": null,
      "outputs": [
        {
          "output_type": "stream",
          "name": "stdout",
          "text": [
            "2\n",
            "3\n",
            "1\n"
          ]
        }
      ]
    },
    {
      "cell_type": "markdown",
      "metadata": {
        "id": "tsZNODf8vMdM"
      },
      "source": [
        "* 논리연산자: and, or, not"
      ]
    },
    {
      "cell_type": "code",
      "metadata": {
        "id": "xbhbbC_urU5t",
        "colab": {
          "base_uri": "https://localhost:8080/"
        },
        "outputId": "f2c235c6-3ba7-49f4-fd0e-3c7c4c184808"
      },
      "source": [
        "rain = True\n",
        "snow = True\n",
        "sun = False\n",
        "\n",
        "if rain and snow:\n",
        "  print(\"진눈깨비\")\n",
        "\n",
        "if not sun:\n",
        "  print(\"흐림\")\n",
        "else:\n",
        "  print(\"맑음\")"
      ],
      "execution_count": null,
      "outputs": [
        {
          "output_type": "stream",
          "name": "stdout",
          "text": [
            "진눈깨비\n",
            "흐림\n"
          ]
        }
      ]
    },
    {
      "cell_type": "markdown",
      "metadata": {
        "id": "neifpa1BvNya"
      },
      "source": [
        "* 멤버연산자: in, not in\n"
      ]
    },
    {
      "cell_type": "code",
      "metadata": {
        "id": "WWu4uaX5rcTb",
        "colab": {
          "base_uri": "https://localhost:8080/"
        },
        "outputId": "b0912866-9568-4864-e615-a84edafb1626"
      },
      "source": [
        "list = ['One', 'Two', 'Three']\n",
        "\n",
        "if 'One' in list:\n",
        "  print('One')\n",
        "\n",
        "if 'Four' not in list:\n",
        "  print('No')"
      ],
      "execution_count": null,
      "outputs": [
        {
          "output_type": "stream",
          "name": "stdout",
          "text": [
            "One\n",
            "No\n"
          ]
        }
      ]
    },
    {
      "cell_type": "markdown",
      "metadata": {
        "id": "0V1ky9ZMucnL"
      },
      "source": [
        "* 식별연산자: is, is not"
      ]
    },
    {
      "cell_type": "code",
      "metadata": {
        "id": "puETQb28t3ua",
        "colab": {
          "base_uri": "https://localhost:8080/"
        },
        "outputId": "59dbc1ac-4e95-4023-f4de-17c956dbb027"
      },
      "source": [
        "if 'One' is 'One':\n",
        "  print('One')\n",
        "\n",
        "if 'One' is not 'Two':\n",
        "  print('One is not Two')"
      ],
      "execution_count": null,
      "outputs": [
        {
          "output_type": "stream",
          "name": "stdout",
          "text": [
            "One\n",
            "One is not Two\n"
          ]
        },
        {
          "output_type": "stream",
          "name": "stderr",
          "text": [
            "<>:1: SyntaxWarning: \"is\" with a literal. Did you mean \"==\"?\n",
            "<>:4: SyntaxWarning: \"is not\" with a literal. Did you mean \"!=\"?\n",
            "<>:1: SyntaxWarning: \"is\" with a literal. Did you mean \"==\"?\n",
            "<>:4: SyntaxWarning: \"is not\" with a literal. Did you mean \"!=\"?\n",
            "<ipython-input-87-6efd0f26d6b0>:1: SyntaxWarning: \"is\" with a literal. Did you mean \"==\"?\n",
            "  if 'One' is 'One':\n",
            "<ipython-input-87-6efd0f26d6b0>:4: SyntaxWarning: \"is not\" with a literal. Did you mean \"!=\"?\n",
            "  if 'One' is not 'Two':\n"
          ]
        }
      ]
    },
    {
      "cell_type": "markdown",
      "metadata": {
        "id": "9iV-FsBWzZ0k"
      },
      "source": [
        "### 조건부 표현식(Conditional Expression)\n",
        "\n",
        "* 한 라인으로 조건식을 사용한 표현"
      ]
    },
    {
      "cell_type": "code",
      "metadata": {
        "id": "_oS5aQybzfxw",
        "colab": {
          "base_uri": "https://localhost:8080/"
        },
        "outputId": "02830a1d-3f46-43d9-cabc-6022d2819cde"
      },
      "source": [
        "score = 75\n",
        "msg = \"통과\" if score >= 70 else \"탈락\"\n",
        "print(msg)"
      ],
      "execution_count": null,
      "outputs": [
        {
          "output_type": "stream",
          "name": "stdout",
          "text": [
            "통과\n"
          ]
        }
      ]
    },
    {
      "cell_type": "markdown",
      "metadata": {
        "id": "QIPpjIqJPo-0"
      },
      "source": [
        "\n",
        "\n",
        "---\n",
        "\n"
      ]
    },
    {
      "cell_type": "markdown",
      "metadata": {
        "id": "dpxdMrUoPo-0"
      },
      "source": [
        "## 반복문(Repetitive Statement)\n",
        "\n",
        "* 문장을 반복적으로 수행\n",
        "* 정해진 동작을 반복하여 처리할 때 사용\n",
        "* 파이썬에서 제공하는 반복문\n",
        "  + while\n",
        "  + for"
      ]
    },
    {
      "cell_type": "markdown",
      "metadata": {
        "id": "tsxOiKAD7Lfw"
      },
      "source": [
        "### while 문\n",
        "\n",
        "* 어떤 조건이 만족하는 동안 문장을 수행하고 만족하지 않는 경우 수행 중단\n",
        "* while 문 기본 문법\n",
        "```python\n",
        "while <조건>:\n",
        "    <문장>\n",
        "```\n",
        "* while 문 구조도\n",
        "![5-5 while 문.png](https://drive.google.com/uc?id=1LniLt8ZL8I0Xm4kNt4013J4wvKgSCI4H)"
      ]
    },
    {
      "cell_type": "markdown",
      "metadata": {
        "id": "q9SCeICMB32o"
      },
      "source": [
        "* while 문 예제: 1부터 10까지 반복"
      ]
    },
    {
      "cell_type": "code",
      "metadata": {
        "colab": {
          "base_uri": "https://localhost:8080/"
        },
        "outputId": "e5d660d9-a717-4a46-ed36-8418c0c3fda5",
        "id": "gCsAPVj2Po-1"
      },
      "source": [
        "i = 1\n",
        "while i <= 10:\n",
        "  print(i)\n",
        "  i += 1"
      ],
      "execution_count": null,
      "outputs": [
        {
          "output_type": "stream",
          "name": "stdout",
          "text": [
            "1\n",
            "2\n",
            "3\n",
            "4\n",
            "5\n",
            "6\n",
            "7\n",
            "8\n",
            "9\n",
            "10\n"
          ]
        }
      ]
    },
    {
      "cell_type": "markdown",
      "metadata": {
        "id": "GWKxC-EyB-ou"
      },
      "source": [
        "* while 문 예제: 1부터 10까지 더하기"
      ]
    },
    {
      "cell_type": "code",
      "metadata": {
        "id": "KamhbhLtBjyu",
        "colab": {
          "base_uri": "https://localhost:8080/"
        },
        "outputId": "74c0834f-6b8f-4c46-95f8-a5d9682a79a4"
      },
      "source": [
        "i = 1\n",
        "sum = 0\n",
        "while i <= 10:\n",
        "  sum += i\n",
        "  i += 1\n",
        "\n",
        "print(sum)"
      ],
      "execution_count": null,
      "outputs": [
        {
          "output_type": "stream",
          "name": "stdout",
          "text": [
            "55\n"
          ]
        }
      ]
    },
    {
      "cell_type": "markdown",
      "metadata": {
        "id": "fE4el4w8CVnn"
      },
      "source": [
        "### for 문\n",
        "\n",
        "* 반복 범위를 지정하여 반복 수행\n",
        "* for 문 기본 문법\n",
        "```python\n",
        "for 변수 in 리스트, 튜플, 문자열:\n",
        "    <문장>\n",
        "```"
      ]
    },
    {
      "cell_type": "markdown",
      "metadata": {
        "id": "Szg_RE0dDVUI"
      },
      "source": [
        "* 리스트 요소 반복"
      ]
    },
    {
      "cell_type": "code",
      "metadata": {
        "id": "q-6XmZ7pCKfu",
        "colab": {
          "base_uri": "https://localhost:8080/"
        },
        "outputId": "d7b92593-5296-49e6-8745-e6ede4bf3ed3"
      },
      "source": [
        "list = ['One', 'Two', 'Three']\n",
        "for i in list:\n",
        "  print(i)"
      ],
      "execution_count": null,
      "outputs": [
        {
          "output_type": "stream",
          "name": "stdout",
          "text": [
            "One\n",
            "Two\n",
            "Three\n"
          ]
        }
      ]
    },
    {
      "cell_type": "markdown",
      "metadata": {
        "id": "Jxy-YCKaJy6U"
      },
      "source": [
        "* 튜플 요소 반복"
      ]
    },
    {
      "cell_type": "code",
      "metadata": {
        "id": "bPTK1Da9DifT",
        "colab": {
          "base_uri": "https://localhost:8080/"
        },
        "outputId": "ad7844ab-5fe7-43b4-e17a-1aadb60c289f"
      },
      "source": [
        "tuple = ('One', 'Two', 'Three')\n",
        "for i in tuple:\n",
        "  print(i)"
      ],
      "execution_count": null,
      "outputs": [
        {
          "output_type": "stream",
          "name": "stdout",
          "text": [
            "One\n",
            "Two\n",
            "Three\n"
          ]
        }
      ]
    },
    {
      "cell_type": "markdown",
      "metadata": {
        "id": "-a5BBmWHJ08e"
      },
      "source": [
        "* 문자열 요소 반복"
      ]
    },
    {
      "cell_type": "code",
      "metadata": {
        "id": "sg2jzObGDk5u",
        "colab": {
          "base_uri": "https://localhost:8080/"
        },
        "outputId": "6318f170-a18f-432c-d945-c8dde24581ca"
      },
      "source": [
        "string = \"SuanLab\"\n",
        "for i in string:\n",
        "  print(i)"
      ],
      "execution_count": null,
      "outputs": [
        {
          "output_type": "stream",
          "name": "stdout",
          "text": [
            "S\n",
            "u\n",
            "a\n",
            "n\n",
            "L\n",
            "a\n",
            "b\n"
          ]
        }
      ]
    },
    {
      "cell_type": "markdown",
      "metadata": {
        "id": "6bel7wU6EFp4"
      },
      "source": [
        "#### range()\n",
        "\n",
        "* 범위 반복에 사용\n",
        "* range 문법\n",
        "```python\n",
        "for 변수 in range(시작값, 마지막값, 증가값):\n",
        "    <문장>\n",
        "```\n",
        "* 시작값과 증가값은 생략 가능\n",
        "* 생략할 때 시작값은 0, 증가값은 1"
      ]
    },
    {
      "cell_type": "code",
      "metadata": {
        "id": "sIV6ouO3D1Pj",
        "colab": {
          "base_uri": "https://localhost:8080/"
        },
        "outputId": "49d07d0a-6322-4605-db06-3682eaa9a15d"
      },
      "source": [
        "sum = 0\n",
        "for i in range(101):\n",
        "  sum += i\n",
        "\n",
        "print(sum)"
      ],
      "execution_count": null,
      "outputs": [
        {
          "output_type": "stream",
          "name": "stdout",
          "text": [
            "5050\n"
          ]
        }
      ]
    },
    {
      "cell_type": "code",
      "metadata": {
        "id": "VtCQOfDpGG59",
        "colab": {
          "base_uri": "https://localhost:8080/"
        },
        "outputId": "87459795-624a-4d65-f572-ed8c404955ec"
      },
      "source": [
        "for i in range(1, 10, 2):\n",
        "  print(i)"
      ],
      "execution_count": null,
      "outputs": [
        {
          "output_type": "stream",
          "name": "stdout",
          "text": [
            "1\n",
            "3\n",
            "5\n",
            "7\n",
            "9\n"
          ]
        }
      ]
    },
    {
      "cell_type": "markdown",
      "metadata": {
        "id": "1otcwtcWGU-Z"
      },
      "source": [
        "* 범위 반복 range를 이용한 구구단"
      ]
    },
    {
      "cell_type": "code",
      "metadata": {
        "id": "0AgNJV5LGJLf",
        "colab": {
          "base_uri": "https://localhost:8080/"
        },
        "outputId": "e11edb94-5a16-4b7d-df35-72f55fb98395"
      },
      "source": [
        "for i in range(2, 10):\n",
        "  for j in range(1, 10):\n",
        "    print('{0} x {1} = {2}'.format(i, j, i * j))"
      ],
      "execution_count": null,
      "outputs": [
        {
          "output_type": "stream",
          "name": "stdout",
          "text": [
            "2 x 1 = 2\n",
            "2 x 2 = 4\n",
            "2 x 3 = 6\n",
            "2 x 4 = 8\n",
            "2 x 5 = 10\n",
            "2 x 6 = 12\n",
            "2 x 7 = 14\n",
            "2 x 8 = 16\n",
            "2 x 9 = 18\n",
            "3 x 1 = 3\n",
            "3 x 2 = 6\n",
            "3 x 3 = 9\n",
            "3 x 4 = 12\n",
            "3 x 5 = 15\n",
            "3 x 6 = 18\n",
            "3 x 7 = 21\n",
            "3 x 8 = 24\n",
            "3 x 9 = 27\n",
            "4 x 1 = 4\n",
            "4 x 2 = 8\n",
            "4 x 3 = 12\n",
            "4 x 4 = 16\n",
            "4 x 5 = 20\n",
            "4 x 6 = 24\n",
            "4 x 7 = 28\n",
            "4 x 8 = 32\n",
            "4 x 9 = 36\n",
            "5 x 1 = 5\n",
            "5 x 2 = 10\n",
            "5 x 3 = 15\n",
            "5 x 4 = 20\n",
            "5 x 5 = 25\n",
            "5 x 6 = 30\n",
            "5 x 7 = 35\n",
            "5 x 8 = 40\n",
            "5 x 9 = 45\n",
            "6 x 1 = 6\n",
            "6 x 2 = 12\n",
            "6 x 3 = 18\n",
            "6 x 4 = 24\n",
            "6 x 5 = 30\n",
            "6 x 6 = 36\n",
            "6 x 7 = 42\n",
            "6 x 8 = 48\n",
            "6 x 9 = 54\n",
            "7 x 1 = 7\n",
            "7 x 2 = 14\n",
            "7 x 3 = 21\n",
            "7 x 4 = 28\n",
            "7 x 5 = 35\n",
            "7 x 6 = 42\n",
            "7 x 7 = 49\n",
            "7 x 8 = 56\n",
            "7 x 9 = 63\n",
            "8 x 1 = 8\n",
            "8 x 2 = 16\n",
            "8 x 3 = 24\n",
            "8 x 4 = 32\n",
            "8 x 5 = 40\n",
            "8 x 6 = 48\n",
            "8 x 7 = 56\n",
            "8 x 8 = 64\n",
            "8 x 9 = 72\n",
            "9 x 1 = 9\n",
            "9 x 2 = 18\n",
            "9 x 3 = 27\n",
            "9 x 4 = 36\n",
            "9 x 5 = 45\n",
            "9 x 6 = 54\n",
            "9 x 7 = 63\n",
            "9 x 8 = 72\n",
            "9 x 9 = 81\n"
          ]
        }
      ]
    },
    {
      "cell_type": "markdown",
      "metadata": {
        "id": "y9DVAjy0r5Ty"
      },
      "source": [
        "#### _ 기능\n",
        "\n",
        "* for문을 사용하면서 iterator 역할을 위해서 i 변수가 필요\n",
        "* for문 이후에는 iterator 변수 i가 필요하지 않음\n",
        "* 이후에 사용되지 않을 변수에 어떤 이름을 부여하고 싶지 않을 때 _ 를 사용"
      ]
    },
    {
      "cell_type": "code",
      "metadata": {
        "id": "qv8HZNCTsDFf",
        "colab": {
          "base_uri": "https://localhost:8080/"
        },
        "outputId": "b1b95561-d1c0-417c-87ba-9f8504e0a872"
      },
      "source": [
        "for i in range(5):\n",
        "  print(\"SuanLab\")"
      ],
      "execution_count": null,
      "outputs": [
        {
          "output_type": "stream",
          "name": "stdout",
          "text": [
            "SuanLab\n",
            "SuanLab\n",
            "SuanLab\n",
            "SuanLab\n",
            "SuanLab\n"
          ]
        }
      ]
    },
    {
      "cell_type": "code",
      "metadata": {
        "id": "pf8fIpSBsHZL",
        "colab": {
          "base_uri": "https://localhost:8080/"
        },
        "outputId": "0401e7eb-4172-4586-fdb8-0b32c8976acf"
      },
      "source": [
        "for _ in range(5):\n",
        "  print(\"SuanLab\")"
      ],
      "execution_count": null,
      "outputs": [
        {
          "output_type": "stream",
          "name": "stdout",
          "text": [
            "SuanLab\n",
            "SuanLab\n",
            "SuanLab\n",
            "SuanLab\n",
            "SuanLab\n"
          ]
        }
      ]
    },
    {
      "cell_type": "markdown",
      "metadata": {
        "id": "-t7UubcSKJHY"
      },
      "source": [
        "### else 문\n",
        "\n",
        "* 반복이 종료된 후에 한번 더 실행되는 문장"
      ]
    },
    {
      "cell_type": "code",
      "metadata": {
        "id": "clXMvxeyMFj_",
        "colab": {
          "base_uri": "https://localhost:8080/"
        },
        "outputId": "fbecfb85-5168-449f-f4ac-9ef9bcf3b025"
      },
      "source": [
        "i = 1\n",
        "sum = 0\n",
        "while i <= 10:\n",
        "  sum += i\n",
        "  i += 1\n",
        "else:\n",
        "  print(sum)"
      ],
      "execution_count": null,
      "outputs": [
        {
          "output_type": "stream",
          "name": "stdout",
          "text": [
            "55\n"
          ]
        }
      ]
    },
    {
      "cell_type": "code",
      "metadata": {
        "id": "4B6-nPWEGjvG",
        "colab": {
          "base_uri": "https://localhost:8080/"
        },
        "outputId": "7c0b6cb0-b23d-4246-e2e7-0bcd91f48dcb"
      },
      "source": [
        "sum = 0\n",
        "for i in range(11):\n",
        "  sum += i\n",
        "else:\n",
        "  print(sum)"
      ],
      "execution_count": null,
      "outputs": [
        {
          "output_type": "stream",
          "name": "stdout",
          "text": [
            "55\n"
          ]
        }
      ]
    },
    {
      "cell_type": "markdown",
      "metadata": {
        "id": "BlF9QvR5LTar"
      },
      "source": [
        "### break 문\n",
        "\n",
        "* 반복문 종료"
      ]
    },
    {
      "cell_type": "code",
      "metadata": {
        "id": "u0HvxKWvKSou",
        "colab": {
          "base_uri": "https://localhost:8080/"
        },
        "outputId": "0fc891cc-9d71-4085-90de-4ac5a07e319e"
      },
      "source": [
        "i = 0\n",
        "while i < 100:\n",
        "  print(i)\n",
        "  if i == 10:\n",
        "    break\n",
        "  i += 1"
      ],
      "execution_count": null,
      "outputs": [
        {
          "output_type": "stream",
          "name": "stdout",
          "text": [
            "0\n",
            "1\n",
            "2\n",
            "3\n",
            "4\n",
            "5\n",
            "6\n",
            "7\n",
            "8\n",
            "9\n",
            "10\n"
          ]
        }
      ]
    },
    {
      "cell_type": "code",
      "metadata": {
        "id": "TJyNX_deMUvq",
        "colab": {
          "base_uri": "https://localhost:8080/"
        },
        "outputId": "94552181-9e7a-445d-f325-a42aec447f15"
      },
      "source": [
        "for i in range(100):\n",
        "  print(i)\n",
        "  if i == 10:\n",
        "    break"
      ],
      "execution_count": null,
      "outputs": [
        {
          "output_type": "stream",
          "name": "stdout",
          "text": [
            "0\n",
            "1\n",
            "2\n",
            "3\n",
            "4\n",
            "5\n",
            "6\n",
            "7\n",
            "8\n",
            "9\n",
            "10\n"
          ]
        }
      ]
    },
    {
      "cell_type": "markdown",
      "metadata": {
        "id": "m7jZ8oc8Mezu"
      },
      "source": [
        "### continue 문\n",
        "\n",
        "* 반복 조건문으로 이동"
      ]
    },
    {
      "cell_type": "code",
      "metadata": {
        "id": "MpTJ5WtPMbYm",
        "colab": {
          "base_uri": "https://localhost:8080/"
        },
        "outputId": "9f194e89-e54f-4d2f-d469-aa71bf9b0494"
      },
      "source": [
        "i = 0\n",
        "while i < 10:\n",
        "  i += 1\n",
        "  if i % 2 == 0:\n",
        "    continue\n",
        "  print(i)"
      ],
      "execution_count": null,
      "outputs": [
        {
          "output_type": "stream",
          "name": "stdout",
          "text": [
            "1\n",
            "3\n",
            "5\n",
            "7\n",
            "9\n"
          ]
        }
      ]
    },
    {
      "cell_type": "code",
      "metadata": {
        "id": "2oWKM2NDMqJ4",
        "colab": {
          "base_uri": "https://localhost:8080/"
        },
        "outputId": "d71e8699-e574-4411-90e8-239e8f36ed58"
      },
      "source": [
        "for i in range(10):\n",
        "  if i % 2 == 0:\n",
        "    continue\n",
        "  print(i)"
      ],
      "execution_count": null,
      "outputs": [
        {
          "output_type": "stream",
          "name": "stdout",
          "text": [
            "1\n",
            "3\n",
            "5\n",
            "7\n",
            "9\n"
          ]
        }
      ]
    },
    {
      "cell_type": "markdown",
      "metadata": {
        "id": "qQoq1VqQMxdR"
      },
      "source": [
        "### 리스트 내포(List Comprehension)\n",
        "\n",
        "* 리스트 안에 for 문과 if 문 사용"
      ]
    },
    {
      "cell_type": "code",
      "metadata": {
        "id": "dYS40UmTMuHf",
        "colab": {
          "base_uri": "https://localhost:8080/"
        },
        "outputId": "1f5d5817-59b8-4b2a-c04d-0cec9bdb3844"
      },
      "source": [
        "list = [1, 2, 3, 4, 5]\n",
        "print([i * 2 for i in list])\n",
        "print([i * 2 for i in range(10) if i % 2 == 0])"
      ],
      "execution_count": null,
      "outputs": [
        {
          "output_type": "stream",
          "name": "stdout",
          "text": [
            "[2, 4, 6, 8, 10]\n",
            "[0, 4, 8, 12, 16]\n"
          ]
        }
      ]
    },
    {
      "cell_type": "markdown",
      "metadata": {
        "id": "e-5QZsGNXsrz"
      },
      "source": [
        "\n",
        "\n",
        "---\n",
        "\n"
      ]
    },
    {
      "cell_type": "markdown",
      "metadata": {
        "id": "ML5wscKiPyqB"
      },
      "source": [
        "# 함수(Function)"
      ]
    },
    {
      "cell_type": "markdown",
      "metadata": {
        "id": "qtj7JhCmPyqC"
      },
      "source": [
        "\n",
        "\n",
        "---\n",
        "\n"
      ]
    },
    {
      "cell_type": "markdown",
      "metadata": {
        "id": "eiXXMNU8PyqC"
      },
      "source": [
        "## 함수 기본"
      ]
    },
    {
      "cell_type": "markdown",
      "metadata": {
        "id": "WdU6c5GSyw09"
      },
      "source": [
        "### 함수 개념\n",
        "\n",
        "* 특정 값 $X$를 인자로 받고, 결과값을 반환: $Y=𝑓(𝑋)$\n",
        "* 함수가 필요할 때마다 호출 가능\n",
        "* 논리적인 단위로 분할 가능\n",
        "* 코드의 캡슐화(Capsulation)\n",
        "* 중복되는 소스코드를 최소화\n",
        "* 소스코드의 재사용성을 높임\n",
        "\n",
        "![7-1 함수.png](https://drive.google.com/uc?id=1EH1gy9cAWBZxpjj3NQ7NpxkuuEiymGpk)"
      ]
    },
    {
      "cell_type": "markdown",
      "metadata": {
        "id": "GWTyreZRzzmW"
      },
      "source": [
        "### 함수 선언\n",
        "\n",
        "* 함수 선언 문법\n",
        "```python\n",
        "def 함수명(매개변수):\n",
        "    <수행문>\n",
        "    return <반환값>\n",
        "```\n",
        "* def: 정의(definition)의 줄임으로 사용\n",
        "* 함수명: 사용자가 임의로 지정\n",
        "* 함수명 컨벤션(convention)\n",
        "  + 짧고 명료한 이름\n",
        "  + 소문자로 입력\n",
        "  + 띄어쓰기는 ‘_’ 기호 사용 (hello_world)\n",
        "  + 동사와 명사를 함께 사용 (find_name)\n",
        "* 매개변수(parameter): 함수에서 입력값으로 사용하는 변수\n",
        "* 반환값: 함수에서 반환할 결과값 지정\n"
      ]
    },
    {
      "cell_type": "markdown",
      "metadata": {
        "id": "qQc_0nwV1YyE"
      },
      "source": [
        "### 매개변수와 반환값이 없는 함수\n",
        "\n",
        "* 함수에 매개변수와 반환값이 없이 사용 가능\n",
        "* 함수를 호출하면 함수의 수행문이 실행"
      ]
    },
    {
      "cell_type": "code",
      "metadata": {
        "id": "VIauKM25w6Aw",
        "colab": {
          "base_uri": "https://localhost:8080/"
        },
        "outputId": "1d0455d8-a7fb-488f-a744-6bc5eaed0b25"
      },
      "source": [
        "def hello():\n",
        "  print(\"Hello Python\")\n",
        "\n",
        "hello()"
      ],
      "execution_count": null,
      "outputs": [
        {
          "output_type": "stream",
          "name": "stdout",
          "text": [
            "Hello Python\n"
          ]
        }
      ]
    },
    {
      "cell_type": "markdown",
      "metadata": {
        "id": "eeldN6Kq20h4"
      },
      "source": [
        "### 매개변수만 있는 함수\n",
        "\n",
        "* 문자열 매개변수를 사용한 함수"
      ]
    },
    {
      "cell_type": "code",
      "metadata": {
        "id": "DhVqlr5f24Px",
        "colab": {
          "base_uri": "https://localhost:8080/"
        },
        "outputId": "5c9507c6-282d-47c4-8f1f-a161c99eac1a"
      },
      "source": [
        "def hello(string):\n",
        "  print(\"Hello\", string)\n",
        "\n",
        "hello(\"Python\")"
      ],
      "execution_count": null,
      "outputs": [
        {
          "output_type": "stream",
          "name": "stdout",
          "text": [
            "Hello Python\n"
          ]
        }
      ]
    },
    {
      "cell_type": "markdown",
      "metadata": {
        "id": "mmzbeJNq3uMA"
      },
      "source": [
        "### 반환 값만 있는 함수\n",
        "\n",
        "* 문자열 반환 값을 사용한 함수"
      ]
    },
    {
      "cell_type": "code",
      "metadata": {
        "id": "hv7QPvAN33bB",
        "colab": {
          "base_uri": "https://localhost:8080/",
          "height": 35
        },
        "outputId": "a63ab04c-270e-4791-ca4e-1bcc8f658750"
      },
      "source": [
        "def hello():\n",
        "  return \"Hello Python\"\n",
        "\n",
        "hello()"
      ],
      "execution_count": null,
      "outputs": [
        {
          "output_type": "execute_result",
          "data": {
            "text/plain": [
              "'Hello Python'"
            ],
            "application/vnd.google.colaboratory.intrinsic+json": {
              "type": "string"
            }
          },
          "metadata": {},
          "execution_count": 108
        }
      ]
    },
    {
      "cell_type": "markdown",
      "metadata": {
        "id": "KY_pW4pZ4CbM"
      },
      "source": [
        "### 매개변수와 반환 값이 있는 함수\n",
        "\n",
        "* 정수형 매개변수와 반환 값을 사용한 함수"
      ]
    },
    {
      "cell_type": "code",
      "metadata": {
        "id": "c3aDaQLX4Hwf",
        "colab": {
          "base_uri": "https://localhost:8080/"
        },
        "outputId": "203daff3-4781-40e2-a9e6-138bbd8eb6ec"
      },
      "source": [
        "def square(num):\n",
        "  return num * num\n",
        "\n",
        "square(5)"
      ],
      "execution_count": null,
      "outputs": [
        {
          "output_type": "execute_result",
          "data": {
            "text/plain": [
              "25"
            ]
          },
          "metadata": {},
          "execution_count": 109
        }
      ]
    },
    {
      "cell_type": "markdown",
      "metadata": {
        "id": "BY9mQXbf4TRK"
      },
      "source": [
        "### 매개변수가 여러개 있는 함수\n",
        "\n",
        "* 정수형 매개변수 여러개를 사용한 함수\n",
        "* 매개변수를 지정하여 호출 가능"
      ]
    },
    {
      "cell_type": "code",
      "metadata": {
        "id": "DBc8hUNE4YKr",
        "colab": {
          "base_uri": "https://localhost:8080/"
        },
        "outputId": "321e5790-74fb-4782-a70f-c7ff847a2329"
      },
      "source": [
        "def add(n1, n2):\n",
        "  return n1 + n2\n",
        "\n",
        "print(add(5, 8))\n",
        "print(add(n2 = 5, n1 = 8))"
      ],
      "execution_count": null,
      "outputs": [
        {
          "output_type": "stream",
          "name": "stdout",
          "text": [
            "13\n",
            "13\n"
          ]
        }
      ]
    },
    {
      "cell_type": "markdown",
      "metadata": {
        "id": "meUZXmUR4knx"
      },
      "source": [
        "### 키워드 매개변수\n",
        "\n",
        "* 함수의 매개변수를 변수명을 지정하여 호출 가능"
      ]
    },
    {
      "cell_type": "code",
      "metadata": {
        "id": "k0FipvNp4pXl",
        "colab": {
          "base_uri": "https://localhost:8080/"
        },
        "outputId": "714c0c76-5222-4747-bbd1-f66c40357a44"
      },
      "source": [
        "def add(n1, n2):\n",
        "  return n1 + n2\n",
        "\n",
        "print(add(n2 = 5, n1 = 8))"
      ],
      "execution_count": null,
      "outputs": [
        {
          "output_type": "stream",
          "name": "stdout",
          "text": [
            "13\n"
          ]
        }
      ]
    },
    {
      "cell_type": "markdown",
      "metadata": {
        "id": "3f_8Jxyh5EKA"
      },
      "source": [
        "### 가변 매개변수\n",
        "\n",
        "* 매개변수가 몇 개인지 알 수 없을 때 사용\n",
        "* 매개변수 앞에 '*'을 표시"
      ]
    },
    {
      "cell_type": "code",
      "metadata": {
        "id": "uVpBRKq65JLe",
        "colab": {
          "base_uri": "https://localhost:8080/"
        },
        "outputId": "4c79fd84-4987-43a1-924a-5dab3b134b25"
      },
      "source": [
        "def sum(*args):\n",
        "  result = 0\n",
        "  for i in args:\n",
        "    result = result + i\n",
        "  return result\n",
        "\n",
        "print(sum(1, 2, 3))\n",
        "print(sum(1, 2, 3, 4, 5))"
      ],
      "execution_count": null,
      "outputs": [
        {
          "output_type": "stream",
          "name": "stdout",
          "text": [
            "6\n",
            "15\n"
          ]
        }
      ]
    },
    {
      "cell_type": "markdown",
      "metadata": {
        "id": "czo-wmdL5YRR"
      },
      "source": [
        "### 가변 키워드 매개변수\n",
        "\n",
        "* 매개변수의 이름을 따로 지정하지 않고 사용\n",
        "* 매개변수 앞에 '**'을 표시"
      ]
    },
    {
      "cell_type": "code",
      "metadata": {
        "id": "jcPIBpWF5d9N",
        "colab": {
          "base_uri": "https://localhost:8080/"
        },
        "outputId": "0ef3cd81-c921-48b2-f1f0-09f7e5e4ebe7"
      },
      "source": [
        "def print_kwargs(**kwargs):\n",
        "  print(kwargs)\n",
        "\n",
        "print_kwargs(n1 = 5, n2 = 8)\n",
        "print_kwargs(id = \"Suan\", pw = \"1234\")"
      ],
      "execution_count": null,
      "outputs": [
        {
          "output_type": "stream",
          "name": "stdout",
          "text": [
            "{'n1': 5, 'n2': 8}\n",
            "{'id': 'Suan', 'pw': '1234'}\n"
          ]
        }
      ]
    },
    {
      "cell_type": "markdown",
      "metadata": {
        "id": "BcE5o1GR5ugB"
      },
      "source": [
        "### 초기값 매개변수\n",
        "\n",
        "* 매개변수에 초기값을 설정하여 사용\n",
        "* 함수에 매개변수를 사용하지 않을 때 초기값을 사용"
      ]
    },
    {
      "cell_type": "code",
      "metadata": {
        "id": "Wdsz0tcZ50s_",
        "colab": {
          "base_uri": "https://localhost:8080/"
        },
        "outputId": "02f6e07a-67a3-44f9-cb4b-0f359e396439"
      },
      "source": [
        " def power(b = 2, n = 2):\n",
        "   return pow(b, n)\n",
        "\n",
        "print(power())\n",
        "print(power(3))\n",
        "print(power(5, 2))\n",
        "print(power(n = 3))"
      ],
      "execution_count": null,
      "outputs": [
        {
          "output_type": "stream",
          "name": "stdout",
          "text": [
            "4\n",
            "9\n",
            "25\n",
            "8\n"
          ]
        }
      ]
    },
    {
      "cell_type": "markdown",
      "metadata": {
        "id": "zEmGFAyv6ARs"
      },
      "source": [
        "### 여러 반환 값이 있는 함수\n",
        "\n",
        "* 함수의 반환값은 하나\n",
        "* 여러 반환값을 사용할 경우 튜플 형태로 반환"
      ]
    },
    {
      "cell_type": "code",
      "metadata": {
        "id": "4uA_PmQR6FW5",
        "colab": {
          "base_uri": "https://localhost:8080/"
        },
        "outputId": "05e86531-e64e-4a83-9935-357ac1f154e0"
      },
      "source": [
        "def plus_and_minus(n1, n2):\n",
        "  return n1 + n2, n1 - n2\n",
        "\n",
        "result = plus_and_minus(8, 5)\n",
        "print(result)\n",
        "\n",
        "result1, result2 = plus_and_minus(8, 5)\n",
        "print(result1, result2)"
      ],
      "execution_count": null,
      "outputs": [
        {
          "output_type": "stream",
          "name": "stdout",
          "text": [
            "(13, 3)\n",
            "13 3\n"
          ]
        }
      ]
    },
    {
      "cell_type": "markdown",
      "metadata": {
        "id": "G8OTXx4aw7mY"
      },
      "source": [
        "\n",
        "\n",
        "---\n",
        "\n"
      ]
    },
    {
      "cell_type": "markdown",
      "metadata": {
        "id": "4y7j6wwPw9zd"
      },
      "source": [
        "## 변수의 유효범위\n"
      ]
    },
    {
      "cell_type": "markdown",
      "metadata": {
        "id": "UjzGwc9D7b9d"
      },
      "source": [
        "### 유효 범위\n",
        "\n",
        "* 변수는 유효한 범위가 존재\n",
        "* 함수 안에서 선언된 변수는 함수 내부에서 유효함"
      ]
    },
    {
      "cell_type": "code",
      "metadata": {
        "id": "vvew4Dhq7gYv",
        "colab": {
          "base_uri": "https://localhost:8080/"
        },
        "outputId": "308c19d8-cdea-4523-d7f1-bb7b52beda4c"
      },
      "source": [
        "def var_scope(a):\n",
        "  a = a + 1\n",
        "\n",
        "a = 10\n",
        "var_scope(a)\n",
        "print(a)"
      ],
      "execution_count": null,
      "outputs": [
        {
          "output_type": "stream",
          "name": "stdout",
          "text": [
            "10\n"
          ]
        }
      ]
    },
    {
      "cell_type": "markdown",
      "metadata": {
        "id": "7O3U3dYT7nXD"
      },
      "source": [
        "### 변수의 종류\n",
        "\n",
        "* 지역 변수: 한정된 지역에서만 사용되는 변수\n",
        "* 전역 변수: 프로그램 전체에서 사용되는 변수"
      ]
    },
    {
      "cell_type": "code",
      "metadata": {
        "id": "dhTOG0Uj7tOL",
        "colab": {
          "base_uri": "https://localhost:8080/"
        },
        "outputId": "25f62d99-6282-4a47-a70a-7895ce97620a"
      },
      "source": [
        "a = 10\n",
        "def func1():\n",
        "  a = 20\n",
        "  print(a)\n",
        "\n",
        "def func2():\n",
        "  print(a)\n",
        "\n",
        "func1()\n",
        "func2()"
      ],
      "execution_count": null,
      "outputs": [
        {
          "output_type": "stream",
          "name": "stdout",
          "text": [
            "20\n",
            "10\n"
          ]
        }
      ]
    },
    {
      "cell_type": "markdown",
      "metadata": {
        "id": "3-OF8own71vk"
      },
      "source": [
        "### 전역 변수 사용 global\n",
        "\n",
        "* 함수 내부에서 전역 변수를 사용하기 위한 `global` 키워드"
      ]
    },
    {
      "cell_type": "code",
      "metadata": {
        "id": "J_P_WGSr75jp",
        "colab": {
          "base_uri": "https://localhost:8080/"
        },
        "outputId": "9a15da9d-3e30-4579-def8-501a74a2bc77"
      },
      "source": [
        "a = 10\n",
        "def func1():\n",
        "  global a\n",
        "  a = 20\n",
        "  print(a)\n",
        "\n",
        "def func2():\n",
        "  print(a)\n",
        "\n",
        "func1()\n",
        "func2()"
      ],
      "execution_count": null,
      "outputs": [
        {
          "output_type": "stream",
          "name": "stdout",
          "text": [
            "20\n",
            "20\n"
          ]
        }
      ]
    },
    {
      "cell_type": "markdown",
      "metadata": {
        "id": "NxjgnIKoxGkH"
      },
      "source": [
        "\n",
        "\n",
        "---\n",
        "\n"
      ]
    }
  ]
}