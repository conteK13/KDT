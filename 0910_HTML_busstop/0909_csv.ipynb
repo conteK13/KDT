{
 "cells": [
  {
   "cell_type": "code",
   "execution_count": null,
   "id": "94e24957-51cf-41e0-b996-154adafb3478",
   "metadata": {},
   "outputs": [],
   "source": [
    "import csv\n",
    "f = open ('seoullostcenter.csv','r',encoding='euc-kr', errors='ignore')\n",
    "lines = csv.reader(f)\n",
    "for line in lines:\n",
    "    for x in range(len(line)):\n",
    "        print(line[x])\n",
    "f.close()"
   ]
  },
  {
   "cell_type": "code",
   "execution_count": null,
   "id": "5641c7f9-b065-4055-a932-e14e187ed925",
   "metadata": {},
   "outputs": [],
   "source": [
    "import csv\n",
    "f = open('seoulbuslocation.csv', 'r', encoding='euc-kr')\n",
    "lines = csv.reader(f)\n",
    "for line in lines:\n",
    "    print(line)\n",
    "f.close()"
   ]
  },
  {
   "cell_type": "code",
   "execution_count": null,
   "id": "882bce9e-6f15-4484-9212-8485ac23bad2",
   "metadata": {},
   "outputs": [],
   "source": [
    "import csv\n",
    "f = open('seoulbuslocation.csv', 'r', encoding='euc-kr')\n",
    "lines = csv.reader(f)\n",
    "for line in lines:\n",
    "    if 'JYP엔터테인먼트.윤선생영어교실' in line:\n",
    "        print(line)\n",
    "f.close()"
   ]
  },
  {
   "cell_type": "code",
   "execution_count": null,
   "id": "b241a865-236b-4cc3-805e-80838100a89f",
   "metadata": {},
   "outputs": [
    {
     "name": "stdout",
     "output_type": "stream",
     "text": [
      "DB가 연결되었습니다.\n",
      " * Serving Flask app '__main__'\n",
      " * Debug mode: off\n"
     ]
    },
    {
     "name": "stderr",
     "output_type": "stream",
     "text": [
      "WARNING: This is a development server. Do not use it in a production deployment. Use a production WSGI server instead.\n",
      " * Running on http://127.0.0.1:5000\n",
      "Press CTRL+C to quit\n",
      "127.0.0.1 - - [10/Sep/2024 20:28:31] \"GET / HTTP/1.1\" 200 -\n",
      "127.0.0.1 - - [10/Sep/2024 20:28:57] \"POST /buscheck HTTP/1.1\" 200 -\n"
     ]
    },
    {
     "name": "stdout",
     "output_type": "stream",
     "text": [
      "('종로2가사거리', '중앙차로', 126.987752, 37.569808)\n",
      "('종로2가.삼일교', '중앙차로', 126.9876130976, 37.5685792736)\n",
      "('종로1가', '중앙차로', 126.9810660928, 37.5701482455)\n",
      "('종로1가', '중앙차로', 126.98163, 37.570271)\n",
      "('종로2가', '중앙차로', 126.984991, 37.57017)\n",
      "('종로2가', '중앙차로', 126.986536, 37.570238)\n",
      "('종로3가.탑골공원', '중앙차로', 126.9892689914, 37.5702567706)\n",
      "('종로3가.탑골공원', '중앙차로', 126.9899877751, 37.5703605443)\n",
      "('종로4가.종묘', '중앙차로', 126.9947218896, 37.5705069968)\n",
      "('종로4가.종묘', '중앙차로', 126.995396, 37.570637)\n",
      "('종로5가.광장시장', '중앙차로', 126.999061, 37.570787)\n",
      "('종로5가.광장시장', '중앙차로', 126.999606, 37.570931)\n",
      "('종로6가.동대문종합시장', '중앙차로', 127.004464, 37.57101)\n",
      "('종로6가.동대문종합시장', '중앙차로', 127.0057137364, 37.5711272339)\n"
     ]
    },
    {
     "name": "stderr",
     "output_type": "stream",
     "text": [
      "127.0.0.1 - - [10/Sep/2024 20:29:00] \"GET /back HTTP/1.1\" 200 -\n",
      "127.0.0.1 - - [10/Sep/2024 20:29:05] \"POST /buscheck HTTP/1.1\" 200 -\n"
     ]
    },
    {
     "name": "stdout",
     "output_type": "stream",
     "text": [
      "검색 결과가 없습니다\n"
     ]
    },
    {
     "name": "stderr",
     "output_type": "stream",
     "text": [
      "127.0.0.1 - - [10/Sep/2024 20:29:08] \"GET /back HTTP/1.1\" 200 -\n"
     ]
    }
   ],
   "source": [
    "from flask import Flask, render_template, request\n",
    "import pymysql\n",
    "import hashlib\n",
    "app = Flask(__name__)\n",
    "\n",
    "# 1.MySQL DB에 연결 - connect() 함수 사용\n",
    "# 2.커서(cursor) 생성 - cursor()함수 사용\n",
    "# 3.생성된 커서를 이용해서 sql 명령어를 실행한다 - execute()\n",
    "# 4.입력한 데이터를 저장한다 - commit() 사용\n",
    "# 5.MySQL 연결해제 - close() 함수 사용 \n",
    "\n",
    "#==================================================\n",
    "\n",
    "# 1.MySQL DB에 연결 - connect() 함수 사용\n",
    "conn = pymysql.connect(host='localhost', port =3306, user = 'root', password = 'mysql904#', db = 'mydb', charset = 'utf8')\n",
    "print(\"DB가 연결되었습니다.\")\n",
    "# 2.커서(cursor) 생성 - cursor()함수 사용\n",
    "cur = conn.cursor()\n",
    "\n",
    "@app.route(\"/\")\n",
    "def index():\n",
    "    return render_template('bus.html')\n",
    "    \n",
    "@app.route(\"/back\")\n",
    "def backhome():\n",
    "    return render_template('bus.html')\n",
    "\n",
    "@app.route(\"/buscheck\", methods=['post'])\n",
    "def buscheck():\n",
    "    busname = request.form['name']\n",
    "    buslname = \"%\"+busname+\"%\"\n",
    "    busltype = request.form['type']\n",
    "\n",
    "    # 3.생성된 커서를 이용해서 sql 명령어를 실행한다 - execute()\n",
    "\n",
    "    cur.execute(\"select 정류소명, 정류소타입, x좌표, y좌표 from seoulbuslocation where 정류소명 like %s and 정류소타입 = %s\", (buslname, busltype))\n",
    "    results = cur.fetchall()\n",
    "    if results:\n",
    "        for result in results:\n",
    "            print(result)\n",
    "        return render_template('bus_result.html', busls = results)\n",
    "    else:\n",
    "        print(\"검색 결과가 없습니다\")\n",
    "        return render_template('bus_result.html', bus_alert=\"검색 결과가 없습니다.\")\n",
    "    \n",
    "  \n",
    "host_addr = \"127.0.0.1\"\n",
    "port_num = \"5000\"\n",
    "if __name__ == \"__main__\":\n",
    "    app.run(host=host_addr, port= port_num)\n",
    "\n"
   ]
  },
  {
   "cell_type": "code",
   "execution_count": null,
   "id": "7b8d7047-9673-4f75-a2fc-f6456f415800",
   "metadata": {},
   "outputs": [],
   "source": [
    "\n",
    "# 5.MySQL 연결해제 - close() 함수 사용 \n",
    "conn.close()\n",
    "print(\"DB가 연결 해제되었습니다.\")"
   ]
  }
 ],
 "metadata": {
  "kernelspec": {
   "display_name": "Python 3 (ipykernel)",
   "language": "python",
   "name": "python3"
  },
  "language_info": {
   "codemirror_mode": {
    "name": "ipython",
    "version": 3
   },
   "file_extension": ".py",
   "mimetype": "text/x-python",
   "name": "python",
   "nbconvert_exporter": "python",
   "pygments_lexer": "ipython3",
   "version": "3.12.4"
  }
 },
 "nbformat": 4,
 "nbformat_minor": 5
}
