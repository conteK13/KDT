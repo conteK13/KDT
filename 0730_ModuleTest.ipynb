{
 "cells": [
  {
   "cell_type": "code",
   "execution_count": 17,
   "id": "2b4ce825-27f3-4478-938d-574b7d7fea82",
   "metadata": {},
   "outputs": [
    {
     "name": "stdout",
     "output_type": "stream",
     "text": [
      "안지수님 안녕하세요.\n",
      "홍지영님 반갑습니다.\n",
      "황예림님 만나서 반가워요.\n"
     ]
    }
   ],
   "source": [
    "import greet1\n",
    "\n",
    "print(greet1.hello1('안지수'))\n",
    "print(greet1.hello2('홍지영'))\n",
    "print(greet1.hello3('황예림'))"
   ]
  },
  {
   "cell_type": "code",
   "execution_count": 13,
   "id": "8cc89bd7-1031-42a2-8b0a-3ef7f33087d4",
   "metadata": {},
   "outputs": [
    {
     "name": "stdout",
     "output_type": "stream",
     "text": [
      "김영진님 안녕하세요.\n",
      "10.0\n",
      "나이는 25살 입니다.\n",
      "박소정님 반갑습니다.\n",
      "10.0\n",
      "0.8939966636005579\n",
      "한은정님 만나서 반가워요.\n",
      "나이는 100살 입니다.\n",
      "10.0\n",
      "한은정님 반갑습니다.\n",
      "10.0 0.8414709848078965\n"
     ]
    }
   ],
   "source": [
    "#상황에 맞춰서 import하여라\n",
    "import greet1\n",
    "import math   #내장 모듈\n",
    "print(greet1.hello1('김영진'))\n",
    "print(math.sqrt(100))\n",
    "print(greet1.sqrt(25))\n",
    "\n",
    "import greet1 as gr     #as는 별칭을 붙여주는 것 이제부터 greet1은 gr이라고 부르겠다.\n",
    "import math as m\n",
    "print(gr.hello2('박소정'))\n",
    "print(m.sqrt(100))\n",
    "print(m.sin(90))\n",
    "\n",
    "from greet1 import hello3    #실행할때 메모리를 적게 사용하기 위해 \n",
    "import greet1 as gr\n",
    "import math as m\n",
    "#from greet1 import sqrt      #이 방식을 자주 사용하면 코드 간결성을 해칠 수 있음\n",
    "#from math import sqrt        #마지막으로 쓴 함수 이름이 적용됨\n",
    "\n",
    "#모듈과 모듈간 함수 이름이 같은 경우\n",
    "\n",
    "print(hello3('한은정'))   #모듈 이름 안쓰고 그냥 함수 이름 써도 가능\n",
    "#print(sqrt(100))\n",
    "print(gr.sqrt(100))\n",
    "print(m.sqrt(100))\n",
    " \n",
    "from greet1 import *   #import greet1 와 같다 (시간, 공간 복잡도도 동일)\n",
    "from math import *     #import math 와 같다\n",
    "print(hello2('한은정')) #바로 함수 이름을 쓰면 됨. greet1.hello2()라고 안써도 됨\n",
    "print(sqrt(100), sin(1))"
   ]
  },
  {
   "cell_type": "code",
   "execution_count": 17,
   "id": "ba8e6e67-50cb-47e8-b2a6-85e96c42a6c5",
   "metadata": {},
   "outputs": [
    {
     "name": "stdout",
     "output_type": "stream",
     "text": [
      "floor(7.7) : 7\n",
      "ceil(10.1) : 11\n",
      "round(8.6) : 9\n",
      "5의 팩토리얼 : 120\n"
     ]
    }
   ],
   "source": [
    "import math\n",
    "\n",
    "print('floor(7.7) : %d' % math.floor(7.7))  #소수점 이하 절삭\n",
    "print('ceil(10.1) : %d' % math.ceil(10.1))  #소수점 올림\n",
    "print('round(8.6) : %d' % round(8.6))       #반올림\n",
    "print('5의 팩토리얼 : %d' % math.factorial(5))\n"
   ]
  },
  {
   "cell_type": "code",
   "execution_count": 21,
   "id": "0b73cdf8-d134-4565-a8bf-a6bb23b4dedc",
   "metadata": {},
   "outputs": [
    {
     "name": "stdout",
     "output_type": "stream",
     "text": [
      "sin(pi/2) : 1.00\n",
      "cos(pi) : -1.00\n",
      "tan(pi*2) : -0.00\n",
      "2의 4승 : 16\n",
      "16\n",
      "49의 제곱근 : 7\n",
      "log10(100) : 2.00\n"
     ]
    }
   ],
   "source": [
    "import math as m\n",
    "\n",
    "print('sin(pi/2) : %.2f' % m.sin(m.pi/2))\n",
    "print('cos(pi) : %.2f' % m.cos(m.pi))\n",
    "print('tan(pi*2) : %.2f' % m.tan(m.pi*2))\n",
    "print('2의 4승 : %d' % m.pow(2,4))    #2**4\n",
    "#**가 pow보다 더 넓은 범위를 커버함. 자세한 내용은 chat GPT\n",
    "\n",
    "print('49의 제곱근 : %d' % m.sqrt(49))\n",
    "print('log10(100) : %.2f' % m.log10(100))"
   ]
  },
  {
   "cell_type": "code",
   "execution_count": 51,
   "id": "a622b481-27e6-411c-8630-9be15666eb13",
   "metadata": {},
   "outputs": [
    {
     "name": "stdout",
     "output_type": "stream",
     "text": [
      "0.7156321191412515\n",
      "0.21943032408863183\n",
      "0.07327413517107695\n"
     ]
    }
   ],
   "source": [
    "import random\n",
    "for i in range(3) : \n",
    "    print(random.random())  #범위를 지정하지 않음. 0~1 사이의 소수점 출력"
   ]
  },
  {
   "cell_type": "code",
   "execution_count": 55,
   "id": "67582603-3dbc-4dc5-a1bb-6a304e33d4c7",
   "metadata": {},
   "outputs": [
    {
     "name": "stdout",
     "output_type": "stream",
     "text": [
      "3\n",
      "1\n",
      "9\n",
      "3\n",
      "3\n"
     ]
    }
   ],
   "source": [
    "import random\n",
    "for i in range(5) :\n",
    "    print(random.randrange(1, 11, 2)) #시작값, 종료값+1, step을 2씩"
   ]
  },
  {
   "cell_type": "code",
   "execution_count": 63,
   "id": "dd43bebd-55ab-40eb-b721-9ff3b1aa8a77",
   "metadata": {},
   "outputs": [
    {
     "name": "stdout",
     "output_type": "stream",
     "text": [
      "3\n",
      "6\n",
      "4\n",
      "5\n",
      "4\n"
     ]
    }
   ],
   "source": [
    "import random\n",
    "for i in range(5) :\n",
    "    print(random.randint(1, 6)) #시작값, 종료값 //(n-1)하지 않음 이것만 예외임!!! 유의!!!"
   ]
  },
  {
   "cell_type": "code",
   "execution_count": 65,
   "id": "250b530a-0c68-4b9d-8ae5-427cc5cb197f",
   "metadata": {},
   "outputs": [
    {
     "name": "stdout",
     "output_type": "stream",
     "text": [
      "가위\n",
      "바위\n",
      "가위\n",
      "바위\n",
      "보\n"
     ]
    }
   ],
   "source": [
    "import random\n",
    "toss = ['가위', '바위', '보']\n",
    "for i in range(5) :\n",
    "    print(random.choice(toss))"
   ]
  },
  {
   "cell_type": "code",
   "execution_count": 69,
   "id": "a5ee90f8-cbee-4364-ac1a-9d3b12e0f385",
   "metadata": {},
   "outputs": [
    {
     "name": "stdout",
     "output_type": "stream",
     "text": [
      "['오렌지', '사과', '바나나']\n",
      "['오렌지', '바나나', '사과']\n",
      "['사과', '바나나', '오렌지']\n"
     ]
    }
   ],
   "source": [
    "import random\n",
    "fruits = ['사과', '바나나', '오렌지']\n",
    "for i in range(3) :\n",
    "    random.shuffle(fruits)\n",
    "    print(fruits)"
   ]
  },
  {
   "cell_type": "code",
   "execution_count": 71,
   "id": "6019f850-e14a-4311-8947-364518f3bfd5",
   "metadata": {},
   "outputs": [
    {
     "name": "stdout",
     "output_type": "stream",
     "text": [
      "------------------------------\n",
      "주사위 던지기 : 1번째\n",
      "나 : 3\n",
      "컴퓨터 : 5\n",
      "컴퓨터의 승리!\n"
     ]
    },
    {
     "name": "stdin",
     "output_type": "stream",
     "text": [
      "계속하려면 y를 입력하세요! y\n"
     ]
    },
    {
     "name": "stdout",
     "output_type": "stream",
     "text": [
      "------------------------------\n",
      "주사위 던지기 : 2번째\n",
      "나 : 1\n",
      "컴퓨터 : 6\n",
      "컴퓨터의 승리!\n"
     ]
    },
    {
     "name": "stdin",
     "output_type": "stream",
     "text": [
      "계속하려면 y를 입력하세요! y\n"
     ]
    },
    {
     "name": "stdout",
     "output_type": "stream",
     "text": [
      "------------------------------\n",
      "주사위 던지기 : 3번째\n",
      "나 : 4\n",
      "컴퓨터 : 3\n",
      "나의 승리!\n"
     ]
    },
    {
     "name": "stdin",
     "output_type": "stream",
     "text": [
      "계속하려면 y를 입력하세요! y\n"
     ]
    },
    {
     "name": "stdout",
     "output_type": "stream",
     "text": [
      "------------------------------\n",
      "주사위 던지기 : 4번째\n",
      "나 : 6\n",
      "컴퓨터 : 5\n",
      "나의 승리!\n"
     ]
    },
    {
     "name": "stdin",
     "output_type": "stream",
     "text": [
      "계속하려면 y를 입력하세요! y\n"
     ]
    },
    {
     "name": "stdout",
     "output_type": "stream",
     "text": [
      "------------------------------\n",
      "주사위 던지기 : 5번째\n",
      "나 : 2\n",
      "컴퓨터 : 5\n",
      "컴퓨터의 승리!\n"
     ]
    },
    {
     "name": "stdin",
     "output_type": "stream",
     "text": [
      "계속하려면 y를 입력하세요! y\n"
     ]
    },
    {
     "name": "stdout",
     "output_type": "stream",
     "text": [
      "------------------------------\n",
      "주사위 던지기 : 6번째\n",
      "나 : 2\n",
      "컴퓨터 : 1\n",
      "나의 승리!\n"
     ]
    },
    {
     "name": "stdin",
     "output_type": "stream",
     "text": [
      "계속하려면 y를 입력하세요! y\n"
     ]
    },
    {
     "name": "stdout",
     "output_type": "stream",
     "text": [
      "------------------------------\n",
      "주사위 던지기 : 7번째\n",
      "나 : 1\n",
      "컴퓨터 : 3\n",
      "컴퓨터의 승리!\n"
     ]
    },
    {
     "name": "stdin",
     "output_type": "stream",
     "text": [
      "계속하려면 y를 입력하세요! a\n"
     ]
    }
   ],
   "source": [
    "import random\n",
    "again = 'y' #yes\n",
    "count = 1\n",
    "\n",
    "while again =='y':  #again = 'y'이면 계속 loop를 돈다.\n",
    "    print('-' * 30)\n",
    "    print('주사위 던지기 : %d번째' % count)\n",
    "    \n",
    "    me = random.randint(1, 6)\n",
    "    computer = random.randint(1, 6)\n",
    "    print('나 : %d' % me )\n",
    "    print('컴퓨터 : %d' % computer)\n",
    "    \n",
    "    if me > computer :\n",
    "        print('나의 승리!')\n",
    "    elif me == computer :\n",
    "        print('무승부!')\n",
    "    else :\n",
    "        print('컴퓨터의 승리!')\n",
    "    count = count + 1\n",
    "    \n",
    "    again = input('계속하려면 y를 입력하세요!')   #y를 입력하면 계속 된다. 다른게 들어가면 종료!"
   ]
  },
  {
   "cell_type": "code",
   "execution_count": 5,
   "id": "19bf2453-cc37-4558-8edb-161dd20b42ce",
   "metadata": {},
   "outputs": [
    {
     "name": "stdout",
     "output_type": "stream",
     "text": [
      "==============================\n",
      "가위 바위 보 게임\n",
      "==============================\n",
      "나 : 보\n",
      "당신 : 보\n",
      "무승부입니다!\n",
      "------------------------------\n"
     ]
    },
    {
     "name": "stdin",
     "output_type": "stream",
     "text": [
      "계속하려면 y를 입력하세요! y\n"
     ]
    },
    {
     "name": "stdout",
     "output_type": "stream",
     "text": [
      "\n",
      "나 : 보\n",
      "당신 : 바위\n",
      "나의 승리입니다!\n",
      "------------------------------\n"
     ]
    },
    {
     "name": "stdin",
     "output_type": "stream",
     "text": [
      "계속하려면 y를 입력하세요! y\n"
     ]
    },
    {
     "name": "stdout",
     "output_type": "stream",
     "text": [
      "\n",
      "나 : 가위\n",
      "당신 : 보\n",
      "나의 승리입니다!\n",
      "------------------------------\n"
     ]
    },
    {
     "name": "stdin",
     "output_type": "stream",
     "text": [
      "계속하려면 y를 입력하세요! y\n"
     ]
    },
    {
     "name": "stdout",
     "output_type": "stream",
     "text": [
      "\n",
      "나 : 바위\n",
      "당신 : 보\n",
      "당신의 승리입니다!\n",
      "------------------------------\n"
     ]
    },
    {
     "name": "stdin",
     "output_type": "stream",
     "text": [
      "계속하려면 y를 입력하세요! z\n"
     ]
    },
    {
     "name": "stdout",
     "output_type": "stream",
     "text": [
      "\n"
     ]
    }
   ],
   "source": [
    "import random\n",
    "def whoWin(x, y) :   #x는 나, y는 상대\n",
    "    if x == '가위' :\n",
    "        if y == '가위' :\n",
    "            msg = '무승부입니다!'\n",
    "        elif y == '바위' :\n",
    "            msg = '당신의 승리입니다!'\n",
    "        else :\n",
    "            msg = '나의 승리입니다!'\n",
    "    elif x == '바위' :\n",
    "        if y == '가위' :\n",
    "            msg = '나의 승리입니다!'\n",
    "        elif y == '바위' :\n",
    "            msg = '무승부입니다!'\n",
    "        else :\n",
    "            msg = '당신의 승리입니다!'\n",
    "    else :\n",
    "        if y == '가위' :\n",
    "            msg = '당신의 승리입니다!'\n",
    "        elif y == '바위' :\n",
    "            msg = '나의 승리입니다!'\n",
    "        else :\n",
    "            msg = '무승부입니다!'\n",
    "    return msg\n",
    "\n",
    "print('=' * 30)\n",
    "print('가위 바위 보 게임')\n",
    "print('=' * 30)\n",
    "gawibawibo = ['가위','바위', '보']\n",
    "again = 'y'\n",
    "while again == 'y' :\n",
    "    me = random.choice(gawibawibo)\n",
    "    you = random.choice(gawibawibo)\n",
    "    result = whoWin(me, you)\n",
    "    print('나 : %s' % me)\n",
    "    print('당신 : %s' % you)\n",
    "    print(result)\n",
    "    print('-' * 30)\n",
    "    again = input('계속하려면 y를 입력하세요!')\n",
    "    print()"
   ]
  },
  {
   "cell_type": "code",
   "execution_count": 11,
   "id": "f8de6d17-84f8-4779-b4b4-f098e1a61825",
   "metadata": {},
   "outputs": [
    {
     "name": "stdout",
     "output_type": "stream",
     "text": [
      "==============================\n",
      "가위 바위 보 게임\n",
      "==============================\n",
      "나 : 가위\n",
      "당신 : 바위\n",
      "당신의 승리입니다!\n",
      "------------------------------\n"
     ]
    },
    {
     "name": "stdin",
     "output_type": "stream",
     "text": [
      "계속하려면 y를 입력하세요! y\n"
     ]
    },
    {
     "name": "stdout",
     "output_type": "stream",
     "text": [
      "\n",
      "나 : 가위\n",
      "당신 : 가위\n",
      "무승부입니다!\n",
      "------------------------------\n"
     ]
    },
    {
     "name": "stdin",
     "output_type": "stream",
     "text": [
      "계속하려면 y를 입력하세요! y\n"
     ]
    },
    {
     "name": "stdout",
     "output_type": "stream",
     "text": [
      "\n",
      "나 : 보\n",
      "당신 : 가위\n",
      "당신의 승리입니다!\n",
      "------------------------------\n"
     ]
    },
    {
     "name": "stdin",
     "output_type": "stream",
     "text": [
      "계속하려면 y를 입력하세요! y\n"
     ]
    },
    {
     "name": "stdout",
     "output_type": "stream",
     "text": [
      "\n",
      "나 : 바위\n",
      "당신 : 바위\n",
      "무승부입니다!\n",
      "------------------------------\n"
     ]
    },
    {
     "name": "stdin",
     "output_type": "stream",
     "text": [
      "계속하려면 y를 입력하세요! y\n"
     ]
    },
    {
     "name": "stdout",
     "output_type": "stream",
     "text": [
      "\n",
      "나 : 가위\n",
      "당신 : 바위\n",
      "당신의 승리입니다!\n",
      "------------------------------\n"
     ]
    },
    {
     "name": "stdin",
     "output_type": "stream",
     "text": [
      "계속하려면 y를 입력하세요! y\n"
     ]
    },
    {
     "name": "stdout",
     "output_type": "stream",
     "text": [
      "\n",
      "나 : 바위\n",
      "당신 : 가위\n",
      "나의 승리입니다!\n",
      "------------------------------\n"
     ]
    },
    {
     "name": "stdin",
     "output_type": "stream",
     "text": [
      "계속하려면 y를 입력하세요! y\n"
     ]
    },
    {
     "name": "stdout",
     "output_type": "stream",
     "text": [
      "\n",
      "나 : 가위\n",
      "당신 : 바위\n",
      "당신의 승리입니다!\n",
      "------------------------------\n"
     ]
    },
    {
     "name": "stdin",
     "output_type": "stream",
     "text": [
      "계속하려면 y를 입력하세요! a\n"
     ]
    },
    {
     "name": "stdout",
     "output_type": "stream",
     "text": [
      "\n"
     ]
    }
   ],
   "source": [
    "import random\n",
    "def whoWin(x, y) :   #x는 나, y는 상대\n",
    "    x_id = gawibawibo.index(x)   #리스트에서 입력받은 값이 인덱스로 몇번인지 확인\n",
    "    y_id = gawibawibo.index(y)\n",
    "\n",
    "    if x_id == y_id:     #index가 같으면 무승부\n",
    "        msg = '무승부입니다!'\n",
    "    elif (x_id - y_id == 1) or (x_id ==0 and y_id==2): #x의 index가 1높은 경우\n",
    "        msg = '나의 승리입니다!'\n",
    "    else:\n",
    "        msg = '당신의 승리입니다!'\n",
    "    return msg\n",
    "\n",
    "print('=' * 30)\n",
    "print('가위 바위 보 게임')\n",
    "print('=' * 30)\n",
    "gawibawibo = ['가위','바위', '보']\n",
    "again = 'y'\n",
    "while again == 'y' :\n",
    "    me = random.choice(gawibawibo)\n",
    "    you = random.choice(gawibawibo)\n",
    "    result = whoWin(me, you)\n",
    "    print('나 : %s' % me)\n",
    "    print('당신 : %s' % you)\n",
    "    print(result)\n",
    "    print('-' * 30)\n",
    "    again = input('계속하려면 y를 입력하세요!')\n",
    "    print()"
   ]
  },
  {
   "cell_type": "code",
   "execution_count": 13,
   "id": "19c93ddc-7440-442a-bc39-0b435ce7b90a",
   "metadata": {},
   "outputs": [
    {
     "name": "stdin",
     "output_type": "stream",
     "text": [
      "게임의 입력 범위 n을 입력해 주세요 : 5\n",
      "값을 입력해 주세요 :  3\n"
     ]
    },
    {
     "name": "stdout",
     "output_type": "stream",
     "text": [
      "DOWN\n"
     ]
    },
    {
     "name": "stdin",
     "output_type": "stream",
     "text": [
      "값을 입력해 주세요 :  2\n"
     ]
    },
    {
     "name": "stdout",
     "output_type": "stream",
     "text": [
      "DOWN\n"
     ]
    },
    {
     "name": "stdin",
     "output_type": "stream",
     "text": [
      "값을 입력해 주세요 :  1\n"
     ]
    },
    {
     "name": "stdout",
     "output_type": "stream",
     "text": [
      "축하합니다, 3번 만에 정답 1을 맞추셨습니다~!!!\n"
     ]
    },
    {
     "name": "stdin",
     "output_type": "stream",
     "text": [
      "다시 시작하고 싶다면 GO를 입력하세요 GO\n",
      "게임의 입력 범위 n을 입력해 주세요 : 5\n",
      "값을 입력해 주세요 :  3\n"
     ]
    },
    {
     "name": "stdout",
     "output_type": "stream",
     "text": [
      "DOWN\n"
     ]
    },
    {
     "name": "stdin",
     "output_type": "stream",
     "text": [
      "값을 입력해 주세요 :  2\n"
     ]
    },
    {
     "name": "stdout",
     "output_type": "stream",
     "text": [
      "축하합니다, 2번 만에 정답 2을 맞추셨습니다~!!!\n"
     ]
    },
    {
     "name": "stdin",
     "output_type": "stream",
     "text": [
      "다시 시작하고 싶다면 GO를 입력하세요 \n"
     ]
    }
   ],
   "source": [
    "#UP_DOWN게임\n",
    "#조건1 : 값의 입력 범위 입력(1~n)\n",
    "#        1~n사이의 random한 값을 answer에 입력\n",
    "#조건2 : 사용자가 값을 입력하면, PC가 UP, DOWN을 외친다.\n",
    "#조건3 : 사용자가 답을 맞출 때까지 반복\n",
    "#조건4 : 정답을 맞춘 경우, 정답과 함께 몇번 시도했는지 횟수를 출력한다.\n",
    "#        \"축하합니다, 20번 만에 정답 30을 맞추셨습니다~!!!\"\n",
    "#조건5 : 실행파일을 만들어서 카페에 업로드. -> \"경연종원.exe\"\n",
    "\n",
    "\n",
    "#random한 숫자 answer를 만들기 위해 random import\n",
    "import random\n",
    "\n",
    "#정답, up, down 여부를 확인할 때마다 호출할 함수\n",
    "#함수 내에서 상태(정답 여부, up, down) 출력\n",
    "#반환값으로 정답여부를 출력한다.\n",
    "def check():\n",
    "    if u_user == answer:\n",
    "        print(\"축하합니다, %d번 만에 정답 %d을 맞추셨습니다~!!!\" % (count, answer))\n",
    "        return True\n",
    "    elif u_user > answer:\n",
    "        print(\"DOWN\")\n",
    "        return False\n",
    "    else:\n",
    "        print(\"UP\")\n",
    "        return False\n",
    "        \n",
    "count = 0 #입력 횟수를 셀 변수 count\n",
    "n = int(input(\"게임의 입력 범위 n을 입력해 주세요 :\"))\n",
    "answer = random.randint(1, n)\n",
    "\n",
    "while True:\n",
    "    u_user = int(input(\"값을 입력해 주세요 : \"))\n",
    "    count += 1   #loop를 한번 돌때마다 +1\n",
    "    result = check()\n",
    "    if result == True:\n",
    "        comment = input(\"다시 시작하고 싶다면 GO를 입력하세요\")\n",
    "        if comment != \"GO\":\n",
    "            break\n",
    "        n = int(input(\"게임의 입력 범위 n을 입력해 주세요 :\"))\n",
    "        answer = random.randint(1, n)\n",
    "        count = 0"
   ]
  }
 ],
 "metadata": {
  "kernelspec": {
   "display_name": "Python 3 (ipykernel)",
   "language": "python",
   "name": "python3"
  },
  "language_info": {
   "codemirror_mode": {
    "name": "ipython",
    "version": 3
   },
   "file_extension": ".py",
   "mimetype": "text/x-python",
   "name": "python",
   "nbconvert_exporter": "python",
   "pygments_lexer": "ipython3",
   "version": "3.12.4"
  }
 },
 "nbformat": 4,
 "nbformat_minor": 5
}
