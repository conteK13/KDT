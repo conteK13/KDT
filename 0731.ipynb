{
 "cells": [
  {
   "cell_type": "code",
   "execution_count": 5,
   "id": "dcb030be-342d-4801-a2cb-33af1b6e17d6",
   "metadata": {},
   "outputs": [
    {
     "name": "stdout",
     "output_type": "stream",
     "text": [
      "년 : 2024\n",
      "월 : 7\n",
      "일 : 31\n",
      "시 : 10\n",
      "분 : 43\n",
      "초 : 39\n",
      "2024/07/31 10:43:39\n",
      "24-07-31 AM 10:43\n"
     ]
    }
   ],
   "source": [
    "from datetime import datetime\n",
    "today = datetime.now()\n",
    "\n",
    "print('년 : %s' % today.year)\n",
    "print('월 : %s' % today.month)\n",
    "print('일 : %s' % today.day)\n",
    "print('시 : %s' % today.hour)\n",
    "print('분 : %s' % today.minute)\n",
    "print('초 : %s' % today.second)\n",
    "\n",
    "print(today.strftime('%Y/%m/%d %H:%M:%S'))    #연(4자리수)/월/일 시(24시기준):분:초\n",
    "print(today.strftime('%y-%m-%d %p %I:%M'))    #연(2자리수)-월-일 pmam 시(12시 기준) 분"
   ]
  },
  {
   "cell_type": "code",
   "execution_count": 7,
   "id": "7feb8522-6869-4c6e-b619-bb9d8a7d7d6a",
   "metadata": {},
   "outputs": [
    {
     "name": "stdout",
     "output_type": "stream",
     "text": [
      "10 + 20 = 30\n",
      "100 + 200 = 300\n"
     ]
    }
   ],
   "source": [
    "class Calculator :\n",
    "    def set(self, x, y) :\n",
    "        self.first = x\n",
    "        self.second = y\n",
    "        \n",
    "    def add(self) :\n",
    "        result = self.first + self.second\n",
    "        return result\n",
    "        \n",
    "cal1 = Calculator()\n",
    "cal1.set(10, 20)\n",
    "print('%d + %d = %d' % (cal1.first, cal1.second,cal1.add()))\n",
    "cal1.set(100, 200)\n",
    "print('%d + %d = %d' % (cal1.first, cal1.second,cal1.add()))"
   ]
  },
  {
   "cell_type": "code",
   "execution_count": 11,
   "id": "3461ea42-3711-4c7f-a2d3-8d0ba4e0bf6c",
   "metadata": {},
   "outputs": [
    {
     "name": "stdout",
     "output_type": "stream",
     "text": [
      "이름 : 홍지수\n",
      "나이 : 24\n",
      "이름 : 안지영\n",
      "나이 : 20\n"
     ]
    }
   ],
   "source": [
    "class Member :\n",
    "    def __init__(self, name, age) :\n",
    "        self.name = name\n",
    "        self.age = age\n",
    "    def showMember(self) :\n",
    "        print('이름 : %s' % self.name)\n",
    "        print('나이 : %d' % self.age)\n",
    "    \n",
    "mem1 = Member('홍지수', 24)\n",
    "mem1.showMember()\n",
    "mem2 = Member('안지영', 20)\n",
    "mem2.showMember()"
   ]
  },
  {
   "cell_type": "code",
   "execution_count": 15,
   "id": "b598bbca-c326-4dd5-8688-2296c9b90a2b",
   "metadata": {},
   "outputs": [
    {
     "name": "stdout",
     "output_type": "stream",
     "text": [
      "110\n",
      "130\n",
      "150\n"
     ]
    }
   ],
   "source": [
    "class MyClass :\n",
    "    number = 100 # 클래스 속성\n",
    "    def inc_10(self):\n",
    "        MyClass.number += 10\n",
    "    def inc_20(self):\n",
    "        MyClass.number += 20\n",
    "        \n",
    "obj1 = MyClass()\n",
    "obj1.inc_10()\n",
    "print(obj1.number)\n",
    "\n",
    "obj2 = MyClass()\n",
    "obj2.inc_20()\n",
    "print(obj2.number) \n",
    "\n",
    "obj1.inc_20()\n",
    "print(obj1.number)"
   ]
  },
  {
   "cell_type": "code",
   "execution_count": 21,
   "id": "31f93142-9b83-466d-8484-f33792f0a12e",
   "metadata": {},
   "outputs": [
    {
     "name": "stdout",
     "output_type": "stream",
     "text": [
      "130\n",
      "230\n"
     ]
    }
   ],
   "source": [
    "class MyClass :\n",
    "    def __init__(self, number) :\n",
    "        self.number = number # 인스턴스 속성\n",
    "    def inc_10(self):\n",
    "        self.number += 10\n",
    "    def inc_20(self):\n",
    "        self.number += 20\n",
    "        \n",
    "obj1 = MyClass(100)\n",
    "obj1.inc_10()\n",
    "obj1.inc_20()\n",
    "print(obj1.number)\n",
    "\n",
    "obj2 = MyClass(200)\n",
    "obj2.inc_10()\n",
    "obj2.inc_20()\n",
    "print(obj2.number)"
   ]
  },
  {
   "cell_type": "code",
   "execution_count": 23,
   "id": "986523d3-eed5-4385-bfba-4f3c949fa994",
   "metadata": {},
   "outputs": [
    {
     "name": "stdout",
     "output_type": "stream",
     "text": [
      "반지름: 10\n",
      "원의 면적 : 314.16\n",
      "원주의 길이 : 62.83\n"
     ]
    }
   ],
   "source": [
    "#Q9-1 객체지향 원의 면적과 원주\n",
    "import math\n",
    "class Circle :\n",
    "    def __init__(self, radius) :\n",
    "        self.radius = radius\n",
    "    def getArea(self) :\n",
    "        area = math.pi * self.radius * self.radius\n",
    "        return area\n",
    "    def getCircum(self) :\n",
    "        circum = 2 * 3.141592 * self.radius\n",
    "        return circum\n",
    "        \n",
    "cir = Circle(10)\n",
    "print('반지름: %d' % cir.radius)\n",
    "print('원의 면적 : %.2f' % cir.getArea())\n",
    "print('원주의 길이 : %.2f' % cir.getCircum())"
   ]
  },
  {
   "cell_type": "code",
   "execution_count": 25,
   "id": "5e8adfb6-b90c-4e4d-b086-920092cad821",
   "metadata": {},
   "outputs": [
    {
     "name": "stdout",
     "output_type": "stream",
     "text": [
      "행복이\n",
      "멍멍~~~\n"
     ]
    }
   ],
   "source": [
    "class Animal:\n",
    "    def __init__(self, name):\n",
    "        self.name = name\n",
    "    def printName(self):\n",
    "        print(self.name)\n",
    "\n",
    "class Dog(Animal):\n",
    "    def __init__(self, name, sound):\n",
    "        super().__init__(name)\n",
    "        self.sound = sound\n",
    "    def printSound(self):\n",
    "        print(self.sound)\n",
    "        \n",
    "dog1 = Dog('행복이', '멍멍~~~')\n",
    "dog1.printName()    #Animal의 printname을 Dog를 통해 호출\n",
    "dog1.printSound()"
   ]
  },
  {
   "cell_type": "code",
   "execution_count": 45,
   "id": "837a6ba6-15ea-4103-bb1b-1827113db957",
   "metadata": {},
   "outputs": [
    {
     "name": "stdout",
     "output_type": "stream",
     "text": [
      "이름:홍지수, 나이:20\n",
      "홍지수, 20\n",
      "홍지수님의 학과:소프트웨어공학과, 학번:20215550001\n"
     ]
    }
   ],
   "source": [
    "class Person:\n",
    "    def __init__(self, name, age):\n",
    "        self.name = name\n",
    "        self.age = age\n",
    "    def printInfo(self):\n",
    "        print('이름:%s, 나이:%d' % (self.name, self.age))\n",
    "    def getInfo(self) :\n",
    "        return self.name + ', ' + str(self.age)\n",
    "class Student(Person):\n",
    "    def __init__(self, name, age, department, id):\n",
    "        super().__init__(name, age)\n",
    "        self.department = department\n",
    "        self.id = id\n",
    "    def printStudentInfo(self):\n",
    "        name_age = super().getInfo()\n",
    "        print(name_age)\n",
    "        print('%s님의 학과:%s, 학번:%s' % (self.name,\n",
    "self.department, self.id))\n",
    "x = Student('홍지수', 20, '소프트웨어공학과', '20215550001')\n",
    "x.printInfo()\n",
    "x.printStudentInfo()"
   ]
  }
 ],
 "metadata": {
  "kernelspec": {
   "display_name": "Python 3 (ipykernel)",
   "language": "python",
   "name": "python3"
  },
  "language_info": {
   "codemirror_mode": {
    "name": "ipython",
    "version": 3
   },
   "file_extension": ".py",
   "mimetype": "text/x-python",
   "name": "python",
   "nbconvert_exporter": "python",
   "pygments_lexer": "ipython3",
   "version": "3.12.4"
  }
 },
 "nbformat": 4,
 "nbformat_minor": 5
}
