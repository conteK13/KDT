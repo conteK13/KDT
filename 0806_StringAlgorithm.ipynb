{
 "cells": [
  {
   "cell_type": "code",
   "execution_count": 7,
   "id": "4eeeb8f0-f941-4646-8e63-88202125ae04",
   "metadata": {},
   "outputs": [
    {
     "name": "stdout",
     "output_type": "stream",
     "text": [
      "19 | -1 |   삶은 행복과 생각의 반복이다   |   삶은 행복과 생각의 반복이다  \n",
      "삶은 행복과 생각의 반복이다 |   삶은 행복과 생각의 반복이다   | ['삶은', '행복과', '생각의', '반복이다']\n"
     ]
    }
   ],
   "source": [
    "#문자열 메소드의 실행 예제.\n",
    "#s = \"  life is good  \"\n",
    "s = \"  삶은 행복과 생각의 반복이다  \"\n",
    "lenstr = len(s)         #길이를 반환하는 함수.\n",
    "findstr = s.find('i')   #첫번째 'i'의 인덱스를 반환.\n",
    "upperstr = s.upper()    #문자열을 대문자로 변환하여 반환.\n",
    "lowerstr = s.lower()    #문자열을 소문자로 변환하여 반환.\n",
    "stripstr = s.strip()    #문자열 양 옆의 공백 제거.\n",
    "relacestr = s.replace(\"good\", \"sad\")    #\"good\"을 \"sad\"로 변환.\n",
    "splitstr = s.split()    #공백을 기준으로 문자열을 리스트로 나눔.\n",
    "\n",
    "print(lenstr, findstr, upperstr, lowerstr, sep = \" | \")\n",
    "print(stripstr, relacestr, splitstr, sep = \" | \")"
   ]
  },
  {
   "cell_type": "code",
   "execution_count": null,
   "id": "22bd9b14-dea8-4411-ac13-ddd104e1d6fc",
   "metadata": {},
   "outputs": [],
   "source": [
    "// p[] : 찾을 패턴\n",
    "// t[] : 전체 텍스트\n",
    "// M : 찾을 패턴의 길이\n",
    "// N : 전체 텍스트의 길이\n",
    "// i : t의 인덱스 \n",
    "\n",
    "BruteForce(p[], t[]) \n",
    "    i ← 0, j ← 0\n",
    "    while(j < M and i < N) do {\n",
    "        if (t[i] ≠ p[j]) then {\n",
    "            i ← i- j;\n",
    "            j ←-1;\n",
    "        }\n",
    "        i ←i + 1, j ← j + 1\n",
    "    }\n",
    "    if (j = M) then returni- M;\n",
    "    else return i;\n",
    "end ButeForce()"
   ]
  },
  {
   "cell_type": "code",
   "execution_count": 13,
   "id": "dc9615be-fa8c-406a-9fc5-b434c915e2de",
   "metadata": {},
   "outputs": [
    {
     "name": "stdout",
     "output_type": "stream",
     "text": [
      "7\n"
     ]
    }
   ],
   "source": [
    "#BruteForce Algorithm(고지식한 알고리즘).\n",
    "\n",
    "# t : 전체 텍스트의 문자열.\n",
    "# p : 찾을 패턴의 문자열.\n",
    "\n",
    "\n",
    "def BruteForce(t,p):\n",
    "    i, j = 0, 0     #텍스트와 패턴의 인덱스 변수.\n",
    "    n = len(t)      #전체 텍스트의 길이.\n",
    "    m = len(p)      #패턴의 길이.\n",
    "    \n",
    "    while(i< n and j < m): #모든 문자를 확인하면 반복을 하지 않는다.\n",
    "        if t[i] != p[j]:\n",
    "            i += -j        #다음 시작점으로 이동하기 위해 i = i -j해준다(확인한 패턴의 길이만큼 빼준다).\n",
    "            j = -1         #j는 초기값으로 돌아간다.\n",
    "            \n",
    "        i+=1\n",
    "        j+=1\n",
    "        \n",
    "    if j == m:     #j가 m이 되었다는 건, 패턴의 모든 문자열의 검색을 완료 했다는 의미\n",
    "        return i-m #문자열의 첫위치 출력\n",
    "    else:\n",
    "        return i   #i를 반환하면서 텍스트의 긑을 효과적으로 나타냄 \n",
    "\n",
    "t = 'Starteatingwellwiththeseeighttipsforhealthyeating,whichcoverthebasicsofahealthydietandgoodnutrition.'\n",
    "p = 'ti'\n",
    "# t = 'test'\n",
    "# p = 'e'\n",
    "print(BruteForce(t,p))"
   ]
  },
  {
   "cell_type": "code",
   "execution_count": null,
   "id": "f35714f3-0289-4f56-aa81-65a2d4c7546b",
   "metadata": {},
   "outputs": [],
   "source": [
    "for _ in range(1, 11):\n",
    "    tc = int(input())\n",
    "    k = input()\n",
    "    s = input()\n",
    "    result = s.count(k)\n",
    "    print(f'#{tc} {result}')"
   ]
  },
  {
   "cell_type": "code",
   "execution_count": 19,
   "id": "9ebe75d4-f801-4acc-9163-851e3ee19990",
   "metadata": {},
   "outputs": [
    {
     "name": "stdout",
     "output_type": "stream",
     "text": [
      "497\n"
     ]
    }
   ],
   "source": [
    "#보이어무어 패턴 매칭 알고리즘 구현 = Boyer moore 알고리즘 구현.\n",
    "\n",
    "#skip 배열 생성하기.\n",
    "def gen_skip(pattern, char):\n",
    "    #마지막 부분과 일치하는 부분이 있는지 검색한다.\n",
    "    \n",
    "    #마지막 부분(len(pattern)-1)은 이미 가능성이 없으므로, 그 전부터 검색한다.\n",
    "    for i in range(len(pattern)-2, -1, -1): #0까지 -1step으로 이동하겠다.\n",
    "        #마지막 글자와 패턴 중 일치하는 숫자가 있다면 그만큼 이동한다.\n",
    "        if pattern[i] ==char:\n",
    "            return len(pattern) -i -1\n",
    "    #일치하는 글자가 없다면 패턴의 길이만큼 이동한다.\n",
    "    return len(pattern)\n",
    "\n",
    "def boyer_moore(pattern, text):\n",
    "    M = len(pattern)\n",
    "    N = len(text)\n",
    "    i = 0            #text의 index 영역.\n",
    "    while i <= N-M:  #반복은 텍스트 길이 - 패턴의 길이만큼 하겠다. i의 최종 위치를 설정.\n",
    "        j = M - 1        #pattern의 index, 문자열의 마지막 위치부터 비교할 것임.\n",
    "        while j >= 0:    \n",
    "            if pattern[j] != text[i+j]:\n",
    "                move = gen_skip(pattern, text[i + M - 1])\n",
    "                break\n",
    "            j = j - 1\n",
    "        if j == -1:    #pattern이 text안에 있음을 확인한 경우.\n",
    "           return i #문자열 text안에, pattern이 있다.\n",
    "        else:          \n",
    "           i += move   \n",
    "    return -1\n",
    "        \n",
    "\n",
    "t = \"\"\"\"The Lord is my shepherd,I shall not be in want.\n",
    "He makes me lie down in green pastures, he leads me beside quiet waters,\n",
    "he restores my soul. He guides me in paths of righteousness for his name's sake.\n",
    "Even though I walk through the valley of the shadow of death,\n",
    "I will fear no evil, for you are with me; your rod and your staff, they comfort me.\n",
    "You prepare a table before me in the presence of my enemies.\n",
    "You anoint my head with oil; my cup overflows.\n",
    "Surely goodness and love will follow me all the days of my life,\n",
    "and I will dwell in the house of the Lord forever.\"\"\"\n",
    "\n",
    "p = 'all the days of my life'\n",
    "\n",
    "# if boyer_moore(pattern, text):\n",
    "#     print(\"패턴이 존재합니다.\")\n",
    "# else:\n",
    "#     print(\"패턴이 없습니다.\")\n",
    "\n",
    "# t = 'Starteatingwellwiththeseeighttipsforhealthyeating,whichcoverthebasicsofahealthydietandgoodnutrition.'\n",
    "# p = 'tea'\n",
    "print(boyer_moore(p, t))"
   ]
  },
  {
   "cell_type": "code",
   "execution_count": 19,
   "id": "b4b8c7d4-cef2-4ec2-b15c-91eec9ef77fa",
   "metadata": {},
   "outputs": [
    {
     "name": "stdout",
     "output_type": "stream",
     "text": [
      "[267, 482, 528]\n"
     ]
    }
   ],
   "source": [
    "#KMP 패턴 매칭 알고리즘 구현 = KMP 알고리즘 구현.\n",
    "\n",
    "def kmp(text, pattern):\n",
    "    #  next_M\n",
    "    next_M = [0 for _ in range(len(pattern))]\n",
    "    i = 0\n",
    "    #next_M을 생성하는 반복문\n",
    "    for j in range(1, len(pattern)):\n",
    "        while i > 0 and pattern[i] != pattern[j]:\n",
    "            i = next_M[i-1]\n",
    "\n",
    "        if pattern[i] == pattern[j]:\n",
    "            i += 1\n",
    "            next_M[j] = i\n",
    "    #next_M[0] = -1\n",
    "    #이론에서는 next_M[0] = -1 이었는데, 이 코드에서는 변경하면 안됨.\n",
    "    result = []\n",
    "    i = 0\n",
    "    for j in range(len(text)):\n",
    "        while i > 0 and pattern[i] != text[j]:\n",
    "            i = next_M[i-1]\n",
    "\n",
    "        if pattern[i] == text[j]:\n",
    "            i += 1\n",
    "            if i == len(pattern):\n",
    "                result.append(j - i + 1)\n",
    "                i = next_M[i-1]\n",
    "\n",
    "    return result\n",
    "\n",
    "t = \"\"\"\"The Lord is my shepherd,I shall not be in want.\n",
    "He makes me lie down in green pastures, he leads me beside quiet waters,\n",
    "he restores my soul. He guides me in paths of righteousness for his name's sake.\n",
    "Even though I walk through the valley of the shadow of death,\n",
    "I will fear no evil, for you are with me; your rod and your staff, they comfort me.\n",
    "You prepare a table before me in the presence of my enemies.\n",
    "You anoint my head with oil; my cup overflows.\n",
    "Surely goodness and love will follow me all the days of my life,\n",
    "and I will dwell in the house of the Lord forever.\"\"\"\n",
    "\n",
    "#p = 'all the days of my life'\n",
    "p= 'will'\n",
    "print(kmp(t, p))"
   ]
  },
  {
   "cell_type": "code",
   "execution_count": 21,
   "id": "2924d3ac-545c-4ca1-bf5b-3e872a27c48e",
   "metadata": {},
   "outputs": [
    {
     "name": "stdout",
     "output_type": "stream",
     "text": [
      "4\n"
     ]
    }
   ],
   "source": [
    "#BruteForce Algorithm(고지식한 알고리즘).\n",
    "#패턴이 일치한 횟수 구하기\n",
    "\n",
    "# t : 전체 텍스트의 문자열.\n",
    "# p : 찾을 패턴의 문자열.\n",
    "\n",
    "\n",
    "def BruteForce(t,p):\n",
    "    i, j = 0, 0     #텍스트와 패턴의 인덱스 변수.\n",
    "    n = len(t)      #전체 텍스트의 길이.\n",
    "    m = len(p)      #패턴의 길이.\n",
    "\n",
    "    count=0\n",
    "    while(i< n and j < m): #모든 문자를 확인하면 반복을 하지 않는다.\n",
    "        if t[i] != p[j]:\n",
    "            i += -j        #다음 시작점으로 이동하기 위해 i = i -j해준다(확인한 패턴의 길이만큼 빼준다).\n",
    "            j = -1         #j는 초기값으로 돌아간다.\n",
    "            \n",
    "        i+=1\n",
    "        j+=1\n",
    "        \n",
    "        if j == m:     #j가 m이 되었다는 건, 패턴의 모든 문자열의 검색을 완료 했다는 의미\n",
    "            count+=1\n",
    "            i += -j +1       #다음 시작점으로 이동하기 위해 i = i -j해준다(확인한 패턴의 길이만큼 빼준다).\n",
    "            j = 0            #j는 초기값으로 돌아간다.\n",
    "\n",
    "            \n",
    "    return count   #일치 횟수 반환\n",
    "\n",
    "for _ in range(10):\n",
    "    tc = int(input())\n",
    "    p = input()\n",
    "    t = input()\n",
    "\n",
    "    print(f\"#{tc} {BruteForce(t,p)}\")"
   ]
  },
  {
   "cell_type": "code",
   "execution_count": 31,
   "id": "919f7fea-9dcd-4945-bb93-944e089ec504",
   "metadata": {},
   "outputs": [
    {
     "name": "stdout",
     "output_type": "stream",
     "text": [
      "4\n"
     ]
    }
   ],
   "source": [
    "#보이어무어 패턴 매칭 알고리즘 구현 = Boyer moore 알고리즘 구현.\n",
    "#패턴이 일치한 횟수 구하기\n",
    "\n",
    "#skip 배열 생성하기.\n",
    "def gen_skip(pattern, char):\n",
    "    #마지막 부분과 일치하는 부분이 있는지 검색한다.\n",
    "    \n",
    "    #마지막 부분(len(pattern)-1)은 이미 가능성이 없으므로, 그 전부터 검색한다.\n",
    "    for i in range(len(pattern)-2, -1, -1): #0까지 -1step으로 이동하겠다.\n",
    "        #마지막 글자와 패턴 중 일치하는 숫자가 있다면 그만큼 이동한다.\n",
    "        if pattern[i] ==char:\n",
    "            return len(pattern) -i -1\n",
    "    #일치하는 글자가 없다면 패턴의 길이만큼 이동한다.\n",
    "    return len(pattern)\n",
    "\n",
    "def boyer_moore(pattern, text):\n",
    "    M = len(pattern)\n",
    "    N = len(text)\n",
    "    i = 0            #text의 index 영역.\n",
    "    count =0\n",
    "    while i <= N-M:  #반복은 텍스트 길이 - 패턴의 길이만큼 하겠다. i의 최종 위치를 설정.\n",
    "        j = M - 1        #pattern의 index, 문자열의 마지막 위치부터 비교할 것임.\n",
    "        while j >= 0:    \n",
    "            if pattern[j] != text[i+j]:\n",
    "                move = gen_skip(pattern, text[i + M - 1])\n",
    "                break\n",
    "            j = j - 1\n",
    "        if j == -1:    #pattern이 text안에 있음을 확인한 경우.\n",
    "            count += 1\n",
    "            i+=1\n",
    "        else:\n",
    "            i += move \n",
    "    return count\n",
    "        \n",
    "for _ in range(10):\n",
    "    tc = int(input())\n",
    "    p = input()\n",
    "    t = input()\n",
    "\n",
    "    print(f\"#{tc} {boyer_moore(p, t)}\")"
   ]
  },
  {
   "cell_type": "code",
   "execution_count": null,
   "id": "e63f4dab-09da-47f7-b563-b138e6ee1d78",
   "metadata": {},
   "outputs": [],
   "source": [
    "#KMP 패턴 매칭 알고리즘 구현 = KMP 알고리즘 구현.\n",
    "\n",
    "def kmp(text, pattern):\n",
    "    #  next_M\n",
    "    next_M = [0 for _ in range(len(pattern))]\n",
    "    i = 0\n",
    "    #next_M을 생성하는 반복문\n",
    "    for j in range(1, len(pattern)):\n",
    "        while i > 0 and pattern[i] != pattern[j]:\n",
    "            i = next_M[i-1]\n",
    "\n",
    "        if pattern[i] == pattern[j]:\n",
    "            i += 1\n",
    "            next_M[j] = i\n",
    "    #next_M[0] = -1\n",
    "    #이론에서는 next_M[0] = -1 이었는데, 이 코드에서는 변경하면 안됨.\n",
    "\n",
    "    count=0\n",
    "    i = 0    #패턴의 인덱스임 헷갈리지 말것.\n",
    "    for j in range(len(text)):\n",
    "        while i > 0 and pattern[i] != text[j]:\n",
    "            i = next_M[i-1]\n",
    "\n",
    "        if pattern[i] == text[j]:\n",
    "            i += 1\n",
    "            if i == len(pattern): #패턴의 모든 문자열을 확인하면.\n",
    "                count+=1\n",
    "                i = next_M[i-1]\n",
    "\n",
    "    return count\n",
    "\n",
    "for _ in range(10):\n",
    "    tc = int(input())\n",
    "    p = input()\n",
    "    t = input()\n",
    "\n",
    "    print(f\"#{tc} {kmp(t, p)}\")"
   ]
  },
  {
   "cell_type": "code",
   "execution_count": null,
   "id": "7f942be8-413e-460b-8e4f-ec043c439374",
   "metadata": {},
   "outputs": [],
   "source": []
  }
 ],
 "metadata": {
  "kernelspec": {
   "display_name": "Python 3 (ipykernel)",
   "language": "python",
   "name": "python3"
  },
  "language_info": {
   "codemirror_mode": {
    "name": "ipython",
    "version": 3
   },
   "file_extension": ".py",
   "mimetype": "text/x-python",
   "name": "python",
   "nbconvert_exporter": "python",
   "pygments_lexer": "ipython3",
   "version": "3.12.4"
  }
 },
 "nbformat": 4,
 "nbformat_minor": 5
}
