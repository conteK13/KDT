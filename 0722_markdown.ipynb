{
 "cells": [
  {
   "cell_type": "code",
   "execution_count": 4,
   "metadata": {},
   "outputs": [
    {
     "name": "stdout",
     "output_type": "stream",
     "text": [
      "test\n"
     ]
    }
   ],
   "source": [
    "print(\"test\")"
   ]
  },
  {
   "cell_type": "markdown",
   "metadata": {},
   "source": [
    "\n",
    "1. 순서가 있는 항목\n",
    "1. 순서가 있는 항목\n",
    "\n",
    "    1. 순서가 없는 항목\n",
    "    1. 순서가 없는 항목\n",
    "    \n",
    "1. 순서가 있는 항목\n",
    "1. 순서가 있는 항목\n",
    "\n",
    "- 순서가 없는 항목\n",
    "    - 순서가 없는 항목\n",
    "    - 순서가 없는 항목"
   ]
  },
  {
   "cell_type": "markdown",
   "metadata": {},
   "source": [
    "[구글](https://g.co/kgs/UREym9p)  \n",
    "\n",
    "[NAVER](https://naver.com \"링크 설명(title)을 작성하세요.\")\n",
    "\n",
    "[Dribbble][Dribbble Link]\n",
    "\n",
    "[Dribbble Link]: https://dribbble.com\n",
    "\n",
    "\n",
    "[test][TestLink]\n",
    "\n",
    "[TestLink]: https://naver.com\n",
    "[GitHub][12]\n",
    "\n",
    "[12]: https://github.com/"
   ]
  },
  {
   "cell_type": "markdown",
   "metadata": {},
   "source": [
    "![대체 텍스트(Alternative Text)](https://picsum.photos/1000/400 \"링크 설명(Title)\")\n",
    "![이미지입니다!][Image]\n",
    "\n",
    "[Image]: https://picsum.photos/500/300 \"이미지입니다!\""
   ]
  },
  {
   "cell_type": "markdown",
   "metadata": {},
   "source": [
    "[GOOGLE](https://google.com)\n",
    "\n",
    "[NAVER](https://naver.com \"링크 설명(title)을 작성하세요.\")\n",
    "\n",
    "[상대적 참조](../users/login)\n",
    "\n",
    "[Dribbble][Dribbble Link]\n",
    "\n",
    "[GitHub][1]\n",
    "\n",
    "문서 안에서 [참조 링크]를 그대로 사용할 수도 있습니다.\n",
    "다음과 같이 문서 내 일반 URL이나 꺾쇠 괄호(`< >`, Angle Brackets)안의 URL은 자동으로 링크를 사용합니다.\n",
    "\n",
    "구글 홈페이지: https://google.com\n",
    "네이버 홈페이지: <https://naver.com>\n",
    "\n",
    "[Dribbble Link]: https://dribbble.com\n",
    "[1]: https://github.com\n",
    "[참조 링크]: https://naver.com \"네이버로 이동합니다!\""
   ]
  },
  {
   "cell_type": "markdown",
   "metadata": {},
   "source": [
    "| 값 | 의미 | 기본값 |\n",
    "|---|:---:|---:|\n",
    "| `static` | 유형(기준) 없음 / 배치 불가능 | `static` |\n",
    "| `relative` | 요소 자신을 기준으로 배치 |  |\n",
    "| `absolute` | 위치 상 부모(조상)요소를 기준으로 배치 |  |\n",
    "| `fixed` | 브라우저 창을 기준으로 배치 |  |\n",
    "| `sticky` | 스크롤 영역 기준으로 배치 |  |"
   ]
  },
  {
   "cell_type": "markdown",
   "metadata": {},
   "source": [
    "|| A | B | C |\n",
    "|---|---|---|---|\n",
    "|1행||1|2|3|\n",
    "|2행|4|5|6|\n",
    "|3행|7|8|9|"
   ]
  },
  {
   "cell_type": "markdown",
   "metadata": {},
   "source": []
  },
  {
   "cell_type": "markdown",
   "metadata": {},
   "source": []
  }
 ],
 "metadata": {
  "kernelspec": {
   "display_name": "Python 3",
   "language": "python",
   "name": "python3"
  },
  "language_info": {
   "codemirror_mode": {
    "name": "ipython",
    "version": 3
   },
   "file_extension": ".py",
   "mimetype": "text/x-python",
   "name": "python",
   "nbconvert_exporter": "python",
   "pygments_lexer": "ipython3",
   "version": "3.12.4"
  }
 },
 "nbformat": 4,
 "nbformat_minor": 2
}
