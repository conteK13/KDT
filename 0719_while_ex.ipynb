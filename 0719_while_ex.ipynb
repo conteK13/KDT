{
  "nbformat": 4,
  "nbformat_minor": 0,
  "metadata": {
    "colab": {
      "provenance": []
    },
    "kernelspec": {
      "name": "python3",
      "display_name": "Python 3"
    },
    "language_info": {
      "name": "python"
    }
  },
  "cells": [
    {
      "cell_type": "code",
      "execution_count": 2,
      "metadata": {
        "colab": {
          "base_uri": "https://localhost:8080/"
        },
        "id": "VUDf9HyawQ8r",
        "outputId": "72ad7d03-2ddc-482e-e940-e6437cfe39cf"
      },
      "outputs": [
        {
          "output_type": "stream",
          "name": "stdout",
          "text": [
            "3\n",
            "2\n",
            "1\n",
            "0\n"
          ]
        }
      ],
      "source": [
        "#while 사용\n",
        "i =3\n",
        "\n",
        "while i >=0 :\n",
        "  print(i)\n",
        "  #if i == 1:\n",
        "  #  break\n",
        "  i -=1"
      ]
    },
    {
      "cell_type": "code",
      "source": [
        "#while 사용2\n",
        "i = 1\n",
        "sum = 0\n",
        "\n",
        "while i<=10:\n",
        "  sum += i\n",
        "  i+=1\n",
        "\n",
        "print(sum)"
      ],
      "metadata": {
        "colab": {
          "base_uri": "https://localhost:8080/"
        },
        "id": "6rtqlmAaxLnC",
        "outputId": "21687e35-7cad-4a33-f79a-1164a9715969"
      },
      "execution_count": 4,
      "outputs": [
        {
          "output_type": "stream",
          "name": "stdout",
          "text": [
            "55\n"
          ]
        }
      ]
    },
    {
      "cell_type": "code",
      "source": [
        "#체육대회 다른 학년의 같은 반은 한 팀이다.\n",
        "#minsu와 students의 학생이 같은 팀인지 확인하는 코드 작성\n",
        "#학번 \"E60134\" E: 초등학생, 6: 학년, 01 :반, 34: 출석번호\n",
        "\n",
        "students = [\"E10123\", \"E31201\", \"E40156\"]\n",
        "minsu = \"E60134\"\n",
        "team = []\n",
        "team.append(minsu)\n",
        "\n",
        "for i in students:\n",
        "  #print(i, i[2:4])\n",
        "  if minsu[2:4] == i[2:4]:\n",
        "    print(\"같은 팀\")\n",
        "    team.append(i)\n",
        "  else:\n",
        "    print(\"다른 팀\")\n",
        "\n",
        "print(team)"
      ],
      "metadata": {
        "colab": {
          "base_uri": "https://localhost:8080/"
        },
        "id": "PkrgPP600_tg",
        "outputId": "fe23bc20-e6b5-4a65-cb77-547f92e546da"
      },
      "execution_count": 9,
      "outputs": [
        {
          "output_type": "stream",
          "name": "stdout",
          "text": [
            "같은 팀\n",
            "다른 팀\n",
            "같은 팀\n",
            "['E60134', 'E10123', 'E40156']\n"
          ]
        }
      ]
    },
    {
      "cell_type": "code",
      "source": [
        "#string s에 입력받은 글자가 몇개 있는지 확인하는 코드\n",
        "\n",
        "s= \"have a nice day!\"\n",
        "data = input(\"한 글자를 입력하세요 :\")\n",
        "count = 0\n",
        "\n",
        "for i in range(len(s)):\n",
        "  if s[i] == data:\n",
        "    count += 1    #count = count +1\n",
        "\n",
        "print(count)\n",
        "\n"
      ],
      "metadata": {
        "colab": {
          "base_uri": "https://localhost:8080/"
        },
        "id": "4pZG8dGv1JQG",
        "outputId": "023a410d-4f32-4a8c-e81a-b03a1c3fe902"
      },
      "execution_count": 12,
      "outputs": [
        {
          "output_type": "stream",
          "name": "stdout",
          "text": [
            "한 글자를 입력하세요 :a\n",
            "3\n"
          ]
        }
      ]
    },
    {
      "cell_type": "code",
      "source": [
        "#for문을 이용하여 2단 구구단을 출력하세요\n",
        "\n",
        "for i in range(1, 10):\n",
        "  print(\"2 x\", i , \"=\", 2*i)\n",
        ""
      ],
      "metadata": {
        "colab": {
          "base_uri": "https://localhost:8080/"
        },
        "id": "J7faBOkYxvtC",
        "outputId": "5d1317e2-8174-4797-dc54-e901e7bf5868"
      },
      "execution_count": 5,
      "outputs": [
        {
          "output_type": "stream",
          "name": "stdout",
          "text": [
            "2 x 1 = 2\n",
            "2 x 2 = 4\n",
            "2 x 3 = 6\n",
            "2 x 4 = 8\n",
            "2 x 5 = 10\n",
            "2 x 6 = 12\n",
            "2 x 7 = 14\n",
            "2 x 8 = 16\n",
            "2 x 9 = 18\n"
          ]
        }
      ]
    },
    {
      "cell_type": "code",
      "source": [
        "#while문을 이용하여 2단 구구단을 출력하세요\n",
        "i= 1\n",
        "while i <= 9:\n",
        "  print(\"2 x\", i , \"=\", 2*i)\n",
        "  i+=1\n"
      ],
      "metadata": {
        "colab": {
          "base_uri": "https://localhost:8080/"
        },
        "id": "UP0Zy3YayCOV",
        "outputId": "198ac5c6-1974-47f7-cc00-6ca82c6ad486"
      },
      "execution_count": 7,
      "outputs": [
        {
          "output_type": "stream",
          "name": "stdout",
          "text": [
            "2 x 1 = 2\n",
            "2 x 2 = 4\n",
            "2 x 3 = 6\n",
            "2 x 4 = 8\n",
            "2 x 5 = 10\n",
            "2 x 6 = 12\n",
            "2 x 7 = 14\n",
            "2 x 8 = 16\n",
            "2 x 9 = 18\n"
          ]
        }
      ]
    },
    {
      "cell_type": "code",
      "source": [
        "#format을 사용하여 구구단\n",
        "for i in range(2, 3):\n",
        "  for j in range(1, 10):\n",
        "    print('{0} X {1} = {2}'.format(i, j, i*j))"
      ],
      "metadata": {
        "colab": {
          "base_uri": "https://localhost:8080/"
        },
        "id": "cAEKTVm7-LTC",
        "outputId": "ed48335a-d42a-40e8-b4b0-465a52cda56b"
      },
      "execution_count": 25,
      "outputs": [
        {
          "output_type": "stream",
          "name": "stdout",
          "text": [
            "2 X 1 = 2\n",
            "2 X 2 = 4\n",
            "2 X 3 = 6\n",
            "2 X 4 = 8\n",
            "2 X 5 = 10\n",
            "2 X 6 = 12\n",
            "2 X 7 = 14\n",
            "2 X 8 = 16\n",
            "2 X 9 = 18\n"
          ]
        }
      ]
    },
    {
      "cell_type": "code",
      "source": [
        "#중첩된 while문\n",
        "i = 2\n",
        "\n",
        "while i < 10:\n",
        "  j = 1\n",
        "  while j <10:\n",
        "    print (i*j, end =\"  \")\n",
        "    j += 1\n",
        "  print()\n",
        "  i += 1\n"
      ],
      "metadata": {
        "colab": {
          "base_uri": "https://localhost:8080/"
        },
        "id": "eL9H4lZXCD3a",
        "outputId": "0efb21f2-b736-4ace-e823-56346f26fac1"
      },
      "execution_count": 29,
      "outputs": [
        {
          "output_type": "stream",
          "name": "stdout",
          "text": [
            "2  4  6  8  10  12  14  16  18  \n",
            "3  6  9  12  15  18  21  24  27  \n",
            "4  8  12  16  20  24  28  32  36  \n",
            "5  10  15  20  25  30  35  40  45  \n",
            "6  12  18  24  30  36  42  48  54  \n",
            "7  14  21  28  35  42  49  56  63  \n",
            "8  16  24  32  40  48  56  64  72  \n",
            "9  18  27  36  45  54  63  72  81  \n"
          ]
        }
      ]
    },
    {
      "cell_type": "code",
      "source": [
        "#for if 중첩문\n",
        "scores = [\n",
        "    [60, 70, 80],\n",
        "    [80, 10, 40],\n",
        "    [40, 70, 90],\n",
        "    [60, 50, 50]\n",
        "]\n",
        "#2차원 배열로 각 학생의 국어, 영어, 수학 점수를 작성하였다.\n",
        "#국어 점수가 60점 이상인 학생의 수학 평균을 정수로 구하여라\n",
        "\n",
        "sum_score = 0   #국어 점수가 60점 이상인 학생의 수학 점수의 합\n",
        "count = 0       #국어 점수가 60점 이상인 학생의 수\n",
        "\n",
        "for i in scores:\n",
        "  print(\"i :\", i)\n",
        "  if i[0] >= 60:\n",
        "    sum_score += i[2]\n",
        "    count += 1\n",
        "  print(\"국어점수(i[0]) :\", i[0], \"수학점수(i[2]) :\", i[2])\n",
        "  print()\n",
        "\n",
        "print(int(sum_score/count))"
      ],
      "metadata": {
        "colab": {
          "base_uri": "https://localhost:8080/"
        },
        "id": "sbj-Ep0hybYk",
        "outputId": "fd1f058e-52d6-4b9c-870f-e91822974305"
      },
      "execution_count": 34,
      "outputs": [
        {
          "output_type": "stream",
          "name": "stdout",
          "text": [
            "i : [60, 70, 80]\n",
            "국어점수(i[0]) : 60 수학점수(i[2]) : 80\n",
            "\n",
            "i : [80, 10, 40]\n",
            "국어점수(i[0]) : 80 수학점수(i[2]) : 40\n",
            "\n",
            "i : [40, 70, 90]\n",
            "국어점수(i[0]) : 40 수학점수(i[2]) : 90\n",
            "\n",
            "i : [60, 50, 50]\n",
            "국어점수(i[0]) : 60 수학점수(i[2]) : 50\n",
            "\n",
            "56\n"
          ]
        }
      ]
    },
    {
      "cell_type": "code",
      "source": [
        "#for if 중첩문\n",
        "scores = [\n",
        "    [60, 70, 80],\n",
        "    [80, 10, 40],\n",
        "    [40, 70, 90],\n",
        "    [60, 50, 50]\n",
        "]\n",
        "#2차원 배열로 각 학생의 국어, 영어, 수학 점수를 작성하였다.\n",
        "#국어 점수가 60점 이상인 학생의 수학 평균을 정수로 구하여라\n",
        "\n",
        "sum_score = 0   #국어 점수가 60점 이상인 학생의 수학 점수의 합\n",
        "count = 0       #국어 점수가 60점 이상인 학생의 수\n",
        "\n",
        "for 학생당성적표 in scores:\n",
        "  국어성적 = 학생당성적표[0]\n",
        "  수학성적 = 학생당성적표[2]\n",
        "\n",
        "  if 국어성적 >= 60:\n",
        "    sum_score += 수학성적\n",
        "    count += 1\n",
        "    print(sum_score, count)\n",
        "\n",
        "print(int(sum_score/count))"
      ],
      "metadata": {
        "colab": {
          "base_uri": "https://localhost:8080/"
        },
        "id": "DG0nv5CZEX9o",
        "outputId": "c31dee1e-ad07-4a70-8b45-3c009aceb9bd"
      },
      "execution_count": 38,
      "outputs": [
        {
          "output_type": "stream",
          "name": "stdout",
          "text": [
            "80 1\n",
            "120 2\n",
            "170 3\n",
            "56\n"
          ]
        }
      ]
    },
    {
      "cell_type": "code",
      "source": [
        "#거스름돈\n",
        "#1260원을 동전으로 거슬러 줄때, 화폐를 최소로 줄수 있게 계산하는 코드\n",
        "#거슬러 줘야 하는 동전의 총 개수를 출력한다\n",
        "\n",
        "money = 1260\n",
        "coin = [500, 100, 50, 10]\n",
        "count = 0\n",
        "\n",
        "for i in coin:\n",
        "  count += money // i\n",
        "  money %= i\n",
        "\n",
        "print(count)\n"
      ],
      "metadata": {
        "colab": {
          "base_uri": "https://localhost:8080/"
        },
        "id": "QHBHHUvk4ZoL",
        "outputId": "f4d7815a-92c4-41dd-ae1f-e70153316153"
      },
      "execution_count": 41,
      "outputs": [
        {
          "output_type": "stream",
          "name": "stdout",
          "text": [
            "6\n"
          ]
        }
      ]
    },
    {
      "cell_type": "code",
      "source": [
        "money = 1260\n",
        "coin = [500, 100, 50, 10]\n",
        "count = 0\n",
        "\n",
        "for i in coin:\n",
        "  while money >= i:\n",
        "    money -= i\n",
        "    count += 1\n",
        "\n",
        "print(count)\n"
      ],
      "metadata": {
        "colab": {
          "base_uri": "https://localhost:8080/"
        },
        "id": "OUY2Jk_4Gsin",
        "outputId": "54d22801-119a-42e8-aee5-598310585a2e"
      },
      "execution_count": 44,
      "outputs": [
        {
          "output_type": "stream",
          "name": "stdout",
          "text": [
            "6\n"
          ]
        }
      ]
    },
    {
      "cell_type": "code",
      "source": [
        "#거스름돈\n",
        "#1260원을 동전으로 거슬러 줄때, 화폐를 최소로 줄수 있게 계산하는 코드\n",
        "#거슬러 줘야 하는 동전의 총 개수를 출력한다\n",
        "\n",
        "거스름돈 = 1260\n",
        "동전타입 = [500, 100, 50, 10]\n",
        "동전개수 = 0\n",
        "\n",
        "for 동전 in 동전타입:\n",
        "  동전개수 += 거스름돈 // 동전    #1250원에서 500원이 최대 2개 나옴.\n",
        "  거스름돈 = 거스름돈 % 동전      #250원\n",
        "\n",
        "print(동전개수)"
      ],
      "metadata": {
        "id": "iJQ45sT1GZry"
      },
      "execution_count": null,
      "outputs": []
    },
    {
      "cell_type": "code",
      "source": [
        "#예시코드\n",
        "for i in range(5):\n",
        "    scores = list(map(int, input(\"점수를 입력하세요: \").split()))\n",
        "    for score in scores:\n",
        "        if score >= 60:\n",
        "            print(\"합격\")\n",
        "        else:\n",
        "            print(\"불합격\")"
      ],
      "metadata": {
        "colab": {
          "base_uri": "https://localhost:8080/"
        },
        "id": "HdVZMKPU6G1V",
        "outputId": "fc4ca689-f491-45bb-e214-4d9459841e08"
      },
      "execution_count": 15,
      "outputs": [
        {
          "output_type": "stream",
          "name": "stdout",
          "text": [
            "점수를 입력하세요: 10\n",
            "불합격\n",
            "점수를 입력하세요: 20\n",
            "불합격\n",
            "점수를 입력하세요: 40\n",
            "불합격\n",
            "점수를 입력하세요: 70\n",
            "합격\n",
            "점수를 입력하세요: 80\n",
            "합격\n"
          ]
        }
      ]
    },
    {
      "cell_type": "code",
      "source": [
        "#예시코드_수정\n",
        "# 5명의 학생이 시험을 보았는데 시험 점수가 60점 이상이면 합격\n",
        "scores = []\n",
        "scores = (map(int, input(\"점수를 입력하세요: \").split()))\n",
        "for score in scores:\n",
        "    if score >= 60:\n",
        "        print(\"합격\")\n",
        "    else:\n",
        "        print(\"불합격\")\n"
      ],
      "metadata": {
        "colab": {
          "base_uri": "https://localhost:8080/"
        },
        "id": "ZhyccwaW9T3U",
        "outputId": "1d365262-deed-4a9d-b739-d10a743f10b7"
      },
      "execution_count": 22,
      "outputs": [
        {
          "output_type": "stream",
          "name": "stdout",
          "text": [
            "점수를 입력하세요: 40 90 38 80 70\n",
            "불합격\n",
            "합격\n",
            "불합격\n",
            "합격\n",
            "합격\n"
          ]
        }
      ]
    },
    {
      "cell_type": "code",
      "source": [
        "num = int(input())\n",
        "\n",
        "if num % 3 == 0:\n",
        "  print(\"3의 배수\")\n",
        "if num % 5 == 0:\n",
        "  print(\"5의 배수\")"
      ],
      "metadata": {
        "colab": {
          "base_uri": "https://localhost:8080/"
        },
        "id": "Nmg6EwF4IHEh",
        "outputId": "ba902c40-5dd5-4a1d-a2a9-e080495050ad"
      },
      "execution_count": 49,
      "outputs": [
        {
          "output_type": "stream",
          "name": "stdout",
          "text": [
            "6\n",
            "3의 배수\n"
          ]
        }
      ]
    },
    {
      "cell_type": "code",
      "source": [
        "#type에서 원하는 단어만 추출하기\n",
        "\n",
        "#type_test = type(3.14)\n",
        "#print(type_test) #<class 'float'>\n",
        "\n",
        "숫자 = 3.14\n",
        "종류 = type(숫자)\n",
        "종류 = str(종류)\n",
        "종류 = 종류[8:-2]\n",
        "print(f\"{숫자}는 {종류}입니다\")\n",
        "\n",
        "\n",
        "숫자 = 3.14\n",
        "종류 = type(숫자).__name__\n",
        "\n",
        "print(f\"{숫자}는 {종류}입니다\")"
      ],
      "metadata": {
        "colab": {
          "base_uri": "https://localhost:8080/"
        },
        "id": "L4yGsu2cI3Jw",
        "outputId": "0b196b60-1328-4ca1-d6e3-de6cf5da8d6a"
      },
      "execution_count": 64,
      "outputs": [
        {
          "output_type": "stream",
          "name": "stdout",
          "text": [
            "3.14는 float입니다\n",
            "3.14는 float입니다\n"
          ]
        }
      ]
    }
  ]
}