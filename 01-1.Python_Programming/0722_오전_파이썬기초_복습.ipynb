{
  "nbformat": 4,
  "nbformat_minor": 0,
  "metadata": {
    "colab": {
      "provenance": []
    },
    "kernelspec": {
      "name": "python3",
      "display_name": "Python 3"
    },
    "language_info": {
      "name": "python"
    }
  },
  "cells": [
    {
      "cell_type": "markdown",
      "metadata": {
        "id": "-AudyOFlrLgJ"
      },
      "source": [
        "# 1. 파이썬의 특징"
      ]
    },
    {
      "cell_type": "markdown",
      "metadata": {
        "id": "8ti9cduZdHW5"
      },
      "source": [
        "* 세미콜론(;)으로 끝을 맺지 않아도 됩니다."
      ]
    },
    {
      "cell_type": "code",
      "metadata": {
        "colab": {
          "base_uri": "https://localhost:8080/"
        },
        "id": "W634SNDrdS9i",
        "outputId": "d452a815-7fa6-4b1b-e337-0dfbde170b29"
      },
      "source": [
        " print('Hello World!')"
      ],
      "execution_count": null,
      "outputs": [
        {
          "output_type": "stream",
          "name": "stdout",
          "text": [
            "Hello World!\n"
          ]
        }
      ]
    },
    {
      "cell_type": "code",
      "metadata": {
        "colab": {
          "base_uri": "https://localhost:8080/"
        },
        "id": "YpjwEUxAdukn",
        "outputId": "7239d4b7-75a2-42a8-efd7-31e3531d4585"
      },
      "source": [
        " print('Hello World!');"
      ],
      "execution_count": null,
      "outputs": [
        {
          "output_type": "stream",
          "name": "stdout",
          "text": [
            "Hello World!\n"
          ]
        }
      ]
    },
    {
      "cell_type": "markdown",
      "metadata": {
        "id": "yBtyY_dFzqKp"
      },
      "source": [
        "- 들여쓰기에 주의가 필요합니다."
      ]
    },
    {
      "cell_type": "code",
      "metadata": {
        "colab": {
          "base_uri": "https://localhost:8080/"
        },
        "id": "HifIylPa_iUq",
        "outputId": "3f455094-d3be-4bd7-f71d-76034d2211a9"
      },
      "source": [
        "1 + 1"
      ],
      "execution_count": null,
      "outputs": [
        {
          "output_type": "execute_result",
          "data": {
            "text/plain": [
              "2"
            ]
          },
          "metadata": {},
          "execution_count": 21
        }
      ]
    },
    {
      "cell_type": "code",
      "metadata": {
        "colab": {
          "base_uri": "https://localhost:8080/"
        },
        "id": "a1lBerf2_ZpC",
        "outputId": "d56007ae-5296-4e3f-c840-f4ea402a0985"
      },
      "source": [
        "        1 + 1"
      ],
      "execution_count": null,
      "outputs": [
        {
          "output_type": "execute_result",
          "data": {
            "text/plain": [
              "2"
            ]
          },
          "metadata": {},
          "execution_count": 22
        }
      ]
    },
    {
      "cell_type": "code",
      "metadata": {
        "colab": {
          "base_uri": "https://localhost:8080/"
        },
        "id": "DEuCxNa_9Cs2",
        "outputId": "22785f14-258f-4741-f3a1-36d3320b9c0c"
      },
      "source": [
        "1 + 1\n",
        "1 + 1"
      ],
      "execution_count": null,
      "outputs": [
        {
          "output_type": "execute_result",
          "data": {
            "text/plain": [
              "2"
            ]
          },
          "metadata": {},
          "execution_count": 23
        }
      ]
    },
    {
      "cell_type": "code",
      "metadata": {
        "colab": {
          "base_uri": "https://localhost:8080/",
          "height": 106
        },
        "id": "YeLGYH443uh8",
        "outputId": "c80ea8cd-97e2-4fe7-d981-46dbe11a8492"
      },
      "source": [
        "1 + 1\n",
        " 1 + 1"
      ],
      "execution_count": null,
      "outputs": [
        {
          "output_type": "error",
          "ename": "IndentationError",
          "evalue": "unexpected indent (<ipython-input-24-9d805cdee5dd>, line 2)",
          "traceback": [
            "\u001b[0;36m  File \u001b[0;32m\"<ipython-input-24-9d805cdee5dd>\"\u001b[0;36m, line \u001b[0;32m2\u001b[0m\n\u001b[0;31m    1 + 1\u001b[0m\n\u001b[0m    ^\u001b[0m\n\u001b[0;31mIndentationError\u001b[0m\u001b[0;31m:\u001b[0m unexpected indent\n"
          ]
        }
      ]
    },
    {
      "cell_type": "markdown",
      "metadata": {
        "id": "Rm9Zpp5s4Trr"
      },
      "source": [
        "- 주석은 #(한 줄), 또는 ''', \"\"\"로 만들 수 있습니다."
      ]
    },
    {
      "cell_type": "code",
      "metadata": {
        "colab": {
          "base_uri": "https://localhost:8080/",
          "height": 35
        },
        "id": "TMqEX_to4ls1",
        "outputId": "a30d5fc5-9be9-4d17-fd1b-b686cbacd0e3"
      },
      "source": [
        "# 한줄짜리 주석입니다.\n",
        "'''\n",
        "이렇게\n",
        "여러줄을\n",
        "주석처리 할 수 있습니다.\n",
        "'''\n",
        "\"\"\"\n",
        "     쌍 따옴표로도\n",
        "할 수 있습니다.\n",
        "\"\"\""
      ],
      "execution_count": null,
      "outputs": [
        {
          "output_type": "execute_result",
          "data": {
            "text/plain": [
              "'\\n     쌍 따옴표로도\\n할 수 있습니다.\\n'"
            ],
            "application/vnd.google.colaboratory.intrinsic+json": {
              "type": "string"
            }
          },
          "metadata": {},
          "execution_count": 25
        }
      ]
    },
    {
      "cell_type": "markdown",
      "metadata": {
        "id": "gx-PcGAYrNsM"
      },
      "source": [
        "# 2. 변수"
      ]
    },
    {
      "cell_type": "markdown",
      "metadata": {
        "id": "PiP4PX5i5Idd"
      },
      "source": [
        "- 문제1\n",
        "\n",
        "a 는 100, b 는 10000 이다.\n",
        "\n",
        "a + b 를 구하시오.\n"
      ]
    },
    {
      "cell_type": "code",
      "metadata": {
        "id": "jvvTiqcuzl-6",
        "colab": {
          "base_uri": "https://localhost:8080/"
        },
        "outputId": "feb9613b-5038-4547-d70d-b97015c7fe3b"
      },
      "source": [
        "100 + 10000"
      ],
      "execution_count": null,
      "outputs": [
        {
          "output_type": "execute_result",
          "data": {
            "text/plain": [
              "10100"
            ]
          },
          "metadata": {},
          "execution_count": 20
        }
      ]
    },
    {
      "cell_type": "markdown",
      "metadata": {
        "id": "7J_HqPcg5ydm"
      },
      "source": [
        "- 문제2\n",
        "\n",
        "a 는 100, b 는 10000 이다.\n",
        "\n",
        "a * b 를 구하시오."
      ]
    },
    {
      "cell_type": "code",
      "metadata": {
        "colab": {
          "base_uri": "https://localhost:8080/"
        },
        "id": "X-Bcq1Sj6Fg9",
        "outputId": "063c955a-6f64-498a-8af2-cb6826b43dc5"
      },
      "source": [
        "100 * 10000"
      ],
      "execution_count": null,
      "outputs": [
        {
          "output_type": "execute_result",
          "data": {
            "text/plain": [
              "1000000"
            ]
          },
          "metadata": {},
          "execution_count": 27
        }
      ]
    },
    {
      "cell_type": "markdown",
      "metadata": {
        "id": "Qn82kTMq6M-g"
      },
      "source": [
        "- 문제3\n",
        "\n",
        "a 는 100, b 는 10000 이다.\n",
        "\n",
        "a / b는???"
      ]
    },
    {
      "cell_type": "code",
      "metadata": {
        "colab": {
          "base_uri": "https://localhost:8080/"
        },
        "id": "U8D-zCoX8kgg",
        "outputId": "3a359345-996e-43ab-f27f-dcc339e114c1"
      },
      "source": [
        "100 / 10000"
      ],
      "execution_count": null,
      "outputs": [
        {
          "output_type": "execute_result",
          "data": {
            "text/plain": [
              "0.01"
            ]
          },
          "metadata": {},
          "execution_count": 1
        }
      ]
    },
    {
      "cell_type": "markdown",
      "metadata": {
        "id": "s2SqmFEy8oYi"
      },
      "source": [
        "자주 사용하는 숫자들을 **변수**에 저장하여 재 사용한다면???"
      ]
    },
    {
      "cell_type": "markdown",
      "metadata": {
        "id": "Iigrn3oE9nAg"
      },
      "source": [
        "- 변수 생성하는 법1"
      ]
    },
    {
      "cell_type": "code",
      "metadata": {
        "id": "QiRUMpoA9fZH"
      },
      "source": [
        "a = 100\n",
        "b = 10000"
      ],
      "execution_count": null,
      "outputs": []
    },
    {
      "cell_type": "markdown",
      "metadata": {
        "id": "8sNs0186_Njr"
      },
      "source": [
        "- print 함수를 사용하여 a, b 의 값 확인"
      ]
    },
    {
      "cell_type": "code",
      "metadata": {
        "colab": {
          "base_uri": "https://localhost:8080/"
        },
        "id": "dPipHieb9xvp",
        "outputId": "9d387afe-07d8-47ab-b6ca-0b14e481095e"
      },
      "source": [
        "print(a)\n",
        "print(b)"
      ],
      "execution_count": null,
      "outputs": [
        {
          "output_type": "stream",
          "name": "stdout",
          "text": [
            "100\n",
            "10000\n"
          ]
        }
      ]
    },
    {
      "cell_type": "markdown",
      "metadata": {
        "id": "mIEYdSpl9quI"
      },
      "source": [
        "- 변수 생성하는 법2"
      ]
    },
    {
      "cell_type": "code",
      "metadata": {
        "id": "WoL1Gh759uRD"
      },
      "source": [
        "a, b = 100, 10000"
      ],
      "execution_count": null,
      "outputs": []
    },
    {
      "cell_type": "markdown",
      "metadata": {
        "id": "sqyE-kRHIu_e"
      },
      "source": []
    },
    {
      "cell_type": "markdown",
      "metadata": {
        "id": "Kt9cbAb1_RaB"
      },
      "source": [
        "- print 함수를 사용하여 a, b 의 값 확인"
      ]
    },
    {
      "cell_type": "code",
      "metadata": {
        "id": "9P0VRSxv93kC"
      },
      "source": [
        "print(a)\n",
        "print(b)"
      ],
      "execution_count": null,
      "outputs": []
    },
    {
      "cell_type": "markdown",
      "metadata": {
        "id": "UKSCsMEx5-iE"
      },
      "source": [
        "- 문제 4\n",
        "\n",
        "a 는 300, b 는 400 이다.\n",
        "\n",
        "a + b, a - b, a * b, a / b 를 출력하시오."
      ]
    },
    {
      "cell_type": "code",
      "metadata": {
        "colab": {
          "base_uri": "https://localhost:8080/"
        },
        "id": "K6e3vT2DANuN",
        "outputId": "20d60033-2ae1-4ced-d712-d426423f1bc8"
      },
      "source": [
        "a = 300\n",
        "b = 400\n",
        "\n",
        "print(a + b)\n",
        "print(a - b)\n",
        "print(a * b)\n",
        "print(a / b)"
      ],
      "execution_count": null,
      "outputs": [
        {
          "output_type": "stream",
          "name": "stdout",
          "text": [
            "700\n",
            "-100\n",
            "120000\n",
            "0.75\n"
          ]
        }
      ]
    },
    {
      "cell_type": "markdown",
      "metadata": {
        "id": "rdxzzwUbIyFx"
      },
      "source": [
        "* 변수명 작성시 주의사항\n",
        "\n",
        " \\- 영문자, 숫자, _ 의 조합으로 구성되어야 함"
      ]
    },
    {
      "cell_type": "code",
      "metadata": {
        "id": "mMpexZi2I_5A"
      },
      "source": [
        "a = 1\n",
        "a1 = 1\n",
        "_ = 1"
      ],
      "execution_count": null,
      "outputs": []
    },
    {
      "cell_type": "markdown",
      "metadata": {
        "id": "yVHHIOUvJLyq"
      },
      "source": [
        " \\- 변수명의 첫 글자는 숫자로 사용할 수 없음"
      ]
    },
    {
      "cell_type": "code",
      "metadata": {
        "colab": {
          "base_uri": "https://localhost:8080/",
          "height": 106
        },
        "id": "vV90FvP9JWjT",
        "outputId": "61ac4970-1901-4731-9155-37522479a782"
      },
      "source": [
        "1a = 1"
      ],
      "execution_count": null,
      "outputs": [
        {
          "output_type": "error",
          "ename": "SyntaxError",
          "evalue": "invalid decimal literal (<ipython-input-34-cc67e5ecf289>, line 1)",
          "traceback": [
            "\u001b[0;36m  File \u001b[0;32m\"<ipython-input-34-cc67e5ecf289>\"\u001b[0;36m, line \u001b[0;32m1\u001b[0m\n\u001b[0;31m    1a = 1\u001b[0m\n\u001b[0m    ^\u001b[0m\n\u001b[0;31mSyntaxError\u001b[0m\u001b[0;31m:\u001b[0m invalid decimal literal\n"
          ]
        }
      ]
    },
    {
      "cell_type": "markdown",
      "metadata": {
        "id": "qARLsU5iJY6R"
      },
      "source": [
        " \\- 대문자와 소문자는 구분되어 사용됨"
      ]
    },
    {
      "cell_type": "code",
      "metadata": {
        "colab": {
          "base_uri": "https://localhost:8080/"
        },
        "id": "BHeUT1QiJeb9",
        "outputId": "3d44c903-ff09-4f6a-8b72-099bf1f71770"
      },
      "source": [
        "a = 1\n",
        "A = 10\n",
        "print(a)\n",
        "print(A)"
      ],
      "execution_count": null,
      "outputs": [
        {
          "output_type": "stream",
          "name": "stdout",
          "text": [
            "1\n",
            "10\n"
          ]
        }
      ]
    },
    {
      "cell_type": "markdown",
      "metadata": {
        "id": "ZZEIIpFYJlGl"
      },
      "source": [
        " \\- 변수명 사이에 띄워쓰기는 불가"
      ]
    },
    {
      "cell_type": "code",
      "metadata": {
        "id": "fb4xPMaUJocV",
        "colab": {
          "base_uri": "https://localhost:8080/",
          "height": 109
        },
        "outputId": "d567b89f-86d6-43f5-f72f-c704be186f1a"
      },
      "source": [
        "a b = 1"
      ],
      "execution_count": null,
      "outputs": [
        {
          "output_type": "error",
          "ename": "SyntaxError",
          "evalue": "invalid syntax (<ipython-input-1-2bab97d7970c>, line 1)",
          "traceback": [
            "\u001b[0;36m  File \u001b[0;32m\"<ipython-input-1-2bab97d7970c>\"\u001b[0;36m, line \u001b[0;32m1\u001b[0m\n\u001b[0;31m    a b = 1\u001b[0m\n\u001b[0m      ^\u001b[0m\n\u001b[0;31mSyntaxError\u001b[0m\u001b[0;31m:\u001b[0m invalid syntax\n"
          ]
        }
      ]
    },
    {
      "cell_type": "markdown",
      "metadata": {
        "id": "4g-hbvufzwUL"
      },
      "source": [
        "# 3. 자료형"
      ]
    },
    {
      "cell_type": "markdown",
      "metadata": {
        "id": "2HfS2WWYAhlQ"
      },
      "source": [
        "- 자료형\n",
        "  \n",
        "  \\- 저장되는 데이터의 형태"
      ]
    },
    {
      "cell_type": "code",
      "metadata": {
        "id": "eP2o_n1gAg13",
        "colab": {
          "base_uri": "https://localhost:8080/"
        },
        "outputId": "3f73e181-b3d1-435d-9bd0-b4fb5bc40ff2"
      },
      "source": [
        "a = 1\n",
        "b = 0.1\n",
        "c = 'hello'\n",
        "\n",
        "print(type(a))\n",
        "print(type(b))\n",
        "print(type(c))"
      ],
      "execution_count": null,
      "outputs": [
        {
          "output_type": "stream",
          "name": "stdout",
          "text": [
            "<class 'int'>\n",
            "<class 'float'>\n",
            "<class 'str'>\n"
          ]
        }
      ]
    },
    {
      "cell_type": "code",
      "metadata": {
        "id": "Wy7rLCEkBDSn",
        "colab": {
          "base_uri": "https://localhost:8080/"
        },
        "outputId": "e5235025-bb40-472d-e0fa-49ce1b9ab66a"
      },
      "source": [
        "print(type(a))\n",
        "print(type(b))\n",
        "print(type(c))"
      ],
      "execution_count": null,
      "outputs": [
        {
          "output_type": "stream",
          "name": "stdout",
          "text": [
            "<class 'int'>\n",
            "<class 'float'>\n",
            "<class 'str'>\n"
          ]
        }
      ]
    },
    {
      "cell_type": "markdown",
      "metadata": {
        "id": "kGhmdRynBLBf"
      },
      "source": [
        "## 1) 숫자형"
      ]
    },
    {
      "cell_type": "markdown",
      "metadata": {
        "id": "YIEkfa-HBYY-"
      },
      "source": [
        "- int\n",
        "\n",
        " \\- 정수의 형태"
      ]
    },
    {
      "cell_type": "code",
      "metadata": {
        "colab": {
          "base_uri": "https://localhost:8080/"
        },
        "id": "Vol-9dXyITiB",
        "outputId": "3452fcc6-579a-40e3-910b-ad8dca96052d"
      },
      "source": [
        "a = 1\n",
        "print(type(a))"
      ],
      "execution_count": null,
      "outputs": [
        {
          "output_type": "stream",
          "name": "stdout",
          "text": [
            "<class 'int'>\n"
          ]
        }
      ]
    },
    {
      "cell_type": "code",
      "metadata": {
        "colab": {
          "base_uri": "https://localhost:8080/"
        },
        "id": "Habm96T2Iflw",
        "outputId": "2d10c452-d023-473b-cd18-0f1c2d988271"
      },
      "source": [
        "b = 0\n",
        "print(type(b))"
      ],
      "execution_count": null,
      "outputs": [
        {
          "output_type": "stream",
          "name": "stdout",
          "text": [
            "<class 'int'>\n"
          ]
        }
      ]
    },
    {
      "cell_type": "code",
      "metadata": {
        "colab": {
          "base_uri": "https://localhost:8080/"
        },
        "id": "iO1Yk2biLH6_",
        "outputId": "7895062c-01b5-42d3-c5f4-98f3ad6bd243"
      },
      "source": [
        "c = -1\n",
        "print(type(c))"
      ],
      "execution_count": null,
      "outputs": [
        {
          "output_type": "stream",
          "name": "stdout",
          "text": [
            "<class 'int'>\n"
          ]
        }
      ]
    },
    {
      "cell_type": "markdown",
      "metadata": {
        "id": "7TOkxBQPLP99"
      },
      "source": [
        "- float\n",
        "\n",
        " \\- 실수의 형태"
      ]
    },
    {
      "cell_type": "code",
      "metadata": {
        "colab": {
          "base_uri": "https://localhost:8080/"
        },
        "id": "uLt5FgxgLapg",
        "outputId": "218d2a65-d009-487a-cda7-213b3a67eeaa"
      },
      "source": [
        "a = 1.1\n",
        "print(type(a))"
      ],
      "execution_count": null,
      "outputs": [
        {
          "output_type": "stream",
          "name": "stdout",
          "text": [
            "<class 'float'>\n"
          ]
        }
      ]
    },
    {
      "cell_type": "code",
      "metadata": {
        "colab": {
          "base_uri": "https://localhost:8080/"
        },
        "id": "J65yNlqSLfar",
        "outputId": "3edb40e1-d430-40a4-b5a5-fb215a2cf43e"
      },
      "source": [
        "b = 0.0\n",
        "print(type(b))"
      ],
      "execution_count": null,
      "outputs": [
        {
          "output_type": "stream",
          "name": "stdout",
          "text": [
            "<class 'float'>\n"
          ]
        }
      ]
    },
    {
      "cell_type": "code",
      "metadata": {
        "colab": {
          "base_uri": "https://localhost:8080/"
        },
        "id": "R6znEsDtLi0m",
        "outputId": "22e0549b-ff0f-4194-b1db-0817708f102d"
      },
      "source": [
        "c = -1.1\n",
        "print(type(c))"
      ],
      "execution_count": null,
      "outputs": [
        {
          "output_type": "stream",
          "name": "stdout",
          "text": [
            "<class 'float'>\n"
          ]
        }
      ]
    },
    {
      "cell_type": "code",
      "metadata": {
        "id": "Zgs9aj-FLl7J",
        "colab": {
          "base_uri": "https://localhost:8080/"
        },
        "outputId": "51d4611a-c203-4b45-c748-af97895ce505"
      },
      "source": [
        "d = 1.\n",
        "print(type(d))"
      ],
      "execution_count": null,
      "outputs": [
        {
          "output_type": "stream",
          "name": "stdout",
          "text": [
            "<class 'float'>\n"
          ]
        }
      ]
    },
    {
      "cell_type": "markdown",
      "metadata": {
        "id": "tVFrUYnKLxPy"
      },
      "source": [
        "- int 와 float 의 연산 결과는 int 일까, float 일까?"
      ]
    },
    {
      "cell_type": "code",
      "metadata": {
        "colab": {
          "base_uri": "https://localhost:8080/"
        },
        "id": "yNZaSI8vMFT3",
        "outputId": "675bd88f-480c-4394-be60-a7c456b31496"
      },
      "source": [
        "a = 1\n",
        "b = 1.0\n",
        "\n",
        "print(type(a))\n",
        "print(type(b))"
      ],
      "execution_count": null,
      "outputs": [
        {
          "output_type": "stream",
          "name": "stdout",
          "text": [
            "<class 'int'>\n",
            "<class 'float'>\n"
          ]
        }
      ]
    },
    {
      "cell_type": "code",
      "source": [
        "a= 0.9\n",
        "b= 0.1\n",
        "print(type(a+b))"
      ],
      "metadata": {
        "colab": {
          "base_uri": "https://localhost:8080/"
        },
        "id": "sgF4g9SEFbSy",
        "outputId": "034e9eea-7dea-4004-d471-eceb6d98d6fd"
      },
      "execution_count": null,
      "outputs": [
        {
          "output_type": "stream",
          "name": "stdout",
          "text": [
            "<class 'float'>\n"
          ]
        }
      ]
    },
    {
      "cell_type": "code",
      "metadata": {
        "colab": {
          "base_uri": "https://localhost:8080/",
          "height": 145
        },
        "id": "BN3DaqHNMMl-",
        "outputId": "fbb68262-1a11-42c7-abb5-d07686a679b8"
      },
      "source": [
        "print(type(a + b))"
      ],
      "execution_count": null,
      "outputs": [
        {
          "output_type": "error",
          "ename": "NameError",
          "evalue": "name 'a' is not defined",
          "traceback": [
            "\u001b[0;31m---------------------------------------------------------------------------\u001b[0m",
            "\u001b[0;31mNameError\u001b[0m                                 Traceback (most recent call last)",
            "\u001b[0;32m<ipython-input-6-733d7c1ed767>\u001b[0m in \u001b[0;36m<cell line: 1>\u001b[0;34m()\u001b[0m\n\u001b[0;32m----> 1\u001b[0;31m \u001b[0mprint\u001b[0m\u001b[0;34m(\u001b[0m\u001b[0mtype\u001b[0m\u001b[0;34m(\u001b[0m\u001b[0ma\u001b[0m \u001b[0;34m+\u001b[0m \u001b[0mb\u001b[0m\u001b[0;34m)\u001b[0m\u001b[0;34m)\u001b[0m\u001b[0;34m\u001b[0m\u001b[0;34m\u001b[0m\u001b[0m\n\u001b[0m",
            "\u001b[0;31mNameError\u001b[0m: name 'a' is not defined"
          ]
        }
      ]
    },
    {
      "cell_type": "markdown",
      "metadata": {
        "id": "HNPAVUZWNrwb"
      },
      "source": [
        "- 연산"
      ]
    },
    {
      "cell_type": "markdown",
      "metadata": {
        "id": "-ouh3aHvN3NY"
      },
      "source": [
        " \\- 더하기"
      ]
    },
    {
      "cell_type": "code",
      "metadata": {
        "id": "OllsaiwhN90u"
      },
      "source": [
        "a = 10\n",
        "b = 2"
      ],
      "execution_count": null,
      "outputs": []
    },
    {
      "cell_type": "code",
      "metadata": {
        "colab": {
          "base_uri": "https://localhost:8080/"
        },
        "id": "rXk-InetOF1g",
        "outputId": "dd0e2328-f34f-4e6c-d261-ff3f61b743b0"
      },
      "source": [
        "a + b"
      ],
      "execution_count": null,
      "outputs": [
        {
          "output_type": "execute_result",
          "data": {
            "text/plain": [
              "12"
            ]
          },
          "metadata": {},
          "execution_count": 46
        }
      ]
    },
    {
      "cell_type": "markdown",
      "metadata": {
        "id": "stF8VHklOK5o"
      },
      "source": [
        "\\- 빼기"
      ]
    },
    {
      "cell_type": "code",
      "metadata": {
        "id": "r6ZU4mw-OQNo"
      },
      "source": [
        "a = 10\n",
        "b = 2"
      ],
      "execution_count": null,
      "outputs": []
    },
    {
      "cell_type": "code",
      "metadata": {
        "id": "ry3-FfE2OTcg"
      },
      "source": [
        "a - b"
      ],
      "execution_count": null,
      "outputs": []
    },
    {
      "cell_type": "markdown",
      "metadata": {
        "id": "3NFUxetTOVXf"
      },
      "source": [
        "\\- 곱하기"
      ]
    },
    {
      "cell_type": "code",
      "metadata": {
        "id": "VnUoHXcWOZF0"
      },
      "source": [
        "a = 10\n",
        "b = 2"
      ],
      "execution_count": null,
      "outputs": []
    },
    {
      "cell_type": "code",
      "metadata": {
        "colab": {
          "base_uri": "https://localhost:8080/"
        },
        "id": "VfN7abswObD3",
        "outputId": "4a8a0e20-98ba-450e-f5fd-32689c5bd625"
      },
      "source": [
        "a * b"
      ],
      "execution_count": null,
      "outputs": [
        {
          "output_type": "execute_result",
          "data": {
            "text/plain": [
              "20"
            ]
          },
          "metadata": {},
          "execution_count": 50
        }
      ]
    },
    {
      "cell_type": "markdown",
      "metadata": {
        "id": "3zy9VlXoOc26"
      },
      "source": [
        "\\- 나누기"
      ]
    },
    {
      "cell_type": "code",
      "metadata": {
        "id": "gDUeser-Oftn"
      },
      "source": [
        "a = 10\n",
        "b = 2"
      ],
      "execution_count": null,
      "outputs": []
    },
    {
      "cell_type": "code",
      "metadata": {
        "id": "jGquy_C0Oh1c"
      },
      "source": [
        "a / b"
      ],
      "execution_count": null,
      "outputs": []
    },
    {
      "cell_type": "markdown",
      "metadata": {
        "id": "GoFHM6VpOr82"
      },
      "source": [
        "\\- 몫"
      ]
    },
    {
      "cell_type": "code",
      "metadata": {
        "id": "MviBShCoOxDF"
      },
      "source": [
        "a = 10\n",
        "b = 3"
      ],
      "execution_count": null,
      "outputs": []
    },
    {
      "cell_type": "code",
      "metadata": {
        "colab": {
          "base_uri": "https://localhost:8080/"
        },
        "id": "OtEAvP2QO0a-",
        "outputId": "768bc54c-e721-476e-d3f7-1d5a71ed61c4"
      },
      "source": [
        "a // b"
      ],
      "execution_count": null,
      "outputs": [
        {
          "output_type": "execute_result",
          "data": {
            "text/plain": [
              "3"
            ]
          },
          "metadata": {},
          "execution_count": 52
        }
      ]
    },
    {
      "cell_type": "markdown",
      "metadata": {
        "id": "v6VX1eKkO3uf"
      },
      "source": [
        "\\- 나머지"
      ]
    },
    {
      "cell_type": "code",
      "metadata": {
        "id": "oRtPKgl5O6Km",
        "colab": {
          "base_uri": "https://localhost:8080/"
        },
        "outputId": "491b5654-bad2-46c5-c5d1-8544f0b145e4"
      },
      "source": [
        "a = 10\n",
        "b = 3\n",
        "a % b"
      ],
      "execution_count": null,
      "outputs": [
        {
          "output_type": "execute_result",
          "data": {
            "text/plain": [
              "1"
            ]
          },
          "metadata": {},
          "execution_count": 26
        }
      ]
    },
    {
      "cell_type": "code",
      "metadata": {
        "colab": {
          "base_uri": "https://localhost:8080/",
          "height": 141
        },
        "id": "QQGGUdoVO78g",
        "outputId": "25cce9a2-c965-48d6-f075-4765ff9a0310"
      },
      "source": [
        "a % b"
      ],
      "execution_count": null,
      "outputs": [
        {
          "output_type": "error",
          "ename": "TypeError",
          "evalue": "unsupported operand type(s) for %: 'dict' and 'tuple'",
          "traceback": [
            "\u001b[0;31m---------------------------------------------------------------------------\u001b[0m",
            "\u001b[0;31mTypeError\u001b[0m                                 Traceback (most recent call last)",
            "\u001b[0;32m<ipython-input-20-bb5d1a9b79f9>\u001b[0m in \u001b[0;36m<cell line: 1>\u001b[0;34m()\u001b[0m\n\u001b[0;32m----> 1\u001b[0;31m \u001b[0ma\u001b[0m \u001b[0;34m%\u001b[0m \u001b[0mb\u001b[0m\u001b[0;34m\u001b[0m\u001b[0;34m\u001b[0m\u001b[0m\n\u001b[0m",
            "\u001b[0;31mTypeError\u001b[0m: unsupported operand type(s) for %: 'dict' and 'tuple'"
          ]
        }
      ]
    },
    {
      "cell_type": "markdown",
      "metadata": {
        "id": "ry7qFCJjO9uc"
      },
      "source": [
        "\\- 제곱"
      ]
    },
    {
      "cell_type": "code",
      "metadata": {
        "id": "TEn1Vi65O_7T"
      },
      "source": [
        "a = 10\n",
        "b = 3"
      ],
      "execution_count": null,
      "outputs": []
    },
    {
      "cell_type": "code",
      "metadata": {
        "id": "oruVp3RqPE9E",
        "colab": {
          "base_uri": "https://localhost:8080/"
        },
        "outputId": "7d33c6e8-c5a1-4888-cc01-b889a4cf6301"
      },
      "source": [
        "a ** b"
      ],
      "execution_count": null,
      "outputs": [
        {
          "output_type": "execute_result",
          "data": {
            "text/plain": [
              "1000"
            ]
          },
          "metadata": {},
          "execution_count": 27
        }
      ]
    },
    {
      "cell_type": "markdown",
      "metadata": {
        "id": "TaPjGxBvPNeN"
      },
      "source": [
        "* 할당연산"
      ]
    },
    {
      "cell_type": "markdown",
      "metadata": {
        "id": "dnWRK-BnPXeA"
      },
      "source": [
        "  \\- 변수 a 는 1 이다. 해당 변수 a 에 1을 더하여라."
      ]
    },
    {
      "cell_type": "code",
      "metadata": {
        "id": "IlZhN29ZPum4"
      },
      "source": [
        "a = 1\n",
        "a = a + 1"
      ],
      "execution_count": null,
      "outputs": []
    },
    {
      "cell_type": "code",
      "metadata": {
        "id": "MlGWfgVsQ6-b",
        "colab": {
          "base_uri": "https://localhost:8080/"
        },
        "outputId": "a5ff0f99-6556-4266-df22-bd3a6cadc9db"
      },
      "source": [
        "print(a)"
      ],
      "execution_count": null,
      "outputs": [
        {
          "output_type": "stream",
          "name": "stdout",
          "text": [
            "10\n"
          ]
        }
      ]
    },
    {
      "cell_type": "markdown",
      "metadata": {
        "id": "bYhzAMPcQ-gT"
      },
      "source": [
        "\\- 할당연산을 사용한 방법"
      ]
    },
    {
      "cell_type": "code",
      "metadata": {
        "id": "DbdpklD4RDjy"
      },
      "source": [
        "a = 1\n",
        "a += 1"
      ],
      "execution_count": null,
      "outputs": []
    },
    {
      "cell_type": "code",
      "metadata": {
        "id": "gheUgbGlRFwW"
      },
      "source": [
        "print(a)"
      ],
      "execution_count": null,
      "outputs": []
    },
    {
      "cell_type": "markdown",
      "metadata": {
        "id": "R6NKpid8Ri7p"
      },
      "source": [
        "\\- 빼기"
      ]
    },
    {
      "cell_type": "code",
      "metadata": {
        "id": "yC7UhU9sRocz"
      },
      "source": [
        "a = 1\n",
        "a -= 1"
      ],
      "execution_count": null,
      "outputs": []
    },
    {
      "cell_type": "code",
      "metadata": {
        "id": "iayB8srVRtSy",
        "colab": {
          "base_uri": "https://localhost:8080/"
        },
        "outputId": "4fbd4499-dafb-43ab-886d-0b66ba855b23"
      },
      "source": [
        "print(a)"
      ],
      "execution_count": null,
      "outputs": [
        {
          "output_type": "stream",
          "name": "stdout",
          "text": [
            "0\n"
          ]
        }
      ]
    },
    {
      "cell_type": "markdown",
      "metadata": {
        "id": "SvAiWOCfRuoH"
      },
      "source": [
        "\\- 곱하기"
      ]
    },
    {
      "cell_type": "code",
      "metadata": {
        "id": "_YUNrf4JRy-G"
      },
      "source": [
        "a = 2\n",
        "a *= 2"
      ],
      "execution_count": null,
      "outputs": []
    },
    {
      "cell_type": "code",
      "metadata": {
        "id": "N1qEEbtLR1-v"
      },
      "source": [
        "print(a)"
      ],
      "execution_count": null,
      "outputs": []
    },
    {
      "cell_type": "markdown",
      "metadata": {
        "id": "Yl-Zo2noR48O"
      },
      "source": [
        "\\- 나누기"
      ]
    },
    {
      "cell_type": "code",
      "metadata": {
        "id": "X5-THfR0R83d"
      },
      "source": [
        "a = 1\n",
        "a /= 2"
      ],
      "execution_count": null,
      "outputs": []
    },
    {
      "cell_type": "code",
      "metadata": {
        "id": "ldTMNMXLSB0n"
      },
      "source": [
        "print(a)"
      ],
      "execution_count": null,
      "outputs": []
    },
    {
      "cell_type": "markdown",
      "metadata": {
        "id": "5sb53c3PWXrk"
      },
      "source": [
        "## 2) 문자형"
      ]
    },
    {
      "cell_type": "markdown",
      "metadata": {
        "id": "1eQ8wS3hWx8M"
      },
      "source": [
        "\\- 문자형을 만들기 위해서는 문자를 따옴표(') 쌍 따옴표(\") 로 감싸준다."
      ]
    },
    {
      "cell_type": "code",
      "metadata": {
        "id": "h-KJOLJGWdoI"
      },
      "source": [
        "a = 'hello'"
      ],
      "execution_count": null,
      "outputs": []
    },
    {
      "cell_type": "code",
      "metadata": {
        "id": "teyFHUsCe0Mz"
      },
      "source": [
        "a = \"hello\""
      ],
      "execution_count": null,
      "outputs": []
    },
    {
      "cell_type": "markdown",
      "metadata": {
        "id": "Gm5m8G5Zk0qZ"
      },
      "source": [
        "* 인덱스\n",
        "\n",
        " \\- 인덱스는 []를 통해 지정해 줄 수 있으며, 0부터 시작합니다."
      ]
    },
    {
      "cell_type": "code",
      "metadata": {
        "id": "EO0oMZD7lCQY"
      },
      "source": [
        "a = 'hellow world'"
      ],
      "execution_count": null,
      "outputs": []
    },
    {
      "cell_type": "markdown",
      "metadata": {
        "id": "_5-i9HiFlKTh"
      },
      "source": [
        "\\- 변수 a 의 첫 번째 문자를 출력하시오."
      ]
    },
    {
      "cell_type": "code",
      "metadata": {
        "id": "-xVLq2BQlTm6"
      },
      "source": [
        "print(a[0])"
      ],
      "execution_count": null,
      "outputs": []
    },
    {
      "cell_type": "markdown",
      "metadata": {
        "id": "D81c2u4knjmH"
      },
      "source": [
        " \\- 변수 a 의 마지막 문자를 출력하시오."
      ]
    },
    {
      "cell_type": "code",
      "metadata": {
        "id": "0XM0pb9bnnw6"
      },
      "source": [
        "print(a[-1])"
      ],
      "execution_count": null,
      "outputs": []
    },
    {
      "cell_type": "markdown",
      "metadata": {
        "id": "2zS0Fa58nr06"
      },
      "source": [
        "* 슬라이스\n",
        "\n",
        "  \\- 범위를 지정하여 원하는 부분만을 얻을 수 있습니다."
      ]
    },
    {
      "cell_type": "code",
      "metadata": {
        "id": "xOD2F_rool9l"
      },
      "source": [
        "a = 'hellow world'"
      ],
      "execution_count": null,
      "outputs": []
    },
    {
      "cell_type": "markdown",
      "metadata": {
        "id": "p900FLc4oiUp"
      },
      "source": [
        "\\- 변수 a 전체를 출력하시오."
      ]
    },
    {
      "cell_type": "code",
      "metadata": {
        "id": "suptkcwvohig"
      },
      "source": [
        "print(a)"
      ],
      "execution_count": null,
      "outputs": []
    },
    {
      "cell_type": "markdown",
      "metadata": {
        "id": "FiOxtIKbpkH-"
      },
      "source": [
        "or"
      ]
    },
    {
      "cell_type": "code",
      "metadata": {
        "id": "IWXqLjAPplmo"
      },
      "source": [
        "print(a[:])"
      ],
      "execution_count": null,
      "outputs": []
    },
    {
      "cell_type": "markdown",
      "metadata": {
        "id": "LqMOTuClpuC5"
      },
      "source": [
        "\\- 변수 a의 6 ~ 8 번째 문자를 출력하시오."
      ]
    },
    {
      "cell_type": "code",
      "metadata": {
        "id": "Es5Uhl7zptIX",
        "colab": {
          "base_uri": "https://localhost:8080/"
        },
        "outputId": "d849c84b-a8d5-4a57-b803-ccde0ca7ae70"
      },
      "source": [
        "a=[1,2,3,4,5,6,7,8]\n",
        "print(a[:8])"
      ],
      "execution_count": null,
      "outputs": [
        {
          "output_type": "stream",
          "name": "stdout",
          "text": [
            "[1, 2, 3, 4, 5, 6, 7, 8]\n"
          ]
        }
      ]
    },
    {
      "cell_type": "markdown",
      "metadata": {
        "id": "0NcDttlsqI_h"
      },
      "source": [
        "\\- 변수 a의 처음 ~ 5번째 문자를 출력하시오."
      ]
    },
    {
      "cell_type": "code",
      "metadata": {
        "id": "_FqLbQNQrhUF"
      },
      "source": [
        "print(a[:5])"
      ],
      "execution_count": null,
      "outputs": []
    },
    {
      "cell_type": "markdown",
      "metadata": {
        "id": "0B-JD0gWroFf"
      },
      "source": [
        "\\- 변수 a의 뒤에서부터 5번째 ~ 마지막 문자를 출력하시오."
      ]
    },
    {
      "cell_type": "code",
      "metadata": {
        "id": "yhUZJmzNrvYZ"
      },
      "source": [
        "print(a[-5:])"
      ],
      "execution_count": null,
      "outputs": []
    },
    {
      "cell_type": "markdown",
      "metadata": {
        "id": "O4cUi_jwr6EE"
      },
      "source": [
        "\\- 변수 a의 처음 ~ 뒤에서부터 -5번째 문자를 출력하시오."
      ]
    },
    {
      "cell_type": "code",
      "metadata": {
        "id": "dbKXVXlOsGMC"
      },
      "source": [
        "print(a[:-4])"
      ],
      "execution_count": null,
      "outputs": []
    },
    {
      "cell_type": "markdown",
      "metadata": {
        "id": "tjq5T4HswgVl"
      },
      "source": [
        "- 문자열의 합"
      ]
    },
    {
      "cell_type": "code",
      "metadata": {
        "id": "D3bxbnJXwi7c"
      },
      "source": [
        "a = 'hellow'\n",
        "b = 'world'\n",
        "print(a + b)"
      ],
      "execution_count": null,
      "outputs": []
    },
    {
      "cell_type": "markdown",
      "metadata": {
        "id": "C4mqNCAhwrMT"
      },
      "source": [
        "- 문자열의 곱"
      ]
    },
    {
      "cell_type": "code",
      "metadata": {
        "id": "As8UWC0LwtP_"
      },
      "source": [
        "a = 'hellow'\n",
        "print(a * 3)"
      ],
      "execution_count": null,
      "outputs": []
    },
    {
      "cell_type": "markdown",
      "metadata": {
        "id": "eAo1qluYw1Ch"
      },
      "source": [
        "* 문자형과 숫자형의 혼용\n",
        "\n",
        " \\- 문제 : 변수(숫자)를 넣어 'My number is (변수)' 를 출력하시오."
      ]
    },
    {
      "cell_type": "markdown",
      "metadata": {
        "id": "uttUROjmyf6P"
      },
      "source": [
        "\\- 방법 1"
      ]
    },
    {
      "cell_type": "code",
      "metadata": {
        "id": "mJp9H6dSzajO"
      },
      "source": [
        "a = 'My number is '\n",
        "b = 1"
      ],
      "execution_count": null,
      "outputs": []
    },
    {
      "cell_type": "code",
      "metadata": {
        "id": "Qe3ujLXe1RzL",
        "colab": {
          "base_uri": "https://localhost:8080/",
          "height": 145
        },
        "outputId": "2c382895-3876-463c-a829-f2a4a1274406"
      },
      "source": [
        "print(a, b)"
      ],
      "execution_count": null,
      "outputs": [
        {
          "output_type": "error",
          "ename": "NameError",
          "evalue": "name 'b' is not defined",
          "traceback": [
            "\u001b[0;31m---------------------------------------------------------------------------\u001b[0m",
            "\u001b[0;31mNameError\u001b[0m                                 Traceback (most recent call last)",
            "\u001b[0;32m<ipython-input-12-8f13aef095ad>\u001b[0m in \u001b[0;36m<cell line: 1>\u001b[0;34m()\u001b[0m\n\u001b[0;32m----> 1\u001b[0;31m \u001b[0mprint\u001b[0m\u001b[0;34m(\u001b[0m\u001b[0ma\u001b[0m\u001b[0;34m,\u001b[0m \u001b[0mb\u001b[0m\u001b[0;34m)\u001b[0m\u001b[0;34m\u001b[0m\u001b[0;34m\u001b[0m\u001b[0m\n\u001b[0m",
            "\u001b[0;31mNameError\u001b[0m: name 'b' is not defined"
          ]
        }
      ]
    },
    {
      "cell_type": "markdown",
      "metadata": {
        "id": "qXNLutfR1pfJ"
      },
      "source": [
        "\\- 방법 2"
      ]
    },
    {
      "cell_type": "code",
      "metadata": {
        "id": "AoRxMZzPziJ3"
      },
      "source": [
        "a = 'My number is '\n",
        "b = 1"
      ],
      "execution_count": null,
      "outputs": []
    },
    {
      "cell_type": "code",
      "metadata": {
        "id": "DfSPXjLY00nu",
        "colab": {
          "base_uri": "https://localhost:8080/",
          "height": 146
        },
        "outputId": "3de63146-aa64-48b3-ed99-8b01c8fc1774"
      },
      "source": [
        "print(a + b)"
      ],
      "execution_count": null,
      "outputs": [
        {
          "output_type": "error",
          "ename": "TypeError",
          "evalue": "can only concatenate str (not \"int\") to str",
          "traceback": [
            "\u001b[0;31m---------------------------------------------------------------------------\u001b[0m",
            "\u001b[0;31mTypeError\u001b[0m                                 Traceback (most recent call last)",
            "\u001b[0;32m<ipython-input-7-0ae8b1612688>\u001b[0m in \u001b[0;36m<cell line: 1>\u001b[0;34m()\u001b[0m\n\u001b[0;32m----> 1\u001b[0;31m \u001b[0mprint\u001b[0m\u001b[0;34m(\u001b[0m\u001b[0ma\u001b[0m \u001b[0;34m+\u001b[0m \u001b[0mb\u001b[0m\u001b[0;34m)\u001b[0m\u001b[0;34m\u001b[0m\u001b[0;34m\u001b[0m\u001b[0m\n\u001b[0m",
            "\u001b[0;31mTypeError\u001b[0m: can only concatenate str (not \"int\") to str"
          ]
        }
      ]
    },
    {
      "cell_type": "markdown",
      "metadata": {
        "id": "bnrGWySX17En"
      },
      "source": [
        "문자형과 숫자형을 더해주기 위해서는 숫자형을 문자형으로 바꾸어 주어야만 한다."
      ]
    },
    {
      "cell_type": "code",
      "metadata": {
        "id": "rDG_-vb42CJ7",
        "colab": {
          "base_uri": "https://localhost:8080/"
        },
        "outputId": "d1452813-6716-4f68-f404-af5eec145e2b"
      },
      "source": [
        "print(a + str(b))"
      ],
      "execution_count": null,
      "outputs": [
        {
          "output_type": "stream",
          "name": "stdout",
          "text": [
            "My number is 1\n"
          ]
        }
      ]
    },
    {
      "cell_type": "markdown",
      "metadata": {
        "id": "xzM2VoXW0lFP"
      },
      "source": [
        "\\- 방법 3"
      ]
    },
    {
      "cell_type": "code",
      "metadata": {
        "id": "p4GqHzUEzqkf"
      },
      "source": [
        "print('My number is {}'.format(b))"
      ],
      "execution_count": null,
      "outputs": []
    },
    {
      "cell_type": "markdown",
      "metadata": {
        "id": "30vpnJfc4e88"
      },
      "source": [
        "\\- 두 개 이상의 값 넣기"
      ]
    },
    {
      "cell_type": "code",
      "metadata": {
        "id": "-Ofkh5zA4ojf"
      },
      "source": [
        "print('오늘은 {}월 {}일 입니다.'.format(5, 10))"
      ],
      "execution_count": null,
      "outputs": []
    },
    {
      "cell_type": "code",
      "source": [
        "print('오늘은 {}월 {}일 입니다.'.format(7,22))\n",
        "result = '오늘은 {}월 {}일 입니다.'.format(7,22)\n",
        "print(type(result))"
      ],
      "metadata": {
        "colab": {
          "base_uri": "https://localhost:8080/"
        },
        "id": "TSGwHxnsI8aj",
        "outputId": "f4d77f68-fba9-435a-dc72-ad818013caa9"
      },
      "execution_count": null,
      "outputs": [
        {
          "output_type": "stream",
          "name": "stdout",
          "text": [
            "오늘은 7월 22일 입니다.\n",
            "<class 'str'>\n"
          ]
        }
      ]
    },
    {
      "cell_type": "markdown",
      "metadata": {
        "id": "BEbvDdIM5LNo"
      },
      "source": [
        "\\- 이름을 통한 값 넣기"
      ]
    },
    {
      "cell_type": "code",
      "metadata": {
        "id": "nDodwetZ5Pgp",
        "colab": {
          "base_uri": "https://localhost:8080/"
        },
        "outputId": "0872b465-c679-4d25-907a-60210b04cba2"
      },
      "source": [
        "print('오늘은 {month}월 {day}일 입니다. {month}월은 가정의 달입니다.'.format(month = 5, day = 10))"
      ],
      "execution_count": null,
      "outputs": [
        {
          "output_type": "stream",
          "name": "stdout",
          "text": [
            "오늘은 5월 10일 입니다. 5월은 가정의 달입니다.\n"
          ]
        }
      ]
    },
    {
      "cell_type": "code",
      "metadata": {
        "id": "Tf1NJ--N5i24"
      },
      "source": [
        "a = '오늘은 {month}월 {day}일 입니다. {month}월은 가정의 달입니다.'.format(month = 5, day = 10)"
      ],
      "execution_count": null,
      "outputs": []
    },
    {
      "cell_type": "code",
      "metadata": {
        "id": "iDHFnpdJ5mX8",
        "colab": {
          "base_uri": "https://localhost:8080/"
        },
        "outputId": "aa344891-1bd8-4252-d20c-ff36a9b2fb2c"
      },
      "source": [
        "print(a)"
      ],
      "execution_count": null,
      "outputs": [
        {
          "output_type": "stream",
          "name": "stdout",
          "text": [
            "오늘은 5월 10일 입니다. 5월은 가정의 달입니다.\n"
          ]
        }
      ]
    },
    {
      "cell_type": "markdown",
      "metadata": {
        "id": "iUodbcM059ex"
      },
      "source": [
        "- 문자열 분해"
      ]
    },
    {
      "cell_type": "markdown",
      "metadata": {
        "id": "tND_WHmC6HDg"
      },
      "source": [
        "\\- 'hello world' 를 'hello'와 'world'로 분리하시오."
      ]
    },
    {
      "cell_type": "code",
      "metadata": {
        "id": "LTorjjj66QMe",
        "colab": {
          "base_uri": "https://localhost:8080/"
        },
        "outputId": "f9ab6fd7-f6e6-4cf3-9c61-ff16a3ca7444"
      },
      "source": [
        "a = 'hello world'\n"
      ],
      "execution_count": null,
      "outputs": [
        {
          "output_type": "stream",
          "name": "stdout",
          "text": [
            "['hello', 'world']\n"
          ]
        }
      ]
    },
    {
      "cell_type": "code",
      "metadata": {
        "id": "a1KH_2E26S5M",
        "colab": {
          "base_uri": "https://localhost:8080/",
          "height": 145
        },
        "outputId": "b7dc31df-c108-49b2-c87d-ba93ca61fb41"
      },
      "source": [
        "print(a.split())"
      ],
      "execution_count": null,
      "outputs": [
        {
          "output_type": "error",
          "ename": "AttributeError",
          "evalue": "'list' object has no attribute 'split'",
          "traceback": [
            "\u001b[0;31m---------------------------------------------------------------------------\u001b[0m",
            "\u001b[0;31mAttributeError\u001b[0m                            Traceback (most recent call last)",
            "\u001b[0;32m<ipython-input-18-c9dc7090c935>\u001b[0m in \u001b[0;36m<cell line: 1>\u001b[0;34m()\u001b[0m\n\u001b[0;32m----> 1\u001b[0;31m \u001b[0mprint\u001b[0m\u001b[0;34m(\u001b[0m\u001b[0ma\u001b[0m\u001b[0;34m.\u001b[0m\u001b[0msplit\u001b[0m\u001b[0;34m(\u001b[0m\u001b[0;34m)\u001b[0m\u001b[0;34m)\u001b[0m\u001b[0;34m\u001b[0m\u001b[0;34m\u001b[0m\u001b[0m\n\u001b[0m",
            "\u001b[0;31mAttributeError\u001b[0m: 'list' object has no attribute 'split'"
          ]
        }
      ]
    },
    {
      "cell_type": "code",
      "source": [],
      "metadata": {
        "id": "_WEYstSW5Tbo"
      },
      "execution_count": null,
      "outputs": []
    },
    {
      "cell_type": "code",
      "source": [],
      "metadata": {
        "id": "2jeZq5Vi38Uw"
      },
      "execution_count": null,
      "outputs": []
    },
    {
      "cell_type": "markdown",
      "metadata": {
        "id": "ab8VEOll6-ac"
      },
      "source": [
        "\\- 'I am a boy' 를 각 단어를 기준으로 분리하시오."
      ]
    },
    {
      "cell_type": "code",
      "metadata": {
        "id": "QUIYmlmC6ZMw"
      },
      "source": [
        "a = 'I am a boy'"
      ],
      "execution_count": null,
      "outputs": []
    },
    {
      "cell_type": "code",
      "metadata": {
        "id": "LxjG64yK7Gzv",
        "colab": {
          "base_uri": "https://localhost:8080/",
          "height": 164
        },
        "outputId": "fbae0e3e-9f81-4f12-d095-99b5f0234ab0"
      },
      "source": [
        "a.split()\n",
        "print(a)"
      ],
      "execution_count": null,
      "outputs": [
        {
          "output_type": "error",
          "ename": "AttributeError",
          "evalue": "'list' object has no attribute 'split'",
          "traceback": [
            "\u001b[0;31m---------------------------------------------------------------------------\u001b[0m",
            "\u001b[0;31mAttributeError\u001b[0m                            Traceback (most recent call last)",
            "\u001b[0;32m<ipython-input-17-0311b1d96f7a>\u001b[0m in \u001b[0;36m<cell line: 1>\u001b[0;34m()\u001b[0m\n\u001b[0;32m----> 1\u001b[0;31m \u001b[0ma\u001b[0m\u001b[0;34m.\u001b[0m\u001b[0msplit\u001b[0m\u001b[0;34m(\u001b[0m\u001b[0;34m)\u001b[0m\u001b[0;34m\u001b[0m\u001b[0;34m\u001b[0m\u001b[0m\n\u001b[0m\u001b[1;32m      2\u001b[0m \u001b[0mprint\u001b[0m\u001b[0;34m(\u001b[0m\u001b[0ma\u001b[0m\u001b[0;34m)\u001b[0m\u001b[0;34m\u001b[0m\u001b[0;34m\u001b[0m\u001b[0m\n",
            "\u001b[0;31mAttributeError\u001b[0m: 'list' object has no attribute 'split'"
          ]
        }
      ]
    },
    {
      "cell_type": "markdown",
      "metadata": {
        "id": "RVbqFzcN7J7r"
      },
      "source": [
        "\\- 'I.am.a.boy' 를 '.'를 기준으로 분리하시오."
      ]
    },
    {
      "cell_type": "code",
      "metadata": {
        "id": "e1Z0srAY7Rgr"
      },
      "source": [
        "a = 'I.am.a.boy'"
      ],
      "execution_count": null,
      "outputs": []
    },
    {
      "cell_type": "code",
      "metadata": {
        "id": "qSdmzJB_7UHH"
      },
      "source": [
        "a.split()"
      ],
      "execution_count": null,
      "outputs": []
    },
    {
      "cell_type": "code",
      "source": [],
      "metadata": {
        "id": "-K9boME1LkV-"
      },
      "execution_count": null,
      "outputs": []
    },
    {
      "cell_type": "code",
      "metadata": {
        "id": "go9O4ECW7V-h",
        "colab": {
          "base_uri": "https://localhost:8080/"
        },
        "outputId": "a7eaf0d3-8593-48dd-8b8d-13b8bbd38ab9"
      },
      "source": [
        "print(a.split('.'))"
      ],
      "execution_count": null,
      "outputs": [
        {
          "output_type": "stream",
          "name": "stdout",
          "text": [
            "['오늘은 5월 10일 입니다', ' 5월은 가정의 달입니다', '']\n"
          ]
        }
      ]
    },
    {
      "cell_type": "markdown",
      "metadata": {
        "id": "LcMxzNnx9p5s"
      },
      "source": [
        "## 3) 리스트"
      ]
    },
    {
      "cell_type": "markdown",
      "metadata": {
        "id": "5jNLITge-Gwa"
      },
      "source": [
        "- 배열의 필요성\n",
        "\n",
        "\\- 영희는 주사위를 여섯번 던져 1, 3, 5, 5, 2, 4 가 나왔다. 이 결과를 변수를 이용하여 저장하여라."
      ]
    },
    {
      "cell_type": "code",
      "metadata": {
        "id": "hm1z9mpJ-YwW"
      },
      "source": [
        "a1 = 1\n",
        "a2 = 3\n",
        "a3 = 5\n",
        "a4 = 5\n",
        "a5 = 2\n",
        "a6 = 4"
      ],
      "execution_count": null,
      "outputs": []
    },
    {
      "cell_type": "markdown",
      "metadata": {
        "id": "ydgNgl7f-vti"
      },
      "source": [
        "\\- 리스트를 사용하면 아래와 같이 쉽게 만들수 있다."
      ]
    },
    {
      "cell_type": "code",
      "metadata": {
        "id": "eOmHQ-ba-2H_"
      },
      "source": [
        "a = [1, 3, 5, 5, 2, 4]"
      ],
      "execution_count": null,
      "outputs": []
    },
    {
      "cell_type": "code",
      "metadata": {
        "id": "TrzhFpww-6XA",
        "colab": {
          "base_uri": "https://localhost:8080/"
        },
        "outputId": "e3ef14ab-135c-499e-a3d2-9daca744edde"
      },
      "source": [
        "print(a)"
      ],
      "execution_count": null,
      "outputs": [
        {
          "output_type": "stream",
          "name": "stdout",
          "text": [
            "[1, 3, 5, 5, 2, 4]\n"
          ]
        }
      ]
    },
    {
      "cell_type": "code",
      "metadata": {
        "id": "8w1zkRv2-8QL",
        "colab": {
          "base_uri": "https://localhost:8080/"
        },
        "outputId": "3eff1c72-52d5-4eda-98ef-10442cc63e46"
      },
      "source": [
        "print(type(a))"
      ],
      "execution_count": null,
      "outputs": [
        {
          "output_type": "stream",
          "name": "stdout",
          "text": [
            "<class 'list'>\n"
          ]
        }
      ]
    },
    {
      "cell_type": "markdown",
      "metadata": {
        "id": "_7b05ZDeCvYX"
      },
      "source": [
        "- 리스트의 구조 / 인덱스\n",
        "\n",
        " \\- 리스트 내부에 리스트를 포함할 수도 있다."
      ]
    },
    {
      "cell_type": "code",
      "metadata": {
        "id": "ybfCVjkuCy24"
      },
      "source": [
        "b = [1, [1, 2], [1, [1, 2]]]"
      ],
      "execution_count": null,
      "outputs": []
    },
    {
      "cell_type": "markdown",
      "metadata": {
        "id": "dcO8v6_m9wIi"
      },
      "source": [
        "![list.png](data:image/png;base64,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)"
      ]
    },
    {
      "cell_type": "code",
      "metadata": {
        "id": "tP-rrGjFCf04",
        "colab": {
          "base_uri": "https://localhost:8080/"
        },
        "outputId": "8e117d96-f448-4fe8-b747-e7dd480807e2"
      },
      "source": [
        "print(b[0])\n",
        "print(b[1][1])\n",
        "print(b[2][1][0])"
      ],
      "execution_count": null,
      "outputs": [
        {
          "output_type": "stream",
          "name": "stdout",
          "text": [
            "1\n",
            "2\n",
            "1\n"
          ]
        }
      ]
    },
    {
      "cell_type": "markdown",
      "metadata": {
        "id": "YnIpq6WmDT2S"
      },
      "source": [
        "* 슬라이스"
      ]
    },
    {
      "cell_type": "code",
      "metadata": {
        "id": "0ovQfFYFEotd"
      },
      "source": [
        "a = [1, [2, 3], [4, [5, 6, 7]]]"
      ],
      "execution_count": null,
      "outputs": []
    },
    {
      "cell_type": "code",
      "source": [
        "a = [\"사과\", [\"포도\", \"키위\"], [\"바나나\", [\"방토\", \"스테방토\"]]]"
      ],
      "metadata": {
        "id": "zuahNNacMkdZ"
      },
      "execution_count": null,
      "outputs": []
    },
    {
      "cell_type": "code",
      "metadata": {
        "id": "fZfej7AzFBZu",
        "colab": {
          "base_uri": "https://localhost:8080/"
        },
        "outputId": "f2e611f6-37c7-4225-c4c7-5db79d9e9b6e"
      },
      "source": [
        "print(a[0])"
      ],
      "execution_count": null,
      "outputs": [
        {
          "output_type": "stream",
          "name": "stdout",
          "text": [
            "사과\n"
          ]
        }
      ]
    },
    {
      "cell_type": "code",
      "metadata": {
        "id": "CcmYiRq8E5RO",
        "colab": {
          "base_uri": "https://localhost:8080/"
        },
        "outputId": "133b36e0-0d95-418a-f8fa-45a633ac1c75"
      },
      "source": [
        "print(a[-1])"
      ],
      "execution_count": null,
      "outputs": [
        {
          "output_type": "stream",
          "name": "stdout",
          "text": [
            "['바나나', ['방토', '스테방토']]\n"
          ]
        }
      ]
    },
    {
      "cell_type": "code",
      "metadata": {
        "id": "byN5SSe3Etx4",
        "colab": {
          "base_uri": "https://localhost:8080/"
        },
        "outputId": "1f44c5ab-e492-455d-bfc0-805a7e7d971b"
      },
      "source": [
        "print(a[1:])"
      ],
      "execution_count": null,
      "outputs": [
        {
          "output_type": "stream",
          "name": "stdout",
          "text": [
            "[['포도', '키위'], ['바나나', ['방토', '스테방토']]]\n"
          ]
        }
      ]
    },
    {
      "cell_type": "code",
      "metadata": {
        "id": "XBSnXKfjFIKv",
        "colab": {
          "base_uri": "https://localhost:8080/"
        },
        "outputId": "92986c57-63ac-466f-ba80-ea9066256099"
      },
      "source": [
        "print(a[2][1][1])"
      ],
      "execution_count": null,
      "outputs": [
        {
          "output_type": "stream",
          "name": "stdout",
          "text": [
            "스테방토\n"
          ]
        }
      ]
    },
    {
      "cell_type": "code",
      "source": [
        "b1=1\n",
        "b2=[1,2]\n",
        "b3=[1,[1,2]]\n",
        "b =[]\n",
        "b.append(b1)\n",
        "b.append(b2)\n",
        "b.append(b3)\n",
        "print(b)"
      ],
      "metadata": {
        "colab": {
          "base_uri": "https://localhost:8080/"
        },
        "id": "mpZ6NH4JNKtJ",
        "outputId": "ac1cb9f7-8f93-4120-d932-2ca8b8efb502"
      },
      "execution_count": null,
      "outputs": [
        {
          "output_type": "stream",
          "name": "stdout",
          "text": [
            "[1, [1, 2], [1, [1, 2]]]\n"
          ]
        }
      ]
    },
    {
      "cell_type": "code",
      "source": [],
      "metadata": {
        "id": "FVLf_rfoNLdS"
      },
      "execution_count": null,
      "outputs": []
    },
    {
      "cell_type": "code",
      "source": [
        "b = [[] for _ in range(3)]\n",
        "print(b)\n",
        "\n",
        "b[0] = b1\n",
        "b[1] = b2\n",
        "b[2] = b3\n",
        "print(b)"
      ],
      "metadata": {
        "colab": {
          "base_uri": "https://localhost:8080/"
        },
        "id": "BmvYkjE1NbwL",
        "outputId": "0f87125b-5f28-494e-c885-e4cf593e0e80"
      },
      "execution_count": null,
      "outputs": [
        {
          "output_type": "stream",
          "name": "stdout",
          "text": [
            "[[], [], []]\n",
            "[1, [1, 2], [1, [1, 2]]]\n"
          ]
        }
      ]
    },
    {
      "cell_type": "markdown",
      "metadata": {
        "id": "nKx2ZgedEc39"
      },
      "source": [
        "* 치환"
      ]
    },
    {
      "cell_type": "code",
      "metadata": {
        "id": "EmCrPEcAFZqK"
      },
      "source": [
        "a = [1, [2, 3], [4, [5, 6, 7]]]"
      ],
      "execution_count": null,
      "outputs": []
    },
    {
      "cell_type": "code",
      "metadata": {
        "id": "W2l2BMUYFeZs",
        "colab": {
          "base_uri": "https://localhost:8080/"
        },
        "outputId": "4feebd12-28af-412c-dab2-d0161f93696a"
      },
      "source": [
        "a[0] = \"바나나\"\n",
        "print(a)"
      ],
      "execution_count": null,
      "outputs": [
        {
          "output_type": "stream",
          "name": "stdout",
          "text": [
            "['바나나', [2, 3], [4, [5, 6, 7]]]\n"
          ]
        }
      ]
    },
    {
      "cell_type": "code",
      "metadata": {
        "id": "vMFU3XZqFisQ",
        "colab": {
          "base_uri": "https://localhost:8080/"
        },
        "outputId": "84d612ea-06ee-4a9f-ddeb-984efa7ca9ee"
      },
      "source": [
        "a[2][1][1:] = [\"딸기\", \"귤\"]\n",
        "print(a)"
      ],
      "execution_count": null,
      "outputs": [
        {
          "output_type": "stream",
          "name": "stdout",
          "text": [
            "['바나나', [2, 3], [4, [5, '딸기', '귤']]]\n"
          ]
        }
      ]
    },
    {
      "cell_type": "code",
      "metadata": {
        "id": "8VW6sAIIF3iA",
        "colab": {
          "base_uri": "https://localhost:8080/"
        },
        "outputId": "cddf5686-0bf0-441b-f1df-f046a51c123a"
      },
      "source": [
        "a[2][1][1:] = [5]\n",
        "print(a)"
      ],
      "execution_count": null,
      "outputs": [
        {
          "output_type": "stream",
          "name": "stdout",
          "text": [
            "['바나나', [2, 3], [4, [5, 5]]]\n"
          ]
        }
      ]
    },
    {
      "cell_type": "code",
      "metadata": {
        "id": "Tw7SyVbpGHKT"
      },
      "source": [
        "print(a[2][1][1:])"
      ],
      "execution_count": null,
      "outputs": []
    },
    {
      "cell_type": "code",
      "metadata": {
        "id": "lq0THv65GKno"
      },
      "source": [
        "a[2][1][1:] = [50]\n",
        "print(a)"
      ],
      "execution_count": null,
      "outputs": []
    },
    {
      "cell_type": "markdown",
      "metadata": {
        "id": "EMWRZpFoGnq-"
      },
      "source": [
        "* 리스트 더하기"
      ]
    },
    {
      "cell_type": "code",
      "metadata": {
        "id": "pF6PNmkfGkz-"
      },
      "source": [
        "a = [1, 2, 3]\n",
        "b = [4, 5, 6]"
      ],
      "execution_count": null,
      "outputs": []
    },
    {
      "cell_type": "code",
      "metadata": {
        "id": "IOyV9gAsG1hq"
      },
      "source": [
        "print(a + b)"
      ],
      "execution_count": null,
      "outputs": []
    },
    {
      "cell_type": "markdown",
      "metadata": {
        "id": "TyUau9wOG4U9"
      },
      "source": [
        "* 리스트 곱하기"
      ]
    },
    {
      "cell_type": "code",
      "metadata": {
        "id": "s8mzrzk_G6sw"
      },
      "source": [
        "a = [1, 2, 3]"
      ],
      "execution_count": null,
      "outputs": []
    },
    {
      "cell_type": "code",
      "metadata": {
        "id": "ufBP8LcfG9rf"
      },
      "source": [
        "print(a * 2)"
      ],
      "execution_count": null,
      "outputs": []
    },
    {
      "cell_type": "markdown",
      "metadata": {
        "id": "LsXmcQ04HH32"
      },
      "source": [
        "* append"
      ]
    },
    {
      "cell_type": "code",
      "metadata": {
        "id": "Yw_qITK1R1qd"
      },
      "source": [
        "a = [1, 2, 3]"
      ],
      "execution_count": null,
      "outputs": []
    },
    {
      "cell_type": "code",
      "metadata": {
        "id": "Y_bUqT1OR5CO",
        "colab": {
          "base_uri": "https://localhost:8080/"
        },
        "outputId": "13bdc0bf-e3e2-45d6-8d86-9b1567463d5e"
      },
      "source": [
        "a.append(4)\n",
        "print(a)"
      ],
      "execution_count": null,
      "outputs": [
        {
          "output_type": "stream",
          "name": "stdout",
          "text": [
            "[1, 2, 3, 4]\n"
          ]
        }
      ]
    },
    {
      "cell_type": "code",
      "metadata": {
        "id": "uxUxaTLfSAGA",
        "colab": {
          "base_uri": "https://localhost:8080/"
        },
        "outputId": "e0cb78c9-7118-41ef-d154-23e3a0c2a9b4"
      },
      "source": [
        "a = [1, 2, 3]\n",
        "a.append([4, 5])\n",
        "print(a)"
      ],
      "execution_count": null,
      "outputs": [
        {
          "output_type": "stream",
          "name": "stdout",
          "text": [
            "[1, 2, 3, [4, 5]]\n"
          ]
        }
      ]
    },
    {
      "cell_type": "markdown",
      "metadata": {
        "id": "5sZUfj8IIw0s"
      },
      "source": [
        "* pop"
      ]
    },
    {
      "cell_type": "code",
      "metadata": {
        "id": "waSfVqWqbmuc"
      },
      "source": [
        "a = [1, 2, 3]\n",
        "a.pop()\n",
        "print(a)"
      ],
      "execution_count": null,
      "outputs": []
    },
    {
      "cell_type": "code",
      "metadata": {
        "id": "pIw32m7FcE08"
      },
      "source": [
        "a = [1, 2, 3]\n",
        "a.pop(0)\n",
        "print(a)"
      ],
      "execution_count": null,
      "outputs": []
    },
    {
      "cell_type": "markdown",
      "metadata": {
        "id": "xytt75Roca7h"
      },
      "source": [
        "* index\n",
        "\n",
        "  \\- 리스트에 속해 있는 x의 위치 값 반환"
      ]
    },
    {
      "cell_type": "code",
      "metadata": {
        "id": "LhAo4UeUckrl"
      },
      "source": [
        "a = [1, 2, 3]\n",
        "print(a.index(2))"
      ],
      "execution_count": null,
      "outputs": []
    },
    {
      "cell_type": "markdown",
      "metadata": {
        "id": "g4AKC-ZXOCfv"
      },
      "source": [
        "## 4) 튜플"
      ]
    },
    {
      "cell_type": "code",
      "metadata": {
        "id": "8v1ylMU2OFbM"
      },
      "source": [
        "a = (1, 2, 3)"
      ],
      "execution_count": null,
      "outputs": []
    },
    {
      "cell_type": "code",
      "metadata": {
        "id": "Y38TnztmzbXD"
      },
      "source": [
        "print(type(a))"
      ],
      "execution_count": null,
      "outputs": []
    },
    {
      "cell_type": "markdown",
      "metadata": {
        "id": "KhbqDqgoPvqB"
      },
      "source": [
        "* 인덱스"
      ]
    },
    {
      "cell_type": "code",
      "metadata": {
        "id": "Eo9LTq-2P3G0"
      },
      "source": [
        "print(a[1])"
      ],
      "execution_count": null,
      "outputs": []
    },
    {
      "cell_type": "markdown",
      "metadata": {
        "id": "8OIRBuL2Fjgg"
      },
      "source": [
        "* 슬라이스"
      ]
    },
    {
      "cell_type": "code",
      "metadata": {
        "id": "aEY6BJFJFmwd"
      },
      "source": [
        "a = (1, 2, 3)"
      ],
      "execution_count": null,
      "outputs": []
    },
    {
      "cell_type": "code",
      "metadata": {
        "id": "tO5cwHI6GNXX"
      },
      "source": [
        "print(a[:2])"
      ],
      "execution_count": null,
      "outputs": []
    },
    {
      "cell_type": "markdown",
      "metadata": {
        "id": "yaGZGhkIqCIy"
      },
      "source": [
        "* 치환하기"
      ]
    },
    {
      "cell_type": "code",
      "metadata": {
        "id": "Fa-w78Pdqzgg"
      },
      "source": [
        "a = (1, 2, 3)"
      ],
      "execution_count": null,
      "outputs": []
    },
    {
      "cell_type": "code",
      "metadata": {
        "id": "dCvavQuoqz6Q"
      },
      "source": [
        "a[2] = 0"
      ],
      "execution_count": null,
      "outputs": []
    },
    {
      "cell_type": "markdown",
      "metadata": {
        "id": "F7fCzZAMrBtF"
      },
      "source": [
        "* 튜플 더하기"
      ]
    },
    {
      "cell_type": "code",
      "metadata": {
        "id": "AmJH43pPrOE2"
      },
      "source": [
        "a = (1, 2, 3)\n",
        "b = (4, 5, 6)"
      ],
      "execution_count": null,
      "outputs": []
    },
    {
      "cell_type": "code",
      "metadata": {
        "colab": {
          "base_uri": "https://localhost:8080/"
        },
        "id": "sWZ8G3w2rTes",
        "outputId": "160efbe3-d72e-4031-c558-72e7e3b70717"
      },
      "source": [
        "c = a + b\n",
        "print(c)"
      ],
      "execution_count": null,
      "outputs": [
        {
          "output_type": "stream",
          "name": "stdout",
          "text": [
            "(1, 2, 3, 4, 5, 6)\n"
          ]
        }
      ]
    },
    {
      "cell_type": "markdown",
      "metadata": {
        "id": "McNwrgQIrX9J"
      },
      "source": [
        "* 튜플 곱하기"
      ]
    },
    {
      "cell_type": "code",
      "metadata": {
        "id": "e2X5hna-rmCL"
      },
      "source": [
        "a = (1, 2, 3)"
      ],
      "execution_count": null,
      "outputs": []
    },
    {
      "cell_type": "code",
      "metadata": {
        "colab": {
          "base_uri": "https://localhost:8080/"
        },
        "id": "WmAirk4prqA1",
        "outputId": "98f0bc47-7072-4028-8b55-990e564440b9"
      },
      "source": [
        "b = a * 2\n",
        "print(b)"
      ],
      "execution_count": null,
      "outputs": [
        {
          "output_type": "stream",
          "name": "stdout",
          "text": [
            "(1, 2, 3, 1, 2, 3)\n"
          ]
        }
      ]
    },
    {
      "cell_type": "markdown",
      "metadata": {
        "id": "FY6ZKj6PwQUl"
      },
      "source": [
        "## 5) 딕셔너리"
      ]
    },
    {
      "cell_type": "markdown",
      "metadata": {
        "id": "-mhV4OYWwZaz"
      },
      "source": [
        "* 생성방법\n",
        "\n",
        " \\- 딕셔너리(dict)는 Key 와 Value 로 구성"
      ]
    },
    {
      "cell_type": "code",
      "metadata": {
        "id": "hF7jgyDewo8e"
      },
      "source": [
        "a = {'사자' : 'lion', '호랑이' : 'tiger', '용' : 'dragon'}"
      ],
      "execution_count": null,
      "outputs": []
    },
    {
      "cell_type": "code",
      "metadata": {
        "colab": {
          "base_uri": "https://localhost:8080/"
        },
        "id": "30a6sNBjyM6y",
        "outputId": "013bec89-e1ea-494b-da59-870cf9691301"
      },
      "source": [
        "print(a)"
      ],
      "execution_count": null,
      "outputs": [
        {
          "output_type": "stream",
          "name": "stdout",
          "text": [
            "{'사자': 'lion', '호랑이': 'tiger', '용': 'dragon'}\n"
          ]
        }
      ]
    },
    {
      "cell_type": "code",
      "metadata": {
        "colab": {
          "base_uri": "https://localhost:8080/"
        },
        "id": "SQQCMB3CyO8Q",
        "outputId": "d0b17494-fb40-4bea-d41c-37a21273ed8b"
      },
      "source": [
        " print(type(a))"
      ],
      "execution_count": null,
      "outputs": [
        {
          "output_type": "stream",
          "name": "stdout",
          "text": [
            "<class 'dict'>\n"
          ]
        }
      ]
    },
    {
      "cell_type": "markdown",
      "metadata": {
        "id": "R1nOZRzqx-pi"
      },
      "source": [
        "\\- 하나의 Key 에 여러개의 Value 로도 구성이 가능"
      ]
    },
    {
      "cell_type": "code",
      "metadata": {
        "id": "30BxvCqiyGLD"
      },
      "source": [
        "a = {'car' : ['bus', 'truck', 'taxi'],\n",
        "    'train' : 'ktx'}"
      ],
      "execution_count": null,
      "outputs": []
    },
    {
      "cell_type": "code",
      "metadata": {
        "colab": {
          "base_uri": "https://localhost:8080/"
        },
        "id": "ZoAK7pExyldg",
        "outputId": "36c052c3-a8d7-442e-9188-7fe87c96be10"
      },
      "source": [
        "print(a)"
      ],
      "execution_count": null,
      "outputs": [
        {
          "output_type": "stream",
          "name": "stdout",
          "text": [
            "{'car': ['bus', 'truck', 'taxi'], 'train': 'ktx'}\n"
          ]
        }
      ]
    },
    {
      "cell_type": "markdown",
      "metadata": {
        "id": "v5YGj1G1zbAJ"
      },
      "source": [
        "* key 얻기"
      ]
    },
    {
      "cell_type": "code",
      "metadata": {
        "id": "MU_SuZVlzXs4"
      },
      "source": [
        "a = {'car' : ['bus', 'truck', 'taxi'],\n",
        "    'train' : 'ktx'}"
      ],
      "execution_count": null,
      "outputs": []
    },
    {
      "cell_type": "code",
      "metadata": {
        "colab": {
          "base_uri": "https://localhost:8080/"
        },
        "id": "RON9CnASziEW",
        "outputId": "24123152-9639-4d4a-d734-27ac38f6e5fb"
      },
      "source": [
        "key = a.keys()\n",
        "print(key)"
      ],
      "execution_count": null,
      "outputs": [
        {
          "output_type": "stream",
          "name": "stdout",
          "text": [
            "dict_keys(['car', 'train'])\n"
          ]
        }
      ]
    },
    {
      "cell_type": "code",
      "metadata": {
        "colab": {
          "base_uri": "https://localhost:8080/"
        },
        "id": "5SOE8G4nzy_m",
        "outputId": "2e45ac57-9570-4231-9b22-a04e70fbc1aa"
      },
      "source": [
        "print(type(key))"
      ],
      "execution_count": null,
      "outputs": [
        {
          "output_type": "stream",
          "name": "stdout",
          "text": [
            "<class 'dict_keys'>\n"
          ]
        }
      ]
    },
    {
      "cell_type": "code",
      "metadata": {
        "colab": {
          "base_uri": "https://localhost:8080/",
          "height": 146
        },
        "id": "AwpQC1Dez0xc",
        "outputId": "52095a54-5ca3-4784-e676-9137bc42896f"
      },
      "source": [
        "print(key[0])"
      ],
      "execution_count": null,
      "outputs": [
        {
          "output_type": "error",
          "ename": "TypeError",
          "evalue": "'dict_keys' object is not subscriptable",
          "traceback": [
            "\u001b[0;31m---------------------------------------------------------------------------\u001b[0m",
            "\u001b[0;31mTypeError\u001b[0m                                 Traceback (most recent call last)",
            "\u001b[0;32m<ipython-input-59-7d4334edd852>\u001b[0m in \u001b[0;36m<cell line: 1>\u001b[0;34m()\u001b[0m\n\u001b[0;32m----> 1\u001b[0;31m \u001b[0mprint\u001b[0m\u001b[0;34m(\u001b[0m\u001b[0mkey\u001b[0m\u001b[0;34m[\u001b[0m\u001b[0;36m0\u001b[0m\u001b[0;34m]\u001b[0m\u001b[0;34m)\u001b[0m\u001b[0;34m\u001b[0m\u001b[0;34m\u001b[0m\u001b[0m\n\u001b[0m",
            "\u001b[0;31mTypeError\u001b[0m: 'dict_keys' object is not subscriptable"
          ]
        }
      ]
    },
    {
      "cell_type": "code",
      "metadata": {
        "id": "usAzOulwz8yC",
        "colab": {
          "base_uri": "https://localhost:8080/"
        },
        "outputId": "db6d383d-2540-485e-88d5-7277c0e48219"
      },
      "source": [
        "key2 = list(key)\n",
        "print(type(key2))"
      ],
      "execution_count": null,
      "outputs": [
        {
          "output_type": "stream",
          "name": "stdout",
          "text": [
            "<class 'list'>\n"
          ]
        }
      ]
    },
    {
      "cell_type": "code",
      "metadata": {
        "id": "2pMI41jN0j-t",
        "colab": {
          "base_uri": "https://localhost:8080/"
        },
        "outputId": "14675c64-fe62-4b7d-887c-75303015a7b8"
      },
      "source": [
        "print(key2[0])"
      ],
      "execution_count": null,
      "outputs": [
        {
          "output_type": "stream",
          "name": "stdout",
          "text": [
            "car\n"
          ]
        }
      ]
    },
    {
      "cell_type": "markdown",
      "metadata": {
        "id": "i3VZmQ5413-2"
      },
      "source": [
        "* value 얻기"
      ]
    },
    {
      "cell_type": "code",
      "metadata": {
        "id": "s_6-LwtB19-n"
      },
      "source": [
        "a = {'car' : ['bus', 'truck', 'taxi'],\n",
        "    'train' : 'ktx'}"
      ],
      "execution_count": null,
      "outputs": []
    },
    {
      "cell_type": "code",
      "metadata": {
        "id": "JjDNvjz32b2u",
        "colab": {
          "base_uri": "https://localhost:8080/"
        },
        "outputId": "f295dcad-0c89-440b-eb83-62d28d34e302"
      },
      "source": [
        "value = a.values()\n",
        "print(value)"
      ],
      "execution_count": null,
      "outputs": [
        {
          "output_type": "stream",
          "name": "stdout",
          "text": [
            "dict_values([['bus', 'truck', 'taxi'], 'ktx'])\n"
          ]
        }
      ]
    },
    {
      "cell_type": "code",
      "metadata": {
        "id": "UOiXDoBn2pJ3",
        "colab": {
          "base_uri": "https://localhost:8080/"
        },
        "outputId": "81f3ccd3-d3f8-4707-bbeb-559effe4a348"
      },
      "source": [
        "print(type(value))"
      ],
      "execution_count": null,
      "outputs": [
        {
          "output_type": "stream",
          "name": "stdout",
          "text": [
            "<class 'dict_values'>\n"
          ]
        }
      ]
    },
    {
      "cell_type": "code",
      "metadata": {
        "id": "ulBmssJE2ssD",
        "colab": {
          "base_uri": "https://localhost:8080/",
          "height": 146
        },
        "outputId": "1fe4c772-1fc4-44dc-e245-de67fdf18a8e"
      },
      "source": [
        "print(value[0])"
      ],
      "execution_count": null,
      "outputs": [
        {
          "output_type": "error",
          "ename": "TypeError",
          "evalue": "'dict_values' object is not subscriptable",
          "traceback": [
            "\u001b[0;31m---------------------------------------------------------------------------\u001b[0m",
            "\u001b[0;31mTypeError\u001b[0m                                 Traceback (most recent call last)",
            "\u001b[0;32m<ipython-input-66-2aed2d19afba>\u001b[0m in \u001b[0;36m<cell line: 1>\u001b[0;34m()\u001b[0m\n\u001b[0;32m----> 1\u001b[0;31m \u001b[0mprint\u001b[0m\u001b[0;34m(\u001b[0m\u001b[0mvalue\u001b[0m\u001b[0;34m[\u001b[0m\u001b[0;36m0\u001b[0m\u001b[0;34m]\u001b[0m\u001b[0;34m)\u001b[0m\u001b[0;34m\u001b[0m\u001b[0;34m\u001b[0m\u001b[0m\n\u001b[0m",
            "\u001b[0;31mTypeError\u001b[0m: 'dict_values' object is not subscriptable"
          ]
        }
      ]
    },
    {
      "cell_type": "code",
      "metadata": {
        "id": "ep7RFyYD2yf1",
        "colab": {
          "base_uri": "https://localhost:8080/"
        },
        "outputId": "56692337-d875-4061-cf85-97cd2c61fce0"
      },
      "source": [
        "value2 = list(value)\n",
        "print(type(value2))"
      ],
      "execution_count": null,
      "outputs": [
        {
          "output_type": "stream",
          "name": "stdout",
          "text": [
            "<class 'list'>\n"
          ]
        }
      ]
    },
    {
      "cell_type": "code",
      "metadata": {
        "id": "YCeVLQvU28Iq",
        "colab": {
          "base_uri": "https://localhost:8080/"
        },
        "outputId": "3533ef16-d139-40e4-dcf7-83d2b2ef5966"
      },
      "source": [
        "print(value2[0])"
      ],
      "execution_count": null,
      "outputs": [
        {
          "output_type": "stream",
          "name": "stdout",
          "text": [
            "['bus', 'truck', 'taxi']\n"
          ]
        }
      ]
    },
    {
      "cell_type": "markdown",
      "metadata": {
        "id": "CQ0cniQh3Ek_"
      },
      "source": [
        "* 요소 추가하기"
      ]
    },
    {
      "cell_type": "code",
      "metadata": {
        "id": "GJt1s1Vu3O_Z"
      },
      "source": [
        "a = {'car' : ['bus', 'truck', 'taxi'],\n",
        "    'train' : 'ktx'}"
      ],
      "execution_count": null,
      "outputs": []
    },
    {
      "cell_type": "code",
      "metadata": {
        "id": "tF8S3ccI6Dno",
        "colab": {
          "base_uri": "https://localhost:8080/"
        },
        "outputId": "665d2517-3dc5-4333-8b86-7f1bfb68174f"
      },
      "source": [
        "a['plane'] = 'jet'\n",
        "print(a)"
      ],
      "execution_count": null,
      "outputs": [
        {
          "output_type": "stream",
          "name": "stdout",
          "text": [
            "{'car': ['bus', 'truck', 'taxi'], 'train': 'ktx', 'plane': 'jet'}\n"
          ]
        }
      ]
    },
    {
      "cell_type": "markdown",
      "metadata": {
        "id": "RR1UVv5k6r_w"
      },
      "source": [
        "* 요소 삭제하기"
      ]
    },
    {
      "cell_type": "code",
      "metadata": {
        "id": "PwVXaeza60nZ"
      },
      "source": [
        "a = {'car' : ['bus', 'truck', 'taxi'],\n",
        "    'train' : 'ktx'}"
      ],
      "execution_count": null,
      "outputs": []
    },
    {
      "cell_type": "code",
      "metadata": {
        "id": "6SiDlFwf6dhX",
        "colab": {
          "base_uri": "https://localhost:8080/"
        },
        "outputId": "0a0085a5-6fd6-465e-c511-d8ac93355868"
      },
      "source": [
        "del a['car']\n",
        "print(a)"
      ],
      "execution_count": null,
      "outputs": [
        {
          "output_type": "stream",
          "name": "stdout",
          "text": [
            "{'train': 'ktx'}\n"
          ]
        }
      ]
    },
    {
      "cell_type": "markdown",
      "metadata": {
        "id": "k5xGTXHj69DX"
      },
      "source": [
        "## 6) 셋"
      ]
    },
    {
      "cell_type": "markdown",
      "metadata": {
        "id": "BCZe8IcM7Es4"
      },
      "source": [
        "* 생성방법"
      ]
    },
    {
      "cell_type": "code",
      "metadata": {
        "id": "_ZKNmkAS7IXa"
      },
      "source": [
        "a = set([1, 2, 3])\n",
        "print(a)\n",
        "print(type(a))"
      ],
      "execution_count": null,
      "outputs": []
    },
    {
      "cell_type": "markdown",
      "metadata": {
        "id": "IXCiHF1d7a46"
      },
      "source": [
        "또는"
      ]
    },
    {
      "cell_type": "code",
      "metadata": {
        "id": "74l0T84a7UD0"
      },
      "source": [
        "a = set((1, 2, 3))\n",
        "print(a)"
      ],
      "execution_count": null,
      "outputs": []
    },
    {
      "cell_type": "markdown",
      "metadata": {
        "id": "k24jYYd37ewI"
      },
      "source": [
        "\\- 중복된 항목을 제거"
      ]
    },
    {
      "cell_type": "code",
      "metadata": {
        "id": "PHbfpOSF7i1a"
      },
      "source": [
        "a = set([1, 1, 2, 3, 3, 4])"
      ],
      "execution_count": null,
      "outputs": []
    },
    {
      "cell_type": "code",
      "metadata": {
        "id": "KJHFlKnG7rAw"
      },
      "source": [
        "print(a)"
      ],
      "execution_count": null,
      "outputs": []
    },
    {
      "cell_type": "markdown",
      "metadata": {
        "id": "fyUinIa38B_y"
      },
      "source": [
        "\\- 순서가 없음"
      ]
    },
    {
      "cell_type": "code",
      "metadata": {
        "id": "I_xGqmjB7wRr"
      },
      "source": [
        "a = set([4, 4, 3, 2, 1, 'a', 'b', 'a'])"
      ],
      "execution_count": null,
      "outputs": []
    },
    {
      "cell_type": "code",
      "metadata": {
        "id": "RmTHMMgI8NAy",
        "colab": {
          "base_uri": "https://localhost:8080/"
        },
        "outputId": "f5b20366-0be2-4073-9229-9b301936828e"
      },
      "source": [
        "print(a)"
      ],
      "execution_count": null,
      "outputs": [
        {
          "output_type": "stream",
          "name": "stdout",
          "text": [
            "{1, 2, 3, 4, 'b', 'a'}\n"
          ]
        }
      ]
    },
    {
      "cell_type": "code",
      "metadata": {
        "id": "CUZjlRoYDGaJ",
        "colab": {
          "base_uri": "https://localhost:8080/",
          "height": 146
        },
        "outputId": "b7f3aaa7-7080-4b7b-a5b7-bef3860b94fe"
      },
      "source": [
        "print(a[0])"
      ],
      "execution_count": null,
      "outputs": [
        {
          "output_type": "error",
          "ename": "TypeError",
          "evalue": "'set' object is not subscriptable",
          "traceback": [
            "\u001b[0;31m---------------------------------------------------------------------------\u001b[0m",
            "\u001b[0;31mTypeError\u001b[0m                                 Traceback (most recent call last)",
            "\u001b[0;32m<ipython-input-82-23821ec76b06>\u001b[0m in \u001b[0;36m<cell line: 1>\u001b[0;34m()\u001b[0m\n\u001b[0;32m----> 1\u001b[0;31m \u001b[0mprint\u001b[0m\u001b[0;34m(\u001b[0m\u001b[0ma\u001b[0m\u001b[0;34m[\u001b[0m\u001b[0;36m0\u001b[0m\u001b[0;34m]\u001b[0m\u001b[0;34m)\u001b[0m\u001b[0;34m\u001b[0m\u001b[0;34m\u001b[0m\u001b[0m\n\u001b[0m",
            "\u001b[0;31mTypeError\u001b[0m: 'set' object is not subscriptable"
          ]
        }
      ]
    },
    {
      "cell_type": "code",
      "metadata": {
        "id": "nU2JcPgQDMrd",
        "colab": {
          "base_uri": "https://localhost:8080/"
        },
        "outputId": "7078babd-c9df-44ac-d8ad-bcbee1bb09f9"
      },
      "source": [
        "b = list(a)\n",
        "print(b)"
      ],
      "execution_count": null,
      "outputs": [
        {
          "output_type": "stream",
          "name": "stdout",
          "text": [
            "[1, 2, 3, 4, 'b', 'a']\n"
          ]
        }
      ]
    },
    {
      "cell_type": "code",
      "metadata": {
        "id": "oO-CiJFtDSOt"
      },
      "source": [
        "print(b[0])"
      ],
      "execution_count": null,
      "outputs": []
    },
    {
      "cell_type": "markdown",
      "metadata": {
        "id": "Vv8aI6IiGdnx"
      },
      "source": [
        "* 합집합"
      ]
    },
    {
      "cell_type": "code",
      "metadata": {
        "id": "R8wY25-JPsHh"
      },
      "source": [
        "a = set([1, 2, 3])\n",
        "b = set([3, 4, 5])"
      ],
      "execution_count": null,
      "outputs": []
    },
    {
      "cell_type": "code",
      "metadata": {
        "id": "eZ_BaM6SPxTQ"
      },
      "source": [
        "c = a.union(b)\n",
        "print(c)"
      ],
      "execution_count": null,
      "outputs": []
    },
    {
      "cell_type": "markdown",
      "metadata": {
        "id": "pOoL3O9YRsdD"
      },
      "source": [
        "![스크린샷 2021-05-14 오후 11.27.33.png](data:image/png;base64,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)"
      ]
    },
    {
      "cell_type": "markdown",
      "metadata": {
        "id": "ytmSOnRNR5sv"
      },
      "source": [
        "* 교집합"
      ]
    },
    {
      "cell_type": "code",
      "metadata": {
        "id": "DDZ_WS1pR_nQ"
      },
      "source": [
        "a = set([1, 2, 3])\n",
        "b = set([3, 4, 5])"
      ],
      "execution_count": null,
      "outputs": []
    },
    {
      "cell_type": "code",
      "metadata": {
        "id": "i73EuuBASDPb"
      },
      "source": [
        "c = a.intersection(b)\n",
        "print(c)"
      ],
      "execution_count": null,
      "outputs": []
    },
    {
      "cell_type": "markdown",
      "metadata": {
        "id": "CeK5LOLMSMKT"
      },
      "source": [
        "* 차집합"
      ]
    },
    {
      "cell_type": "code",
      "metadata": {
        "id": "aY2B3QdHSOiE"
      },
      "source": [
        "a = set([1, 2, 3])\n",
        "b = set([3, 4, 5])"
      ],
      "execution_count": null,
      "outputs": []
    },
    {
      "cell_type": "code",
      "metadata": {
        "id": "natkX0DxSTeu"
      },
      "source": [
        "c = a.difference(b)\n",
        "print(c)"
      ],
      "execution_count": null,
      "outputs": []
    },
    {
      "cell_type": "markdown",
      "metadata": {
        "id": "VXJ_aGo608ba"
      },
      "source": [
        "# 4. 제어문"
      ]
    },
    {
      "cell_type": "markdown",
      "metadata": {
        "id": "s3dWzzdGy6Kt"
      },
      "source": [
        "## 1) 반복문"
      ]
    },
    {
      "cell_type": "markdown",
      "metadata": {
        "id": "zbA5vhqjy-yl"
      },
      "source": [
        "### (1) for"
      ]
    },
    {
      "cell_type": "markdown",
      "metadata": {
        "id": "goDd0wEBfqYC"
      },
      "source": [
        "for를 이용한 반복문은 아래와 같이 작성합니다.\n",
        "```\n",
        "for 변수 in 반복 가능한 객체:\n",
        "    반복하여 실행할 내용\n",
        "```\n",
        "* 여기서 반복 가능한 객체는 아래와 같은 것들을 뜻합니다.\n",
        "\n",
        " \\- list\n",
        "\n",
        " \\- range"
      ]
    },
    {
      "cell_type": "markdown",
      "metadata": {
        "id": "icf0G7c-f__u"
      },
      "source": [
        "\\- 문제 : 1부터 10까지 출력하시오"
      ]
    },
    {
      "cell_type": "markdown",
      "metadata": {
        "id": "AxwQWH_0iKWT"
      },
      "source": [
        " - list 를 이용한 해결"
      ]
    },
    {
      "cell_type": "code",
      "metadata": {
        "id": "jVmphq2ZjLXF"
      },
      "source": [
        "a = [1, 2, 3, 4, 5, 6, 7, 8, 9, 10]"
      ],
      "execution_count": null,
      "outputs": []
    },
    {
      "cell_type": "code",
      "metadata": {
        "id": "hp-eOBAFjP9s",
        "colab": {
          "base_uri": "https://localhost:8080/"
        },
        "outputId": "1e294c46-b101-45ee-ea40-8aabd3612be2"
      },
      "source": [
        "for i in a:\n",
        "    print(i)"
      ],
      "execution_count": null,
      "outputs": [
        {
          "output_type": "stream",
          "name": "stdout",
          "text": [
            "1\n",
            "2\n",
            "3\n",
            "4\n",
            "5\n",
            "6\n",
            "7\n",
            "8\n",
            "9\n",
            "10\n"
          ]
        }
      ]
    },
    {
      "cell_type": "markdown",
      "metadata": {
        "id": "kfuFd10alUnV"
      },
      "source": [
        " * range 를 이용한 해결"
      ]
    },
    {
      "cell_type": "code",
      "metadata": {
        "id": "-nSHpt65lX7W",
        "colab": {
          "base_uri": "https://localhost:8080/"
        },
        "outputId": "2015ff7f-9b9b-4daf-d6d0-3dd8fadfcf10"
      },
      "source": [
        "for i in range(11):\n",
        "     print(i)"
      ],
      "execution_count": null,
      "outputs": [
        {
          "output_type": "stream",
          "name": "stdout",
          "text": [
            "0\n",
            "1\n",
            "2\n",
            "3\n",
            "4\n",
            "5\n",
            "6\n",
            "7\n",
            "8\n",
            "9\n",
            "10\n"
          ]
        }
      ]
    },
    {
      "cell_type": "code",
      "source": [
        "for i in range(1, 11):\n",
        "  print(i, end = ' ')"
      ],
      "metadata": {
        "colab": {
          "base_uri": "https://localhost:8080/"
        },
        "id": "YRv-3QfSW1p8",
        "outputId": "c5ffc78a-a6c2-4aad-cddf-661aa6c15bbd"
      },
      "execution_count": null,
      "outputs": [
        {
          "output_type": "stream",
          "name": "stdout",
          "text": [
            "1 2 3 4 5 6 7 8 9 10 "
          ]
        }
      ]
    },
    {
      "cell_type": "markdown",
      "metadata": {
        "id": "zwkdnQ5em0hN"
      },
      "source": [
        "\\- 문제 : 1부터 9까지 2씩 증가하면서 출력하시오."
      ]
    },
    {
      "cell_type": "code",
      "metadata": {
        "id": "pw7bWYCdnQXK",
        "colab": {
          "base_uri": "https://localhost:8080/"
        },
        "outputId": "e4665a6d-7743-4f96-fa92-eaacf0c2077a"
      },
      "source": [
        "for i in range(1, 9 ,2):\n",
        "    print(i)"
      ],
      "execution_count": null,
      "outputs": [
        {
          "output_type": "stream",
          "name": "stdout",
          "text": [
            "1\n",
            "3\n",
            "5\n",
            "7\n"
          ]
        }
      ]
    },
    {
      "cell_type": "markdown",
      "metadata": {
        "id": "BGgz4fk0nquN"
      },
      "source": [
        "\\- 문제 : 9부터 1까지 2씩 감소하면서 출력하시오."
      ]
    },
    {
      "cell_type": "code",
      "metadata": {
        "id": "0y_QJmnznvGm"
      },
      "source": [
        "for i in range(9, 0, -2):\n",
        "    print(i)"
      ],
      "execution_count": null,
      "outputs": []
    },
    {
      "cell_type": "markdown",
      "metadata": {
        "id": "ovhd-_c6oKz4"
      },
      "source": [
        "\\- 문제 : 1부터 10까지의 자연수의 합을 구하시오."
      ]
    },
    {
      "cell_type": "code",
      "metadata": {
        "id": "RO4Tc9KUoZkR"
      },
      "source": [
        "for i in range(1, 11, 1):\n",
        "    print(i)"
      ],
      "execution_count": null,
      "outputs": []
    },
    {
      "cell_type": "code",
      "metadata": {
        "id": "HhdmNAIZoqTF"
      },
      "source": [
        "for i in range(1, 11, 1):\n",
        "    result = result + i\n",
        "print(result)"
      ],
      "execution_count": null,
      "outputs": []
    },
    {
      "cell_type": "code",
      "metadata": {
        "id": "42SHVhfgpnSD"
      },
      "source": [
        "result = 0\n",
        "for i in range(1, 11, 1):\n",
        "    result = result + i\n",
        "print(result)"
      ],
      "execution_count": null,
      "outputs": []
    },
    {
      "cell_type": "code",
      "metadata": {
        "id": "Bz6Ym7VDp3U6"
      },
      "source": [
        "result = 0\n",
        "for i in range(1, 11, 1):\n",
        "    result += i\n",
        "print(result)"
      ],
      "execution_count": null,
      "outputs": []
    },
    {
      "cell_type": "markdown",
      "metadata": {
        "id": "VKiSb3J4qA-u"
      },
      "source": [
        "\\- 문제 : 구구단을 출력하시오."
      ]
    },
    {
      "cell_type": "code",
      "metadata": {
        "id": "h2hCtsWYqQaB"
      },
      "source": [
        "for i in range(2, 10, 1):\n",
        "    print(i)"
      ],
      "execution_count": null,
      "outputs": []
    },
    {
      "cell_type": "code",
      "metadata": {
        "id": "2SFGHxDVqX6s"
      },
      "source": [
        " for i in range(2, 10, 1):\n",
        "     for i in range(1, 10, 1):\n",
        "         print(i * i)"
      ],
      "execution_count": null,
      "outputs": []
    },
    {
      "cell_type": "code",
      "metadata": {
        "id": "TTFDJQILq6W4"
      },
      "source": [
        "for i in range(2, 10, 1):\n",
        "    for j in range(1, 10, 1):\n",
        "        print(i * j)"
      ],
      "execution_count": null,
      "outputs": []
    },
    {
      "cell_type": "code",
      "metadata": {
        "id": "tj570c3Rsiz0"
      },
      "source": [
        "for i in range(2, 10, 1):\n",
        "    for j in range(1, 10, 1):\n",
        "        print('{} 곱하기 {} 은/는 {} 입니다.'.format(i, j, i * j))"
      ],
      "execution_count": null,
      "outputs": []
    },
    {
      "cell_type": "code",
      "source": [
        "for i in range(10, -1, -2):\n",
        "  print(i, end = ' ')"
      ],
      "metadata": {
        "colab": {
          "base_uri": "https://localhost:8080/"
        },
        "id": "DvSTGuABXqHR",
        "outputId": "55d1ddff-f0ab-4662-938c-710d793cc865"
      },
      "execution_count": null,
      "outputs": [
        {
          "output_type": "stream",
          "name": "stdout",
          "text": [
            "10 8 6 4 2 0 "
          ]
        }
      ]
    },
    {
      "cell_type": "markdown",
      "metadata": {
        "id": "e6THb6MUzBlQ"
      },
      "source": [
        "### (2) while"
      ]
    },
    {
      "cell_type": "markdown",
      "metadata": {
        "id": "VZcV64ASubxy"
      },
      "source": [
        "while을 이용한 반복문은 아래와 같이 작성합니다.\n",
        "```\n",
        "while 조건:\n",
        "    반복하여 실행할 내용\n",
        "```"
      ]
    },
    {
      "cell_type": "markdown",
      "metadata": {
        "id": "-nzqBBhcuoeC"
      },
      "source": [
        "\\- 문제 : 1부터 10까지 출력하시오."
      ]
    },
    {
      "cell_type": "code",
      "metadata": {
        "id": "4p79ZkuCv3qS"
      },
      "source": [
        "i = 1\n",
        "while i < 11:\n",
        "    print(i)\n",
        "    i = i + 1"
      ],
      "execution_count": null,
      "outputs": []
    },
    {
      "cell_type": "markdown",
      "metadata": {
        "id": "43wL_SO7xqfQ"
      },
      "source": [
        "\\- 문제 : 1부터 9까지 2씩 증가하면서 출력하시오."
      ]
    },
    {
      "cell_type": "code",
      "metadata": {
        "id": "xnu0rGzDxxaf"
      },
      "source": [
        "i = 1\n",
        "while i < 10:\n",
        "    print(i)\n",
        "    i += 2"
      ],
      "execution_count": null,
      "outputs": []
    },
    {
      "cell_type": "markdown",
      "metadata": {
        "id": "iKAh6wWN0JDU"
      },
      "source": [
        "\\- 문제 : 9부터 1까지 2씩 감소하면서 출력하시오."
      ]
    },
    {
      "cell_type": "code",
      "metadata": {
        "id": "usq9pdvE0OK3"
      },
      "source": [
        "i = 9\n",
        "while i > 0:\n",
        "    print(i)\n",
        "    i -= 2"
      ],
      "execution_count": null,
      "outputs": []
    },
    {
      "cell_type": "markdown",
      "metadata": {
        "id": "7SXCfwHQ2Fe3"
      },
      "source": [
        "\\- 문제 : 1부터 10까지의 자연수의 합을 구하시오."
      ]
    },
    {
      "cell_type": "code",
      "metadata": {
        "id": "ezJrWK0f2ON9"
      },
      "source": [
        "i = 1\n",
        "result = 0\n",
        "while i < 11:\n",
        "    result += i\n",
        "    i += 1\n",
        "print(result)"
      ],
      "execution_count": null,
      "outputs": []
    },
    {
      "cell_type": "markdown",
      "metadata": {
        "id": "QWnIX_nr44FV"
      },
      "source": [
        "\\- 문제 : 구구단을 출력하시오."
      ]
    },
    {
      "cell_type": "code",
      "metadata": {
        "id": "v-gMKjiX49yM"
      },
      "source": [
        "i = 2\n",
        "while i < 10:\n",
        "    print(i)\n",
        "    i += 1"
      ],
      "execution_count": null,
      "outputs": []
    },
    {
      "cell_type": "code",
      "metadata": {
        "id": "gFNNmldt6JyI"
      },
      "source": [
        "i = 2\n",
        "while i < 10:\n",
        "    i += 1\n",
        "\n",
        "    j = 1\n",
        "    while j < 10:\n",
        "        print(i * j)\n",
        "        j += 1"
      ],
      "execution_count": null,
      "outputs": []
    },
    {
      "cell_type": "code",
      "metadata": {
        "id": "69bRcR9w6l0g"
      },
      "source": [
        "i = 2\n",
        "while i < 10:\n",
        "\n",
        "    j = 1\n",
        "    while j < 10:\n",
        "        print(i * j)\n",
        "        j += 1\n",
        "\n",
        "    i += 1"
      ],
      "execution_count": null,
      "outputs": []
    },
    {
      "cell_type": "code",
      "metadata": {
        "id": "22-0CRgk6-3E"
      },
      "source": [
        "i = 2\n",
        "while i < 10:\n",
        "\n",
        "    j = 1\n",
        "    while j < 10:\n",
        "        print('{} 곱하기 {} 은/는 {} 입니다.'.format(i, j, i * j))\n",
        "        j += 1\n",
        "\n",
        "    i += 1"
      ],
      "execution_count": null,
      "outputs": []
    },
    {
      "cell_type": "markdown",
      "metadata": {
        "id": "uMeBDIzYzJ_6"
      },
      "source": [
        "## 2) 조건문"
      ]
    },
    {
      "cell_type": "markdown",
      "metadata": {
        "id": "jxxNVUR5zSVE"
      },
      "source": [
        "**if**"
      ]
    },
    {
      "cell_type": "markdown",
      "metadata": {
        "id": "I_z7hJkP9O80"
      },
      "source": [
        "if 문 작성법\n",
        "```\n",
        "if 조건1:\n",
        "    조건1이 참 일때의 실행문\n",
        "elif 조건2:\n",
        "    조건2가 참 일때의 실행문\n",
        "else:\n",
        "    실행문\n",
        "```\n"
      ]
    },
    {
      "cell_type": "markdown",
      "metadata": {
        "id": "44vRlFiz93N8"
      },
      "source": [
        "\\- 문제 : x 가 5보다 크면 True 를 출력하시오."
      ]
    },
    {
      "cell_type": "code",
      "metadata": {
        "id": "L2k7iW96-E-m"
      },
      "source": [
        "x = 6"
      ],
      "execution_count": null,
      "outputs": []
    },
    {
      "cell_type": "code",
      "metadata": {
        "id": "qkj8Vk8H-KwY"
      },
      "source": [
        "if x > 5:\n",
        "    print('True')"
      ],
      "execution_count": null,
      "outputs": []
    },
    {
      "cell_type": "markdown",
      "metadata": {
        "id": "gZAUx4VZCvlS"
      },
      "source": [
        "\\- 문제 : x가 5보다 크면 True, 아니면 False를 출력하시오."
      ]
    },
    {
      "cell_type": "code",
      "metadata": {
        "id": "v830cMOfHDyC"
      },
      "source": [
        "x = 4"
      ],
      "execution_count": null,
      "outputs": []
    },
    {
      "cell_type": "code",
      "metadata": {
        "id": "TLGeXysuHh8l"
      },
      "source": [
        "if x > 5:\n",
        "    print('True')\n",
        "else:\n",
        "    print('False')"
      ],
      "execution_count": null,
      "outputs": []
    },
    {
      "cell_type": "markdown",
      "metadata": {
        "id": "LbCcjTBgHrs8"
      },
      "source": [
        "\\- 문제 : x가 5보다 작으면 '5 미만' 5이면  '5', 나머지는 '5 이상'이라고 출력하시오."
      ]
    },
    {
      "cell_type": "code",
      "metadata": {
        "id": "v3kaTFqeKyFF"
      },
      "source": [
        "x = 4"
      ],
      "execution_count": null,
      "outputs": []
    },
    {
      "cell_type": "code",
      "metadata": {
        "id": "5c_HUeuNK6zH"
      },
      "source": [
        "if x < 5:\n",
        "    print('5 미만')\n",
        "elif x == 5:\n",
        "    print('5')\n",
        "else:\n",
        "    print('5 이상')"
      ],
      "execution_count": null,
      "outputs": []
    },
    {
      "cell_type": "markdown",
      "metadata": {
        "id": "I5jGRqVJRAYX"
      },
      "source": [
        "\\- 문제 : x가 5보다 작으면 무시하고, 5이면 '5', 나머지는 '5 이상' 이라고 출력하시오."
      ]
    },
    {
      "cell_type": "code",
      "metadata": {
        "id": "H92MCkJeRejR"
      },
      "source": [
        "x = 4"
      ],
      "execution_count": null,
      "outputs": []
    },
    {
      "cell_type": "code",
      "metadata": {
        "id": "BY_TjPVORq3L"
      },
      "source": [
        "if x < 5:\n",
        "    pass\n",
        "elif x == 5:\n",
        "    print('5')\n",
        "else:\n",
        "    print('5 이상')"
      ],
      "execution_count": null,
      "outputs": []
    },
    {
      "cell_type": "code",
      "source": [
        "x = int(input())\n",
        "\n",
        "if x < 5:\n",
        "  pass\n",
        "elif x== 5:\n",
        "  print('5')\n",
        "else:\n",
        "  print(\"5 이상\")"
      ],
      "metadata": {
        "colab": {
          "base_uri": "https://localhost:8080/"
        },
        "id": "KkporOb6YwJZ",
        "outputId": "75728e2e-7b15-4d73-a175-ac59db2cbb06"
      },
      "execution_count": null,
      "outputs": [
        {
          "output_type": "stream",
          "name": "stdout",
          "text": [
            "5\n",
            "5\n"
          ]
        }
      ]
    },
    {
      "cell_type": "markdown",
      "metadata": {
        "id": "0A1c2Qy_dIPI"
      },
      "source": [
        "\\- 문제 : 점수(x)가 90점 이상이면 'A', 80점 이상이면 'B', 70점 이상이면 'C', 60점 이상이면 'D', 나머지는 'F' 로 출력하시오."
      ]
    },
    {
      "cell_type": "code",
      "metadata": {
        "id": "czbVvrPwdkcB"
      },
      "source": [
        "x = 95"
      ],
      "execution_count": null,
      "outputs": []
    },
    {
      "cell_type": "code",
      "source": [
        "if x >= 60:     #점수가 95점 이상이어도 첫번째 조건을 완수하여 다음 조건(elif)를 실행시키지 않음\n",
        "    print('D')\n",
        "elif x >= 70:\n",
        "    print('C')\n",
        "elif x >= 80:\n",
        "    print('B')\n",
        "elif x >= 90:\n",
        "    print('A')\n",
        "else:\n",
        "    print('F')"
      ],
      "metadata": {
        "colab": {
          "base_uri": "https://localhost:8080/"
        },
        "id": "IH9YGv2UaiAR",
        "outputId": "928b3f23-aeb1-4606-d24b-6f8b6c926ad8"
      },
      "execution_count": null,
      "outputs": [
        {
          "output_type": "stream",
          "name": "stdout",
          "text": [
            "D\n"
          ]
        }
      ]
    },
    {
      "cell_type": "code",
      "metadata": {
        "id": "gXlbrVcYdQFE",
        "colab": {
          "base_uri": "https://localhost:8080/"
        },
        "outputId": "7acd4e07-64e2-49d5-d4d5-81725996cd0d"
      },
      "source": [
        "if x >= 60 and x < 70:  #범위로 지정해주는 방법\n",
        "    print('D')\n",
        "elif x >= 70 and x < 80:\n",
        "    print('C')\n",
        "elif x >= 80 and x < 70:\n",
        "    print('B')\n",
        "elif x >= 90:\n",
        "    print('A')\n",
        "else:\n",
        "    print('F')"
      ],
      "execution_count": null,
      "outputs": [
        {
          "output_type": "stream",
          "name": "stdout",
          "text": [
            "A\n"
          ]
        }
      ]
    },
    {
      "cell_type": "code",
      "metadata": {
        "id": "0ryNbDqZf_jL"
      },
      "source": [
        "if x >= 90:   #if와 elif의 상하위 조건을 이용하여 범위를 지정해주는 방법\n",
        "    print('A')\n",
        "elif x >= 80:\n",
        "    print('B')\n",
        "elif x >= 70:\n",
        "    print('C')\n",
        "elif x >= 60:\n",
        "    print('D')\n",
        "else:\n",
        "    print('F')"
      ],
      "execution_count": null,
      "outputs": []
    },
    {
      "cell_type": "code",
      "source": [
        "score = int(input())\n",
        "\n",
        "\n",
        "if x >= 90:\n",
        "  print(\"A\")\n",
        "\n",
        "elif x>= 80:\n",
        "  print(\"B\")\n",
        "\n",
        "elif x>= 70:\n",
        "  print(\"C\")\n",
        "\n",
        "elif x>= 60:\n",
        "  print(\"D\")\n",
        "\n",
        "else:\n",
        "  print(\"F\")"
      ],
      "metadata": {
        "id": "aqe6n8dpZBTD"
      },
      "execution_count": null,
      "outputs": []
    },
    {
      "cell_type": "markdown",
      "metadata": {
        "id": "1al5wFyLR8zn"
      },
      "source": [
        "\\- 문제 : A 리스트에는 1반 학생들의 수학 점수가 저장되어 있다. 점수가 90점 이상이면 'A', 80점 이상이면 'B', 70점 이상이면 'C', 60점 이상이면 'D', 나머지는 'F' 로 출력하시오."
      ]
    },
    {
      "cell_type": "code",
      "metadata": {
        "id": "uf6LCp4FaQx1"
      },
      "source": [
        "A = [80, 95, 70, 55, 63]"
      ],
      "execution_count": null,
      "outputs": []
    },
    {
      "cell_type": "code",
      "metadata": {
        "id": "178Q6fC1g-Tu"
      },
      "source": [
        "for i in A:\n",
        "    print(i)"
      ],
      "execution_count": null,
      "outputs": []
    },
    {
      "cell_type": "code",
      "metadata": {
        "id": "TICWdl2ohH6p"
      },
      "source": [
        "for i in A:\n",
        "    if i >= 90:\n",
        "        print(i, 'A')\n",
        "    elif i >= 80:\n",
        "        print(i, 'B')\n",
        "    elif i >= 70:\n",
        "        print(i, 'C')\n",
        "    elif i >= 60:\n",
        "        print(i, 'D')\n",
        "    else:\n",
        "        print(i, 'F')"
      ],
      "execution_count": null,
      "outputs": []
    },
    {
      "cell_type": "code",
      "source": [
        "def score_check(x):\n",
        "  if x >= 90:\n",
        "    print(\"A\")\n",
        "\n",
        "  elif x>= 80:\n",
        "    print(\"B\")\n",
        "\n",
        "  elif x>= 70:\n",
        "    print(\"C\")\n",
        "\n",
        "  elif x>= 60:\n",
        "    print(\"D\")\n",
        "\n",
        "  else:\n",
        "    print(\"F\")\n",
        "\n",
        "  return\n",
        "\n",
        "A = [80, 95, 70, 55, 63]\n",
        "\n",
        "for a in A:\n",
        "  score_check(a)"
      ],
      "metadata": {
        "colab": {
          "base_uri": "https://localhost:8080/"
        },
        "id": "0JNKMbXxbLSg",
        "outputId": "c9ff880a-e8d2-4bf8-ab81-41cebc14af3e"
      },
      "execution_count": null,
      "outputs": [
        {
          "output_type": "stream",
          "name": "stdout",
          "text": [
            "B\n",
            "A\n",
            "C\n",
            "F\n",
            "D\n"
          ]
        }
      ]
    },
    {
      "cell_type": "markdown",
      "metadata": {
        "id": "yAK9648jqzHD"
      },
      "source": [
        "# 5. List Comprehension"
      ]
    },
    {
      "cell_type": "markdown",
      "metadata": {
        "id": "USEc8wLDbORq"
      },
      "source": [
        "\\- 변수 a 에 1 부터 10 까지 삽입하시오."
      ]
    },
    {
      "cell_type": "code",
      "metadata": {
        "id": "fQ41VCM-bbt0",
        "colab": {
          "base_uri": "https://localhost:8080/"
        },
        "outputId": "9f33f9b5-e6a6-419a-a55f-4e1d559805cc"
      },
      "source": [
        "a = []\n",
        "for i in range(1, 11, 1):\n",
        "    a.append(i)\n",
        "print(a)"
      ],
      "execution_count": null,
      "outputs": [
        {
          "output_type": "stream",
          "name": "stdout",
          "text": [
            "[1, 2, 3, 4, 5, 6, 7, 8, 9, 10]\n"
          ]
        }
      ]
    },
    {
      "cell_type": "code",
      "metadata": {
        "id": "KpKM1W8LbniA",
        "colab": {
          "base_uri": "https://localhost:8080/"
        },
        "outputId": "e4dd72b0-7c59-459b-e7c5-1b833ee766e6"
      },
      "source": [
        " a = [i for i in range(1, 11, 1)]\n",
        " print(a)"
      ],
      "execution_count": null,
      "outputs": [
        {
          "output_type": "stream",
          "name": "stdout",
          "text": [
            "[1, 2, 3, 4, 5, 6, 7, 8, 9, 10]\n"
          ]
        }
      ]
    },
    {
      "cell_type": "markdown",
      "metadata": {
        "id": "6a3m6IjMcF8q"
      },
      "source": [
        "\\- 변수 a 에 1 부터 10 까지의 제곱의 값을 삽입하시오."
      ]
    },
    {
      "cell_type": "code",
      "metadata": {
        "id": "nTr6zx03n2jJ",
        "colab": {
          "base_uri": "https://localhost:8080/"
        },
        "outputId": "56e8b203-0492-4fa3-ea46-81a78a2e0d43"
      },
      "source": [
        "a = []\n",
        "for i in range(1, 11, 1):\n",
        "    a.append(i ** 2)\n",
        "print(a)"
      ],
      "execution_count": null,
      "outputs": [
        {
          "output_type": "stream",
          "name": "stdout",
          "text": [
            "[1, 4, 9, 16, 25, 36, 49, 64, 81, 100]\n"
          ]
        }
      ]
    },
    {
      "cell_type": "code",
      "metadata": {
        "id": "l4TOHX8loBJb",
        "colab": {
          "base_uri": "https://localhost:8080/"
        },
        "outputId": "26b42f78-5722-4bad-a40f-9b19db2bfada"
      },
      "source": [
        "a = [i ** 2 for i in range(1, 11, 1)]\n",
        "print(a)"
      ],
      "execution_count": null,
      "outputs": [
        {
          "output_type": "stream",
          "name": "stdout",
          "text": [
            "[1, 4, 9, 16, 25, 36, 49, 64, 81, 100]\n"
          ]
        }
      ]
    },
    {
      "cell_type": "code",
      "source": [
        "# 2중 리스트를 한 줄씩 입력하는 경우\n",
        "# 첫번째 줄은 리스트가 몇 점인지\n"
      ],
      "metadata": {
        "id": "-A1MRdP6cVfH"
      },
      "execution_count": null,
      "outputs": []
    },
    {
      "cell_type": "markdown",
      "metadata": {
        "id": "pDB-uoXsqX-x"
      },
      "source": [
        "\\- 변수 a 에는 A 반의 수학점수가 저장되어 있다. 이 중 80점 이상의 점수만 걸러내어라."
      ]
    },
    {
      "cell_type": "code",
      "metadata": {
        "id": "IVtcu3Aqq55o"
      },
      "source": [
        "a = [90, 39, 48, 70, 82, 100]"
      ],
      "execution_count": null,
      "outputs": []
    },
    {
      "cell_type": "code",
      "metadata": {
        "id": "kk7OfQkvq-32",
        "colab": {
          "base_uri": "https://localhost:8080/"
        },
        "outputId": "bce9b4ee-5116-4636-b4e4-d6abc7c2cc32"
      },
      "source": [
        "result = [i for i in a]\n",
        "print(result)"
      ],
      "execution_count": null,
      "outputs": [
        {
          "output_type": "stream",
          "name": "stdout",
          "text": [
            "[90, 39, 48, 70, 82, 100]\n"
          ]
        }
      ]
    },
    {
      "cell_type": "code",
      "metadata": {
        "id": "eYFLWynrrHs9",
        "colab": {
          "base_uri": "https://localhost:8080/"
        },
        "outputId": "60fc143d-1c52-49a9-e7a0-bc3c49c7e028"
      },
      "source": [
        "result = [i for i in a if i >= 80]\n",
        "print(result)"
      ],
      "execution_count": null,
      "outputs": [
        {
          "output_type": "stream",
          "name": "stdout",
          "text": [
            "[90, 82, 100]\n"
          ]
        }
      ]
    },
    {
      "cell_type": "code",
      "source": [
        "a = [90, 39, 48, 70, 82, 100]\n",
        "\n",
        "result = []\n",
        "for i in a:\n",
        "  if i >= 80:\n",
        "    result.append(i)\n",
        "\n",
        "print(result)"
      ],
      "metadata": {
        "colab": {
          "base_uri": "https://localhost:8080/"
        },
        "id": "bvb7SbH3clTg",
        "outputId": "5ac12ec5-983b-40bf-9b7d-977df03d3b59"
      },
      "execution_count": null,
      "outputs": [
        {
          "output_type": "stream",
          "name": "stdout",
          "text": [
            "[90, 82, 100]\n"
          ]
        }
      ]
    },
    {
      "cell_type": "markdown",
      "metadata": {
        "id": "L3YqmmFDzWFf"
      },
      "source": [
        "# 6. 함수"
      ]
    },
    {
      "cell_type": "markdown",
      "metadata": {
        "id": "lIJilOnUpRPM"
      },
      "source": [
        "\\- 함수의 예"
      ]
    },
    {
      "cell_type": "code",
      "metadata": {
        "id": "zmWrjZitYrBL"
      },
      "source": [
        "print(1)"
      ],
      "execution_count": null,
      "outputs": []
    },
    {
      "cell_type": "code",
      "metadata": {
        "id": "S4iF9NksqOnp"
      },
      "source": [
        "type(1)"
      ],
      "execution_count": null,
      "outputs": []
    },
    {
      "cell_type": "markdown",
      "metadata": {
        "id": "6rxCdCNypE5s"
      },
      "source": [
        "\\- 함수를 만드는 이유"
      ]
    },
    {
      "cell_type": "code",
      "metadata": {
        "id": "GMoNvBIfqT9G"
      },
      "source": [
        "a = 1\n",
        "b = a * 100\n",
        "b = b ** 2\n",
        "c = b + 2 * a"
      ],
      "execution_count": null,
      "outputs": []
    },
    {
      "cell_type": "markdown",
      "metadata": {
        "id": "LdQQEhAJvTdz"
      },
      "source": [
        "똑같은 작업을 여러번 반복해야 한다면?"
      ]
    },
    {
      "cell_type": "markdown",
      "metadata": {
        "id": "GeyTRVqQuUO2"
      },
      "source": [
        "* 생성방법\n",
        "```\n",
        "def 함수명(인풋 값):\n",
        "    실행 내용\n",
        "```\n",
        "\n"
      ]
    },
    {
      "cell_type": "markdown",
      "metadata": {
        "id": "5t9iEsOBvTaL"
      },
      "source": [
        "\\- x 를 입력값으로 넣으면 x + 1 을 출력하는 함수 생성"
      ]
    },
    {
      "cell_type": "code",
      "metadata": {
        "id": "Erjw-_pBvki_"
      },
      "source": [
        "def function1(x):\n",
        "    print(x + 1)"
      ],
      "execution_count": null,
      "outputs": []
    },
    {
      "cell_type": "code",
      "metadata": {
        "id": "x1auBk4ivyId"
      },
      "source": [
        "function1(1)"
      ],
      "execution_count": null,
      "outputs": []
    },
    {
      "cell_type": "markdown",
      "metadata": {
        "id": "9_bfV76Dv9h5"
      },
      "source": [
        "\\- x 를 입력값으로 넣으면 x + 1 을 반환하는 함수 생성"
      ]
    },
    {
      "cell_type": "code",
      "metadata": {
        "id": "9NWS5m-2wFIH"
      },
      "source": [
        "def function2(x):\n",
        "    result = x + 1\n",
        "    return result"
      ],
      "execution_count": null,
      "outputs": []
    },
    {
      "cell_type": "code",
      "metadata": {
        "id": "9kozfX77wSY-"
      },
      "source": [
        "a = function2(1)\n",
        "print(a)"
      ],
      "execution_count": null,
      "outputs": []
    },
    {
      "cell_type": "markdown",
      "metadata": {
        "id": "o5YZjg4SS1Tp"
      },
      "source": [
        "\\- x 를 입력값으로 넣으면 x + 1, x + 2 를 반환하는 함수 생성"
      ]
    },
    {
      "cell_type": "code",
      "metadata": {
        "id": "gSMRZVxwS8BR"
      },
      "source": [
        "def function3(x):\n",
        "    result1 = x + 1\n",
        "    result2 = x + 2\n",
        "    return result1, result2"
      ],
      "execution_count": null,
      "outputs": []
    },
    {
      "cell_type": "code",
      "metadata": {
        "id": "2O_XRCeYTBR1"
      },
      "source": [
        "a, b = function3(1)\n",
        "print(a)\n",
        "print(b)"
      ],
      "execution_count": null,
      "outputs": []
    },
    {
      "cell_type": "markdown",
      "metadata": {
        "id": "05Q4wVE5TIYJ"
      },
      "source": [
        "* 여러개의 입력값을 받고 싶을 때\n",
        "\n",
        "\\- 여러개의 입력값을 받아 순서대로 출력"
      ]
    },
    {
      "cell_type": "code",
      "metadata": {
        "id": "mya6xA1PavGR"
      },
      "source": [
        "def function4(x):\n",
        "    for i in x:\n",
        "        print(i)"
      ],
      "execution_count": null,
      "outputs": []
    },
    {
      "cell_type": "code",
      "metadata": {
        "id": "ApKUyvuxa6SF"
      },
      "source": [
        "a = [1, 3, 5, 7, 4, 'd', 2, 60]\n",
        "function4(a)"
      ],
      "execution_count": null,
      "outputs": []
    },
    {
      "cell_type": "markdown",
      "metadata": {
        "id": "hKdrSsC2bDih"
      },
      "source": [
        "\\- args 를 이용한 구현"
      ]
    },
    {
      "cell_type": "code",
      "metadata": {
        "id": "nA7YHGpITftd"
      },
      "source": [
        "def function5(*args):\n",
        "    for i in args:\n",
        "        print(i)"
      ],
      "execution_count": null,
      "outputs": []
    },
    {
      "cell_type": "code",
      "metadata": {
        "id": "y36RTbwQTuHQ"
      },
      "source": [
        "function5(1, 3, 5, 7, 4, 'd', 2, 60)"
      ],
      "execution_count": null,
      "outputs": []
    },
    {
      "cell_type": "markdown",
      "metadata": {
        "id": "Kvox3u9zz4lq"
      },
      "source": [
        "# 7. 외부 라이브러리 사용"
      ]
    },
    {
      "cell_type": "markdown",
      "metadata": {
        "id": "AzaS2I1jYFLJ"
      },
      "source": [
        "![스크린샷 2021-05-15 오전 9.14.36.png](data:image/png;base64,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)"
      ]
    },
    {
      "cell_type": "markdown",
      "metadata": {
        "id": "sYJQUWiwZKGO"
      },
      "source": [
        "* 라이브러리 다운로드"
      ]
    },
    {
      "cell_type": "code",
      "metadata": {
        "id": "Fw8a28KR1dk-",
        "colab": {
          "base_uri": "https://localhost:8080/"
        },
        "outputId": "f95ec8cc-eeff-4f5a-cc8b-fe224d43f7fe"
      },
      "source": [
        "!pip install pandas"
      ],
      "execution_count": null,
      "outputs": [
        {
          "output_type": "stream",
          "name": "stdout",
          "text": [
            "Requirement already satisfied: pandas in /usr/local/lib/python3.10/dist-packages (2.0.3)\n",
            "Requirement already satisfied: python-dateutil>=2.8.2 in /usr/local/lib/python3.10/dist-packages (from pandas) (2.8.2)\n",
            "Requirement already satisfied: pytz>=2020.1 in /usr/local/lib/python3.10/dist-packages (from pandas) (2023.4)\n",
            "Requirement already satisfied: tzdata>=2022.1 in /usr/local/lib/python3.10/dist-packages (from pandas) (2024.1)\n",
            "Requirement already satisfied: numpy>=1.21.0 in /usr/local/lib/python3.10/dist-packages (from pandas) (1.25.2)\n",
            "Requirement already satisfied: six>=1.5 in /usr/local/lib/python3.10/dist-packages (from python-dateutil>=2.8.2->pandas) (1.16.0)\n"
          ]
        }
      ]
    },
    {
      "cell_type": "markdown",
      "metadata": {
        "id": "bX6l5HKzZS2D"
      },
      "source": [
        "* 라이브러리 불러오기"
      ]
    },
    {
      "cell_type": "code",
      "metadata": {
        "id": "Wk_OSNk4brjE"
      },
      "source": [
        "import pandas"
      ],
      "execution_count": null,
      "outputs": []
    },
    {
      "cell_type": "code",
      "metadata": {
        "id": "hssXn95xbux5",
        "colab": {
          "base_uri": "https://localhost:8080/",
          "height": 143
        },
        "outputId": "43c88dde-ee76-4f2b-b28e-e3b15347f4b7"
      },
      "source": [
        "pandas.DataFrame({'a' : [1, 2, 3], 'b' : [4, 5, 6]})"
      ],
      "execution_count": null,
      "outputs": [
        {
          "output_type": "execute_result",
          "data": {
            "text/plain": [
              "   a  b\n",
              "0  1  4\n",
              "1  2  5\n",
              "2  3  6"
            ],
            "text/html": [
              "\n",
              "  <div id=\"df-6d7a515f-4c59-459e-9c9c-9ce95976cf78\" class=\"colab-df-container\">\n",
              "    <div>\n",
              "<style scoped>\n",
              "    .dataframe tbody tr th:only-of-type {\n",
              "        vertical-align: middle;\n",
              "    }\n",
              "\n",
              "    .dataframe tbody tr th {\n",
              "        vertical-align: top;\n",
              "    }\n",
              "\n",
              "    .dataframe thead th {\n",
              "        text-align: right;\n",
              "    }\n",
              "</style>\n",
              "<table border=\"1\" class=\"dataframe\">\n",
              "  <thead>\n",
              "    <tr style=\"text-align: right;\">\n",
              "      <th></th>\n",
              "      <th>a</th>\n",
              "      <th>b</th>\n",
              "    </tr>\n",
              "  </thead>\n",
              "  <tbody>\n",
              "    <tr>\n",
              "      <th>0</th>\n",
              "      <td>1</td>\n",
              "      <td>4</td>\n",
              "    </tr>\n",
              "    <tr>\n",
              "      <th>1</th>\n",
              "      <td>2</td>\n",
              "      <td>5</td>\n",
              "    </tr>\n",
              "    <tr>\n",
              "      <th>2</th>\n",
              "      <td>3</td>\n",
              "      <td>6</td>\n",
              "    </tr>\n",
              "  </tbody>\n",
              "</table>\n",
              "</div>\n",
              "    <div class=\"colab-df-buttons\">\n",
              "\n",
              "  <div class=\"colab-df-container\">\n",
              "    <button class=\"colab-df-convert\" onclick=\"convertToInteractive('df-6d7a515f-4c59-459e-9c9c-9ce95976cf78')\"\n",
              "            title=\"Convert this dataframe to an interactive table.\"\n",
              "            style=\"display:none;\">\n",
              "\n",
              "  <svg xmlns=\"http://www.w3.org/2000/svg\" height=\"24px\" viewBox=\"0 -960 960 960\">\n",
              "    <path d=\"M120-120v-720h720v720H120Zm60-500h600v-160H180v160Zm220 220h160v-160H400v160Zm0 220h160v-160H400v160ZM180-400h160v-160H180v160Zm440 0h160v-160H620v160ZM180-180h160v-160H180v160Zm440 0h160v-160H620v160Z\"/>\n",
              "  </svg>\n",
              "    </button>\n",
              "\n",
              "  <style>\n",
              "    .colab-df-container {\n",
              "      display:flex;\n",
              "      gap: 12px;\n",
              "    }\n",
              "\n",
              "    .colab-df-convert {\n",
              "      background-color: #E8F0FE;\n",
              "      border: none;\n",
              "      border-radius: 50%;\n",
              "      cursor: pointer;\n",
              "      display: none;\n",
              "      fill: #1967D2;\n",
              "      height: 32px;\n",
              "      padding: 0 0 0 0;\n",
              "      width: 32px;\n",
              "    }\n",
              "\n",
              "    .colab-df-convert:hover {\n",
              "      background-color: #E2EBFA;\n",
              "      box-shadow: 0px 1px 2px rgba(60, 64, 67, 0.3), 0px 1px 3px 1px rgba(60, 64, 67, 0.15);\n",
              "      fill: #174EA6;\n",
              "    }\n",
              "\n",
              "    .colab-df-buttons div {\n",
              "      margin-bottom: 4px;\n",
              "    }\n",
              "\n",
              "    [theme=dark] .colab-df-convert {\n",
              "      background-color: #3B4455;\n",
              "      fill: #D2E3FC;\n",
              "    }\n",
              "\n",
              "    [theme=dark] .colab-df-convert:hover {\n",
              "      background-color: #434B5C;\n",
              "      box-shadow: 0px 1px 3px 1px rgba(0, 0, 0, 0.15);\n",
              "      filter: drop-shadow(0px 1px 2px rgba(0, 0, 0, 0.3));\n",
              "      fill: #FFFFFF;\n",
              "    }\n",
              "  </style>\n",
              "\n",
              "    <script>\n",
              "      const buttonEl =\n",
              "        document.querySelector('#df-6d7a515f-4c59-459e-9c9c-9ce95976cf78 button.colab-df-convert');\n",
              "      buttonEl.style.display =\n",
              "        google.colab.kernel.accessAllowed ? 'block' : 'none';\n",
              "\n",
              "      async function convertToInteractive(key) {\n",
              "        const element = document.querySelector('#df-6d7a515f-4c59-459e-9c9c-9ce95976cf78');\n",
              "        const dataTable =\n",
              "          await google.colab.kernel.invokeFunction('convertToInteractive',\n",
              "                                                    [key], {});\n",
              "        if (!dataTable) return;\n",
              "\n",
              "        const docLinkHtml = 'Like what you see? Visit the ' +\n",
              "          '<a target=\"_blank\" href=https://colab.research.google.com/notebooks/data_table.ipynb>data table notebook</a>'\n",
              "          + ' to learn more about interactive tables.';\n",
              "        element.innerHTML = '';\n",
              "        dataTable['output_type'] = 'display_data';\n",
              "        await google.colab.output.renderOutput(dataTable, element);\n",
              "        const docLink = document.createElement('div');\n",
              "        docLink.innerHTML = docLinkHtml;\n",
              "        element.appendChild(docLink);\n",
              "      }\n",
              "    </script>\n",
              "  </div>\n",
              "\n",
              "\n",
              "<div id=\"df-217d63d8-2594-408c-b171-4799d912ee78\">\n",
              "  <button class=\"colab-df-quickchart\" onclick=\"quickchart('df-217d63d8-2594-408c-b171-4799d912ee78')\"\n",
              "            title=\"Suggest charts\"\n",
              "            style=\"display:none;\">\n",
              "\n",
              "<svg xmlns=\"http://www.w3.org/2000/svg\" height=\"24px\"viewBox=\"0 0 24 24\"\n",
              "     width=\"24px\">\n",
              "    <g>\n",
              "        <path d=\"M19 3H5c-1.1 0-2 .9-2 2v14c0 1.1.9 2 2 2h14c1.1 0 2-.9 2-2V5c0-1.1-.9-2-2-2zM9 17H7v-7h2v7zm4 0h-2V7h2v10zm4 0h-2v-4h2v4z\"/>\n",
              "    </g>\n",
              "</svg>\n",
              "  </button>\n",
              "\n",
              "<style>\n",
              "  .colab-df-quickchart {\n",
              "      --bg-color: #E8F0FE;\n",
              "      --fill-color: #1967D2;\n",
              "      --hover-bg-color: #E2EBFA;\n",
              "      --hover-fill-color: #174EA6;\n",
              "      --disabled-fill-color: #AAA;\n",
              "      --disabled-bg-color: #DDD;\n",
              "  }\n",
              "\n",
              "  [theme=dark] .colab-df-quickchart {\n",
              "      --bg-color: #3B4455;\n",
              "      --fill-color: #D2E3FC;\n",
              "      --hover-bg-color: #434B5C;\n",
              "      --hover-fill-color: #FFFFFF;\n",
              "      --disabled-bg-color: #3B4455;\n",
              "      --disabled-fill-color: #666;\n",
              "  }\n",
              "\n",
              "  .colab-df-quickchart {\n",
              "    background-color: var(--bg-color);\n",
              "    border: none;\n",
              "    border-radius: 50%;\n",
              "    cursor: pointer;\n",
              "    display: none;\n",
              "    fill: var(--fill-color);\n",
              "    height: 32px;\n",
              "    padding: 0;\n",
              "    width: 32px;\n",
              "  }\n",
              "\n",
              "  .colab-df-quickchart:hover {\n",
              "    background-color: var(--hover-bg-color);\n",
              "    box-shadow: 0 1px 2px rgba(60, 64, 67, 0.3), 0 1px 3px 1px rgba(60, 64, 67, 0.15);\n",
              "    fill: var(--button-hover-fill-color);\n",
              "  }\n",
              "\n",
              "  .colab-df-quickchart-complete:disabled,\n",
              "  .colab-df-quickchart-complete:disabled:hover {\n",
              "    background-color: var(--disabled-bg-color);\n",
              "    fill: var(--disabled-fill-color);\n",
              "    box-shadow: none;\n",
              "  }\n",
              "\n",
              "  .colab-df-spinner {\n",
              "    border: 2px solid var(--fill-color);\n",
              "    border-color: transparent;\n",
              "    border-bottom-color: var(--fill-color);\n",
              "    animation:\n",
              "      spin 1s steps(1) infinite;\n",
              "  }\n",
              "\n",
              "  @keyframes spin {\n",
              "    0% {\n",
              "      border-color: transparent;\n",
              "      border-bottom-color: var(--fill-color);\n",
              "      border-left-color: var(--fill-color);\n",
              "    }\n",
              "    20% {\n",
              "      border-color: transparent;\n",
              "      border-left-color: var(--fill-color);\n",
              "      border-top-color: var(--fill-color);\n",
              "    }\n",
              "    30% {\n",
              "      border-color: transparent;\n",
              "      border-left-color: var(--fill-color);\n",
              "      border-top-color: var(--fill-color);\n",
              "      border-right-color: var(--fill-color);\n",
              "    }\n",
              "    40% {\n",
              "      border-color: transparent;\n",
              "      border-right-color: var(--fill-color);\n",
              "      border-top-color: var(--fill-color);\n",
              "    }\n",
              "    60% {\n",
              "      border-color: transparent;\n",
              "      border-right-color: var(--fill-color);\n",
              "    }\n",
              "    80% {\n",
              "      border-color: transparent;\n",
              "      border-right-color: var(--fill-color);\n",
              "      border-bottom-color: var(--fill-color);\n",
              "    }\n",
              "    90% {\n",
              "      border-color: transparent;\n",
              "      border-bottom-color: var(--fill-color);\n",
              "    }\n",
              "  }\n",
              "</style>\n",
              "\n",
              "  <script>\n",
              "    async function quickchart(key) {\n",
              "      const quickchartButtonEl =\n",
              "        document.querySelector('#' + key + ' button');\n",
              "      quickchartButtonEl.disabled = true;  // To prevent multiple clicks.\n",
              "      quickchartButtonEl.classList.add('colab-df-spinner');\n",
              "      try {\n",
              "        const charts = await google.colab.kernel.invokeFunction(\n",
              "            'suggestCharts', [key], {});\n",
              "      } catch (error) {\n",
              "        console.error('Error during call to suggestCharts:', error);\n",
              "      }\n",
              "      quickchartButtonEl.classList.remove('colab-df-spinner');\n",
              "      quickchartButtonEl.classList.add('colab-df-quickchart-complete');\n",
              "    }\n",
              "    (() => {\n",
              "      let quickchartButtonEl =\n",
              "        document.querySelector('#df-217d63d8-2594-408c-b171-4799d912ee78 button');\n",
              "      quickchartButtonEl.style.display =\n",
              "        google.colab.kernel.accessAllowed ? 'block' : 'none';\n",
              "    })();\n",
              "  </script>\n",
              "</div>\n",
              "\n",
              "    </div>\n",
              "  </div>\n"
            ],
            "application/vnd.google.colaboratory.intrinsic+json": {
              "type": "dataframe",
              "summary": "{\n  \"name\": \"pandas\",\n  \"rows\": 3,\n  \"fields\": [\n    {\n      \"column\": \"a\",\n      \"properties\": {\n        \"dtype\": \"number\",\n        \"std\": 1,\n        \"min\": 1,\n        \"max\": 3,\n        \"num_unique_values\": 3,\n        \"samples\": [\n          1,\n          2,\n          3\n        ],\n        \"semantic_type\": \"\",\n        \"description\": \"\"\n      }\n    },\n    {\n      \"column\": \"b\",\n      \"properties\": {\n        \"dtype\": \"number\",\n        \"std\": 1,\n        \"min\": 4,\n        \"max\": 6,\n        \"num_unique_values\": 3,\n        \"samples\": [\n          4,\n          5,\n          6\n        ],\n        \"semantic_type\": \"\",\n        \"description\": \"\"\n      }\n    }\n  ]\n}"
            }
          },
          "metadata": {},
          "execution_count": 4
        }
      ]
    },
    {
      "cell_type": "markdown",
      "metadata": {
        "id": "YxQ6aeu6b30R"
      },
      "source": [
        "\\- 약어를 사용하여 라이브러리 불러오기"
      ]
    },
    {
      "cell_type": "code",
      "metadata": {
        "id": "GqhE3AU61fB8"
      },
      "source": [
        " import pandas as pd"
      ],
      "execution_count": null,
      "outputs": []
    },
    {
      "cell_type": "code",
      "metadata": {
        "id": "am5sez5ctADK",
        "colab": {
          "base_uri": "https://localhost:8080/",
          "height": 143
        },
        "outputId": "5fb5f4e9-8447-48a4-b70c-ee26a431605e"
      },
      "source": [
        "pd.DataFrame({'a' : [1, 2, 3], 'b' : [4, 5, 6]})"
      ],
      "execution_count": null,
      "outputs": [
        {
          "output_type": "execute_result",
          "data": {
            "text/plain": [
              "   a  b\n",
              "0  1  4\n",
              "1  2  5\n",
              "2  3  6"
            ],
            "text/html": [
              "\n",
              "  <div id=\"df-0cfc43cc-aeff-493b-861f-4ee1fa90e4b1\" class=\"colab-df-container\">\n",
              "    <div>\n",
              "<style scoped>\n",
              "    .dataframe tbody tr th:only-of-type {\n",
              "        vertical-align: middle;\n",
              "    }\n",
              "\n",
              "    .dataframe tbody tr th {\n",
              "        vertical-align: top;\n",
              "    }\n",
              "\n",
              "    .dataframe thead th {\n",
              "        text-align: right;\n",
              "    }\n",
              "</style>\n",
              "<table border=\"1\" class=\"dataframe\">\n",
              "  <thead>\n",
              "    <tr style=\"text-align: right;\">\n",
              "      <th></th>\n",
              "      <th>a</th>\n",
              "      <th>b</th>\n",
              "    </tr>\n",
              "  </thead>\n",
              "  <tbody>\n",
              "    <tr>\n",
              "      <th>0</th>\n",
              "      <td>1</td>\n",
              "      <td>4</td>\n",
              "    </tr>\n",
              "    <tr>\n",
              "      <th>1</th>\n",
              "      <td>2</td>\n",
              "      <td>5</td>\n",
              "    </tr>\n",
              "    <tr>\n",
              "      <th>2</th>\n",
              "      <td>3</td>\n",
              "      <td>6</td>\n",
              "    </tr>\n",
              "  </tbody>\n",
              "</table>\n",
              "</div>\n",
              "    <div class=\"colab-df-buttons\">\n",
              "\n",
              "  <div class=\"colab-df-container\">\n",
              "    <button class=\"colab-df-convert\" onclick=\"convertToInteractive('df-0cfc43cc-aeff-493b-861f-4ee1fa90e4b1')\"\n",
              "            title=\"Convert this dataframe to an interactive table.\"\n",
              "            style=\"display:none;\">\n",
              "\n",
              "  <svg xmlns=\"http://www.w3.org/2000/svg\" height=\"24px\" viewBox=\"0 -960 960 960\">\n",
              "    <path d=\"M120-120v-720h720v720H120Zm60-500h600v-160H180v160Zm220 220h160v-160H400v160Zm0 220h160v-160H400v160ZM180-400h160v-160H180v160Zm440 0h160v-160H620v160ZM180-180h160v-160H180v160Zm440 0h160v-160H620v160Z\"/>\n",
              "  </svg>\n",
              "    </button>\n",
              "\n",
              "  <style>\n",
              "    .colab-df-container {\n",
              "      display:flex;\n",
              "      gap: 12px;\n",
              "    }\n",
              "\n",
              "    .colab-df-convert {\n",
              "      background-color: #E8F0FE;\n",
              "      border: none;\n",
              "      border-radius: 50%;\n",
              "      cursor: pointer;\n",
              "      display: none;\n",
              "      fill: #1967D2;\n",
              "      height: 32px;\n",
              "      padding: 0 0 0 0;\n",
              "      width: 32px;\n",
              "    }\n",
              "\n",
              "    .colab-df-convert:hover {\n",
              "      background-color: #E2EBFA;\n",
              "      box-shadow: 0px 1px 2px rgba(60, 64, 67, 0.3), 0px 1px 3px 1px rgba(60, 64, 67, 0.15);\n",
              "      fill: #174EA6;\n",
              "    }\n",
              "\n",
              "    .colab-df-buttons div {\n",
              "      margin-bottom: 4px;\n",
              "    }\n",
              "\n",
              "    [theme=dark] .colab-df-convert {\n",
              "      background-color: #3B4455;\n",
              "      fill: #D2E3FC;\n",
              "    }\n",
              "\n",
              "    [theme=dark] .colab-df-convert:hover {\n",
              "      background-color: #434B5C;\n",
              "      box-shadow: 0px 1px 3px 1px rgba(0, 0, 0, 0.15);\n",
              "      filter: drop-shadow(0px 1px 2px rgba(0, 0, 0, 0.3));\n",
              "      fill: #FFFFFF;\n",
              "    }\n",
              "  </style>\n",
              "\n",
              "    <script>\n",
              "      const buttonEl =\n",
              "        document.querySelector('#df-0cfc43cc-aeff-493b-861f-4ee1fa90e4b1 button.colab-df-convert');\n",
              "      buttonEl.style.display =\n",
              "        google.colab.kernel.accessAllowed ? 'block' : 'none';\n",
              "\n",
              "      async function convertToInteractive(key) {\n",
              "        const element = document.querySelector('#df-0cfc43cc-aeff-493b-861f-4ee1fa90e4b1');\n",
              "        const dataTable =\n",
              "          await google.colab.kernel.invokeFunction('convertToInteractive',\n",
              "                                                    [key], {});\n",
              "        if (!dataTable) return;\n",
              "\n",
              "        const docLinkHtml = 'Like what you see? Visit the ' +\n",
              "          '<a target=\"_blank\" href=https://colab.research.google.com/notebooks/data_table.ipynb>data table notebook</a>'\n",
              "          + ' to learn more about interactive tables.';\n",
              "        element.innerHTML = '';\n",
              "        dataTable['output_type'] = 'display_data';\n",
              "        await google.colab.output.renderOutput(dataTable, element);\n",
              "        const docLink = document.createElement('div');\n",
              "        docLink.innerHTML = docLinkHtml;\n",
              "        element.appendChild(docLink);\n",
              "      }\n",
              "    </script>\n",
              "  </div>\n",
              "\n",
              "\n",
              "<div id=\"df-fc83f4b9-a754-48d1-bd7e-e4ca54a726cb\">\n",
              "  <button class=\"colab-df-quickchart\" onclick=\"quickchart('df-fc83f4b9-a754-48d1-bd7e-e4ca54a726cb')\"\n",
              "            title=\"Suggest charts\"\n",
              "            style=\"display:none;\">\n",
              "\n",
              "<svg xmlns=\"http://www.w3.org/2000/svg\" height=\"24px\"viewBox=\"0 0 24 24\"\n",
              "     width=\"24px\">\n",
              "    <g>\n",
              "        <path d=\"M19 3H5c-1.1 0-2 .9-2 2v14c0 1.1.9 2 2 2h14c1.1 0 2-.9 2-2V5c0-1.1-.9-2-2-2zM9 17H7v-7h2v7zm4 0h-2V7h2v10zm4 0h-2v-4h2v4z\"/>\n",
              "    </g>\n",
              "</svg>\n",
              "  </button>\n",
              "\n",
              "<style>\n",
              "  .colab-df-quickchart {\n",
              "      --bg-color: #E8F0FE;\n",
              "      --fill-color: #1967D2;\n",
              "      --hover-bg-color: #E2EBFA;\n",
              "      --hover-fill-color: #174EA6;\n",
              "      --disabled-fill-color: #AAA;\n",
              "      --disabled-bg-color: #DDD;\n",
              "  }\n",
              "\n",
              "  [theme=dark] .colab-df-quickchart {\n",
              "      --bg-color: #3B4455;\n",
              "      --fill-color: #D2E3FC;\n",
              "      --hover-bg-color: #434B5C;\n",
              "      --hover-fill-color: #FFFFFF;\n",
              "      --disabled-bg-color: #3B4455;\n",
              "      --disabled-fill-color: #666;\n",
              "  }\n",
              "\n",
              "  .colab-df-quickchart {\n",
              "    background-color: var(--bg-color);\n",
              "    border: none;\n",
              "    border-radius: 50%;\n",
              "    cursor: pointer;\n",
              "    display: none;\n",
              "    fill: var(--fill-color);\n",
              "    height: 32px;\n",
              "    padding: 0;\n",
              "    width: 32px;\n",
              "  }\n",
              "\n",
              "  .colab-df-quickchart:hover {\n",
              "    background-color: var(--hover-bg-color);\n",
              "    box-shadow: 0 1px 2px rgba(60, 64, 67, 0.3), 0 1px 3px 1px rgba(60, 64, 67, 0.15);\n",
              "    fill: var(--button-hover-fill-color);\n",
              "  }\n",
              "\n",
              "  .colab-df-quickchart-complete:disabled,\n",
              "  .colab-df-quickchart-complete:disabled:hover {\n",
              "    background-color: var(--disabled-bg-color);\n",
              "    fill: var(--disabled-fill-color);\n",
              "    box-shadow: none;\n",
              "  }\n",
              "\n",
              "  .colab-df-spinner {\n",
              "    border: 2px solid var(--fill-color);\n",
              "    border-color: transparent;\n",
              "    border-bottom-color: var(--fill-color);\n",
              "    animation:\n",
              "      spin 1s steps(1) infinite;\n",
              "  }\n",
              "\n",
              "  @keyframes spin {\n",
              "    0% {\n",
              "      border-color: transparent;\n",
              "      border-bottom-color: var(--fill-color);\n",
              "      border-left-color: var(--fill-color);\n",
              "    }\n",
              "    20% {\n",
              "      border-color: transparent;\n",
              "      border-left-color: var(--fill-color);\n",
              "      border-top-color: var(--fill-color);\n",
              "    }\n",
              "    30% {\n",
              "      border-color: transparent;\n",
              "      border-left-color: var(--fill-color);\n",
              "      border-top-color: var(--fill-color);\n",
              "      border-right-color: var(--fill-color);\n",
              "    }\n",
              "    40% {\n",
              "      border-color: transparent;\n",
              "      border-right-color: var(--fill-color);\n",
              "      border-top-color: var(--fill-color);\n",
              "    }\n",
              "    60% {\n",
              "      border-color: transparent;\n",
              "      border-right-color: var(--fill-color);\n",
              "    }\n",
              "    80% {\n",
              "      border-color: transparent;\n",
              "      border-right-color: var(--fill-color);\n",
              "      border-bottom-color: var(--fill-color);\n",
              "    }\n",
              "    90% {\n",
              "      border-color: transparent;\n",
              "      border-bottom-color: var(--fill-color);\n",
              "    }\n",
              "  }\n",
              "</style>\n",
              "\n",
              "  <script>\n",
              "    async function quickchart(key) {\n",
              "      const quickchartButtonEl =\n",
              "        document.querySelector('#' + key + ' button');\n",
              "      quickchartButtonEl.disabled = true;  // To prevent multiple clicks.\n",
              "      quickchartButtonEl.classList.add('colab-df-spinner');\n",
              "      try {\n",
              "        const charts = await google.colab.kernel.invokeFunction(\n",
              "            'suggestCharts', [key], {});\n",
              "      } catch (error) {\n",
              "        console.error('Error during call to suggestCharts:', error);\n",
              "      }\n",
              "      quickchartButtonEl.classList.remove('colab-df-spinner');\n",
              "      quickchartButtonEl.classList.add('colab-df-quickchart-complete');\n",
              "    }\n",
              "    (() => {\n",
              "      let quickchartButtonEl =\n",
              "        document.querySelector('#df-fc83f4b9-a754-48d1-bd7e-e4ca54a726cb button');\n",
              "      quickchartButtonEl.style.display =\n",
              "        google.colab.kernel.accessAllowed ? 'block' : 'none';\n",
              "    })();\n",
              "  </script>\n",
              "</div>\n",
              "\n",
              "    </div>\n",
              "  </div>\n"
            ],
            "application/vnd.google.colaboratory.intrinsic+json": {
              "type": "dataframe",
              "summary": "{\n  \"name\": \"pd\",\n  \"rows\": 3,\n  \"fields\": [\n    {\n      \"column\": \"a\",\n      \"properties\": {\n        \"dtype\": \"number\",\n        \"std\": 1,\n        \"min\": 1,\n        \"max\": 3,\n        \"num_unique_values\": 3,\n        \"samples\": [\n          1,\n          2,\n          3\n        ],\n        \"semantic_type\": \"\",\n        \"description\": \"\"\n      }\n    },\n    {\n      \"column\": \"b\",\n      \"properties\": {\n        \"dtype\": \"number\",\n        \"std\": 1,\n        \"min\": 4,\n        \"max\": 6,\n        \"num_unique_values\": 3,\n        \"samples\": [\n          4,\n          5,\n          6\n        ],\n        \"semantic_type\": \"\",\n        \"description\": \"\"\n      }\n    }\n  ]\n}"
            }
          },
          "metadata": {},
          "execution_count": 6
        }
      ]
    },
    {
      "cell_type": "code",
      "metadata": {
        "id": "vXPAb1dQcTZP"
      },
      "source": [
        " import pandas as np"
      ],
      "execution_count": null,
      "outputs": []
    },
    {
      "cell_type": "code",
      "metadata": {
        "id": "pQvLCC9YcUD-",
        "colab": {
          "base_uri": "https://localhost:8080/",
          "height": 143
        },
        "outputId": "d706dc7c-d53d-4492-f896-57b8dc4fe49c"
      },
      "source": [
        "np.DataFrame({'a' : [1, 2, 3], 'b' : [4, 5, 6]})"
      ],
      "execution_count": null,
      "outputs": [
        {
          "output_type": "execute_result",
          "data": {
            "text/plain": [
              "   a  b\n",
              "0  1  4\n",
              "1  2  5\n",
              "2  3  6"
            ],
            "text/html": [
              "\n",
              "  <div id=\"df-e6bebec5-9fe7-4702-ae8b-316cd4c65bf6\" class=\"colab-df-container\">\n",
              "    <div>\n",
              "<style scoped>\n",
              "    .dataframe tbody tr th:only-of-type {\n",
              "        vertical-align: middle;\n",
              "    }\n",
              "\n",
              "    .dataframe tbody tr th {\n",
              "        vertical-align: top;\n",
              "    }\n",
              "\n",
              "    .dataframe thead th {\n",
              "        text-align: right;\n",
              "    }\n",
              "</style>\n",
              "<table border=\"1\" class=\"dataframe\">\n",
              "  <thead>\n",
              "    <tr style=\"text-align: right;\">\n",
              "      <th></th>\n",
              "      <th>a</th>\n",
              "      <th>b</th>\n",
              "    </tr>\n",
              "  </thead>\n",
              "  <tbody>\n",
              "    <tr>\n",
              "      <th>0</th>\n",
              "      <td>1</td>\n",
              "      <td>4</td>\n",
              "    </tr>\n",
              "    <tr>\n",
              "      <th>1</th>\n",
              "      <td>2</td>\n",
              "      <td>5</td>\n",
              "    </tr>\n",
              "    <tr>\n",
              "      <th>2</th>\n",
              "      <td>3</td>\n",
              "      <td>6</td>\n",
              "    </tr>\n",
              "  </tbody>\n",
              "</table>\n",
              "</div>\n",
              "    <div class=\"colab-df-buttons\">\n",
              "\n",
              "  <div class=\"colab-df-container\">\n",
              "    <button class=\"colab-df-convert\" onclick=\"convertToInteractive('df-e6bebec5-9fe7-4702-ae8b-316cd4c65bf6')\"\n",
              "            title=\"Convert this dataframe to an interactive table.\"\n",
              "            style=\"display:none;\">\n",
              "\n",
              "  <svg xmlns=\"http://www.w3.org/2000/svg\" height=\"24px\" viewBox=\"0 -960 960 960\">\n",
              "    <path d=\"M120-120v-720h720v720H120Zm60-500h600v-160H180v160Zm220 220h160v-160H400v160Zm0 220h160v-160H400v160ZM180-400h160v-160H180v160Zm440 0h160v-160H620v160ZM180-180h160v-160H180v160Zm440 0h160v-160H620v160Z\"/>\n",
              "  </svg>\n",
              "    </button>\n",
              "\n",
              "  <style>\n",
              "    .colab-df-container {\n",
              "      display:flex;\n",
              "      gap: 12px;\n",
              "    }\n",
              "\n",
              "    .colab-df-convert {\n",
              "      background-color: #E8F0FE;\n",
              "      border: none;\n",
              "      border-radius: 50%;\n",
              "      cursor: pointer;\n",
              "      display: none;\n",
              "      fill: #1967D2;\n",
              "      height: 32px;\n",
              "      padding: 0 0 0 0;\n",
              "      width: 32px;\n",
              "    }\n",
              "\n",
              "    .colab-df-convert:hover {\n",
              "      background-color: #E2EBFA;\n",
              "      box-shadow: 0px 1px 2px rgba(60, 64, 67, 0.3), 0px 1px 3px 1px rgba(60, 64, 67, 0.15);\n",
              "      fill: #174EA6;\n",
              "    }\n",
              "\n",
              "    .colab-df-buttons div {\n",
              "      margin-bottom: 4px;\n",
              "    }\n",
              "\n",
              "    [theme=dark] .colab-df-convert {\n",
              "      background-color: #3B4455;\n",
              "      fill: #D2E3FC;\n",
              "    }\n",
              "\n",
              "    [theme=dark] .colab-df-convert:hover {\n",
              "      background-color: #434B5C;\n",
              "      box-shadow: 0px 1px 3px 1px rgba(0, 0, 0, 0.15);\n",
              "      filter: drop-shadow(0px 1px 2px rgba(0, 0, 0, 0.3));\n",
              "      fill: #FFFFFF;\n",
              "    }\n",
              "  </style>\n",
              "\n",
              "    <script>\n",
              "      const buttonEl =\n",
              "        document.querySelector('#df-e6bebec5-9fe7-4702-ae8b-316cd4c65bf6 button.colab-df-convert');\n",
              "      buttonEl.style.display =\n",
              "        google.colab.kernel.accessAllowed ? 'block' : 'none';\n",
              "\n",
              "      async function convertToInteractive(key) {\n",
              "        const element = document.querySelector('#df-e6bebec5-9fe7-4702-ae8b-316cd4c65bf6');\n",
              "        const dataTable =\n",
              "          await google.colab.kernel.invokeFunction('convertToInteractive',\n",
              "                                                    [key], {});\n",
              "        if (!dataTable) return;\n",
              "\n",
              "        const docLinkHtml = 'Like what you see? Visit the ' +\n",
              "          '<a target=\"_blank\" href=https://colab.research.google.com/notebooks/data_table.ipynb>data table notebook</a>'\n",
              "          + ' to learn more about interactive tables.';\n",
              "        element.innerHTML = '';\n",
              "        dataTable['output_type'] = 'display_data';\n",
              "        await google.colab.output.renderOutput(dataTable, element);\n",
              "        const docLink = document.createElement('div');\n",
              "        docLink.innerHTML = docLinkHtml;\n",
              "        element.appendChild(docLink);\n",
              "      }\n",
              "    </script>\n",
              "  </div>\n",
              "\n",
              "\n",
              "<div id=\"df-85bd7257-102b-4b75-ae34-4be54de103b8\">\n",
              "  <button class=\"colab-df-quickchart\" onclick=\"quickchart('df-85bd7257-102b-4b75-ae34-4be54de103b8')\"\n",
              "            title=\"Suggest charts\"\n",
              "            style=\"display:none;\">\n",
              "\n",
              "<svg xmlns=\"http://www.w3.org/2000/svg\" height=\"24px\"viewBox=\"0 0 24 24\"\n",
              "     width=\"24px\">\n",
              "    <g>\n",
              "        <path d=\"M19 3H5c-1.1 0-2 .9-2 2v14c0 1.1.9 2 2 2h14c1.1 0 2-.9 2-2V5c0-1.1-.9-2-2-2zM9 17H7v-7h2v7zm4 0h-2V7h2v10zm4 0h-2v-4h2v4z\"/>\n",
              "    </g>\n",
              "</svg>\n",
              "  </button>\n",
              "\n",
              "<style>\n",
              "  .colab-df-quickchart {\n",
              "      --bg-color: #E8F0FE;\n",
              "      --fill-color: #1967D2;\n",
              "      --hover-bg-color: #E2EBFA;\n",
              "      --hover-fill-color: #174EA6;\n",
              "      --disabled-fill-color: #AAA;\n",
              "      --disabled-bg-color: #DDD;\n",
              "  }\n",
              "\n",
              "  [theme=dark] .colab-df-quickchart {\n",
              "      --bg-color: #3B4455;\n",
              "      --fill-color: #D2E3FC;\n",
              "      --hover-bg-color: #434B5C;\n",
              "      --hover-fill-color: #FFFFFF;\n",
              "      --disabled-bg-color: #3B4455;\n",
              "      --disabled-fill-color: #666;\n",
              "  }\n",
              "\n",
              "  .colab-df-quickchart {\n",
              "    background-color: var(--bg-color);\n",
              "    border: none;\n",
              "    border-radius: 50%;\n",
              "    cursor: pointer;\n",
              "    display: none;\n",
              "    fill: var(--fill-color);\n",
              "    height: 32px;\n",
              "    padding: 0;\n",
              "    width: 32px;\n",
              "  }\n",
              "\n",
              "  .colab-df-quickchart:hover {\n",
              "    background-color: var(--hover-bg-color);\n",
              "    box-shadow: 0 1px 2px rgba(60, 64, 67, 0.3), 0 1px 3px 1px rgba(60, 64, 67, 0.15);\n",
              "    fill: var(--button-hover-fill-color);\n",
              "  }\n",
              "\n",
              "  .colab-df-quickchart-complete:disabled,\n",
              "  .colab-df-quickchart-complete:disabled:hover {\n",
              "    background-color: var(--disabled-bg-color);\n",
              "    fill: var(--disabled-fill-color);\n",
              "    box-shadow: none;\n",
              "  }\n",
              "\n",
              "  .colab-df-spinner {\n",
              "    border: 2px solid var(--fill-color);\n",
              "    border-color: transparent;\n",
              "    border-bottom-color: var(--fill-color);\n",
              "    animation:\n",
              "      spin 1s steps(1) infinite;\n",
              "  }\n",
              "\n",
              "  @keyframes spin {\n",
              "    0% {\n",
              "      border-color: transparent;\n",
              "      border-bottom-color: var(--fill-color);\n",
              "      border-left-color: var(--fill-color);\n",
              "    }\n",
              "    20% {\n",
              "      border-color: transparent;\n",
              "      border-left-color: var(--fill-color);\n",
              "      border-top-color: var(--fill-color);\n",
              "    }\n",
              "    30% {\n",
              "      border-color: transparent;\n",
              "      border-left-color: var(--fill-color);\n",
              "      border-top-color: var(--fill-color);\n",
              "      border-right-color: var(--fill-color);\n",
              "    }\n",
              "    40% {\n",
              "      border-color: transparent;\n",
              "      border-right-color: var(--fill-color);\n",
              "      border-top-color: var(--fill-color);\n",
              "    }\n",
              "    60% {\n",
              "      border-color: transparent;\n",
              "      border-right-color: var(--fill-color);\n",
              "    }\n",
              "    80% {\n",
              "      border-color: transparent;\n",
              "      border-right-color: var(--fill-color);\n",
              "      border-bottom-color: var(--fill-color);\n",
              "    }\n",
              "    90% {\n",
              "      border-color: transparent;\n",
              "      border-bottom-color: var(--fill-color);\n",
              "    }\n",
              "  }\n",
              "</style>\n",
              "\n",
              "  <script>\n",
              "    async function quickchart(key) {\n",
              "      const quickchartButtonEl =\n",
              "        document.querySelector('#' + key + ' button');\n",
              "      quickchartButtonEl.disabled = true;  // To prevent multiple clicks.\n",
              "      quickchartButtonEl.classList.add('colab-df-spinner');\n",
              "      try {\n",
              "        const charts = await google.colab.kernel.invokeFunction(\n",
              "            'suggestCharts', [key], {});\n",
              "      } catch (error) {\n",
              "        console.error('Error during call to suggestCharts:', error);\n",
              "      }\n",
              "      quickchartButtonEl.classList.remove('colab-df-spinner');\n",
              "      quickchartButtonEl.classList.add('colab-df-quickchart-complete');\n",
              "    }\n",
              "    (() => {\n",
              "      let quickchartButtonEl =\n",
              "        document.querySelector('#df-85bd7257-102b-4b75-ae34-4be54de103b8 button');\n",
              "      quickchartButtonEl.style.display =\n",
              "        google.colab.kernel.accessAllowed ? 'block' : 'none';\n",
              "    })();\n",
              "  </script>\n",
              "</div>\n",
              "\n",
              "    </div>\n",
              "  </div>\n"
            ],
            "application/vnd.google.colaboratory.intrinsic+json": {
              "type": "dataframe",
              "summary": "{\n  \"name\": \"np\",\n  \"rows\": 3,\n  \"fields\": [\n    {\n      \"column\": \"a\",\n      \"properties\": {\n        \"dtype\": \"number\",\n        \"std\": 1,\n        \"min\": 1,\n        \"max\": 3,\n        \"num_unique_values\": 3,\n        \"samples\": [\n          1,\n          2,\n          3\n        ],\n        \"semantic_type\": \"\",\n        \"description\": \"\"\n      }\n    },\n    {\n      \"column\": \"b\",\n      \"properties\": {\n        \"dtype\": \"number\",\n        \"std\": 1,\n        \"min\": 4,\n        \"max\": 6,\n        \"num_unique_values\": 3,\n        \"samples\": [\n          4,\n          5,\n          6\n        ],\n        \"semantic_type\": \"\",\n        \"description\": \"\"\n      }\n    }\n  ]\n}"
            }
          },
          "metadata": {},
          "execution_count": 8
        }
      ]
    },
    {
      "cell_type": "markdown",
      "metadata": {
        "id": "CEAxNV5Eccsn"
      },
      "source": [
        "* 모듈 지우기"
      ]
    },
    {
      "cell_type": "code",
      "metadata": {
        "id": "J3Hw8eBeUMuS"
      },
      "source": [
        "del pd"
      ],
      "execution_count": null,
      "outputs": []
    },
    {
      "cell_type": "code",
      "metadata": {
        "id": "nJGPnrBAXahH"
      },
      "source": [
        "pd.DataFrame({'a' : [1, 2, 3], 'b' : [4, 5, 6]})"
      ],
      "execution_count": null,
      "outputs": []
    },
    {
      "cell_type": "code",
      "metadata": {
        "id": "KlWfrjVBJJsZ"
      },
      "source": [],
      "execution_count": null,
      "outputs": []
    }
  ]
}
