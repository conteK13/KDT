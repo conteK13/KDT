{
 "cells": [
  {
   "cell_type": "code",
   "execution_count": 1,
   "id": "9c9ab837-e865-463c-b685-13d5f1fc4458",
   "metadata": {},
   "outputs": [
    {
     "name": "stdout",
     "output_type": "stream",
     "text": [
      "정답률 = 1.0\n",
      "리포트 =\n",
      "               precision    recall  f1-score   support\n",
      "\n",
      "           e       1.00      1.00      1.00      1035\n",
      "           p       1.00      1.00      1.00       996\n",
      "\n",
      "    accuracy                           1.00      2031\n",
      "   macro avg       1.00      1.00      1.00      2031\n",
      "weighted avg       1.00      1.00      1.00      2031\n",
      "\n"
     ]
    }
   ],
   "source": [
    "# 모듈 불러오기\n",
    "import pandas as pd\n",
    "from sklearn.ensemble import RandomForestClassifier\n",
    "from sklearn import metrics\n",
    "from sklearn.model_selection import train_test_split\n",
    "\n",
    "\n",
    "# 데이터 읽어 들이기\n",
    "mr = pd.read_csv(\"mushroom.csv\", header=None)\n",
    "\n",
    "# 데이터 내부의 기호를 숫자로 변환하기\n",
    "label = []\n",
    "data = []\n",
    "attr_list = [] # 여기선 쓸모 x\n",
    "\n",
    "# .iterrows()는 Pandas DataFrame에서 각 행(row)을 반복(iterate)하기 위해 사용하는 메서드\n",
    "for row_index, row in mr.iterrows():\n",
    "    label.append(row.loc[0])\n",
    "    row_data = []\n",
    "    for v in row.loc[1:]:\n",
    "        # ord() 함수는 문자열에서 단일 문자(길이가 1인 문자열)의 유니코드 코드 포인트(또는 ASCII 값)를 반환\n",
    "        row_data.append(ord(v))\n",
    "    data.append(row_data)\n",
    "    \n",
    "# 학습 전용과 테스트 전용 데이터로 나누기\n",
    "data_train, data_test, label_train, label_test = train_test_split(data, label)\n",
    "\n",
    "# 데이터 학습시키기\n",
    "clf = RandomForestClassifier()\n",
    "clf.fit(data_train, label_train)\n",
    "\n",
    "# 데이터 예측 후 결과 확인하기 \n",
    "predict = clf.predict(data_test)\n",
    "\n",
    "ac_score = metrics.accuracy_score(label_test, predict)                 # 정확도 = 올바르게 예측한 샘플 수/ 전체 샘플 수\n",
    "cl_report = metrics.classification_report(label_test, predict)         # 분류 리포트 = 아래의 항목 출\n",
    "print(\"정답률 =\", ac_score)\n",
    "print(\"리포트 =\\n\", cl_report)\n",
    "\n",
    "# precision: 각 클래스에 대해 정밀도를 계산\n",
    "# recall: 각 클래스에 대해 재현율을 계산\n",
    "# f1-score: 각 클래스에 대해 F1-score를 계산\n",
    "# support: 각 클래스의 실제 샘플 수\n",
    "# accuracy: 전체 정확도\n",
    "# macro avg: 각 클래스의 성능 지표에 대해 평균\n",
    "# weighted avg: 각 클래스의 성능 지표에 대해 실제 샘플 수에 비례한 가중 평균을 계산"
   ]
  },
  {
   "cell_type": "code",
   "execution_count": 13,
   "id": "bc019994-cd73-4edc-83b2-93091c476c26",
   "metadata": {},
   "outputs": [
    {
     "name": "stdout",
     "output_type": "stream",
     "text": [
      "[[1, 0, 0, 0, 0, 0, 0, 0, 0, 0, 0, 0, 1, 0, 0, 0, 0, 0, 0, 0, 0, 0, 0, 0, 1, 0, 0, 0, 0, 0, 0, 0, 0, 0, 0, 0, 1, 0, 0, 0, 0, 0, 0, 0, 0, 0, 0, 0, 1, 0, 0, 0, 0, 0, 0, 0, 0, 0, 0, 0, 1, 0, 0, 0, 0, 0, 0, 0, 0, 0, 0, 0, 1, 0, 0, 0, 0, 0, 0, 0, 0, 0, 0, 0, 1, 0, 0, 0, 0, 0, 0, 0, 0, 0, 0, 0, 1, 0, 0, 0, 0, 0, 0, 0, 0, 0, 0, 0, 1, 0, 0, 0, 0, 0, 0, 0, 0, 0, 0, 0, 1, 0, 0, 0, 0, 0, 0, 0, 0, 0, 0, 0, 1, 0, 0, 0, 0, 0, 0, 0, 0, 0, 0, 0, 1, 0, 0, 0, 0, 0, 0, 0, 0, 0, 0, 0, 1, 0, 0, 0, 0, 0, 0, 0, 0, 0, 0, 0, 1, 0, 0, 0, 0, 0, 0, 0, 0, 0, 0, 0, 1, 0, 0, 0, 0, 0, 0, 0, 0, 0, 0, 0, 1, 0, 0, 0, 0, 0, 0, 0, 0, 0, 0, 0, 1, 0, 0, 0, 0, 0, 0, 0, 0, 0, 0, 0, 1, 0, 0, 0, 0, 0, 0, 0, 0, 0, 0, 0, 1, 0, 0, 0, 0, 0, 0, 0, 0, 0, 0, 0, 1, 0, 0, 0, 0, 0, 0, 0, 0, 0, 0, 0, 1, 0, 0, 0, 0, 0, 0, 0, 0, 0, 0, 0]]\n",
      "정답률 = 1.0\n"
     ]
    }
   ],
   "source": [
    "import pandas as pd\n",
    "from sklearn.ensemble import RandomForestClassifier\n",
    "from sklearn import metrics\n",
    "from sklearn.model_selection import train_test_split\n",
    "# 데이터 읽어 들이기\n",
    "mr = pd.read_csv(\"mushroom.csv\", header=None)\n",
    "# 데이터 내부의 분류 변수 전개하기\n",
    "label = []\n",
    "data = []\n",
    "attr_list = []\n",
    "for row_index, row in mr.iterrows():\n",
    "    label.append(row.loc[0])\n",
    "    exdata = []\n",
    "    # enumerate()는 리스트나 시퀀스의 각 원소를 인덱스와 함께 순차적으로 반환하는 함수\n",
    "    for col, v in enumerate(row.loc[1:]):\n",
    "        if row_index == 0:\n",
    "            # 첫번째 행에서 모든 특성(열)에 대한 원핫 인코딩 정보 초기화\n",
    "            # \"dic\" = 고유값을 매칭할 수 있는 딕션너리\n",
    "            # \"cnt\" = 고유값의 개수를 추적하는 카운터\n",
    "            attr = {\"dic\": {}, \"cnt\":0}\n",
    "            attr_list.append(attr)\n",
    "        else:\n",
    "            # 각 특성에 대해 원핫 인코딩 정보를 재사용\n",
    "            # attr_list[col]은 col 번째 특성에 대한 원핫 인코딩 정보를 포함\n",
    "            attr = attr_list[col]\n",
    "            \n",
    "        # 버섯의 특징 기호를 배열로 나타내기\n",
    "        # 특성 값(v)을 고유한 숫자 인덱스로 매핑하는 과정\n",
    "        # v 값이 이미 매핑되어 있는지 확인하고, 없으면 새로운 고유 인덱스를 할당\n",
    "        d = [0,0,0,0,0,0,0,0,0,0,0,0]\n",
    "        if v in attr[\"dic\"]:\n",
    "            idx = attr[\"dic\"][v]\n",
    "        else:\n",
    "            idx = attr[\"cnt\"]\n",
    "            attr[\"dic\"][v] = idx\n",
    "            attr[\"cnt\"] += 1\n",
    "        d[idx] = 1\n",
    "        exdata += d\n",
    "    data.append(exdata)\n",
    "\n",
    "# print(data[:1])\n",
    "\n",
    "# 학습 전용 데이터와 테스트 전용 데이터로 나누기\n",
    "data_train, data_test, label_train, label_test = train_test_split(data, label)\n",
    "# 데이터 학습시키기\n",
    "clf = RandomForestClassifier()\n",
    "clf.fit(data_train, label_train)\n",
    "# 데이터 예측하기\n",
    "predict = clf.predict(data_test)\n",
    "# 결과 테스트하기\n",
    "ac_score = metrics.accuracy_score(label_test, predict)\n",
    "print(\"정답률 =\", ac_score)"
   ]
  }
 ],
 "metadata": {
  "kernelspec": {
   "display_name": "Python 3 (ipykernel)",
   "language": "python",
   "name": "python3"
  },
  "language_info": {
   "codemirror_mode": {
    "name": "ipython",
    "version": 3
   },
   "file_extension": ".py",
   "mimetype": "text/x-python",
   "name": "python",
   "nbconvert_exporter": "python",
   "pygments_lexer": "ipython3",
   "version": "3.12.4"
  }
 },
 "nbformat": 4,
 "nbformat_minor": 5
}
