{
 "cells": [
  {
   "cell_type": "markdown",
   "id": "f482352c-e366-4299-a067-d07f9ed167ce",
   "metadata": {},
   "source": [
    "# 트리의 앙상블"
   ]
  },
  {
   "cell_type": "markdown",
   "id": "7d29fe24-5eb7-43fa-a292-4bc5141dbeca",
   "metadata": {},
   "source": [
    "## 랜덤포레스트"
   ]
  },
  {
   "cell_type": "code",
   "execution_count": 66,
   "id": "191243ea-7a34-4905-907f-b915762f10e8",
   "metadata": {},
   "outputs": [
    {
     "name": "stdout",
     "output_type": "stream",
     "text": [
      "Requirement already satisfied: xgboost in c:\\users\\user\\anaconda3\\lib\\site-packages (2.1.3)\n",
      "Requirement already satisfied: numpy in c:\\users\\user\\anaconda3\\lib\\site-packages (from xgboost) (1.26.4)\n",
      "Requirement already satisfied: scipy in c:\\users\\user\\anaconda3\\lib\\site-packages (from xgboost) (1.13.1)\n",
      "Collecting lightgbm\n",
      "  Downloading lightgbm-4.5.0-py3-none-win_amd64.whl.metadata (17 kB)\n",
      "Requirement already satisfied: numpy>=1.17.0 in c:\\users\\user\\anaconda3\\lib\\site-packages (from lightgbm) (1.26.4)\n",
      "Requirement already satisfied: scipy in c:\\users\\user\\anaconda3\\lib\\site-packages (from lightgbm) (1.13.1)\n",
      "Downloading lightgbm-4.5.0-py3-none-win_amd64.whl (1.4 MB)\n",
      "   ---------------------------------------- 0.0/1.4 MB ? eta -:--:--\n",
      "    --------------------------------------- 0.0/1.4 MB 1.3 MB/s eta 0:00:02\n",
      "   --------------- ------------------------ 0.5/1.4 MB 8.5 MB/s eta 0:00:01\n",
      "   -------------------------------- ------- 1.2/1.4 MB 10.5 MB/s eta 0:00:01\n",
      "   ---------------------------------------- 1.4/1.4 MB 10.2 MB/s eta 0:00:00\n",
      "Installing collected packages: lightgbm\n",
      "Successfully installed lightgbm-4.5.0\n"
     ]
    }
   ],
   "source": [
    "!pip install xgboost\n",
    "!pip install lightgbm"
   ]
  },
  {
   "cell_type": "code",
   "execution_count": 80,
   "id": "ae1fa265-2ec5-4816-ae97-bd509b619cc1",
   "metadata": {},
   "outputs": [],
   "source": [
    "# from sklearn.experimental import enable_hist_gradient_boosting\n",
    "from sklearn.ensemble import HistGradientBoostingClassifier\n",
    "from sklearn.ensemble import GradientBoostingClassifier\n",
    "from sklearn.model_selection import train_test_split\n",
    "from sklearn.ensemble import RandomForestClassifier\n",
    "from sklearn.model_selection import cross_validate\n",
    "from sklearn.inspection import permutation_importance\n",
    "from xgboost import XGBClassifier\n",
    "from lightgbm import LGBMClassifier\n",
    "import pandas as pd\n",
    "import numpy as np"
   ]
  },
  {
   "cell_type": "code",
   "execution_count": 12,
   "id": "5dba23b6-ece9-4e36-b88d-e6c433b2bf31",
   "metadata": {},
   "outputs": [],
   "source": [
    "wine = pd.read_csv('https://bit.ly/wine-date')\n",
    "data=wine[['alcohol', 'sugar', 'pH']].to_numpy()\n",
    "target = wine['class'].to_numpy()\n",
    "\n",
    "train_input, test_input, train_target, test_target = train_test_split(data, target, test_size=0.2, random_state=42)"
   ]
  },
  {
   "cell_type": "code",
   "execution_count": 18,
   "id": "922d6d6d-b8cd-4007-b342-4a25634541dd",
   "metadata": {},
   "outputs": [
    {
     "name": "stdout",
     "output_type": "stream",
     "text": [
      "0.9973541965122431 0.8905151032797809\n"
     ]
    }
   ],
   "source": [
    "rf = RandomForestClassifier(n_jobs=-1, random_state=42)\n",
    "scores = cross_validate(rf, train_input, train_target, return_train_score= True, n_jobs=-1)\n",
    "\n",
    "print(np.mean(scores['train_score']), np.mean(scores['test_score']))\n",
    "# 0.9973541965122431 0.8905151032797809"
   ]
  },
  {
   "cell_type": "code",
   "execution_count": 22,
   "id": "002ffaea-158c-44b8-86b3-1e7153b794ed",
   "metadata": {},
   "outputs": [
    {
     "name": "stdout",
     "output_type": "stream",
     "text": [
      "[0.23167441 0.50039841 0.26792718]\n"
     ]
    }
   ],
   "source": [
    "rf.fit(train_input, train_target)\n",
    "\n",
    "# feature_importances_ : 특성 중요도 (Feature Importance). 각 특성(변수)이 모델 예측에 얼마나 중요한지를 평가\n",
    "print(rf.feature_importances_)\n",
    "# [0.23167441 0.50039841 0.26792718]"
   ]
  },
  {
   "cell_type": "code",
   "execution_count": 24,
   "id": "58a5de8b-cbf5-4df8-b71a-fa0b670b235b",
   "metadata": {},
   "outputs": [
    {
     "name": "stdout",
     "output_type": "stream",
     "text": [
      "0.8934000384837406\n"
     ]
    }
   ],
   "source": [
    "# oob_score : Out-Of-Bag (OOB) 점수. -> 모델의 검증 성능을 평가하는 데 사용\n",
    "# 즉, 모델을 학습할 때 사용되지 않은 샘플을 검증하는 방식\n",
    "rf = RandomForestClassifier(oob_score=True, n_jobs=-1, random_state=42)\n",
    "# 교차 검증없이 성능 평가 가능\n",
    "# 훈련 데이터 효율적으로 사용\n",
    "# 과적합 방지\n",
    "# 랜덤 포레스트와 같은 부트스트랩 샘플링을 사용하는 모델에서만 사용\n",
    "# 교차 검증에 비해 불안정하므로 OOB점수와 교차검증을 함께 사용하는 것이 좋음\n",
    "\n",
    "rf.fit(train_input, train_target)\n",
    "print(rf.oob_score_)\n",
    "# 0.8934000384837406"
   ]
  },
  {
   "cell_type": "markdown",
   "id": "dd24522e-a424-4423-93f1-3cb8d6bca2fd",
   "metadata": {},
   "source": [
    "## 그레디언트 부스팅\n",
    "GradientBoostingClassifier\n",
    "- 그래디언트 부스팅 알고리즘을 사용하는 분류 모델\n",
    "- 이 모델은 여러 개의 결정 트리를 순차적으로 학습\n",
    "- 각 트리가 이전 트리의 오류를 보완하는 방식으로 작동"
   ]
  },
  {
   "cell_type": "code",
   "execution_count": 39,
   "id": "9c3b51bf-734b-4bd1-9744-f5e54f178ce7",
   "metadata": {},
   "outputs": [
    {
     "name": "stdout",
     "output_type": "stream",
     "text": [
      "0.8881086892152563 0.8720430147331015\n"
     ]
    }
   ],
   "source": [
    "gb = GradientBoostingClassifier(random_state=42)\n",
    "scores = cross_validate(gb, train_input, train_target, return_train_score= True, n_jobs=-1)\n",
    "\n",
    "print(np.mean(scores['train_score']), np.mean(scores['test_score']))\n",
    "# 0.8881086892152563 0.8720430147331015"
   ]
  },
  {
   "cell_type": "code",
   "execution_count": 41,
   "id": "dd9afd54-9c7d-43fa-ad5f-e3a269864bc4",
   "metadata": {},
   "outputs": [
    {
     "name": "stdout",
     "output_type": "stream",
     "text": [
      "0.9464595437171814 0.8780082549788999\n"
     ]
    }
   ],
   "source": [
    "# n_estimators(트리의 개) : 그래디언트 부스팅에서 학습할 결정 트리의 개수\n",
    "# 값이 클수록 모델의 학습 과정에서 더 많은 트리가 추가되어 점진적으로 모델이 개선\n",
    "# 트리의 개수가 많을수록 과적합(overfitting)의 위험도 커짐\n",
    "\n",
    "# learning_rate(학습률) : 각 트리가 모델에 추가될 때 가중치를 얼마나 크게 반영할지 결정\n",
    "# 학습률이 높을수록 각 트리가 모델에 더 큰 영향을 미치게 되며, 낮을수록 학습이 점진적으로 이루어짐\n",
    "# 작은 학습률(예: 0.01) : 더 많은 트리(n_estimators의 값)가 필요 -> 과적합을 방지하고 더 세밀한 학습 가능\n",
    "# 큰 학습률(예: 0.1 이상) : 트리 수가 적어도 빠르게 수렴 -> 과적합의 위험이 커짐\n",
    "gb = GradientBoostingClassifier(n_estimators =500, learning_rate = 0.2, random_state=42)\n",
    "scores = cross_validate(gb, train_input, train_target, return_train_score= True, n_jobs=-1)\n",
    "\n",
    "print(np.mean(scores['train_score']), np.mean(scores['test_score']))\n",
    "# 0.9464595437171814 0.8780082549788999"
   ]
  },
  {
   "cell_type": "code",
   "execution_count": 47,
   "id": "c383c9c0-82bd-490b-aa7c-5996e3cc04cb",
   "metadata": {},
   "outputs": [
    {
     "name": "stdout",
     "output_type": "stream",
     "text": [
      "[0.15882696 0.6799705  0.16120254]\n"
     ]
    }
   ],
   "source": [
    "gb.fit(train_input, train_target)\n",
    "print(gb.feature_importances_)\n",
    "# [0.15882696 0.6799705  0.16120254]"
   ]
  },
  {
   "cell_type": "markdown",
   "id": "2d4ad424-e920-4eb2-b953-212348cd0765",
   "metadata": {},
   "source": [
    "## 히스토그램 기반 부스팅\n",
    "히스토그램 기반 부스팅(Histogram-based Boosting)\n",
    "- 그래디언트 부스팅(Gradient Boosting) 알고리즘의 효율적인 버전\n",
    "- 대규모 데이터셋을 빠르게 학습할 수 있도록 설계된 히스토그램을 기반으로 한 최적화 방법을 사용\n",
    "\n",
    "히스토그램 기반 최적화(Histogram-based Optimization)\n",
    "- 연속적인 데이터를 구간으로 나누어 효율적으로 학습하는 기법\n",
    "- 히스토그램은 데이터를 여러 구간(bins)으로 나누어, 각 구간에 속하는 데이터의 빈도나 분포를 계산하는 방식\n",
    "- 데이터 분포를 효율적으로 요약하고, 그래디언트 부스팅과 같은 알고리즘에서 효율적인 분할(splitting)을 구현"
   ]
  },
  {
   "cell_type": "code",
   "execution_count": 52,
   "id": "e4f731d2-3c7b-4412-a044-577659c57bd6",
   "metadata": {},
   "outputs": [
    {
     "name": "stdout",
     "output_type": "stream",
     "text": [
      "0.9321723946453317 0.8801241948619236\n"
     ]
    }
   ],
   "source": [
    "hgb = HistGradientBoostingClassifier(random_state= 42)\n",
    "scores = cross_validate(hgb, train_input, train_target, return_train_score= True, n_jobs=-1)\n",
    "\n",
    "print(np.mean(scores['train_score']), np.mean(scores['test_score']))\n",
    "#0.9321723946453317 0.8801241948619236"
   ]
  },
  {
   "cell_type": "code",
   "execution_count": 82,
   "id": "cfc54067-8132-4075-b1ce-4062e3596c03",
   "metadata": {},
   "outputs": [
    {
     "name": "stdout",
     "output_type": "stream",
     "text": [
      "[0.08876275 0.23438522 0.08027708]\n"
     ]
    }
   ],
   "source": [
    "hgb.fit(train_input, train_target)\n",
    "\n",
    "result = permutation_importance(hgb, train_input, train_target, n_repeats=10, random_state=42, n_jobs=-1)\n",
    "\n",
    "print(result.importances_mean)\n",
    "# [0.08876275 0.23438522 0.08027708]"
   ]
  },
  {
   "cell_type": "code",
   "execution_count": 74,
   "id": "80996fa0-df06-4b4b-9d20-41b14d9a73f8",
   "metadata": {},
   "outputs": [
    {
     "data": {
      "text/plain": [
       "0.8723076923076923"
      ]
     },
     "execution_count": 74,
     "metadata": {},
     "output_type": "execute_result"
    }
   ],
   "source": [
    "hgb.score(test_input, test_target)\n",
    "# 0.8723076923076923"
   ]
  },
  {
   "cell_type": "markdown",
   "id": "c25211ea-e48a-4bd8-b67c-4d63cb4af2f5",
   "metadata": {},
   "source": [
    "### XGBoost"
   ]
  },
  {
   "cell_type": "code",
   "execution_count": 68,
   "id": "2afd8bac-dea3-4a5c-8692-725501323431",
   "metadata": {},
   "outputs": [
    {
     "name": "stdout",
     "output_type": "stream",
     "text": [
      "0.9558403027491312 0.8782000074035686\n"
     ]
    }
   ],
   "source": [
    "xgb = XGBClassifier(tree_method='hist', random_state=42)\n",
    "scores = cross_validate(xgb, train_input, train_target, return_train_score= True, n_jobs=-1)\n",
    "\n",
    "print(np.mean(scores['train_score']), np.mean(scores['test_score']))\n",
    "#0.9558403027491312 0.8782000074035686"
   ]
  },
  {
   "cell_type": "markdown",
   "id": "64147595-c2f9-4f0b-8aa2-abb6c825605e",
   "metadata": {},
   "source": [
    "### LightGBM"
   ]
  },
  {
   "cell_type": "code",
   "execution_count": 76,
   "id": "5ea395ff-4a56-4b5c-bd6f-7aab25004a9e",
   "metadata": {},
   "outputs": [
    {
     "name": "stdout",
     "output_type": "stream",
     "text": [
      "0.935828414851749 0.8801251203079884\n"
     ]
    }
   ],
   "source": [
    "lgb = LGBMClassifier(random_state = 42)\n",
    "scores = cross_validate(lgb, train_input, train_target, return_train_score= True, n_jobs=-1)\n",
    "\n",
    "print(np.mean(scores['train_score']), np.mean(scores['test_score']))\n",
    "# 0.935828414851749 0.8801251203079884"
   ]
  }
 ],
 "metadata": {
  "kernelspec": {
   "display_name": "Python 3 (ipykernel)",
   "language": "python",
   "name": "python3"
  },
  "language_info": {
   "codemirror_mode": {
    "name": "ipython",
    "version": 3
   },
   "file_extension": ".py",
   "mimetype": "text/x-python",
   "name": "python",
   "nbconvert_exporter": "python",
   "pygments_lexer": "ipython3",
   "version": "3.12.4"
  }
 },
 "nbformat": 4,
 "nbformat_minor": 5
}
