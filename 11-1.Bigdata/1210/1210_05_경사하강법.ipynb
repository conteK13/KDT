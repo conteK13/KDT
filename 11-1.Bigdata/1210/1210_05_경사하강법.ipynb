{
 "cells": [
  {
   "cell_type": "markdown",
   "id": "59ce9d9a-01fa-4ef1-bf29-6ad1f9b884a2",
   "metadata": {},
   "source": [
    "# 확률적 경사 하강법"
   ]
  },
  {
   "cell_type": "markdown",
   "id": "49c3eb2f-f0c7-44e4-ac97-a56ddd614a91",
   "metadata": {},
   "source": [
    "## SGDClassifier"
   ]
  },
  {
   "cell_type": "code",
   "execution_count": 18,
   "id": "cf6ce886-6976-48aa-b011-586eb9380620",
   "metadata": {},
   "outputs": [],
   "source": [
    "# from sklearn.linear_model import LogisticRegression\n",
    "from sklearn.model_selection import train_test_split\n",
    "# from sklearn.neighbors import KNeighborsClassifier\n",
    "from sklearn.preprocessing import StandardScaler\n",
    "from sklearn.linear_model import SGDClassifier\n",
    "# from scipy.special import softmax\n",
    "# from scipy.special import expit\n",
    "import matplotlib.pyplot as plt\n",
    "import pandas as pd\n",
    "import numpy as np"
   ]
  },
  {
   "cell_type": "code",
   "execution_count": 5,
   "id": "51274967-4e9d-4c5c-a283-d036d8e67ef7",
   "metadata": {},
   "outputs": [
    {
     "data": {
      "text/html": [
       "<div>\n",
       "<style scoped>\n",
       "    .dataframe tbody tr th:only-of-type {\n",
       "        vertical-align: middle;\n",
       "    }\n",
       "\n",
       "    .dataframe tbody tr th {\n",
       "        vertical-align: top;\n",
       "    }\n",
       "\n",
       "    .dataframe thead th {\n",
       "        text-align: right;\n",
       "    }\n",
       "</style>\n",
       "<table border=\"1\" class=\"dataframe\">\n",
       "  <thead>\n",
       "    <tr style=\"text-align: right;\">\n",
       "      <th></th>\n",
       "      <th>Species</th>\n",
       "      <th>Weight</th>\n",
       "      <th>Length</th>\n",
       "      <th>Diagonal</th>\n",
       "      <th>Height</th>\n",
       "      <th>Width</th>\n",
       "    </tr>\n",
       "  </thead>\n",
       "  <tbody>\n",
       "    <tr>\n",
       "      <th>0</th>\n",
       "      <td>Bream</td>\n",
       "      <td>242.0</td>\n",
       "      <td>25.4</td>\n",
       "      <td>30.0</td>\n",
       "      <td>11.5200</td>\n",
       "      <td>4.0200</td>\n",
       "    </tr>\n",
       "    <tr>\n",
       "      <th>1</th>\n",
       "      <td>Bream</td>\n",
       "      <td>290.0</td>\n",
       "      <td>26.3</td>\n",
       "      <td>31.2</td>\n",
       "      <td>12.4800</td>\n",
       "      <td>4.3056</td>\n",
       "    </tr>\n",
       "    <tr>\n",
       "      <th>2</th>\n",
       "      <td>Bream</td>\n",
       "      <td>340.0</td>\n",
       "      <td>26.5</td>\n",
       "      <td>31.1</td>\n",
       "      <td>12.3778</td>\n",
       "      <td>4.6961</td>\n",
       "    </tr>\n",
       "    <tr>\n",
       "      <th>3</th>\n",
       "      <td>Bream</td>\n",
       "      <td>363.0</td>\n",
       "      <td>29.0</td>\n",
       "      <td>33.5</td>\n",
       "      <td>12.7300</td>\n",
       "      <td>4.4555</td>\n",
       "    </tr>\n",
       "    <tr>\n",
       "      <th>4</th>\n",
       "      <td>Bream</td>\n",
       "      <td>430.0</td>\n",
       "      <td>29.0</td>\n",
       "      <td>34.0</td>\n",
       "      <td>12.4440</td>\n",
       "      <td>5.1340</td>\n",
       "    </tr>\n",
       "  </tbody>\n",
       "</table>\n",
       "</div>"
      ],
      "text/plain": [
       "  Species  Weight  Length  Diagonal   Height   Width\n",
       "0   Bream   242.0    25.4      30.0  11.5200  4.0200\n",
       "1   Bream   290.0    26.3      31.2  12.4800  4.3056\n",
       "2   Bream   340.0    26.5      31.1  12.3778  4.6961\n",
       "3   Bream   363.0    29.0      33.5  12.7300  4.4555\n",
       "4   Bream   430.0    29.0      34.0  12.4440  5.1340"
      ]
     },
     "execution_count": 5,
     "metadata": {},
     "output_type": "execute_result"
    }
   ],
   "source": [
    "fish = pd.read_csv('http://bit.ly/fish_csv')\n",
    "fish.head()"
   ]
  },
  {
   "cell_type": "code",
   "execution_count": 7,
   "id": "e84b45e4-f69b-4241-a67c-e954f9d66605",
   "metadata": {},
   "outputs": [],
   "source": [
    "fish_input = fish[['Weight', 'Length', 'Diagonal', 'Height', 'Width']].to_numpy()\n",
    "fish_target = fish['Species'].to_numpy()"
   ]
  },
  {
   "cell_type": "code",
   "execution_count": 9,
   "id": "5d8bdc6b-bfcd-465c-ab09-ee7b779e6801",
   "metadata": {},
   "outputs": [],
   "source": [
    "train_input, test_input, train_target, test_target = train_test_split(fish_input, fish_target, random_state=42)"
   ]
  },
  {
   "cell_type": "code",
   "execution_count": 11,
   "id": "eeda1331-6047-444d-a6f9-32b500247290",
   "metadata": {},
   "outputs": [],
   "source": [
    "ss = StandardScaler()\n",
    "ss.fit(train_input)\n",
    "\n",
    "train_scaled = ss.transform(train_input)\n",
    "test_scaled = ss.transform(test_input)"
   ]
  },
  {
   "cell_type": "code",
   "execution_count": 13,
   "id": "76a2c6e9-fdc5-4133-a352-bb0b716e1c29",
   "metadata": {},
   "outputs": [
    {
     "name": "stdout",
     "output_type": "stream",
     "text": [
      "0.773109243697479\n",
      "0.775\n"
     ]
    },
    {
     "name": "stderr",
     "output_type": "stream",
     "text": [
      "C:\\Users\\user\\anaconda3\\Lib\\site-packages\\sklearn\\linear_model\\_stochastic_gradient.py:723: ConvergenceWarning: Maximum number of iteration reached before convergence. Consider increasing max_iter to improve the fit.\n",
      "  warnings.warn(\n"
     ]
    }
   ],
   "source": [
    "# SGD: Stochastic Gradient Descent\n",
    "\n",
    "sc = SGDClassifier(loss ='log_loss', max_iter=10, random_state=42)\n",
    "sc.fit(train_scaled, train_target)\n",
    "\n",
    "print(sc.score(train_scaled, train_target))\n",
    "print(sc.score(test_scaled, test_target))"
   ]
  },
  {
   "cell_type": "markdown",
   "id": "00c5615d-c85c-46d5-ab35-3979dc24963a",
   "metadata": {},
   "source": [
    "- 'hinge': 서포트 벡터 머신(SVM)에서 사용하는 손실 함수, 이진 분류.\n",
    "- 'log'/'log_loss': 로지스틱 회귀, 확률 기반 예측 (이진/다중 클래스 분류).\n",
    "- 'perceptron': 퍼셉트론 알고리즘, 간단한 선형 분류.\n",
    "- 'squared_hinge': 제곱 힌지 손실, SVM 강화.\n",
    "- 'modified_huber': 허브 손실을 변형한 것으로, robust한 성질을 가짐.\n",
    "- 'kullback_leibler': 확률 분포 간의 차이를 측정.\n",
    "- 'squared_error': 회귀 문제에서 사용되는 손실 함수.\n",
    "\n",
    "\n",
    "손실 함수(loss function)\n",
    "- 모델이 예측한 값과 실제 정답 간의 차이를 수치적으로 나타내는 함수\n",
    "- 모델이 얼마나 잘못 예측했는지 또는 얼마나 잘 예측했는지를 계산하는 평가지표입니다. \n",
    "- 손실 함수의 값은 오차를 측정"
   ]
  },
  {
   "cell_type": "code",
   "execution_count": 15,
   "id": "c0d78f07-11ee-4612-89d9-d03b17c35fb6",
   "metadata": {},
   "outputs": [
    {
     "name": "stdout",
     "output_type": "stream",
     "text": [
      "0.8151260504201681\n",
      "0.85\n"
     ]
    }
   ],
   "source": [
    "sc.partial_fit(train_scaled, train_target)\n",
    "print(sc.score(train_scaled, train_target))\n",
    "print(sc.score(test_scaled, test_target))"
   ]
  },
  {
   "cell_type": "markdown",
   "id": "90a37295-d2e3-4df2-b841-2c05a27c6abf",
   "metadata": {},
   "source": [
    "## 에포크와 과대/과소 적합"
   ]
  },
  {
   "cell_type": "markdown",
   "id": "730929c4-a4ef-4939-9401-5f4d0219bd25",
   "metadata": {},
   "source": [
    "### 요약\n",
    "| 개념             | 배치 (Batch)                                  | 에포크 (Epoch)                               |\n",
    "|------------------|-----------------------------------------------|--------------------------------------------|\n",
    "| **설명**         | 한 번에 처리할 훈련 데이터의 **양** (배치 크기)      | 훈련 데이터셋을 **몇 번 반복**할 것인지의 횟수         |\n",
    "| **학습**         | 한 번에 처리할 데이터 수 (배치 크기만큼 처리)           | 전체 데이터셋을 **반복하여 학습**하는 횟수             |\n",
    "| **업데이트**     | 배치마다 **한 번**의 모델 업데이트                | 에포크마다 **전체 데이터**를 한 번 학습하고 모델을 업데이트 |\n",
    "| **예시**         | 배치 크기 100: 한 번에 100개씩 처리                | 10 에포크: 전체 데이터를 10번 반복하여 학습         |"
   ]
  },
  {
   "cell_type": "code",
   "execution_count": 20,
   "id": "f769eaeb-e55f-4ea0-9e79-84a331608d39",
   "metadata": {},
   "outputs": [],
   "source": [
    "sc = SGDClassifier(loss ='log_loss', random_state=42)\n",
    "\n",
    "train_score = []\n",
    "test_score = []\n",
    "\n",
    "classes = np.unique(train_target)"
   ]
  },
  {
   "cell_type": "code",
   "execution_count": 22,
   "id": "d80566e5-37ae-4005-99fa-0cb8bf6c5adf",
   "metadata": {},
   "outputs": [],
   "source": [
    "for _ in range(0, 300):\n",
    "    # partial_fit() :  데이터를 한 번에 모두 학습하는 것이 아니라 점진적으로 학습\n",
    "    # 이 함수는 미니배치 학습(mini-batch learning)을 지원\n",
    "    sc.partial_fit(train_scaled, train_target, classes = classes)\n",
    "    train_score.append(sc.score(train_scaled, train_target))\n",
    "    test_score.append(sc.score(test_scaled, test_target))"
   ]
  },
  {
   "cell_type": "code",
   "execution_count": 43,
   "id": "0af17797-efd7-468a-a65f-e5b4d3042add",
   "metadata": {},
   "outputs": [
    {
     "data": {
      "image/png": "[encoded data removed]",
      "text/plain": [
       "<Figure size 640x480 with 1 Axes>"
      ]
     },
     "metadata": {},
     "output_type": "display_data"
    }
   ],
   "source": [
    "plt.plot(train_score, label = \"train\")\n",
    "plt.plot(test_score, label = \"test\")\n",
    "plt.legend()\n",
    "plt.show()"
   ]
  },
  {
   "cell_type": "code",
   "execution_count": 26,
   "id": "a464ade9-3879-4967-9381-dfa0f7473fd0",
   "metadata": {},
   "outputs": [
    {
     "name": "stdout",
     "output_type": "stream",
     "text": [
      "0.957983193277311\n",
      "0.925\n"
     ]
    }
   ],
   "source": [
    "sc = SGDClassifier(loss ='log_loss', max_iter=100, tol= None, random_state=42)\n",
    "sc.fit(train_scaled, train_target)\n",
    "\n",
    "print(sc.score(train_scaled, train_target))\n",
    "print(sc.score(test_scaled, test_target))"
   ]
  },
  {
   "cell_type": "code",
   "execution_count": 28,
   "id": "c40f10d4-1b8e-414c-b79e-d1da16af4c4f",
   "metadata": {},
   "outputs": [
    {
     "name": "stdout",
     "output_type": "stream",
     "text": [
      "0.9495798319327731\n",
      "0.925\n"
     ]
    }
   ],
   "source": [
    "sc = SGDClassifier(loss ='hinge', max_iter=100, tol= None, random_state=42)\n",
    "sc.fit(train_scaled, train_target)\n",
    "\n",
    "print(sc.score(train_scaled, train_target))\n",
    "print(sc.score(test_scaled, test_target))"
   ]
  },
  {
   "cell_type": "markdown",
   "id": "a75e1c19-3f26-4390-9d01-178750512179",
   "metadata": {},
   "source": [
    "| **항목**              | **코드 1 (`log_loss`, `max_iter=10`, `partial_fit`)**  | **코드 2 (`log_loss`, `max_iter=100`, `tol=None`)** | **코드 3 (`hinge`, `max_iter=100`, `tol=None`)**  |\r\n",
    "|-----------------------|-------------------------------------------------------|---------------------------------------------------|--------------------------------------------------|\r\n",
    "| **손실 함수 (loss)**    | `log_loss` (로지스틱 회귀)                             | `log_loss` (로지스틱 회귀)                         | `hinge` (서포트 벡터 머신)                        |\r\n",
    "| **최대 반복 횟수**      | 10                                                    | 100                                               | 100                                              |\r\n",
    "| **수렴 기준 (`tol`)**   | 없음 (학습을 10번만 진행)                              | 없음 (수렴 기준 없음)                             | 없음 (수렴 기준 없음)                            |\r\n",
    "| **학습 방법**          | 한 번 학습 후 `partial_fit`으로 점진적 학습             | 전체 데이터를 한 번에 학습                         | 전체 데이터를 한 번에 학습                        |\r\n",
    "| **모델 특성**           | **확률적 예측**을 목표로 학습 (로지스틱 회귀)            | **확률적 예측**을 목표로 학습 (로지스틱 회귀)        | **결정 경계**를 최대화하려는 학습 (SVM)            |\r\n"
   ]
  }
 ],
 "metadata": {
  "kernelspec": {
   "display_name": "Python 3 (ipykernel)",
   "language": "python",
   "name": "python3"
  },
  "language_info": {
   "codemirror_mode": {
    "name": "ipython",
    "version": 3
   },
   "file_extension": ".py",
   "mimetype": "text/x-python",
   "name": "python",
   "nbconvert_exporter": "python",
   "pygments_lexer": "ipython3",
   "version": "3.12.4"
  }
 },
 "nbformat": 4,
 "nbformat_minor": 5
}
