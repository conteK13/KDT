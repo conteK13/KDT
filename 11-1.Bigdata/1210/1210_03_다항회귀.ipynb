{
 "cells": [
  {
   "cell_type": "code",
   "execution_count": 82,
   "id": "d0c1355d-f710-496f-8a98-2015ff297fc4",
   "metadata": {},
   "outputs": [],
   "source": [
    "from sklearn.model_selection import train_test_split\n",
    "from sklearn.preprocessing import PolynomialFeatures\n",
    "from sklearn.preprocessing import StandardScaler\n",
    "from sklearn.linear_model import LinearRegression\n",
    "from sklearn.linear_model import Ridge\n",
    "from sklearn.linear_model import Lasso\n",
    "import matplotlib.pyplot as plt\n",
    "import pandas as pd\n",
    "import numpy as np"
   ]
  },
  {
   "cell_type": "code",
   "execution_count": 5,
   "id": "cb3f4b6b-de8e-48fb-8ade-bc6a2367a81f",
   "metadata": {},
   "outputs": [
    {
     "name": "stdout",
     "output_type": "stream",
     "text": [
      "[[ 8.4   2.11  1.41]\n",
      " [13.7   3.53  2.  ]\n",
      " [15.    3.82  2.43]\n",
      " [16.2   4.59  2.63]\n",
      " [17.4   4.59  2.94]\n",
      " [18.    5.22  3.32]\n",
      " [18.7   5.2   3.12]\n",
      " [19.    5.64  3.05]\n",
      " [19.6   5.14  3.04]\n",
      " [20.    5.08  2.77]\n",
      " [21.    5.69  3.56]\n",
      " [21.    5.92  3.31]\n",
      " [21.    5.69  3.67]\n",
      " [21.3   6.38  3.53]\n",
      " [22.    6.11  3.41]\n",
      " [22.    5.64  3.52]\n",
      " [22.    6.11  3.52]\n",
      " [22.    5.88  3.52]\n",
      " [22.    5.52  4.  ]\n",
      " [22.5   5.86  3.62]\n",
      " [22.5   6.79  3.62]\n",
      " [22.7   5.95  3.63]\n",
      " [23.    5.22  3.63]\n",
      " [23.5   6.28  3.72]\n",
      " [24.    7.29  3.72]\n",
      " [24.    6.38  3.82]\n",
      " [24.6   6.73  4.17]\n",
      " [25.    6.44  3.68]\n",
      " [25.6   6.56  4.24]\n",
      " [26.5   7.17  4.14]\n",
      " [27.3   8.32  5.14]\n",
      " [27.5   7.17  4.34]\n",
      " [27.5   7.05  4.34]\n",
      " [27.5   7.28  4.57]\n",
      " [28.    7.82  4.2 ]\n",
      " [28.7   7.59  4.64]\n",
      " [30.    7.62  4.77]\n",
      " [32.8  10.03  6.02]\n",
      " [34.5  10.26  6.39]\n",
      " [35.   11.49  7.8 ]\n",
      " [36.5  10.88  6.86]\n",
      " [36.   10.61  6.74]\n",
      " [37.   10.84  6.26]\n",
      " [37.   10.57  6.37]\n",
      " [39.   11.14  7.49]\n",
      " [39.   11.14  6.  ]\n",
      " [39.   12.43  7.35]\n",
      " [40.   11.93  7.11]\n",
      " [40.   11.73  7.22]\n",
      " [40.   12.38  7.46]\n",
      " [40.   11.14  6.63]\n",
      " [42.   12.8   6.87]\n",
      " [43.   11.93  7.28]\n",
      " [43.   12.51  7.42]\n",
      " [43.5  12.6   8.14]\n",
      " [44.   12.49  7.6 ]]\n"
     ]
    }
   ],
   "source": [
    "df = pd.read_csv('https://bit.ly/perch_csv')\n",
    "perch_full = df.to_numpy()\n",
    "print(perch_full)"
   ]
  },
  {
   "cell_type": "code",
   "execution_count": 11,
   "id": "797b3d3c-64cb-4cbf-bbb1-c0e844615a2d",
   "metadata": {},
   "outputs": [],
   "source": [
    "perch_weight = np.array(\n",
    "    [5.9, 32.0, 40.0, 51.5, 70.0, 100.0, 78.0, 80.0, 85.0, 85.0, \n",
    "     110.0, 115.0, 125.0, 130.0, 120.0, 120.0, 130.0, 135.0, 110.0, \n",
    "     130.0, 150.0, 145.0, 150.0, 170.0, 225.0, 145.0, 188.0, 180.0, \n",
    "     197.0, 218.0, 300.0, 260.0, 265.0, 250.0, 250.0, 300.0, 320.0, \n",
    "     514.0, 556.0, 840.0, 685.0, 700.0, 700.0, 690.0, 900.0, 650.0, \n",
    "     820.0, 850.0, 900.0, 1015.0, 820.0, 1100.0, 1000.0, 1100.0, \n",
    "     1000.0, 1000.0]\n",
    "     )"
   ]
  },
  {
   "cell_type": "code",
   "execution_count": 15,
   "id": "d7673d0b-2885-44ed-8a8c-7dd90c0ecc65",
   "metadata": {},
   "outputs": [],
   "source": [
    "train_input, test_input, train_target, test_target = train_test_split(perch_full, perch_weight, random_state=42)"
   ]
  },
  {
   "cell_type": "markdown",
   "id": "923c9963-841d-46cb-b32c-649a2c116874",
   "metadata": {},
   "source": [
    "# 사이킷런 변환기"
   ]
  },
  {
   "cell_type": "code",
   "execution_count": 20,
   "id": "9c354c53-338e-43f6-8b4a-0b757d72d85b",
   "metadata": {},
   "outputs": [
    {
     "name": "stdout",
     "output_type": "stream",
     "text": [
      "[[1. 2. 3. 4. 6. 9.]]\n"
     ]
    }
   ],
   "source": [
    "# 다항식으로 변환\n",
    "poly = PolynomialFeatures()\n",
    "poly.fit([[2, 3]])\n",
    "print(poly.transform([[2, 3]]))\n",
    "\n",
    "# 1 (상수항)\n",
    "# 2 (첫 번째 특성 x1)\n",
    "# 3 (두 번째 특성 x2)\n",
    "# 4 (첫 번째 특성의 제곱 x1^2)\n",
    "# 6 (두 특성의 곱 x1 * x2)\n",
    "# 9 (두 번째 특성의 제곱 x2^2)"
   ]
  },
  {
   "cell_type": "code",
   "execution_count": 22,
   "id": "3be239c8-7f4d-4d86-ad3e-0f74218b38e5",
   "metadata": {},
   "outputs": [
    {
     "name": "stdout",
     "output_type": "stream",
     "text": [
      "[[2. 3. 4. 6. 9.]]\n"
     ]
    }
   ],
   "source": [
    "# include_bias : 상수항(0차 항)을 포함할지 여부\n",
    "# include_bias = False 상수항을 비포함 하겠다는 의미\n",
    "# 변환된 특성에서는 항상 1이 포함. 주로 모델링에서 절편의 역할을 함\n",
    "\n",
    "poly = PolynomialFeatures(include_bias = False)\n",
    "poly.fit([[2, 3]])\n",
    "print(poly.transform([[2, 3]]))"
   ]
  },
  {
   "cell_type": "code",
   "execution_count": 24,
   "id": "c3c57346-1a7d-4c53-9a6f-ba87e0daac28",
   "metadata": {},
   "outputs": [
    {
     "name": "stdout",
     "output_type": "stream",
     "text": [
      "(42, 9)\n"
     ]
    }
   ],
   "source": [
    "poly = PolynomialFeatures(include_bias = False)\n",
    "\n",
    "poly.fit(train_input)\n",
    "train_poly = poly.transform(train_input)\n",
    "print(train_poly.shape)"
   ]
  },
  {
   "cell_type": "code",
   "execution_count": 30,
   "id": "bc548894-890d-44db-b33d-bfbeb437fb6e",
   "metadata": {},
   "outputs": [
    {
     "data": {
      "text/plain": [
       "array(['x0', 'x1', 'x2', 'x0^2', 'x0 x1', 'x0 x2', 'x1^2', 'x1 x2',\n",
       "       'x2^2'], dtype=object)"
      ]
     },
     "execution_count": 30,
     "metadata": {},
     "output_type": "execute_result"
    }
   ],
   "source": [
    "# 다항식 변환된 특성들의 이름을 반환\n",
    "poly.get_feature_names_out()\n",
    "\n",
    "# get_feature_names()는 PolynomialFeatures 객체의 이전 버전에서는 존재했지만, scikit-learn 0.24 이후 버전에서는 지원 X"
   ]
  },
  {
   "cell_type": "markdown",
   "id": "4a922c53-6635-4dd4-98c8-0608e882c155",
   "metadata": {},
   "source": [
    "각 항목의 의미:\n",
    "- x0, x1, x2:\n",
    "    - **x0**는 첫 번째 특성(원본 데이터의 첫 번째 열)을 의미합니다.\n",
    "    - **x1**은 두 번째 특성, **x2**은 세 번째 특성을 나타냅니다.\n",
    "\n",
    "- x0^2, x1^2, x2^2:\n",
    "    - 각 특성의 제곱을 나타냅니다.\n",
    "    - 즉, x0^2는 첫 번째 특성의 제곱을 의미\n",
    "    - 마찬가지로 x1^2는 두 번째 특성의 제곱\n",
    "    - x2^2는 세 번째 특성의 제곱\n",
    "\n",
    "- x0 x1, x0 x2, x1 x2:\n",
    "    - 이는 각 특성 간의 곱을 나타냅니다.\n",
    "    - **x0 x1**은 첫 번째 특성과 두 번째 특성의 곱을 나타냅니다.\n",
    "    - **x0 x2**는 첫 번째 특성과 세 번째 특성의 곱.\n",
    "    - **x1 x2**는 두 번째 특성과 세 번째 특성의 곱을 나타냅니다."
   ]
  },
  {
   "cell_type": "code",
   "execution_count": 32,
   "id": "98c3b2dc-63e6-4892-acb1-6da9f786fc47",
   "metadata": {},
   "outputs": [],
   "source": [
    "# 테스트 데이터(test_input)를 다항식 변환하는 작업\n",
    "# 훈련 데이터에 대해 학습된 PolynomialFeatures를 사용하여 테스트 데이터의 특성들을 다항식 특성으로 변환\n",
    "\n",
    "test_poly = poly.transform(test_input)"
   ]
  },
  {
   "cell_type": "markdown",
   "id": "44d8928c-1f68-4b35-8230-5e025ce03f36",
   "metadata": {},
   "source": [
    "# 다중 회귀 모델 훈련하기"
   ]
  },
  {
   "cell_type": "code",
   "execution_count": 39,
   "id": "9d60b37a-dde0-407f-9a1f-d1d050371125",
   "metadata": {},
   "outputs": [
    {
     "name": "stdout",
     "output_type": "stream",
     "text": [
      "0.9903183436982125\n"
     ]
    }
   ],
   "source": [
    "lr = LinearRegression()\n",
    "\n",
    "lr.fit(train_poly, train_target)\n",
    "print(lr.score(train_poly, train_target))"
   ]
  },
  {
   "cell_type": "code",
   "execution_count": 41,
   "id": "406bbc1e-eb3e-4981-bf14-f2ab81ebb76b",
   "metadata": {},
   "outputs": [
    {
     "name": "stdout",
     "output_type": "stream",
     "text": [
      "0.9714559911594155\n"
     ]
    }
   ],
   "source": [
    "print(lr.score(test_poly, test_target))"
   ]
  },
  {
   "cell_type": "code",
   "execution_count": 49,
   "id": "82286fe4-f5dd-4c62-9f3b-d6ec54296fc0",
   "metadata": {},
   "outputs": [],
   "source": [
    "poly = PolynomialFeatures(degree=5, include_bias = False)\n",
    "# *degree=5**로 설정하였지만, train_input에 3개 특성만 있기 때문에 최대 2차 항만 생성\n",
    "# 만약 입력 특성이 3개 이상이면 3차, 4차, 5차 특성도 생성됩니다.\n",
    "\n",
    "poly.fit(train_input)\n",
    "train_poly=poly.transform(train_input)\n",
    "test_poly=poly.transform(test_input)"
   ]
  },
  {
   "cell_type": "code",
   "execution_count": 53,
   "id": "c99c8f50-4fc8-4af9-b668-64da2a13236a",
   "metadata": {},
   "outputs": [
    {
     "name": "stdout",
     "output_type": "stream",
     "text": [
      "(42, 55)\n"
     ]
    }
   ],
   "source": [
    "print(train_poly.shape)"
   ]
  },
  {
   "cell_type": "code",
   "execution_count": 55,
   "id": "c8b329df-7690-4cdb-9eaf-cb46f28e5ac4",
   "metadata": {},
   "outputs": [
    {
     "name": "stdout",
     "output_type": "stream",
     "text": [
      "0.9999999999938143\n"
     ]
    }
   ],
   "source": [
    "lr.fit(train_poly, train_target)\n",
    "print(lr.score(train_poly, train_target))"
   ]
  },
  {
   "cell_type": "code",
   "execution_count": 57,
   "id": "4b73a00f-4348-45d7-8e44-e8e3e347d08e",
   "metadata": {},
   "outputs": [
    {
     "name": "stdout",
     "output_type": "stream",
     "text": [
      "-144.40744532797535\n"
     ]
    }
   ],
   "source": [
    "print(lr.score(test_poly, test_target))"
   ]
  },
  {
   "cell_type": "markdown",
   "id": "b8fa1c7d-fdf7-4b0d-882c-5f628c78076e",
   "metadata": {},
   "source": [
    "훈련데이터의 score 값을 보면 과대적합의 가능성이 매우 높음"
   ]
  },
  {
   "cell_type": "markdown",
   "id": "689fb4fa-7d6e-45c3-9c21-e391d20a21bc",
   "metadata": {},
   "source": [
    "# 규제"
   ]
  },
  {
   "cell_type": "code",
   "execution_count": 63,
   "id": "f78c7589-6d45-46b2-b160-92f6b3873ceb",
   "metadata": {},
   "outputs": [],
   "source": [
    "ss = StandardScaler()\n",
    "ss.fit(train_poly)\n",
    "\n",
    "train_scaled = ss.transform(train_poly)\n",
    "test_scaled = ss.transform(test_poly)"
   ]
  },
  {
   "cell_type": "markdown",
   "id": "db6652bc-b6e3-4e92-8432-f561009a99a3",
   "metadata": {},
   "source": [
    "### 데이터 표준화 과정\n",
    "- 규제 및 모델의 성능 향상을 위해 사용.\n",
    "- 훈련 데이터와 테스트 데이터의 특성을 표준화\n",
    "- 데이터의 비대칭 문제 해결\n",
    "\n",
    "### 평균을 0, 표준편차를 1로 변환하는 작업\n",
    "- 평균 0 : 음수와 양수가 모두 존재\n",
    "- 표준편차 1 : 평균을 중심으로 약 68%**가 -1과 1 사이에 위치하게 됩니다. 정규분포(또는 가우시안 분포)의 특성\n",
    "    - 68%의 데이터가 평균을 중심으로 -1과 1 사이에 위치 (정규분포에서 1표준편차 내에 포함되는 비율)\n",
    "    - 95%의 데이터가 평균을 기준으로 -2와 2 사이에 위치 (정규분포에서 2표준편차 내에 포함되는 비율)\n",
    "    - 99.7%의 데이터가 평균을 기준으로 -3과 3 사이에 위치 (정규분포에서 3표준편차 내에 포함되는 비율)"
   ]
  },
  {
   "cell_type": "markdown",
   "id": "4f913544-2318-4a08-9c4c-3ed5bdc5dc59",
   "metadata": {},
   "source": [
    "# 릿지"
   ]
  },
  {
   "cell_type": "code",
   "execution_count": 105,
   "id": "da1faebd-8268-4b37-8258-00c9ff0b6f78",
   "metadata": {},
   "outputs": [
    {
     "name": "stdout",
     "output_type": "stream",
     "text": [
      "0.9896101671037343\n"
     ]
    }
   ],
   "source": [
    "ridge =Ridge()\n",
    "ridge.fit(train_scaled, train_target)\n",
    "print(ridge.score(train_scaled, train_target))"
   ]
  },
  {
   "cell_type": "code",
   "execution_count": 107,
   "id": "f81156c7-01da-4639-8881-32f4e2528819",
   "metadata": {},
   "outputs": [
    {
     "name": "stdout",
     "output_type": "stream",
     "text": [
      "0.9790693977615386\n"
     ]
    }
   ],
   "source": [
    "print(ridge.score(test_scaled, test_target))"
   ]
  },
  {
   "cell_type": "code",
   "execution_count": 109,
   "id": "b62841a0-05e9-43b3-9a7a-dc27f38a5548",
   "metadata": {},
   "outputs": [],
   "source": [
    "train_score = []\n",
    "test_score = []\n",
    "\n",
    "# 규제의 강도를 결정하는 파라미터\n",
    "alpha_list = [0.001, 0.01, 0.1, 1, 10, 100]\n",
    "\n",
    "# 간격이 가장 좁은 곳을 보기 위해 반복문을 실행\n",
    "for alpha in alpha_list:\n",
    "    ridge= Ridge(alpha=alpha)\n",
    "    ridge.fit(train_scaled, train_target)\n",
    "    train_score.append(ridge.score(train_scaled, train_target))\n",
    "    test_score.append(ridge.score(test_scaled, test_target))"
   ]
  },
  {
   "cell_type": "code",
   "execution_count": 115,
   "id": "375bd33f-b349-4533-8f96-8403e901482f",
   "metadata": {},
   "outputs": [
    {
     "data": {
      "image/png": "[encoded data removed]",
      "text/plain": [
       "<Figure size 640x480 with 1 Axes>"
      ]
     },
     "metadata": {},
     "output_type": "display_data"
    }
   ],
   "source": [
    "# plt.plot(np.log10(alpha_list), train_score, label=\"train\")\n",
    "# plt.plot(np.log10(alpha_list), test_score, label=\"test\")\n",
    "plt.plot(alpha_list, train_score, label=\"train\")\n",
    "plt.plot(alpha_list, test_score, label=\"test\")\n",
    "plt.xscale('log')\n",
    "plt.xlabel('Alpha')\n",
    "plt.legend()\n",
    "plt.show()\n",
    "\n",
    "# x축은 alpha_list의 log값이 출력됨."
   ]
  },
  {
   "cell_type": "code",
   "execution_count": 77,
   "id": "d89fb2b3-d331-4e31-a666-44ba37825d04",
   "metadata": {},
   "outputs": [
    {
     "name": "stdout",
     "output_type": "stream",
     "text": [
      "0.9903815817570368\n",
      "0.9827976465386896\n"
     ]
    }
   ],
   "source": [
    "ridge = Ridge(alpha=0.1) # 10**-1\n",
    "ridge.fit(train_scaled, train_target)\n",
    "\n",
    "print(ridge.score(train_scaled, train_target))\n",
    "print(ridge.score(test_scaled, test_target))"
   ]
  },
  {
   "cell_type": "markdown",
   "id": "af778ed6-1a15-447c-b61c-b578ca0c46f4",
   "metadata": {},
   "source": [
    "# 라쏘"
   ]
  },
  {
   "cell_type": "code",
   "execution_count": 117,
   "id": "c541c191-af49-4fea-aacd-05e8f1189951",
   "metadata": {},
   "outputs": [
    {
     "name": "stdout",
     "output_type": "stream",
     "text": [
      "0.989789897208096\n"
     ]
    }
   ],
   "source": [
    "lasso = Lasso()\n",
    "lasso.fit(train_scaled, train_target)\n",
    "print(lasso.score(train_scaled, train_target))"
   ]
  },
  {
   "cell_type": "code",
   "execution_count": 119,
   "id": "0798e9e3-b5e6-44b2-9ad6-75e72b675c5a",
   "metadata": {},
   "outputs": [
    {
     "name": "stdout",
     "output_type": "stream",
     "text": [
      "0.9800593698421884\n"
     ]
    }
   ],
   "source": [
    "print(lasso.score(test_scaled, test_target))"
   ]
  },
  {
   "cell_type": "code",
   "execution_count": 150,
   "id": "b9befc53-96be-4cac-91d9-3564d64c4872",
   "metadata": {},
   "outputs": [
    {
     "name": "stderr",
     "output_type": "stream",
     "text": [
      "C:\\Users\\user\\anaconda3\\Lib\\site-packages\\sklearn\\linear_model\\_coordinate_descent.py:678: ConvergenceWarning: Objective did not converge. You might want to increase the number of iterations, check the scale of the features or consider increasing regularisation. Duality gap: 1.878e+04, tolerance: 5.183e+02\n",
      "  model = cd_fast.enet_coordinate_descent(\n",
      "C:\\Users\\user\\anaconda3\\Lib\\site-packages\\sklearn\\linear_model\\_coordinate_descent.py:678: ConvergenceWarning: Objective did not converge. You might want to increase the number of iterations, check the scale of the features or consider increasing regularisation. Duality gap: 1.297e+04, tolerance: 5.183e+02\n",
      "  model = cd_fast.enet_coordinate_descent(\n"
     ]
    }
   ],
   "source": [
    "train_score = []\n",
    "test_score = []\n",
    "\n",
    "# 수렴을 위한 max_iter의 값을 변경하면, 최종적으로 수렴하면서 경고문이 뜨지 않음.\n",
    "# 10,000,000 으로 바꿔도 안되는 건 안되는 구만\n",
    "alpha_list = [0.001, 0.01, 0.1, 1, 10, 100]\n",
    "for alpha in alpha_list:\n",
    "    lasso= Lasso(alpha=alpha, max_iter=10000)\n",
    "    lasso.fit(train_scaled, train_target)\n",
    "    train_score.append(lasso.score(train_scaled, train_target))\n",
    "    test_score.append(lasso.score(test_scaled, test_target))"
   ]
  },
  {
   "cell_type": "code",
   "execution_count": 152,
   "id": "0f64721f-5d20-494c-bab7-6c8acab96345",
   "metadata": {},
   "outputs": [
    {
     "data": {
      "image/png": "[encoded data removed]",
      "text/plain": [
       "<Figure size 640x480 with 1 Axes>"
      ]
     },
     "metadata": {},
     "output_type": "display_data"
    }
   ],
   "source": [
    "# plt.plot(np.log10(alpha_list), train_score, label=\"train\")\n",
    "# plt.plot(np.log10(alpha_list), test_score, label=\"test\")\n",
    "plt.plot(alpha_list, train_score, label=\"train\")\n",
    "plt.plot(alpha_list, test_score, label=\"test\")\n",
    "plt.xscale('log')\n",
    "plt.xlabel('Alpha')\n",
    "plt.legend()\n",
    "plt.show()\n",
    "\n",
    "# x축은 alpha_list의 log값이 출력됨."
   ]
  },
  {
   "cell_type": "code",
   "execution_count": 127,
   "id": "e2946f06-a7cf-42c4-856e-6db50bd2529d",
   "metadata": {},
   "outputs": [
    {
     "name": "stdout",
     "output_type": "stream",
     "text": [
      "0.9888067471131867\n",
      "0.9824470598706695\n"
     ]
    }
   ],
   "source": [
    "lasso = Lasso(alpha=10)\n",
    "lasso.fit(train_scaled, train_target)\n",
    "\n",
    "print(lasso.score(train_scaled, train_target))\n",
    "print(lasso.score(test_scaled, test_target))"
   ]
  },
  {
   "cell_type": "code",
   "execution_count": 129,
   "id": "aae820c1-0051-4c45-8787-cf6aa565d729",
   "metadata": {},
   "outputs": [
    {
     "name": "stdout",
     "output_type": "stream",
     "text": [
      "40\n"
     ]
    }
   ],
   "source": [
    "print(np.sum(lasso.coef_ ==0))\n",
    "\n",
    "# Lasso 회귀에서 규제에 의해 계수가 0이 된 특징들의 개수를 출력"
   ]
  },
  {
   "cell_type": "code",
   "execution_count": 131,
   "id": "c46c9ff1-ad90-4202-bb40-67638f74ee88",
   "metadata": {},
   "outputs": [
    {
     "name": "stdout",
     "output_type": "stream",
     "text": [
      "선택되지 않은 특성의 개수: 40\n",
      "선택된 특성의 개수: 15\n"
     ]
    }
   ],
   "source": [
    "# 전체 특성의 개수\n",
    "total_features = lasso.coef_.shape[0]\n",
    "\n",
    "# 선택되지 않은 특성의 개수 = 전체 특성 - 0인 특성\n",
    "non_selected_features = np.sum(lasso.coef_ == 0)\n",
    "\n",
    "# 선택된 특성의 개수\n",
    "selected_features = total_features - non_selected_features\n",
    "\n",
    "print(f\"선택되지 않은 특성의 개수: {non_selected_features}\")\n",
    "print(f\"선택된 특성의 개수: {selected_features}\")"
   ]
  },
  {
   "cell_type": "code",
   "execution_count": 139,
   "id": "90388893-9cb5-42a5-a1b5-cf555d493ff2",
   "metadata": {},
   "outputs": [
    {
     "name": "stdout",
     "output_type": "stream",
     "text": [
      "55\n"
     ]
    }
   ],
   "source": [
    "train_input.shape\n",
    "print(lasso.coef_.shape[0])"
   ]
  },
  {
   "cell_type": "markdown",
   "id": "c658fb96-3e63-47a0-9d87-4fcab8dbac19",
   "metadata": {},
   "source": [
    "특성의 수는 다음의 식에 따름\n",
    "\n",
    "특성개수 = (m+d)! / (m!d!)\n",
    "여기서 m은 원본 특성의 수\n",
    "d는 다항식의 차의 수(degree=5 로 설정했음)\n",
    "\n",
    "이러면 lasso.coef_.shape[0]는 56이어야 하지만,\n",
    "include_bias = False로 설정하면서, 1개의 특성이 사라짐.\n",
    "\n",
    "\n",
    "coef는 회귀계수(Coefficient)의 약자\n",
    "non_selected_features의 값이 적을 수록 좋음(학습한 값들이 유의미한 데이터라는 의미)"
   ]
  }
 ],
 "metadata": {
  "kernelspec": {
   "display_name": "Python 3 (ipykernel)",
   "language": "python",
   "name": "python3"
  },
  "language_info": {
   "codemirror_mode": {
    "name": "ipython",
    "version": 3
   },
   "file_extension": ".py",
   "mimetype": "text/x-python",
   "name": "python",
   "nbconvert_exporter": "python",
   "pygments_lexer": "ipython3",
   "version": "3.12.4"
  }
 },
 "nbformat": 4,
 "nbformat_minor": 5
}
