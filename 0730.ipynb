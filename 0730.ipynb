{
 "cells": [
  {
   "cell_type": "code",
   "execution_count": 42,
   "id": "316705f3-758d-4a22-a413-faeef2b3a657",
   "metadata": {},
   "outputs": [
    {
     "name": "stdout",
     "output_type": "stream",
     "text": [
      "['김소영 82 80 93 97 93 88\\n', '정예린 86 100 93 86 90 77\\n', '이세영 91 88 99 79 92 68\\n', '정수정 86 100 93 89 92 93\\n', '박지수 80 100 95 89 90 84']\n",
      "\n",
      "김소영 82 80 93 97 93 88\n",
      "\n",
      "정예린 86 100 93 86 90 77\n",
      "\n",
      "이세영 91 88 99 79 92 68\n",
      "\n",
      "정수정 86 100 93 89 92 93\n",
      "\n",
      "박지수 80 100 95 89 90 84\n",
      "\n",
      "\n",
      "\n",
      "scores.txt 파일의 내용 : \n",
      "김소영 82 80 93 97 93 88\n",
      "정예린 86 100 93 86 90 77\n",
      "이세영 91 88 99 79 92 68\n",
      "정수정 86 100 93 89 92 93\n",
      "박지수 80 100 95 89 90 84"
     ]
    }
   ],
   "source": [
    "file = open('scores.txt', 'r', encoding='utf8')   #open(open할 파일 이름, 파일모드, encoding)\n",
    "\n",
    "lines = file.readlines()    #전체 결과는 list이고, 그 list안엔 문자열로 저장된다\n",
    "\n",
    "#-------------------(추가부분)\n",
    "print(lines)\n",
    "print()\n",
    "for i in range(len(lines)):\n",
    "    print(lines[i])\n",
    "print('\\n\\n')\n",
    "#----------------------\n",
    "\n",
    "#print(type(lines))       #result : list\n",
    "print('scores.txt 파일의 내용 : ')\n",
    "for line in lines :\n",
    "    #print(line)\n",
    "    #print(type(line))    #result : str\n",
    "    print(line, end='')   #해당 문자열에 \\n이 포함 되어 있어서 end=''를 해도 엔터되는 것처럼 보임\n",
    "\n",
    "file.close()"
   ]
  },
  {
   "cell_type": "code",
   "execution_count": 44,
   "id": "ce689983-a9d4-47e3-a6a6-5f15f1c17493",
   "metadata": {},
   "outputs": [
    {
     "name": "stdout",
     "output_type": "stream",
     "text": [
      "sample.txt 파일 쓰기 완료!\n"
     ]
    }
   ],
   "source": [
    "file = open('sample.txt', 'w', encoding='utf8')\n",
    "file.write('안녕하세요. 반갑습니다.')\n",
    "file.close()\n",
    "print('sample.txt 파일 쓰기 완료!')"
   ]
  },
  {
   "cell_type": "code",
   "execution_count": 46,
   "id": "75b48b9c-5f87-4f8b-a995-75aa6cd1ff8a",
   "metadata": {},
   "outputs": [
    {
     "name": "stdout",
     "output_type": "stream",
     "text": [
      "김소영 82 80 93 97 93 88\n",
      "정예린 86 100 93 86 90 77\n",
      "이세영 91 88 99 79 92 68\n",
      "정수정 86 100 93 89 92 93\n",
      "박지수 80 100 95 89 90 84\n",
      "\n"
     ]
    }
   ],
   "source": [
    "scores = ['김소영 82 80 93 97 93 88',\n",
    "          '정예린 86 100 93 86 90 77',\n",
    "          '이세영 91 88 99 79 92 68',\n",
    "          '정수정 86 100 93 89 92 93',\n",
    "          '박지수 80 100 95 89 90 84']\n",
    "data = ''\n",
    "for item in scores :\n",
    "    data += item + '\\n'\n",
    "    \n",
    "# 화면 출력하기\n",
    "print(data)\n",
    "# 파일(scores.csv)에 저장하기\n",
    "file = open('scores.csv', 'w', encoding='utf8' )\n",
    "file.write(data)\n",
    "file.close()"
   ]
  },
  {
   "cell_type": "code",
   "execution_count": 64,
   "id": "5e4f2a09-18d6-4965-84d5-ae22e57ae0e3",
   "metadata": {},
   "outputs": [
    {
     "name": "stdout",
     "output_type": "stream",
     "text": [
      "scores.xls 작성 완료\n"
     ]
    }
   ],
   "source": [
    "file = open('scores.txt', 'r', encoding='utf8')   #open(open할 파일 이름, 파일모드, encoding)\n",
    "lines = file.readlines()    #전체 결과는 list이고, 그 list안엔 문자열로 저장된다\n",
    "\n",
    "data = ''\n",
    "for item in lines :\n",
    "    data += item\n",
    "\n",
    "# 파일(scores.xls)에 저장하기\n",
    "file = open('scores.xls', 'w', encoding='utf8' )\n",
    "#file에 scores.xls가 연결되며, scores.txt는 자동으로 연결이 끊김(close())\n",
    "\n",
    "file.write(data)\n",
    "file.close()\n",
    "print(\"scores.xls 작성 완료\")"
   ]
  },
  {
   "cell_type": "code",
   "execution_count": 84,
   "id": "95de09b7-e9b3-402d-9cb5-395b20089bf9",
   "metadata": {},
   "outputs": [
    {
     "name": "stdout",
     "output_type": "stream",
     "text": [
      "안녕하세요. 반갑습니다.\n",
      "동해물과 백두산이 마르고 닳도록\n",
      "하느님이 보우하사 우리나라 만세\n",
      "무궁화 삼천리 화려강산\n",
      "대한사람 대한으로 길이 보전하세\n",
      "\n",
      "남산 위에 저 소나무 철갑을 두른 듯\n",
      "바람 서리 불변함은 우리 기상일세\n",
      "\n",
      "가을 하늘 공활한데 높고 구름 없이\n",
      "밝은 달은 우리 가슴 일편단심일세\n",
      "\n",
      "이 기상과 이 맘으로 충성을 다하여\n",
      "괴로우나 즐거우나 나라 사랑하세\n",
      "sample.txt 추가 완료\n"
     ]
    }
   ],
   "source": [
    "#1. sample.txt파일에 korea.txt 파일의 내용을 추가한 후\n",
    "#   sample.txt 파일의 내용을 읽어서 화면에 출력하세요\n",
    "\n",
    "#korea 파일 열어서 읽기\n",
    "file = open('korea.txt', 'r', encoding='utf8')   \n",
    "lines_kor = file.readlines()\n",
    "file.close()\n",
    "\n",
    "#읽은 내용(list)을 str 형태로 바꾸기\n",
    "data = ''\n",
    "for item in lines_kor :\n",
    "    data += item\n",
    "data += '\\n' #가독성을 위해 마지막 문장에 줄바꿈 추가\n",
    "\n",
    "#sample.txt 열어서 추가하기\n",
    "file = open('sample.txt', 'a', encoding='utf8' )\n",
    "file.write(data)    #data를 sample.txt에 추가\n",
    "file.close()\n",
    "\n",
    "#sample.txt 읽기 모드로 열기\n",
    "file = open('sample.txt', 'r', encoding='utf8' )\n",
    "lines_sam = file.readlines()\n",
    "file.close()\n",
    "for line in lines_sam:\n",
    "    print(line, end = '')\n",
    "\n",
    "print(\"sample.txt 추가 완료\")"
   ]
  },
  {
   "cell_type": "code",
   "execution_count": 78,
   "id": "339d8cbc-0f67-44ce-9682-69161267be93",
   "metadata": {},
   "outputs": [
    {
     "name": "stdout",
     "output_type": "stream",
     "text": [
      "김소영 82 80 93 97 93 88\n",
      "정예린 86 100 93 86 90 77\n",
      "이세영 91 88 99 79 92 68\n",
      "정수정 86 100 93 89 92 93\n",
      "박지수 80 100 95 89 90 84\n",
      "동해물과 백두산이 마르고 닳도록\n",
      "하느님이 보우하사 우리나라 만세\n",
      "무궁화 삼천리 화려강산\n",
      "대한사람 대한으로 길이 보전하세\n",
      "\n",
      "남산 위에 저 소나무 철갑을 두른 듯\n",
      "바람 서리 불변함은 우리 기상일세\n",
      "\n",
      "가을 하늘 공활한데 높고 구름 없이\n",
      "밝은 달은 우리 가슴 일편단심일세\n",
      "\n",
      "이 기상과 이 맘으로 충성을 다하여\n",
      "괴로우나 즐거우나 나라 사랑하세\n",
      "scores.txt 추가 완료\n"
     ]
    }
   ],
   "source": [
    "#2. scores.txt파일에 korea.txt 파일의 내용을 추가하세요\n",
    "#   scores.txt 파일의 내용을 읽어서 화면에 출력하세요\n",
    "\n",
    "#korea 파일 열어서 읽기\n",
    "file = open('korea.txt', 'r', encoding='utf8')   \n",
    "lines_kor = file.readlines()\n",
    "\n",
    "#읽은 내용(list)을 str 형태로 바꾸기\n",
    "data = ''\n",
    "for item in lines_kor :\n",
    "    data += item\n",
    "data += '\\n' #가독성을 위해 마지막 문장에 줄바꿈 추가\n",
    "\n",
    "file = open('scores.txt', 'a', encoding='utf8' )\n",
    "file.write(data)    #data를 sample.txt에 추가\n",
    "\n",
    "#읽기 모드로 열기\n",
    "file = open('scores.txt', 'r', encoding='utf8' )\n",
    "\n",
    "lines_sco = file.readlines()\n",
    "for line in lines_sco:\n",
    "    print(line, end = '')\n",
    "    \n",
    "file.close()\n",
    "print(\"scores.txt 추가 완료\")"
   ]
  },
  {
   "cell_type": "code",
   "execution_count": null,
   "id": "283aba63-5e2b-47f3-b54d-1a07f072ef8f",
   "metadata": {},
   "outputs": [],
   "source": []
  }
 ],
 "metadata": {
  "kernelspec": {
   "display_name": "Python 3 (ipykernel)",
   "language": "python",
   "name": "python3"
  },
  "language_info": {
   "codemirror_mode": {
    "name": "ipython",
    "version": 3
   },
   "file_extension": ".py",
   "mimetype": "text/x-python",
   "name": "python",
   "nbconvert_exporter": "python",
   "pygments_lexer": "ipython3",
   "version": "3.12.4"
  }
 },
 "nbformat": 4,
 "nbformat_minor": 5
}
