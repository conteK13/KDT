{
 "cells": [
  {
   "cell_type": "markdown",
   "id": "5c254959-7183-41fc-b6f5-5c4843363ddd",
   "metadata": {},
   "source": [
    "## 1. 판다스(Pandas)\n",
    "### 0) 필요패키지 임포트"
   ]
  },
  {
   "cell_type": "code",
   "execution_count": 8,
   "id": "a7222934-fefe-4993-bdfe-6e8d90a457dc",
   "metadata": {},
   "outputs": [],
   "source": [
    "import pandas as pd\n",
    "import numpy as np"
   ]
  },
  {
   "cell_type": "markdown",
   "id": "a49a0375-07ec-4217-971d-890d16e90c0c",
   "metadata": {},
   "source": [
    "### 1) 시리즈(Series)\n",
    "- 1차원 배열의 값(values) + 대응되는 인덱스(index)\n",
    "- 인덱스의 길이 = 데이터의 길이\n",
    "- 인덱스로 사용 가능한 값 : 문자열, 날짜, 시간, 정수 등\n"
   ]
  },
  {
   "cell_type": "markdown",
   "id": "79f25d86-d2e7-423c-8371-4da0d9ba5714",
   "metadata": {},
   "source": [
    "#### 1-1) 시리즈 생성"
   ]
  },
  {
   "cell_type": "code",
   "execution_count": 28,
   "id": "8e0638df-0827-495b-8c3b-af30df8e5666",
   "metadata": {},
   "outputs": [
    {
     "name": "stdout",
     "output_type": "stream",
     "text": [
      "서울    9904312\n",
      "부산    3448737\n",
      "인천    2890451\n",
      "대구    2466052\n",
      "dtype: int64\n"
     ]
    }
   ],
   "source": [
    "# 값(values)과 인덱스(index)를 설정하여 시리즈 만들기\n",
    "s = pd.Series([9904312, 3448737, 2890451, 2466052],\n",
    "        index=[\"서울\", \"부산\", \"인천\", \"대구\"])\n",
    "print(s)"
   ]
  },
  {
   "cell_type": "code",
   "execution_count": 16,
   "id": "6f4059a2-62c5-42d6-a2e8-9445e3234652",
   "metadata": {},
   "outputs": [
    {
     "name": "stdout",
     "output_type": "stream",
     "text": [
      "0    9904312\n",
      "1    3448737\n",
      "2    2890451\n",
      "3    2466052\n",
      "dtype: int64\n"
     ]
    }
   ],
   "source": [
    "# 값(values)만 설정하여 시리즈 만들기\n",
    "sv = pd.Series([9904312, 3448737, 2890451, 2466052])\n",
    "\n",
    "#자동으로 index가 설정됨(0부터 시작하는 정수로)\n",
    "print(sv)"
   ]
  },
  {
   "cell_type": "code",
   "execution_count": 30,
   "id": "2a4d8d5f-02aa-4e47-b1b3-1a6ec86923e9",
   "metadata": {},
   "outputs": [
    {
     "name": "stdout",
     "output_type": "stream",
     "text": [
      "Index(['서울', '부산', '인천', '대구'], dtype='object')\n"
     ]
    }
   ],
   "source": [
    "# 시리즈 s의 인덱스만 출력\n",
    "print(s.index)\n",
    "\n",
    "# dtype='object'는 보통 인덱스가 문자열일 때 나타납니다. 문자열은 object 데이터 타입으로 저장됩니다."
   ]
  },
  {
   "cell_type": "code",
   "execution_count": 22,
   "id": "4966deed-45ab-4580-b4ae-63fb429e74ec",
   "metadata": {},
   "outputs": [
    {
     "name": "stdout",
     "output_type": "stream",
     "text": [
      "[9904312 3448737 2890451 2466052]\n"
     ]
    }
   ],
   "source": [
    "# 시리즈 s의 값만 출력\n",
    "print(s.values)"
   ]
  },
  {
   "cell_type": "code",
   "execution_count": 38,
   "id": "5e7d24bf-7d76-40f3-bb11-6a7857e6ff4b",
   "metadata": {},
   "outputs": [
    {
     "name": "stdout",
     "output_type": "stream",
     "text": [
      "0    10\n",
      "1    11\n",
      "2    12\n",
      "3    13\n",
      "dtype: int64\n"
     ]
    }
   ],
   "source": [
    "# 10부터 13(14-1)까지 1씩 증가하는 수들을 값으로 갖는 Series를 생성한다.\n",
    "# 인덱스를 설정하지 않았으므로 자동으로 0부터 설정됨.\n",
    "\n",
    "print(pd.Series(range(10, 14)))"
   ]
  },
  {
   "cell_type": "code",
   "execution_count": 36,
   "id": "1f017b4b-9698-4b25-8fb2-df1c061d7280",
   "metadata": {},
   "outputs": [
    {
     "name": "stdout",
     "output_type": "stream",
     "text": [
      "도시\n",
      "서울    9904312\n",
      "부산    3448737\n",
      "인천    2890451\n",
      "대구    2466052\n",
      "Name: 인구, dtype: int64\n"
     ]
    }
   ],
   "source": [
    "# name 속성을 이용하여 시리즈 데이터에 이름 붙임\n",
    "# index.name 속성으로 시리즈의 인덱스에도 이름 붙임\n",
    "\n",
    "s.name = \"인구\"\n",
    "s.index.name = \"도시\"\n",
    "print(s)"
   ]
  },
  {
   "cell_type": "markdown",
   "id": "2ca4810c-e58b-4ce1-8ee2-895d8da893f5",
   "metadata": {},
   "source": [
    "#### 1-2) 시리즈 연산\n",
    "- 시리즈는 백터화 연산이 가능\n",
    "- 연산은 시리즈 값에만 적용할 수 있고 인덱스 값은 변하지 않음"
   ]
  },
  {
   "cell_type": "code",
   "execution_count": 45,
   "id": "16d86ae6-c6bc-40a0-9fb0-1673a7fdab2c",
   "metadata": {},
   "outputs": [
    {
     "name": "stdout",
     "output_type": "stream",
     "text": [
      "도시\n",
      "서울    9904312\n",
      "부산    3448737\n",
      "인천    2890451\n",
      "대구    2466052\n",
      "Name: 인구, dtype: int64\n",
      "\n",
      "도시\n",
      "서울    9.904312\n",
      "부산    3.448737\n",
      "인천    2.890451\n",
      "대구    2.466052\n",
      "Name: 인구, dtype: float64\n"
     ]
    }
   ],
   "source": [
    "print(s)\n",
    "print()\n",
    "\n",
    "# s에 대입한 것이 아니므로 s의 값이 변경된 것은 아니다\n",
    "print(s / 1000000)"
   ]
  },
  {
   "cell_type": "markdown",
   "id": "1a1b45f6-05c3-4018-b1da-ba0c5cf7615e",
   "metadata": {},
   "source": [
    "#### 1-3) 시리즈 인덱싱\n",
    "- 인덱스 라벨을 이용한 인덱싱 가능\n",
    "- 배열 인덱싱이나 인덱스 라벨을 이용한 슬라이싱도 가능"
   ]
  },
  {
   "cell_type": "code",
   "execution_count": 53,
   "id": "76c95013-e9b7-4325-ab65-788280777b96",
   "metadata": {},
   "outputs": [
    {
     "name": "stderr",
     "output_type": "stream",
     "text": [
      "C:\\Users\\Public\\Documents\\ESTsoft\\CreatorTemp\\ipykernel_12696\\4005314761.py:2: FutureWarning: Series.__getitem__ treating keys as positions is deprecated. In a future version, integer keys will always be treated as labels (consistent with DataFrame behavior). To access a value by position, use `ser.iloc[pos]`\n",
      "  s[2], s[\"부산\"]\n"
     ]
    },
    {
     "data": {
      "text/plain": [
       "(2890451, 3448737)"
      ]
     },
     "execution_count": 53,
     "metadata": {},
     "output_type": "execute_result"
    }
   ],
   "source": [
    "# 시리즈 데이터를 인덱싱하면 값이 나옴\n",
    "s[2], s[\"부산\"]\n",
    "\n",
    "#s[2]를 하면 아래와 같은 오류 메세지가 나온다\n",
    "# 위치에 의한 접근을 하기 위해선 ser.iloc[pos]를 사용하는 것을 권장한다.\n",
    "\n",
    "# 위치에 의한 접근 : 이데이터의 위치(인덱스의 숫자적 위치)를 이용하여 접근\n",
    "# 레이블 기반 접근 : 인덱스 레이블(\"문자열 또는 다른 데이터 타입)을 이용하여 접근\n",
    "\n",
    "\"\"\"\n",
    "C:\\Users\\Public\\Documents\\ESTsoft\\CreatorTemp\\ipykernel_12696\\4005314761.py:2:\n",
    "FutureWarning: Series.__getitem__ treating keys as positions is deprecated. In a future version,\n",
    "integer keys will always be treated as labels (consistent with DataFrame behavior).\n",
    "To access a value by position, use `ser.iloc[pos]`\n",
    "s[2], s[\"부산\"]\n",
    "\"\"\""
   ]
  },
  {
   "cell_type": "code",
   "execution_count": 55,
   "id": "d53d2e04-7f8b-4372-84b7-081459506741",
   "metadata": {},
   "outputs": [
    {
     "name": "stderr",
     "output_type": "stream",
     "text": [
      "C:\\Users\\Public\\Documents\\ESTsoft\\CreatorTemp\\ipykernel_12696\\3826417402.py:1: FutureWarning: Series.__getitem__ treating keys as positions is deprecated. In a future version, integer keys will always be treated as labels (consistent with DataFrame behavior). To access a value by position, use `ser.iloc[pos]`\n",
      "  s[3], s[\"대구\"]\n"
     ]
    },
    {
     "data": {
      "text/plain": [
       "(2466052, 2466052)"
      ]
     },
     "execution_count": 55,
     "metadata": {},
     "output_type": "execute_result"
    }
   ],
   "source": [
    "s[3], s[\"대구\"]"
   ]
  },
  {
   "cell_type": "code",
   "execution_count": 63,
   "id": "1251c82e-ceb5-412e-a008-1cfda7418c41",
   "metadata": {},
   "outputs": [
    {
     "name": "stdout",
     "output_type": "stream",
     "text": [
      "도시\n",
      "서울    9904312\n",
      "대구    2466052\n",
      "부산    3448737\n",
      "Name: 인구, dtype: int64\n"
     ]
    },
    {
     "name": "stderr",
     "output_type": "stream",
     "text": [
      "C:\\Users\\Public\\Documents\\ESTsoft\\CreatorTemp\\ipykernel_12696\\4251786854.py:2: FutureWarning: Series.__getitem__ treating keys as positions is deprecated. In a future version, integer keys will always be treated as labels (consistent with DataFrame behavior). To access a value by position, use `ser.iloc[pos]`\n",
      "  print(s[[0,3,1]])\n"
     ]
    }
   ],
   "source": [
    "#자료 순서 바꾸기\n",
    "s[[0,3,1]]\n",
    "\n",
    "# 시리즈의 요소를 특정 순서로 재배열하는 방법입니다. \n",
    "# 이 방식은 시리즈의 요소를 인덱스의 위치를 기준으로 재배열할 뿐, 인덱스 자체를 삭제하거나 변경하지는 X"
   ]
  },
  {
   "cell_type": "code",
   "execution_count": 65,
   "id": "7098097a-077e-4b7b-b108-b9ada4963396",
   "metadata": {},
   "outputs": [
    {
     "name": "stdout",
     "output_type": "stream",
     "text": [
      "2466052\n"
     ]
    },
    {
     "name": "stderr",
     "output_type": "stream",
     "text": [
      "C:\\Users\\Public\\Documents\\ESTsoft\\CreatorTemp\\ipykernel_12696\\3567120435.py:1: FutureWarning: Series.__getitem__ treating keys as positions is deprecated. In a future version, integer keys will always be treated as labels (consistent with DataFrame behavior). To access a value by position, use `ser.iloc[pos]`\n",
      "  print(s[3])\n"
     ]
    }
   ],
   "source": [
    "s[3]"
   ]
  },
  {
   "cell_type": "code",
   "execution_count": 69,
   "id": "494823bd-800f-47cf-a58c-e15b8568d343",
   "metadata": {},
   "outputs": [
    {
     "data": {
      "text/plain": [
       "도시\n",
       "부산    3448737\n",
       "인천    2890451\n",
       "Name: 인구, dtype: int64"
      ]
     },
     "execution_count": 69,
     "metadata": {},
     "output_type": "execute_result"
    }
   ],
   "source": [
    "s[(250e4 < s) & (s < 500e4)]\n",
    "# 조건에 만족하는 경우에만 출력\n",
    "# 인구가 250만 초과, 500만 미만인 경우만 출력"
   ]
  },
  {
   "cell_type": "code",
   "execution_count": 81,
   "id": "8309102b-208b-463e-b5d1-3b1df4bfb9ea",
   "metadata": {},
   "outputs": [
    {
     "name": "stdout",
     "output_type": "stream",
     "text": [
      "도시\n",
      "부산    3448737\n",
      "Name: 인구, dtype: int64\n",
      "\n",
      "도시\n",
      "부산    3448737\n",
      "인천    2890451\n",
      "Name: 인구, dtype: int64\n"
     ]
    }
   ],
   "source": [
    "print(s[1:2])\n",
    "# 두번째(1)부터 세번째(2)까지 (네번째(3) 미포함)\n",
    "\n",
    "print()\n",
    "\n",
    "print(s[\"부산\":\"인천\"])\n",
    "# 부산에서 대구까지 (대구도 포함)\n",
    "\n",
    "# 보통의 슬라이싱은 콜론(:) 뒤에 오는 값은 포함하지 않지만,\n",
    "# 시리얼에서의 인덱싱은 이 값을 포함한다"
   ]
  },
  {
   "cell_type": "code",
   "execution_count": 87,
   "id": "785eba95-ddce-4df1-8be9-d1a9f64b9400",
   "metadata": {},
   "outputs": [
    {
     "name": "stdout",
     "output_type": "stream",
     "text": [
      "a    0\n",
      "b    1\n",
      "c    2\n",
      "dtype: int64\n",
      "\n",
      "인덱스 a : 0\n",
      "\n",
      "인덱스 c : 2\n"
     ]
    }
   ],
   "source": [
    "# 라벨 값이 영문 문자열인 경우에는 인덱스 라벨이 속성인것처럼 점(.)을 이용하여 해당 인덱스 값에 접근 가능\n",
    "\n",
    "s0 = pd.Series(range(3), index=[\"a\", \"b\", \"c\"])\n",
    "print(s0)\n",
    "print()\n",
    "\n",
    "print('인덱스 a :', s0.a)\n",
    "print()\n",
    "\n",
    "print('인덱스 c :', s0.c)"
   ]
  },
  {
   "cell_type": "markdown",
   "id": "9a29f265-d339-4756-b49d-c9dfd93a93e9",
   "metadata": {},
   "source": [
    "#### 1-4) 시리즈와 딕셔너리 자료형\n",
    "- 시리즈 객체는 라벨 값에 의해 인덱싱이 가능\n",
    "- 인덱스 라벨 값을 키(key)로 가지는 딕셔너리 자료형 사용 가능\n",
    "- 딕셔너리 자료형에서 제공하는 연산 및 함수 사용가능\n",
    "    - in 연산, for 루프를 통한 각 원소의 키(key)와 값(value)에 접근"
   ]
  },
  {
   "cell_type": "code",
   "execution_count": 94,
   "id": "546322d1-6474-4a49-bcac-57619a0539b8",
   "metadata": {},
   "outputs": [
    {
     "name": "stdout",
     "output_type": "stream",
     "text": [
      "True\n",
      "False\n"
     ]
    }
   ],
   "source": [
    "print(\"서울\" in s)  # 인덱스 라벨 중에 서울이 있는가\n",
    "print(\"대전\" in s)  # 인덱스 라벨 중에 대전이 있는가"
   ]
  },
  {
   "cell_type": "code",
   "execution_count": 96,
   "id": "8de2e783-103f-491e-a9a2-8841c711beaa",
   "metadata": {},
   "outputs": [
    {
     "name": "stdout",
     "output_type": "stream",
     "text": [
      "서울 = 9904312\n",
      "부산 = 3448737\n",
      "인천 = 2890451\n",
      "대구 = 2466052\n"
     ]
    }
   ],
   "source": [
    "for k, v in s.items():\n",
    "    print(\"%s = %d\" % (k, v))"
   ]
  },
  {
   "cell_type": "code",
   "execution_count": 98,
   "id": "51977604-4437-4dec-9090-e8d437acc7ed",
   "metadata": {},
   "outputs": [
    {
     "name": "stdout",
     "output_type": "stream",
     "text": [
      "서울    9631482\n",
      "부산    3393191\n",
      "인천    2632035\n",
      "대전    1490158\n",
      "dtype: int64\n"
     ]
    }
   ],
   "source": [
    "#딕셔너리 객체에서 시리즈 만들기\n",
    "s2 = pd.Series({\"서울\": 9631482, \"부산\": 3393191,\n",
    "                \"인천\": 2632035, \"대전\": 1490158})\n",
    "print(s2)"
   ]
  },
  {
   "cell_type": "code",
   "execution_count": 102,
   "id": "0b3ce081-b1e2-4ae2-be18-741287c434a1",
   "metadata": {},
   "outputs": [
    {
     "data": {
      "text/plain": [
       "부산    3393191\n",
       "서울    9631482\n",
       "인천    2632035\n",
       "대전    1490158\n",
       "dtype: int64"
      ]
     },
     "execution_count": 102,
     "metadata": {},
     "output_type": "execute_result"
    }
   ],
   "source": [
    "# 딕셔너리의 원소는 순서를 가지지 않으므로 시리즈의 데이터도 순서가 보장되지 않음\n",
    "# 만약 순서를 정하고 싶다면 인덱스를 리스트로 지정해야 함\n",
    "\n",
    "s2 = pd.Series({\"서울\": 9631482, \"부산\": 3393191,\n",
    "                \"인천\": 2632035, \"대전\": 1490158},\n",
    "               index=[\"부산\", \"서울\", \"인천\", \"대전\"])\n",
    "s2"
   ]
  },
  {
   "cell_type": "markdown",
   "id": "f6eb3188-d6e9-4c0f-a5ff-574bc35290d9",
   "metadata": {},
   "source": [
    "#### 1-5) 인덱스 기반 연산\n",
    "- 2015년도와 2010년의 인구 증가 계산"
   ]
  },
  {
   "cell_type": "code",
   "execution_count": 106,
   "id": "d2de7024-647c-4bbd-9ad2-7ffc34deb0b2",
   "metadata": {},
   "outputs": [
    {
     "name": "stdout",
     "output_type": "stream",
     "text": [
      "대구         NaN\n",
      "대전         NaN\n",
      "부산     55546.0\n",
      "서울    272830.0\n",
      "인천    258416.0\n",
      "dtype: float64\n"
     ]
    }
   ],
   "source": [
    "s = pd.Series([9904312, 3448737, 2890451, 2466052],\n",
    "        index=[\"서울\", \"부산\", \"인천\", \"대구\"])\n",
    "\n",
    "s2 = pd.Series({\"서울\": 9631482, \"부산\": 3393191,\n",
    "                \"인천\": 2632035, \"대전\": 1490158},\n",
    "               index=[\"부산\", \"서울\", \"인천\", \"대전\"])\n",
    "\n",
    "#인덱스가 같은 데이터에 대해서만 계산 가능\n",
    "ds = s - s2\n",
    "print(ds)"
   ]
  },
  {
   "cell_type": "code",
   "execution_count": 108,
   "id": "bac84736-2e87-43e0-991e-4f0c4277d2d5",
   "metadata": {},
   "outputs": [
    {
     "data": {
      "text/plain": [
       "대구    False\n",
       "대전    False\n",
       "부산     True\n",
       "서울     True\n",
       "인천     True\n",
       "dtype: bool"
      ]
     },
     "execution_count": 108,
     "metadata": {},
     "output_type": "execute_result"
    }
   ],
   "source": [
    "# null 값이 아닌 것 찾기\n",
    "ds.notnull()"
   ]
  },
  {
   "cell_type": "code",
   "execution_count": 110,
   "id": "c8e21e48-98b3-4a92-8cd3-f60d76b9ebd0",
   "metadata": {},
   "outputs": [
    {
     "data": {
      "text/plain": [
       "부산     55546.0\n",
       "서울    272830.0\n",
       "인천    258416.0\n",
       "dtype: float64"
      ]
     },
     "execution_count": 110,
     "metadata": {},
     "output_type": "execute_result"
    }
   ],
   "source": [
    "#값이 있는 것만 출력\n",
    "ds[ds.notnull()]"
   ]
  },
  {
   "cell_type": "code",
   "execution_count": 112,
   "id": "7cc53edf-5b24-4b3a-9e7e-a34eecb42ea4",
   "metadata": {},
   "outputs": [
    {
     "data": {
      "text/plain": [
       "부산    1.636984\n",
       "서울    2.832690\n",
       "인천    9.818107\n",
       "dtype: float64"
      ]
     },
     "execution_count": 112,
     "metadata": {},
     "output_type": "execute_result"
    }
   ],
   "source": [
    "#증가율 계산\n",
    "rs = (s - s2) / s2 * 100\n",
    "rs = rs[rs.notnull()]\n",
    "rs"
   ]
  },
  {
   "cell_type": "markdown",
   "id": "32a52cc2-4279-4398-8312-d3de7d4002e1",
   "metadata": {},
   "source": [
    "#### 1-6) 데이터의 갱신, 추가, 삭제\n",
    "-- 인덱싱을 이용하면 딕셔너리처럼 데이터를 갱신(update)하거나 추가(add) 가능"
   ]
  },
  {
   "cell_type": "code",
   "execution_count": 115,
   "id": "e40452dd-1157-4e92-a5f5-82efc586c926",
   "metadata": {},
   "outputs": [
    {
     "data": {
      "text/plain": [
       "부산    1.630000\n",
       "서울    2.832690\n",
       "인천    9.818107\n",
       "dtype: float64"
      ]
     },
     "execution_count": 115,
     "metadata": {},
     "output_type": "execute_result"
    }
   ],
   "source": [
    "rs[\"부산\"] = 1.63\n",
    "rs"
   ]
  },
  {
   "cell_type": "code",
   "execution_count": 117,
   "id": "81ad3b2d-ebd3-4ce8-bdf3-052daa1a0602",
   "metadata": {},
   "outputs": [
    {
     "data": {
      "text/plain": [
       "부산    1.630000\n",
       "서울    2.832690\n",
       "인천    9.818107\n",
       "대구    1.410000\n",
       "dtype: float64"
      ]
     },
     "execution_count": 117,
     "metadata": {},
     "output_type": "execute_result"
    }
   ],
   "source": [
    "rs[\"대구\"] = 1.41\n",
    "rs"
   ]
  },
  {
   "cell_type": "code",
   "execution_count": 119,
   "id": "80b50d8c-113f-4156-b670-90cff4d76d3a",
   "metadata": {},
   "outputs": [
    {
     "data": {
      "text/plain": [
       "부산    1.630000\n",
       "서울    2.832690\n",
       "인천    9.818107\n",
       "dtype: float64"
      ]
     },
     "execution_count": 119,
     "metadata": {},
     "output_type": "execute_result"
    }
   ],
   "source": [
    "# 데이터 삭제\n",
    "del rs[\"대구\"]\n",
    "rs"
   ]
  },
  {
   "cell_type": "markdown",
   "id": "ccf5b8bc-57f4-4f5a-9315-8ebbef160e17",
   "metadata": {},
   "source": [
    "### #1 연습문제 \n",
    "\n",
    "1) 임의로 두 개의 시리즈 객체를 만든다. 모두 문자열 인덱스를 가져야 하며 두 시리즈에 공통적으로 포함되지 않는 라벨이 있어야 한다.\n",
    "2) 위에서 만든 두 시리즈 객체를 이용하여 사칙 연산을 한다."
   ]
  },
  {
   "cell_type": "code",
   "execution_count": 127,
   "id": "0784209d-184d-441a-8c71-da754e856c09",
   "metadata": {},
   "outputs": [
    {
     "name": "stdout",
     "output_type": "stream",
     "text": [
      "사과     41\n",
      "바나나     5\n",
      "오렌지    88\n",
      "딸기     99\n",
      "dtype: int64\n",
      "\n",
      "사과     78\n",
      "바나나    32\n",
      "자몽     35\n",
      "망고     81\n",
      "dtype: int64\n"
     ]
    }
   ],
   "source": [
    "t1 = pd.Series([41, 5, 88, 99], index = [\"사과\", \"바나나\", \"오렌지\", \"딸기\"])\n",
    "t2 = pd.Series([78,32, 35,81], index = [\"사과\", \"바나나\", \"자몽\", \"망고\"])\n",
    "\n",
    "print(t1)\n",
    "print()\n",
    "\n",
    "print(t2)"
   ]
  },
  {
   "cell_type": "code",
   "execution_count": 129,
   "id": "d5c8c87a-0d9b-403a-b237-8c170798ba6d",
   "metadata": {},
   "outputs": [
    {
     "name": "stdout",
     "output_type": "stream",
     "text": [
      "딸기      NaN\n",
      "망고      NaN\n",
      "바나나   -27.0\n",
      "사과    -37.0\n",
      "오렌지     NaN\n",
      "자몽      NaN\n",
      "dtype: float64\n",
      "\n",
      "바나나   -27.0\n",
      "사과    -37.0\n",
      "dtype: float64\n"
     ]
    }
   ],
   "source": [
    "dt = t1 - t2\n",
    "print(dt)\n",
    "print()\n",
    "\n",
    "print(dt[dt.notnull()])"
   ]
  }
 ],
 "metadata": {
  "kernelspec": {
   "display_name": "Python 3 (ipykernel)",
   "language": "python",
   "name": "python3"
  },
  "language_info": {
   "codemirror_mode": {
    "name": "ipython",
    "version": 3
   },
   "file_extension": ".py",
   "mimetype": "text/x-python",
   "name": "python",
   "nbconvert_exporter": "python",
   "pygments_lexer": "ipython3",
   "version": "3.12.4"
  }
 },
 "nbformat": 4,
 "nbformat_minor": 5
}
