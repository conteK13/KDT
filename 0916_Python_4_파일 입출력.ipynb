{
 "cells": [
  {
   "cell_type": "markdown",
   "metadata": {},
   "source": [
    "# 파이썬 기초\n",
    "## chapter 6. 파일 입출력\n",
    "파일을 읽고 출력한다."
   ]
  },
  {
   "cell_type": "code",
   "execution_count": 6,
   "metadata": {},
   "outputs": [
    {
     "name": "stdout",
     "output_type": "stream",
     "text": [
      "파일 작성이 완료 되었습니다.\n"
     ]
    }
   ],
   "source": [
    "# 파일 읽기1\n",
    "file = open(\"basic.txt\", \"w\")\n",
    "# \"w\" : 쓰기 모드\n",
    "# \"r\" : 읽기 모드\n",
    "# \"a\" : append 모드 (추가 하기 모드)\n",
    "\n",
    "# 파일 쓰기\n",
    "file.write(\"Hello Python Programing\")\n",
    "\n",
    "# 파일 닫기. 반드시 닫아야함\n",
    "file.close()\n",
    "print(\"파일 작성이 완료 되었습니다.\")"
   ]
  },
  {
   "cell_type": "code",
   "execution_count": 7,
   "metadata": {},
   "outputs": [
    {
     "name": "stdout",
     "output_type": "stream",
     "text": [
      "파일 작성이 완료 되었습니다.\n"
     ]
    }
   ],
   "source": [
    "# 파일 읽기2 - with 키워드 사용\n",
    "# 파일을 열고 닫지 않는 실수 방지용\n",
    "\n",
    "with open(\"basic.txt\", \"w\") as file:\n",
    "# \"w\" : 쓰기 모드\n",
    "# \"r\" : 읽기 모드\n",
    "# \"a\" : append 모드 (추가 하기 모드)\n",
    "\n",
    "    #파일 쓰기\n",
    "    file.write(\"Hello Python Programing\")\n",
    "\n",
    "print(\"파일 작성이 완료 되었습니다.\")"
   ]
  },
  {
   "cell_type": "code",
   "execution_count": 12,
   "metadata": {},
   "outputs": [
    {
     "name": "stdout",
     "output_type": "stream",
     "text": [
      "쇼핑몰 | 물품 | 가격\n",
      "쿠팡 | 무소음 키보드 | 20000\n",
      "쿠팡 | 버즈 케이스 | 5600\n",
      "당근 | 젤다의 전설 왕국의 눈물 | 40000\n"
     ]
    }
   ],
   "source": [
    "with open(\"file_test.txt\", \"r\", encoding=\"utf8\") as file:\n",
    "    for line in file:\n",
    "        (test1, test2, test3) = line.strip().split(\", \")\n",
    "        print(test1, test2, test3, sep = \" | \")"
   ]
  },
  {
   "cell_type": "markdown",
   "metadata": {},
   "source": [
    "### 주피터 노트북에서 사용하는 매직 명령어\n",
    "하단의 내용을 정해진 확장자명의 파일로 만든다. \n",
    "명령어 위 쪽에 주석을 달아놓으니 오류 발생함(VScode 환경에서만 인지 확인 필요)"
   ]
  },
  {
   "cell_type": "code",
   "execution_count": 5,
   "metadata": {},
   "outputs": [
    {
     "name": "stdout",
     "output_type": "stream",
     "text": [
      "Writing sample1.csv\n"
     ]
    }
   ],
   "source": [
    "%%writefile sample1.csv\n",
    "c1, c2, c3\n",
    "1, 1.11, one\n",
    "2, 2.22, two\n",
    "3, 3.33, three"
   ]
  }
 ],
 "metadata": {
  "kernelspec": {
   "display_name": "Python 3",
   "language": "python",
   "name": "python3"
  },
  "language_info": {
   "codemirror_mode": {
    "name": "ipython",
    "version": 3
   },
   "file_extension": ".py",
   "mimetype": "text/x-python",
   "name": "python",
   "nbconvert_exporter": "python",
   "pygments_lexer": "ipython3",
   "version": "3.12.2"
  }
 },
 "nbformat": 4,
 "nbformat_minor": 2
}
