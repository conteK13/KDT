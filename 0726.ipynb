{

 "cells": [
  {
   "cell_type": "code",
   "execution_count": 1,
   "id": "7a80ab41-7902-422b-ad55-c4346cc0fded",
   "metadata": {},
   "outputs": [
    {
     "name": "stdout",
     "output_type": "stream",
     "text": [
      "\n",
      "\n",
      "\t\n",
      "\b\n",
      "\\\n",
      "%%\n"
     ]
    }
   ],
   "source": [
    "print(\"\\n\")\n",
    "print(\"\\t\")\n",
    "print(\"\\b\")    #backspace는 왜 쓰는 걸까....\n",
    "print(\"\\\\\")\n",
    "print(\"%%\")"
   ]
  },
  {
   "cell_type": "code",
   "execution_count": 43,
   "id": "97c7700a-2d5d-4094-bee0-2afa12700616",
   "metadata": {},
   "outputs": [
    {
     "name": "stdin",
     "output_type": "stream",
     "text": [
      "서비스 만족도:\n",
      "1: 매우 만족\n",
      "2: 만족\n",
      "3: 불만족\n",
      "0: 끝내기\n",
      "서비스 만족도를 입력해주세요 (예: 1 또는 2 또는 3):  5\n"
     ]
    },
    {
     "name": "stdout",
     "output_type": "stream",
     "text": [
      "1, 2, 3 중에 입력하세요. 0을 입력하면 종료됩니다.\n"
     ]
    },
    {
     "name": "stdin",
     "output_type": "stream",
     "text": [
      "서비스 만족도:\n",
      "1: 매우 만족\n",
      "2: 만족\n",
      "3: 불만족\n",
      "0: 끝내기\n",
      "서비스 만족도를 입력해주세요 (예: 1 또는 2 또는 3):  2\n",
      "음식값을 입력해 주세요(예:8000):  9000\n"
     ]
    },
    {
     "name": "stdout",
     "output_type": "stream",
     "text": [
      "\n",
      "서비스 만족도 : 만족,\n",
      "팁 : 900원\n"
     ]
    }
   ],
   "source": [
    "while True:\n",
    "    a = input('서비스 만족도:\\n'\n",
    "              '1: 매우 만족\\n'\n",
    "              '2: 만족\\n'\n",
    "              '3: 불만족\\n'\n",
    "              '0: 끝내기\\n'\n",
    "              '서비스 만족도를 입력해주세요 (예: 1 또는 2 또는 3): '\n",
    "             )\n",
    "    if a in ['1', '2', '3']:    #[1, 2, 3] 중의 하나이면 종료\n",
    "        break\n",
    "        \n",
    "    if a == '0':\n",
    "        print(\"종료합니다.\")    #0이면 종료\n",
    "        break\n",
    "        \n",
    "    print(\"1, 2, 3 중에 입력하세요. 0을 입력하면 종료됩니다.\")\n",
    "\n",
    "if a != '0':\n",
    "    price = int(input('음식값을 입력해 주세요(예:8000): '))\n",
    "    \n",
    "    if a == '1':\n",
    "        tip = int(price * 0.2)\n",
    "        service = '매우 만족'\n",
    "    elif a == '2':\n",
    "        tip = int(price * 0.1)\n",
    "        service = '만족'\n",
    "    else:\n",
    "        tip = int(price * 0.05)\n",
    "        service = '불만족'\n",
    "    \n",
    "    print()\n",
    "    print('서비스 만족도 : %s,\\n'\n",
    "            '팁 : %d원' % (service, tip))\n"
   ]
  },
  {
   "cell_type": "code",
   "execution_count": 53,
   "id": "bbdea791-e13b-4e53-b358-568579eec754",
   "metadata": {},
   "outputs": [
    {
     "name": "stdin",
     "output_type": "stream",
     "text": [
      "서비스 만족도:\n",
      "1: 매우 만족\n",
      "2: 만족\n",
      "3: 불만족\n",
      "0: 끝내기\n",
      "서비스 만족도를 입력해주세요 (예: 1 또는 2 또는 3):  7\n"
     ]
    },
    {
     "name": "stdout",
     "output_type": "stream",
     "text": [
      "1, 2, 3 중에 입력하세요. 0을 입력하면 종료됩니다.\n"
     ]
    },
    {
     "name": "stdin",
     "output_type": "stream",
     "text": [
      "서비스 만족도:\n",
      "1: 매우 만족\n",
      "2: 만족\n",
      "3: 불만족\n",
      "0: 끝내기\n",
      "서비스 만족도를 입력해주세요 (예: 1 또는 2 또는 3):  8\n"
     ]
    },
    {
     "name": "stdout",
     "output_type": "stream",
     "text": [
      "1, 2, 3 중에 입력하세요. 0을 입력하면 종료됩니다.\n"
     ]
    },
    {
     "name": "stdin",
     "output_type": "stream",
     "text": [
      "서비스 만족도:\n",
      "1: 매우 만족\n",
      "2: 만족\n",
      "3: 불만족\n",
      "0: 끝내기\n",
      "서비스 만족도를 입력해주세요 (예: 1 또는 2 또는 3):  9\n"
     ]
    },
    {
     "name": "stdout",
     "output_type": "stream",
     "text": [
      "1, 2, 3 중에 입력하세요. 0을 입력하면 종료됩니다.\n"
     ]
    },
    {
     "name": "stdin",
     "output_type": "stream",
     "text": [
      "서비스 만족도:\n",
      "1: 매우 만족\n",
      "2: 만족\n",
      "3: 불만족\n",
      "0: 끝내기\n",
      "서비스 만족도를 입력해주세요 (예: 1 또는 2 또는 3):  1\n",
      "음식값을 입력해 주세요(예:8000):  9000\n"
     ]
    },
    {
     "name": "stdout",
     "output_type": "stream",
     "text": [
      "\n",
      "서비스 만족도 : 매우 만족,\n",
      "팁 : 1800원\n"
     ]
    }
   ],
   "source": [
    "while True:\n",
    "    a = int(input('서비스 만족도:\\n'\n",
    "              '1: 매우 만족\\n'\n",
    "              '2: 만족\\n'\n",
    "              '3: 불만족\\n'\n",
    "              '0: 끝내기\\n'\n",
    "              '서비스 만족도를 입력해주세요 (예: 1 또는 2 또는 3): '\n",
    "             ))\n",
    "    if a >=1 and a <=3:    #[1, 2, 3] 중의 하나이면 종료\n",
    "        break\n",
    "        \n",
    "    if a == 0:\n",
    "        print(\"종료합니다.\")    #0이면 종료\n",
    "        break\n",
    "        \n",
    "    print(\"1, 2, 3 중에 입력하세요. 0을 입력하면 종료됩니다.\")\n",
    "\n",
    "if a != 0:\n",
    "    price = int(input('음식값을 입력해 주세요(예:8000): '))\n",
    "\n",
    "    services = ['매우 만족', '만족', '불만족'] \n",
    "    tips = [0.2, 0.1, 0.05]\n",
    "\n",
    "    tip = int(price * tips[a-1])\n",
    "    service = services[a-1]\n",
    "    \n",
    "    print()\n",
    "    print('서비스 만족도 : %s,\\n'\n",
    "            '팁 : %d원' % (service, tip))\n"
   ]
  },
  {
   "cell_type": "code",
   "execution_count": 35,
   "id": "80cb3bd9-44b4-49c3-8917-f54b69d35dd4",
   "metadata": {},
   "outputs": [
    {
     "name": "stdin",
     "output_type": "stream",
     "text": [
      "서비스 만족도:\n",
      "1: 매우 만족\n",
      "2: 만족\n",
      "3: 불만족\n",
      "0: 끝내기\n",
      "서비스 만족도를 입력해주세요 (예: 1 또는 2 또는 3):  8\n"
     ]
    },
    {
     "ename": "KeyboardInterrupt",
     "evalue": "Interrupted by user",
     "output_type": "error",
     "traceback": [
      "\u001b[1;31m---------------------------------------------------------------------------\u001b[0m",
      "\u001b[1;31mKeyboardInterrupt\u001b[0m                         Traceback (most recent call last)",
      "Cell \u001b[1;32mIn[35], line 22\u001b[0m\n\u001b[0;32m     19\u001b[0m \u001b[38;5;28;01mif\u001b[39;00m a \u001b[38;5;241m==\u001b[39m \u001b[38;5;124m'\u001b[39m\u001b[38;5;124m0\u001b[39m\u001b[38;5;124m'\u001b[39m :\n\u001b[0;32m     20\u001b[0m     \u001b[38;5;28;01mbreak\u001b[39;00m \n\u001b[1;32m---> 22\u001b[0m price \u001b[38;5;241m=\u001b[39m \u001b[38;5;28mint\u001b[39m(\u001b[38;5;28;43minput\u001b[39;49m\u001b[43m(\u001b[49m\u001b[38;5;124;43m'\u001b[39;49m\u001b[38;5;124;43m음식값을 입력해 주세요(예:8000): \u001b[39;49m\u001b[38;5;124;43m'\u001b[39;49m\u001b[43m)\u001b[49m)    \n\u001b[0;32m     24\u001b[0m \u001b[38;5;28;01mif\u001b[39;00m a \u001b[38;5;241m==\u001b[39m \u001b[38;5;124m'\u001b[39m\u001b[38;5;124m1\u001b[39m\u001b[38;5;124m'\u001b[39m:    \n\u001b[0;32m     25\u001b[0m     tip \u001b[38;5;241m=\u001b[39m \u001b[38;5;28mint\u001b[39m(price \u001b[38;5;241m*\u001b[39m \u001b[38;5;241m0.2\u001b[39m)    \n",
      "File \u001b[1;32m~\\AppData\\Roaming\\Python\\Python312\\site-packages\\ipykernel\\kernelbase.py:1282\u001b[0m, in \u001b[0;36mKernel.raw_input\u001b[1;34m(self, prompt)\u001b[0m\n\u001b[0;32m   1280\u001b[0m     msg \u001b[38;5;241m=\u001b[39m \u001b[38;5;124m\"\u001b[39m\u001b[38;5;124mraw_input was called, but this frontend does not support input requests.\u001b[39m\u001b[38;5;124m\"\u001b[39m\n\u001b[0;32m   1281\u001b[0m     \u001b[38;5;28;01mraise\u001b[39;00m StdinNotImplementedError(msg)\n\u001b[1;32m-> 1282\u001b[0m \u001b[38;5;28;01mreturn\u001b[39;00m \u001b[38;5;28;43mself\u001b[39;49m\u001b[38;5;241;43m.\u001b[39;49m\u001b[43m_input_request\u001b[49m\u001b[43m(\u001b[49m\n\u001b[0;32m   1283\u001b[0m \u001b[43m    \u001b[49m\u001b[38;5;28;43mstr\u001b[39;49m\u001b[43m(\u001b[49m\u001b[43mprompt\u001b[49m\u001b[43m)\u001b[49m\u001b[43m,\u001b[49m\n\u001b[0;32m   1284\u001b[0m \u001b[43m    \u001b[49m\u001b[38;5;28;43mself\u001b[39;49m\u001b[38;5;241;43m.\u001b[39;49m\u001b[43m_parent_ident\u001b[49m\u001b[43m[\u001b[49m\u001b[38;5;124;43m\"\u001b[39;49m\u001b[38;5;124;43mshell\u001b[39;49m\u001b[38;5;124;43m\"\u001b[39;49m\u001b[43m]\u001b[49m\u001b[43m,\u001b[49m\n\u001b[0;32m   1285\u001b[0m \u001b[43m    \u001b[49m\u001b[38;5;28;43mself\u001b[39;49m\u001b[38;5;241;43m.\u001b[39;49m\u001b[43mget_parent\u001b[49m\u001b[43m(\u001b[49m\u001b[38;5;124;43m\"\u001b[39;49m\u001b[38;5;124;43mshell\u001b[39;49m\u001b[38;5;124;43m\"\u001b[39;49m\u001b[43m)\u001b[49m\u001b[43m,\u001b[49m\n\u001b[0;32m   1286\u001b[0m \u001b[43m    \u001b[49m\u001b[43mpassword\u001b[49m\u001b[38;5;241;43m=\u001b[39;49m\u001b[38;5;28;43;01mFalse\u001b[39;49;00m\u001b[43m,\u001b[49m\n\u001b[0;32m   1287\u001b[0m \u001b[43m\u001b[49m\u001b[43m)\u001b[49m\n",
      "File \u001b[1;32m~\\AppData\\Roaming\\Python\\Python312\\site-packages\\ipykernel\\kernelbase.py:1325\u001b[0m, in \u001b[0;36mKernel._input_request\u001b[1;34m(self, prompt, ident, parent, password)\u001b[0m\n\u001b[0;32m   1322\u001b[0m \u001b[38;5;28;01mexcept\u001b[39;00m \u001b[38;5;167;01mKeyboardInterrupt\u001b[39;00m:\n\u001b[0;32m   1323\u001b[0m     \u001b[38;5;66;03m# re-raise KeyboardInterrupt, to truncate traceback\u001b[39;00m\n\u001b[0;32m   1324\u001b[0m     msg \u001b[38;5;241m=\u001b[39m \u001b[38;5;124m\"\u001b[39m\u001b[38;5;124mInterrupted by user\u001b[39m\u001b[38;5;124m\"\u001b[39m\n\u001b[1;32m-> 1325\u001b[0m     \u001b[38;5;28;01mraise\u001b[39;00m \u001b[38;5;167;01mKeyboardInterrupt\u001b[39;00m(msg) \u001b[38;5;28;01mfrom\u001b[39;00m \u001b[38;5;28;01mNone\u001b[39;00m\n\u001b[0;32m   1326\u001b[0m \u001b[38;5;28;01mexcept\u001b[39;00m \u001b[38;5;167;01mException\u001b[39;00m:\n\u001b[0;32m   1327\u001b[0m     \u001b[38;5;28mself\u001b[39m\u001b[38;5;241m.\u001b[39mlog\u001b[38;5;241m.\u001b[39mwarning(\u001b[38;5;124m\"\u001b[39m\u001b[38;5;124mInvalid Message:\u001b[39m\u001b[38;5;124m\"\u001b[39m, exc_info\u001b[38;5;241m=\u001b[39m\u001b[38;5;28;01mTrue\u001b[39;00m)\n",
      "\u001b[1;31mKeyboardInterrupt\u001b[0m: Interrupted by user"
     ]
    }
   ],
   "source": [
    "a = input('서비스 만족도:\\n'\n",
    "          '1: 매우 만족\\n'\n",
    "          '2: 만족\\n'\n",
    "          '3: 불만족\\n'\n",
    "          '0: 끝내기\\n'\n",
    "          '서비스 만족도를 입력해주세요 (예: 1 또는 2 또는 3): '\n",
    "         )\n",
    "\n",
    "while True :\n",
    "    if (a<='0' and a>'3'):\n",
    "        a = input('서비스 만족도:\\n'\n",
    "                  '1: 매우 만족\\n'\n",
    "                  '2: 만족\\n'\n",
    "                  '3: 불만족\\n'\n",
    "                  '0: 끝내기\\n'\n",
    "                  '서비스 만족도를 입력해주세요 (예: 1 또는 2 또는 3): '\n",
    "                 )\n",
    "    else:\n",
    "        if a == '0' :\n",
    "            break \n",
    "            \n",
    "        price = int(input('음식값을 입력해 주세요(예:8000): '))    \n",
    "\n",
    "        if a == '1':    \n",
    "            tip = int(price * 0.2)    \n",
    "            service = '매우 만족'    \n",
    "        elif a == '2':    \n",
    "            tip = int(price * 0.1)    \n",
    "            service = '만족'    \n",
    "        else:    \n",
    "            tip = int(price * 0.05)    \n",
    "            service = '불만족'\n",
    "        print()    \n",
    "        print('서비스 만족도 : %s,\\n 팁 : %d원' % (service, tip))\n",
    "        break"
   ]
  },
  {
   "cell_type": "code",
   "execution_count": 47,
   "id": "d53ad52e-480a-4f26-8f62-de87e68bf728",
   "metadata": {},
   "outputs": [
    {
     "name": "stdout",
     "output_type": "stream",
     "text": [
      "0\n",
      "1\n",
      "2\n",
      "4\n",
      "5\n"
     ]
    }
   ],
   "source": [
    "for i in range(6):\n",
    "    if i == 3:\n",
    "        continue\n",
    "    print(i)"
   ]
  },
  {
   "cell_type": "code",
   "execution_count": 55,
   "id": "694c5a28-694f-4260-8e65-7d3d7d4739f9",
   "metadata": {},
   "outputs": [
    {
     "name": "stdout",
     "output_type": "stream",
     "text": [
      "01012345678"
     ]
    }
   ],
   "source": [
    "number = '010-1234-5678'\n",
    "for x in number: \n",
    "    if x == '-':\n",
    "        continue\n",
    "    print('%s' % x, end='')"
   ]
  },
  {
   "cell_type": "code",
   "execution_count": 63,
   "id": "360acfc8-e50d-4355-9bbe-0e6ca9014a0c",
   "metadata": {},
   "outputs": [
    {
     "name": "stdout",
     "output_type": "stream",
     "text": [
      "48\n",
      "65\n",
      "97\n",
      "52 53 55\n"
     ]
    }
   ],
   "source": [
    "print(ord('0')) #ord() 는 괄호안의 문자열을 ascii code로 바꾸는 함수입니다. \n",
    "print(ord('A')) \n",
    "print(ord('a'))\n",
    "\n",
    "print(ord('4'),ord('5'),ord('7'))\n",
    "\n",
    "#int('4') = ord('4') - ord('0') \n",
    "#str(4) = 4+ ord('0')  \n"
   ]
  },
  {
   "cell_type": "code",
   "execution_count": 65,
   "id": "449b2baf-78cf-4e39-b61f-ec032feaa522",
   "metadata": {},
   "outputs": [
    {
     "name": "stdout",
     "output_type": "stream",
     "text": [
      "------------------------------\n",
      " 섭씨 화씨\n",
      "------------------------------\n",
      "     -20     -4.0\n",
      "     -19     -2.2\n",
      "     -18     -0.4\n",
      "     -17      1.4\n",
      "     -16      3.2\n",
      "     -15      5.0\n",
      "     -14      6.8\n",
      "     -13      8.6\n",
      "     -12     10.4\n",
      "     -11     12.2\n",
      "     -10     14.0\n",
      "      -9     15.8\n",
      "      -8     17.6\n",
      "      -7     19.4\n",
      "      -6     21.2\n",
      "      -5     23.0\n",
      "      -4     24.8\n",
      "      -3     26.6\n",
      "      -2     28.4\n",
      "      -1     30.2\n",
      "       0     32.0\n",
      "       1     33.8\n",
      "       2     35.6\n",
      "       3     37.4\n",
      "       4     39.2\n",
      "       5     41.0\n",
      "       6     42.8\n",
      "       7     44.6\n",
      "       8     46.4\n",
      "       9     48.2\n",
      "      10     50.0\n",
      "      11     51.8\n",
      "      12     53.6\n",
      "      13     55.4\n",
      "      14     57.2\n",
      "      15     59.0\n",
      "      16     60.8\n",
      "      17     62.6\n",
      "      18     64.4\n",
      "      19     66.2\n",
      "      20     68.0\n",
      "      21     69.8\n",
      "      22     71.6\n",
      "      23     73.4\n",
      "      24     75.2\n",
      "      25     77.0\n",
      "      26     78.8\n",
      "      27     80.6\n",
      "      28     82.4\n",
      "      29     84.2\n",
      "      30     86.0\n",
      "      31     87.8\n",
      "      32     89.6\n",
      "      33     91.4\n",
      "      34     93.2\n",
      "      35     95.0\n",
      "      36     96.8\n",
      "      37     98.6\n",
      "      38    100.4\n",
      "      39    102.2\n",
      "      40    104.0\n",
      "------------------------------\n"
     ]
    }
   ],
   "source": [
    "print('-' * 30)\n",
    "print(' 섭씨 화씨')\n",
    "print('-' * 30)\n",
    "c = -20\n",
    "while c < 41 :\n",
    "    f = c * 9.0/ 5.0 + 32.0\n",
    "    print('%8d %8.1f' % (c, f))\n",
    "    c+=1    #while문 동작을 위한 조건\n",
    "    \n",
    "print('-' * 30)"
   ]
  },
  {
   "cell_type": "code",
   "execution_count": 73,
   "id": "85235710-fe2d-4247-8338-76d66313da63",
   "metadata": {},
   "outputs": [
    {
     "name": "stdout",
     "output_type": "stream",
     "text": [
      "200 202 203 205 206 208 209 211 \n",
      "212 214 215 217 218 220 221 223 \n",
      "224 226 227 229 230 232 233 235 \n",
      "236 238 239 241 242 244 245 247 \n",
      "248 250 251 253 254 256 257 259 \n",
      "260 262 263 265 266 268 269 271 \n",
      "272 274 275 277 278 280 281 283 \n",
      "284 286 287 289 290 292 293 295 \n",
      "296 298 299 301 302 304 305 307 \n",
      "308 310 311 313 314 316 317 319 \n",
      "320 322 323 325 326 328 329 331 \n",
      "332 334 335 337 338 340 341 343 \n",
      "344 346 347 349 350 352 353 355 \n",
      "356 358 359 361 362 364 365 367 \n",
      "368 370 371 373 374 376 377 379 \n",
      "380 382 383 385 386 388 389 391 \n",
      "392 394 395 397 398 400 401 403 \n",
      "404 406 407 409 410 412 413 415 \n",
      "416 418 419 421 422 424 425 427 \n",
      "428 430 431 433 434 436 437 439 \n",
      "440 442 443 445 446 448 449 451 \n",
      "452 454 455 457 458 460 461 463 \n",
      "464 466 467 469 470 472 473 475 \n",
      "476 478 479 481 482 484 485 487 \n",
      "488 490 491 493 494 496 497 499 \n",
      "500 502 503 505 506 508 509 511 \n",
      "512 514 515 517 518 520 521 523 \n",
      "524 526 527 529 530 532 533 535 \n",
      "536 538 539 541 542 544 545 547 \n",
      "548 550 551 553 554 556 557 559 \n",
      "560 562 563 565 566 568 569 571 \n",
      "572 574 575 577 578 580 581 583 \n",
      "584 586 587 589 590 592 593 595 \n",
      "596 598 599 "
     ]
    }
   ],
   "source": [
    "i = 200\n",
    "count = 0\n",
    "while i < 601 :\n",
    "    if i % 3 != 0 :\n",
    "        print('%d ' % i, end='')\n",
    "        count += 1\n",
    "        if count % 8 == 0 :\n",
    "            print()\n",
    "    i += 1"
   ]
  },
  {
   "cell_type": "code",
   "execution_count": 83,
   "id": "ac722c5c-dd04-404f-a131-445feb783e7a",
   "metadata": {},
   "outputs": [
    {
     "name": "stdin",
     "output_type": "stream",
     "text": [
      "영어 문장을 입력하세요 : have a nice day\n"
     ]
    },
    {
     "name": "stdout",
     "output_type": "stream",
     "text": [
      "모음 : a e a i e a "
     ]
    }
   ],
   "source": [
    "s = input('영어 문장을 입력하세요 :')\n",
    "i = 0\n",
    "count = 0\n",
    "print('모음 : ', end = '')\n",
    "while i <= len(s) - 1 :\n",
    "    #'\\'은 아직 문장이 안끝났으니, 뒷 문장 까지 인식하라고 쓰는 거임\n",
    "    if (s[i] == 'a' or s[i] == 'A' or s[i] == 'e' or s[i] == 'E'\\\n",
    "        or s[i] == 'i' or s[i] == 'I' or s[i] == 'o' or s[i] == 'O' \\\n",
    "        or s[i] == 'u' or s[i] == 'U') :\n",
    "        count += 1\n",
    "        print(s[i], end=' ')\n",
    "    i += 1"
   ]
  },
  {
   "cell_type": "code",
   "execution_count": null,
   "id": "684a1bb6-d053-4250-b6c1-7b60c5032660",
   "metadata": {},
   "outputs": [],
   "source": [
    "#모음의 개수를 구하고, 모음의 오름차순으로 정렬하여 출력하여라 \n",
    "\n",
    "s = input('영어 문장을 입력하세요 :')\n",
    "i = 0\n",
    "count = 0\n",
    "print('모음 : ', end = '')\n",
    "data = ['a', 'A', 'e', 'E', 'i', 'I', 'o', 'O', 'u', 'U']\n",
    "\n",
    "while i < len(s):\n",
    "\n",
    "        count += 1\n",
    "        print(s[i], end=' ')\n",
    "    i += 1"
   ]
  },
  {
   "cell_type": "code",
   "execution_count": 95,
   "id": "ed490fdc-90e0-4092-b18f-76240232742a",
   "metadata": {},
   "outputs": [
    {
     "name": "stdout",
     "output_type": "stream",
     "text": [
      ".다있-날-들-볕-에멍구-쥐"
     ]
    }
   ],
   "source": [
    "sentence = '쥐 구멍에 볕 들 날 있다.' #input('문장을 입력해 주세요 : ')\n",
    "i = len(sentence) - 1\n",
    "while i >= 0 :\n",
    "    if sentence[i] == ' ' :\n",
    "        print('-', end='')\n",
    "    else :\n",
    "        print('%s' % sentence[i], end='')\n",
    "    i -= 1"
   ]
  },
  {
   "cell_type": "code",
   "execution_count": 97,
   "id": "a7c76a6d-bd29-4151-98cf-c1d16d711b0a",
   "metadata": {},
   "outputs": [
    {
     "name": "stdout",
     "output_type": "stream",
     "text": [
      "['사과', '오렌지', '딸기', '포도', '감', '키위', '멜론', '수박']\n",
      "[5, 10.2, '탁구', True, [4, 5, 6]]\n",
      "[1, 3, 5, 7, 9]\n"
     ]
    }
   ],
   "source": [
    "fruits = ['사과', '오렌지', '딸기', '포도', '감', '키위', '멜론', '수박']\n",
    "list1 = [5, 10.2, '탁구', True, [4, 5, 6]]\n",
    "numbers = list(range(1, 10, 2))\n",
    "\n",
    "print(fruits)\n",
    "print(list1)\n",
    "print(numbers)"
   ]
  },
  {
   "cell_type": "code",
   "execution_count": 103,
   "id": "d51060ce-87ae-4a74-95aa-6f97db77d351",
   "metadata": {},
   "outputs": [
    {
     "name": "stdout",
     "output_type": "stream",
     "text": [
      "2\n",
      "[10, 20, 40, 50, 60, 70, 80, 90, 100]\n",
      "[10, 20, 40, 50, 60, 70, 80, 100]\n",
      "[]\n"
     ]
    }
   ],
   "source": [
    "a = [10, 20, 30, 40, 50, 60, 70, 80, 90,100]\n",
    "x = a.index(30)\n",
    "print(x)\n",
    "a.pop(x) # del a[x]와 동일\n",
    "print(a)\n",
    "a.remove(90)\n",
    "print(a)\n",
    "a.clear()\n",
    "print(a)"
   ]
  },
  {
   "cell_type": "code",
   "execution_count": 117,
   "id": "cb1ae088-0ec8-4444-837f-d8c01a3c2cdc",
   "metadata": {},
   "outputs": [
    {
     "name": "stdout",
     "output_type": "stream",
     "text": [
      "['a', 's', 'D', 'f', 'y', 'Z', 'v', 'Q', 'z', 'b', 'S', 'F', 'A']\n",
      "['A', 'D', 'F', 'Q', 'S', 'Z', 'a', 'b', 'f', 's', 'v', 'y', 'z']\n"
     ]
    }
   ],
   "source": [
    "s= list('asDfyZvQzbSFA')\n",
    "print(s)\n",
    "s.sort()\n",
    "print(s)"
   ]
  },
  {
   "cell_type": "code",
   "execution_count": null,
   "id": "19c46ca9-45d6-46de-ae8e-180f1d7a472d",
   "metadata": {},
   "outputs": [],
   "source": []
  }
 ],
 "metadata": {
  "kernelspec": {
   "display_name": "Python 3 (ipykernel)",
   "language": "python",
   "name": "python3"
  },
  "language_info": {
   "codemirror_mode": {
    "name": "ipython",
    "version": 3
   },
   "file_extension": ".py",
   "mimetype": "text/x-python",
   "name": "python",
   "nbconvert_exporter": "python",
   "pygments_lexer": "ipython3",
   "version": "3.12.4"
  }
 },
 "nbformat": 4,
 "nbformat_minor": 5
}
