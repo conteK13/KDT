{

 "cells": [
  {
   "cell_type": "code",
   "execution_count": 5,
   "id": "97265712-13d3-44b1-8e95-77286571bef7",
   "metadata": {},
   "outputs": [
    {
     "name": "stdin",
     "output_type": "stream",
     "text": [
      "좌석 종류를 입력해 주세요(1:일반실, 2:특실) :  1\n"
     ]
    },
    {
     "name": "stdout",
     "output_type": "stream",
     "text": [
      "일반실입니다.\n"
     ]
    }
   ],
   "source": [
    "# Q3-2 숫자로 열차 좌석 판별하기\n",
    "\n",
    "a = int(input('좌석 종류를 입력해 주세요(1:일반실, 2:특실) : '))\n",
    "seat1 = '일반실'\n",
    "seat2 = '특실'\n",
    "if a == 1 :\n",
    "    print('%s입니다.' % seat1)\n",
    "elif a == 2 :\n",
    "    print('%s입니다.' % seat2)"
   ]
  },
  {
   "cell_type": "code",
   "execution_count": 13,
   "id": "e0c9ae5f-05a5-4b2b-9653-07cde9521c3e",
   "metadata": {},
   "outputs": [
    {
     "name": "stdin",
     "output_type": "stream",
     "text": [
      "좌석 종류를 입력해 주세요(1:일반실, 2:특실) :  1\n"
     ]
    },
    {
     "name": "stdout",
     "output_type": "stream",
     "text": [
      "일반실입니다.\n"
     ]
    }
   ],
   "source": [
    "#Q3-2 숫자로 열차 좌석 판별하기-2\n",
    "\n",
    "a = int(input('좌석 종류를 입력해 주세요(1:일반실, 2:특실) : '))\n",
    "\n",
    "seats = ['일반실','특실'] \n",
    "print('%s입니다.' % seats[a-1])     #index가 0부터 시작하니까 -1을 해줌"
   ]
  },
  {
   "cell_type": "code",
   "execution_count": 15,
   "id": "16dcb956-ad42-4c56-ad62-75845c5cdffa",
   "metadata": {},
   "outputs": [
    {
     "name": "stdin",
     "output_type": "stream",
     "text": [
      "숫자를 입력하세요 :  34\n"
     ]
    },
    {
     "name": "stdout",
     "output_type": "stream",
     "text": [
      "34은(는) 4의 배수도 5의 배수도 아니다.\n"
     ]
    }
   ],
   "source": [
    "#Q3-3 4의 배수/5의 배수 판별하기\n",
    "\n",
    "a = int(input(\"숫자를 입력하세요 : \"))\n",
    "\n",
    "if a%4 == 0 and a%5== 0:\n",
    "    print(a,\"은(는) 4의 배수이자 5의 배수이다.\", sep = \"\")\n",
    "elif a%4 ==0:\n",
    "    print(a,\"은(는) 4의 배수이다.\", sep = \"\")\n",
    "elif a%5 ==0:\n",
    "    print(a,\"은(는) 5의 배수이다.\", sep = \"\")\n",
    "else:\n",
    "    print(a,\"은(는) 4의 배수도 5의 배수도 아니다.\", sep = \"\")\n"
   ]
  },
  {
   "cell_type": "code",
   "execution_count": 23,
   "id": "6cef77b6-5104-4c73-8548-00610baf8b4c",
   "metadata": {},
   "outputs": [
    {
     "name": "stdin",
     "output_type": "stream",
     "text": [
      "영어 알파벳을 입력하세요 :  a\n"
     ]
    },
    {
     "name": "stdout",
     "output_type": "stream",
     "text": [
      "a은(는) 모음이다.\n"
     ]
    }
   ],
   "source": [
    "#Q3-4 모음/자음 판별하기\n",
    "\n",
    "char = input('영어 알파벳을 입력하세요 : ')\n",
    "char2 = char.upper()                    #모든 글자를 대문자로 만들어서 비교하기 위함.\n",
    "if char2 == 'A' or char2 == 'E' or char2 == 'I'or char2 == 'O' or char2 == 'U' :\n",
    "    print('%s은(는) 모음이다.' % char)\n",
    "else :\n",
    "    print('%s은(는) 자음이다.' % char)"
   ]
  },
  {
   "cell_type": "code",
   "execution_count": 27,
   "id": "718d8f99-fb3a-4b09-b507-4ce0a72de4ad",
   "metadata": {},
   "outputs": [
    {
     "name": "stdin",
     "output_type": "stream",
     "text": [
      "영어 알파벳을 입력하세요 :  w\n"
     ]
    },
    {
     "name": "stdout",
     "output_type": "stream",
     "text": [
      "w은(는) 자음이다.\n"
     ]
    }
   ],
   "source": [
    "#Q3-4 모음/자음 판별하기-2\n",
    "\n",
    "char = input('영어 알파벳을 입력하세요 : ')\n",
    "char2 = char.upper()                    #모든 글자를 대문자로 만들어서 비교하기 위함.\n",
    "\n",
    "vowel = ['A', 'E', 'I', 'O', 'U']\n",
    "\n",
    "if char2 in vowel :\n",
    "    print('%s은(는) 모음이다.' % char)\n",
    "else :\n",
    "    print('%s은(는) 자음이다.' % char)"
   ]
  },
  {
   "cell_type": "code",
   "execution_count": 31,
   "id": "e30e464d-9735-41e6-8f4d-06a109c065eb",
   "metadata": {},
   "outputs": [
    {
     "name": "stdin",
     "output_type": "stream",
     "text": [
      "키를 입력해 주세요 :  170\n",
      "몸무게를 입력해 주세요 :  65\n"
     ]
    },
    {
     "name": "stdout",
     "output_type": "stream",
     "text": [
      "------------------------------\n",
      "키 : 170cm\n",
      "몸무게 : 65kg\n",
      "딱 보기 좋습니다.\n",
      "------------------------------\n"
     ]
    }
   ],
   "source": [
    "#Q3-5 구문으로 체형 판별하기\n",
    "\n",
    "height = int(input('키를 입력해 주세요 : '))\n",
    "weight = int(input('몸무게를 입력해 주세요 : '))\n",
    "a = (height - 100) * 0.9\n",
    "\n",
    "print('-' * 30)\n",
    "print('키 : %dcm' % height)\n",
    "print('몸무게 : %dkg' % weight)\n",
    "\n",
    "if weight > a :\n",
    "    print('딱 보기 좋습니다.')\n",
    "else :\n",
    "    print('표준(또는 마른) 체형입니다.')\n",
    "    \n",
    "print('-' * 30)"
   ]
  },
  {
   "cell_type": "code",
   "execution_count": 41,
   "id": "efe170e3-13ba-4723-ad27-41ac81a07278",
   "metadata": {},
   "outputs": [
    {
     "name": "stdin",
     "output_type": "stream",
     "text": [
      "물건 구매가를 입력하세요 :  60000\n"
     ]
    },
    {
     "name": "stdout",
     "output_type": "stream",
     "text": [
      "구매가 : 60000원\n",
      "할인율 : 7.5%\n",
      "할인 금액 : 4500원\n",
      "지불 금액 : 55500원\n"
     ]
    }
   ],
   "source": [
    "#Q3-6 구문으로 지불금액 계산하기\n",
    "\n",
    "buy = int(input('물건 구매가를 입력하세요 : '))\n",
    "if buy >= 10000 and buy < 50000 :\n",
    "    rate = 5\n",
    "elif buy >= 50000 and buy < 300000 :\n",
    "    rate = 7.5\n",
    "elif buy >= 300000 :\n",
    "    rate = 10\n",
    "else :\n",
    "    rate = 0 \n",
    "\n",
    "discount = buy * rate / 100\n",
    "pay = buy - discount\n",
    "\n",
    "print('구매가 : %.0f원' % buy)\n",
    "print('할인율 : %.1f%%' % rate)\n",
    "print('할인 금액 : %.0f원' % (discount)\n",
    "print('지불 금액 : %.0f원' % (pay)"
   ]
  },
  {
   "cell_type": "code",
   "execution_count": null,
   "id": "1c3ba473-69a5-4da8-b1b0-57dc007cdf13",
   "metadata": {},
   "outputs": [],
   "source": [
    "#Q3-6 구문으로 지불금액 계산하기-2\n",
    "\n",
    "buy = int(input('물건 구매가를 입력하세요 : '))\n",
    "\n",
    "#큰수부터 정렬시킴으로서 불필요한 and 연산을 삭제함.\n",
    "if buy >= 300000 :\n",
    "    rate = 10\n",
    "    \n",
    "elif buy >= 50000:\n",
    "    rate = 7.5\n",
    "\n",
    "if buy >= 10000:\n",
    "    rate = 5\n",
    "\n",
    "else :\n",
    "    rate = 0 \n",
    "\n",
    "discount = buy * rate * 0.01\n",
    "pay = buy - discount\n",
    "\n",
    "print('구매가 : %.0f원' % buy)\n",
    "print('할인율 : %.1f%%' % rate)\n",
    "print('할인 금액 : %.0f원' % (discount))\n",
    "print('지불 금액 : %.0f원' % (pay)"
   ]
  },
  {
   "cell_type": "code",
   "execution_count": 53,
   "id": "de674d14-25c0-48e6-aaf5-3d2ea6d0fa8c",
   "metadata": {},
   "outputs": [
    {
     "name": "stdin",
     "output_type": "stream",
     "text": [
      "첫 번째 정수를 입력하세요 :  34\n",
      "두 번째 정수를 입력하세요 :  33\n",
      "세 번째 정수를 입력하세요 :  27\n"
     ]
    },
    {
     "name": "stdout",
     "output_type": "stream",
     "text": [
      "입력된 세 수 34, 33, 27 중에서 가장 큰 수는 34 입니다.\n"
     ]
    }
   ],
   "source": [
    "#Q3-7.세 수 중 큰수 찾기\n",
    "\n",
    "num1 = int(input('첫 번째 정수를 입력하세요 : '))\n",
    "num2 = int(input('두 번째 정수를 입력하세요 : '))\n",
    "num3 = int(input('세 번째 정수를 입력하세요 : '))\n",
    "if (num1 >= num2) and (num1 >= num3) :\n",
    "    largest = num1\n",
    "elif (num2 >= num1) and (num2 >= num3) :\n",
    "    largest = num2\n",
    "else :\n",
    "    largest = num3\n",
    "print('입력된 세 수 %d, %d, %d 중에서 가장 큰 수는 %d 입니다.' % (num1, num2, num3, largest))"
   ]
  },
  {
   "cell_type": "code",
   "execution_count": 59,
   "id": "ec474b37-acb5-4c4a-a752-64987069286c",
   "metadata": {},
   "outputs": [
    {
     "name": "stdin",
     "output_type": "stream",
     "text": [
      "첫 번째 정수를 입력하세요 :  34\n",
      "두 번째 정수를 입력하세요 :  33\n",
      "세 번째 정수를 입력하세요 :  27\n"
     ]
    },
    {
     "name": "stdout",
     "output_type": "stream",
     "text": [
      "입력된 세 수 34, 33, 27 중에서 가장 큰 수는 34 입니다.\n"
     ]
    }
   ],
   "source": [
    "#Q3-7세 수 중 큰수 찾기 -2\n",
    "\n",
    "num1 = int(input('첫 번째 정수를 입력하세요 : '))\n",
    "num2 = int(input('두 번째 정수를 입력하세요 : '))\n",
    "num3 = int(input('세 번째 정수를 입력하세요 : '))\n",
    "\n",
    "print('입력된 세 수 %d, %d, %d 중에서 가장 큰 수는 %d 입니다.' % (num1, num2, num3, max(num1, num2, num3))) #내장함수 사용"
   ]
  },
  {
   "cell_type": "code",
   "execution_count": 65,
   "id": "0c2f09c2-10f1-4998-91ce-ef65f5163ac9",
   "metadata": {},
   "outputs": [
    {
     "name": "stdin",
     "output_type": "stream",
     "text": [
      "서비스 만족도를 입력해주세요(예: 1 또는 2 또는 3) :  2\n",
      "음식값을 입력해 주세요(예:8000) :  9000\n"
     ]
    },
    {
     "name": "stdout",
     "output_type": "stream",
     "text": [
      "서비스 만족도 : 만족, 팁 : 900원\n"
     ]
    }
   ],
   "source": [
    "#Q3-8.고객 만족도에 따른 팁 계산하기\n",
    "\n",
    "a = int(input('서비스 만족도를 입력해주세요(예: 1 또는 2 또는 3) : '))\n",
    "price = int(input('음식값을 입력해 주세요(예:8000) : '))\n",
    "if a==1 :\n",
    "    tip = int(price * 0.2)\n",
    "    service = '매우 만족'\n",
    "elif a==2 :\n",
    "    tip = int(price * 0.1)\n",
    "    service = '만족'\n",
    "else :\n",
    "    tip = int(price * 0.05)\n",
    "    service = '불만족'\n",
    "    \n",
    "print('서비스 만족도 : %s, 팁 : %d원' % (service, tip))\n"
   ]
  },
  {
   "cell_type": "code",
   "execution_count": 67,
   "id": "b6075a08-6904-463b-973d-b40555ba4a68",
   "metadata": {},
   "outputs": [
    {
     "name": "stdin",
     "output_type": "stream",
     "text": [
      "서비스 만족도를 입력해주세요(예: 1 또는 2 또는 3) :  2\n",
      "음식값을 입력해 주세요(예:8000) :  9000\n"
     ]
    },
    {
     "name": "stdout",
     "output_type": "stream",
     "text": [
      "서비스 만족도 : 만족, 팁 : 900원\n"
     ]
    }
   ],
   "source": [
    "#Q3-8.고객 만족도에 따른 팁 계산하기-2\n",
    "\n",
    "a = int(input('서비스 만족도를 입력해주세요(예: 1 또는 2 또는 3) : '))\n",
    "price = int(input('음식값을 입력해 주세요(예:8000) : '))\n",
    "\n",
    "services = ['매우 만족', '만족', '불만족'] \n",
    "tips = [0.2, 0.1, 0.05]\n",
    "\n",
    "tip = int(price * tips[a-1])\n",
    "service = services[a-1]\n",
    "\n",
    "print('서비스 만족도 : %s, 팁 : %d원' % (service, tip))\n"
   ]
  },
  {
   "cell_type": "code",
   "execution_count": 73,
   "id": "14848ce7-3570-4252-a83b-91218efe6e1e",
   "metadata": {},
   "outputs": [
    {
     "name": "stdin",
     "output_type": "stream",
     "text": [
      "시작 수를 입력하세요 :  100\n",
      "끝 수를 입력하세요 :  200\n"
     ]
    },
    {
     "name": "stdout",
     "output_type": "stream",
     "text": [
      "--------------------------------------------------\n",
      "100에서 200까지 5의 배수가 아닌 수의 합계 : 12000\n"
     ]
    }
   ],
   "source": [
    "#Q4-1.5의 배수가 아닌 수의 합계 구하기\n",
    "n1 = int(input('시작 수를 입력하세요 : '))\n",
    "n2 = int(input('끝 수를 입력하세요 : '))\n",
    "sum = 0\n",
    "\n",
    "for i in range(n1, n2+1) :\n",
    "    if i%5 != 0 :\n",
    "        sum += i\n",
    "    \n",
    "print('-' * 50)\n",
    "print('%d에서 %d까지 5의 배수가 아닌 수의 합계 : %d' %(n1, n2, sum))"
   ]
  },
  {
   "cell_type": "code",
   "execution_count": 75,
   "id": "48230858-7c0a-479e-aa8f-9f57f0e74b25",
   "metadata": {},
   "outputs": [
    {
     "name": "stdin",
     "output_type": "stream",
     "text": [
      "하이픈(-)을 포함한 휴대폰 번호를 입력하세요:  010-1234-5678\n"
     ]
    },
    {
     "name": "stdout",
     "output_type": "stream",
     "text": [
      "01012345678"
     ]
    }
   ],
   "source": [
    "#전화번호에서 하이픈(-) 삭제하기\n",
    "number = input('하이픈(-)을 포함한 휴대폰 번호를 입력하세요: ')\n",
    "for x in number  :\n",
    "    if x != '-' :\n",
    "        print('%s' % x, end='')\n"
   ]
  },
  {
   "cell_type": "code",
   "execution_count": 97,
   "id": "43104db5-92ce-45e3-b1e6-a5f5e183e782",
   "metadata": {},
   "outputs": [
    {
     "name": "stdin",
     "output_type": "stream",
     "text": [
      "하이픈(-)을 뺀 11자리의 휴대폰 번호를 입력하세요:  123456789ab\n"
     ]
    },
    {
     "name": "stdout",
     "output_type": "stream",
     "text": [
      "123-4567-89ab\n"
     ]
    }
   ],
   "source": [
    "#전화번호에 하이픈(-) 추가하기\n",
    "phone = input('하이픈(-)을 뺀 11자리의 휴대폰 번호를 입력하세요: ')\n",
    "number = '';\n",
    "for i in range(0, len(phone)):\n",
    "    if i == 2 :\n",
    "        number = number + (phone[2]+'-')\n",
    "    elif i == 6 :\n",
    "        number = number + (phone[6]+'-')\n",
    "    else :\n",
    "        number = number + phone[i]\n",
    "print(number)"
   ]
  },
  {
   "cell_type": "code",
   "execution_count": 79,
   "id": "b2c37d46-8319-4db3-9766-52e5a8d7ea16",
   "metadata": {},
   "outputs": [
    {
     "name": "stdout",
     "output_type": "stream",
     "text": [
      "--------------------------------------------------\n",
      "센티미터(cm) 인치(inch) 피트(ft) 야드(yd)\n",
      "--------------------------------------------------\n",
      "      10        3.9        0.3        0.1\n",
      "      20        7.9        0.7        0.2\n",
      "      30       11.8        1.0        0.3\n",
      "      40       15.7        1.3        0.4\n",
      "      50       19.7        1.6        0.5\n",
      "      60       23.6        2.0        0.7\n",
      "      70       27.6        2.3        0.8\n",
      "      80       31.5        2.6        0.9\n",
      "      90       35.4        3.0        1.0\n",
      "     100       39.4        3.3        1.1\n",
      "     110       43.3        3.6        1.2\n",
      "     120       47.2        3.9        1.3\n",
      "     130       51.2        4.3        1.4\n",
      "     140       55.1        4.6        1.5\n",
      "     150       59.1        4.9        1.6\n",
      "     160       63.0        5.2        1.7\n",
      "     170       66.9        5.6        1.9\n",
      "     180       70.9        5.9        2.0\n",
      "     190       74.8        6.2        2.1\n",
      "     200       78.7        6.6        2.2\n",
      "--------------------------------------------------\n"
     ]
    }
   ],
   "source": [
    "#길이 단위 환산표 만들기\n",
    "\n",
    "print('-' * 50)\n",
    "print('센티미터(cm) 인치(inch) 피트(ft) 야드(yd)')\n",
    "print('-' * 50)\n",
    "for cm in range(10, 201, 10):\n",
    "    inch = cm * 0.393701\n",
    "    ft = cm * 0.032808\n",
    "    yd = cm * 0.010936\n",
    "    print('%8d %10.1f %10.1f %10.1f' % (cm, inch, ft, yd))\n",
    "print('-' * 50)"
   ]
  },
  {
   "cell_type": "code",
   "execution_count": 81,
   "id": "2fd5003e-a122-4a09-8f1d-a004fc417a22",
   "metadata": {},
   "outputs": [
    {
     "name": "stdout",
     "output_type": "stream",
     "text": [
      "----------------------------------------\n",
      "킬로그램(kg) 파운드(lb) 온스(oz)\n",
      "----------------------------------------\n",
      "      10       22.0      352.7\n",
      "      15       33.1      529.1\n",
      "      20       44.1      705.5\n",
      "      25       55.1      881.8\n",
      "      30       66.1     1058.2\n",
      "      35       77.2     1234.6\n",
      "      40       88.2     1411.0\n",
      "      45       99.2     1587.3\n",
      "      50      110.2     1763.7\n",
      "      55      121.3     1940.1\n",
      "      60      132.3     2116.4\n",
      "      65      143.3     2292.8\n",
      "      70      154.3     2469.2\n",
      "      75      165.3     2645.5\n",
      "      80      176.4     2821.9\n",
      "      85      187.4     2998.3\n",
      "      90      198.4     3174.7\n",
      "      95      209.4     3351.0\n",
      "     100      220.5     3527.4\n",
      "----------------------------------------\n"
     ]
    }
   ],
   "source": [
    "#무게 단위 환산표 만들기\n",
    "print('-' * 40)\n",
    "print('킬로그램(kg) 파운드(lb) 온스(oz)')\n",
    "print('-' * 40)\n",
    "for kg in range(10, 101, 5) :\n",
    "    lb = kg * 2.204623\n",
    "    oz = kg * 35.273962\n",
    "    print('%8d %10.1f %10.1f' % (kg, lb, oz))\n",
    "print('-' * 40)"
   ]
  },
  {
   "cell_type": "code",
   "execution_count": 83,
   "id": "b79ffcc9-39b6-4f99-b3ec-32f60e80bae9",
   "metadata": {},
   "outputs": [
    {
     "name": "stdin",
     "output_type": "stream",
     "text": [
      "숫자를 입력하세요 :  3049894\n"
     ]
    },
    {
     "name": "stdout",
     "output_type": "stream",
     "text": [
      "입력된 숫자 중 홀수의 개수 : 3개\n"
     ]
    }
   ],
   "source": [
    "#홀수 개수 세기\n",
    "number = input('숫자를 입력하세요 : ')\n",
    "total = 0\n",
    "for a in number :\n",
    "    a = int(a)\n",
    "    if a%2 == 1 :\n",
    "        total += 1\n",
    "print('입력된 숫자 중 홀수의 개수 : %d개' % total)"
   ]
  },
  {
   "cell_type": "code",
   "execution_count": 131,
   "id": "7d071586-b194-432d-bd01-8e343b6409b6",
   "metadata": {},
   "outputs": [
    {
     "name": "stdout",
     "output_type": "stream",
     "text": [
      "\n",
      "*\n",
      "**\n",
      "***\n",
      "****\n",
      "*****\n",
      "******\n",
      "*******\n",
      "********\n",
      "*********\n"
     ]
    }
   ],
   "source": [
    "#별표(*)로 특정 형태 만들기 1\n",
    "for i in range(1,11) :\n",
    "    for j in range(1, i+1) :\n",
    "        print('*', end='')\n",
    "    print()\n"
   ]
  },
  {
   "cell_type": "code",
   "execution_count": 93,
   "id": "0f615d36-37da-46ea-ba35-a5ef5cac7977",
   "metadata": {},
   "outputs": [
    {
     "name": "stdout",
     "output_type": "stream",
     "text": [
      "         *\n",
      "        **\n",
      "       ***\n",
      "      ****\n",
      "     *****\n",
      "    ******\n",
      "   *******\n",
      "  ********\n",
      " *********\n",
      "**********\n"
     ]
    }
   ],
   "source": [
    "#별표(*)로 특정 형태 만들기 1\n",
    "for i in range(1,11) :\n",
    "    for j in range(1, 11-i ) :\n",
    "        print(' ', end='')\n",
    "    for k in range(1, i+1 ) :\n",
    "        print('*', end='')\n",
    "    print()"
   ]
  },
  {
   "cell_type": "code",
   "execution_count": 123,
   "id": "e1b6c784-d29e-4f45-98cd-1df0ff1bc2db",
   "metadata": {},
   "outputs": [
    {
     "name": "stdout",
     "output_type": "stream",
     "text": [
      "1 2 3 4 5enter6 7 8 9 10\n"
     ]
    }
   ],
   "source": [
    "#1, 2, 3, 4, 5\n",
    "\n",
    "print(1, 2, 3, 4, 5, end=\"enter\")\n",
    "print(6, 7, 8, 9, 10)"
   ]
  },
  {
   "cell_type": "code",
   "execution_count": 129,
   "id": "0710aa5a-6e37-4134-a459-9c80a32fd0d0",
   "metadata": {},
   "outputs": [
    {
     "name": "stdout",
     "output_type": "stream",
     "text": [
      "(1, 1)(1, 2)(1, 3)(1, 4)(1, 5)(1, 6)(1, 7)(1, 8)(1, 9)(1, 10)\n",
      "(2, 1)(2, 2)(2, 3)(2, 4)(2, 5)(2, 6)(2, 7)(2, 8)(2, 9)(2, 10)\n",
      "(3, 1)(3, 2)(3, 3)(3, 4)(3, 5)(3, 6)(3, 7)(3, 8)(3, 9)(3, 10)\n",
      "(4, 1)(4, 2)(4, 3)(4, 4)(4, 5)(4, 6)(4, 7)(4, 8)(4, 9)(4, 10)\n",
      "(5, 1)(5, 2)(5, 3)(5, 4)(5, 5)(5, 6)(5, 7)(5, 8)(5, 9)(5, 10)\n",
      "(6, 1)(6, 2)(6, 3)(6, 4)(6, 5)(6, 6)(6, 7)(6, 8)(6, 9)(6, 10)\n",
      "(7, 1)(7, 2)(7, 3)(7, 4)(7, 5)(7, 6)(7, 7)(7, 8)(7, 9)(7, 10)\n",
      "(8, 1)(8, 2)(8, 3)(8, 4)(8, 5)(8, 6)(8, 7)(8, 8)(8, 9)(8, 10)\n",
      "(9, 1)(9, 2)(9, 3)(9, 4)(9, 5)(9, 6)(9, 7)(9, 8)(9, 9)(9, 10)\n",
      "(10, 1)(10, 2)(10, 3)(10, 4)(10, 5)(10, 6)(10, 7)(10, 8)(10, 9)(10, 10)\n"
     ]
    }
   ],
   "source": [
    "for i in range(1, 11):\n",
    "    for j in range(1, 11):\n",
    "        print((i,j),end=\"\")\n",
    "    print()"
   ]
  }
 ],
 "metadata": {
  "kernelspec": {
   "display_name": "Python 3 (ipykernel)",
   "language": "python",
   "name": "python3"
  },
  "language_info": {
   "codemirror_mode": {
    "name": "ipython",
    "version": 3
   },
   "file_extension": ".py",
   "mimetype": "text/x-python",
   "name": "python",
   "nbconvert_exporter": "python",
   "pygments_lexer": "ipython3",
   "version": "3.12.4"
  }
 },
 "nbformat": 4,
 "nbformat_minor": 5
}
