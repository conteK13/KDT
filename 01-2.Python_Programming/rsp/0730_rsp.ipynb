{
 "cells": [
  {
   "cell_type": "code",
   "execution_count": null,
   "id": "03ab2bcb-0ad6-4a37-aca7-72b31d4ddbea",
   "metadata": {},
   "outputs": [],
   "source": [
    "import random\n",
    "def whoWin(x, y) :   #x는 나, y는 상대\n",
    "    if x == '가위' :\n",
    "        if y == '가위' :\n",
    "            msg = '무승부입니다!'\n",
    "        elif y == '바위' :\n",
    "            msg = '당신의 승리입니다!'\n",
    "        else :\n",
    "            msg = '나의 승리입니다!'\n",
    "    elif x == '바위' :\n",
    "        if y == '가위' :\n",
    "            msg = '나의 승리입니다!'\n",
    "        elif y == '바위' :\n",
    "            msg = '무승부입니다!'\n",
    "        else :\n",
    "            msg = '당신의 승리입니다!'\n",
    "    else :\n",
    "        if y == '가위' :\n",
    "            msg = '당신의 승리입니다!'\n",
    "        elif y == '바위' :\n",
    "            msg = '나의 승리입니다!'\n",
    "        else :\n",
    "            msg = '무승부입니다!'\n",
    "    return msg\n",
    "\n",
    "print('=' * 30)\n",
    "print('가위 바위 보 게임')\n",
    "print('=' * 30)\n",
    "gawibawibo = ['가위','바위', '보']\n",
    "again = 'y'\n",
    "while again == 'y' :\n",
    "    me = random.choice(gawibawibo)\n",
    "    you = random.choice(gawibawibo)\n",
    "    result = whoWin(me, you)\n",
    "    print('나 : %s' % me)\n",
    "    print('당신 : %s' % you)\n",
    "    print(result)\n",
    "    print('-' * 30)\n",
    "    again = input('계속하려면 y를 입력하세요!')\n",
    "    print()"
   ]
  }
 ],
 "metadata": {
  "kernelspec": {
   "display_name": "Python 3 (ipykernel)",
   "language": "python",
   "name": "python3"
  },
  "language_info": {
   "codemirror_mode": {
    "name": "ipython",
    "version": 3
   },
   "file_extension": ".py",
   "mimetype": "text/x-python",
   "name": "python",
   "nbconvert_exporter": "python",
   "pygments_lexer": "ipython3",
   "version": "3.12.4"
  }
 },
 "nbformat": 4,
 "nbformat_minor": 5
}
