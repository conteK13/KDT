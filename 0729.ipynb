{
 "cells": [
  {
   "cell_type": "code",
   "execution_count": 3,
   "id": "a240fb9a-dcc2-444c-a534-5113459ee22a",
   "metadata": {},
   "outputs": [
    {
     "name": "stdout",
     "output_type": "stream",
     "text": [
      "('apple', 'banana', 'cherry', 'orange', 'melon', 'strawberry')\n",
      "6\n",
      "apple\n",
      "banana\n",
      "cherry\n"
     ]
    },
    {
     "ename": "NameError",
     "evalue": "name 'tuple1' is not defined",
     "output_type": "error",
     "traceback": [
      "\u001b[1;31m---------------------------------------------------------------------------\u001b[0m",
      "\u001b[1;31mNameError\u001b[0m                                 Traceback (most recent call last)",
      "Cell \u001b[1;32mIn[3], line 9\u001b[0m\n\u001b[0;32m      7\u001b[0m     \u001b[38;5;28mprint\u001b[39m(x)\n\u001b[0;32m      8\u001b[0m \u001b[38;5;28;01mdel\u001b[39;00m tuple1\n\u001b[1;32m----> 9\u001b[0m \u001b[38;5;28mprint\u001b[39m(\u001b[43mtuple1\u001b[49m)\n",
      "\u001b[1;31mNameError\u001b[0m: name 'tuple1' is not defined"
     ]
    }
   ],
   "source": [
    "tuple1 = ('apple', 'banana', 'cherry')\n",
    "tuple2 = ('orange', 'melon', 'strawberry')\n",
    "tuple3 = tuple1 + tuple2\n",
    "print(tuple3)\n",
    "print(len(tuple3))\n",
    "for x in tuple1 :\n",
    "    print(x)\n",
    "del tuple1    #튜플은 수정, 추가는 안되지만 튜플 자체를 삭제할 순 있다. \n",
    "print(tuple1) #삭제 되어서 not defined 되었음 "
   ]
  },
  {
   "cell_type": "code",
   "execution_count": 5,
   "id": "51cffc81-29b7-403f-930a-83ac39a39e5c",
   "metadata": {},
   "outputs": [
    {
     "name": "stdout",
     "output_type": "stream",
     "text": [
      "구구단표\n",
      "------------------------------\n",
      "2 x 1 = 2\n",
      "2 x 2 = 4\n",
      "2 x 3 = 6\n",
      "2 x 4 = 8\n",
      "2 x 5 = 10\n",
      "2 x 6 = 12\n",
      "2 x 7 = 14\n",
      "2 x 8 = 16\n",
      "2 x 9 = 18\n",
      "------------------------------\n",
      "3 x 1 = 3\n",
      "3 x 2 = 6\n",
      "3 x 3 = 9\n",
      "3 x 4 = 12\n",
      "3 x 5 = 15\n",
      "3 x 6 = 18\n",
      "3 x 7 = 21\n",
      "3 x 8 = 24\n",
      "3 x 9 = 27\n",
      "------------------------------\n",
      "4 x 1 = 4\n",
      "4 x 2 = 8\n",
      "4 x 3 = 12\n",
      "4 x 4 = 16\n",
      "4 x 5 = 20\n",
      "4 x 6 = 24\n",
      "4 x 7 = 28\n",
      "4 x 8 = 32\n",
      "4 x 9 = 36\n",
      "------------------------------\n",
      "5 x 1 = 5\n",
      "5 x 2 = 10\n",
      "5 x 3 = 15\n",
      "5 x 4 = 20\n",
      "5 x 5 = 25\n",
      "5 x 6 = 30\n",
      "5 x 7 = 35\n",
      "5 x 8 = 40\n",
      "5 x 9 = 45\n",
      "------------------------------\n",
      "6 x 1 = 6\n",
      "6 x 2 = 12\n",
      "6 x 3 = 18\n",
      "6 x 4 = 24\n",
      "6 x 5 = 30\n",
      "6 x 6 = 36\n",
      "6 x 7 = 42\n",
      "6 x 8 = 48\n",
      "6 x 9 = 54\n",
      "------------------------------\n",
      "7 x 1 = 7\n",
      "7 x 2 = 14\n",
      "7 x 3 = 21\n",
      "7 x 4 = 28\n",
      "7 x 5 = 35\n",
      "7 x 6 = 42\n",
      "7 x 7 = 49\n",
      "7 x 8 = 56\n",
      "7 x 9 = 63\n",
      "------------------------------\n",
      "8 x 1 = 8\n",
      "8 x 2 = 16\n",
      "8 x 3 = 24\n",
      "8 x 4 = 32\n",
      "8 x 5 = 40\n",
      "8 x 6 = 48\n",
      "8 x 7 = 56\n",
      "8 x 8 = 64\n",
      "8 x 9 = 72\n",
      "------------------------------\n",
      "9 x 1 = 9\n",
      "9 x 2 = 18\n",
      "9 x 3 = 27\n",
      "9 x 4 = 36\n",
      "9 x 5 = 45\n",
      "9 x 6 = 54\n",
      "9 x 7 = 63\n",
      "9 x 8 = 72\n",
      "9 x 9 = 81\n",
      "------------------------------\n"
     ]
    }
   ],
   "source": [
    "#Q6-1 튜플로 구구단표 만들기\n",
    "\n",
    "dans = (2, 3, 4, 5, 6, 7, 8, 9)\n",
    "print('구구단표')\n",
    "print('-' * 30)\n",
    "\n",
    "for dan in dans :\n",
    "    for i in range(1, 10) :\n",
    "        print('%d x %d = %d' % (dan, i , dan*i))\n",
    "    print('-' * 30)"
   ]
  },
  {
   "cell_type": "code",
   "execution_count": 23,
   "id": "9a604b4a-f3ed-41dc-8058-213cb8b0970e",
   "metadata": {},
   "outputs": [
    {
     "name": "stdout",
     "output_type": "stream",
     "text": [
      "{'갤럭시 노트8': 2017, '갤럭시 S9': 2018, '갤럭시 노트10': 2019, '갤럭시 S20': 2020}\n",
      "갤럭시 노트8 => 2017\n",
      "갤럭시 S9 => 2018\n",
      "갤럭시 노트10 => 2019\n",
      "갤럭시 S20 => 2020\n",
      "4\n",
      "dict_items([('갤럭시 노트8', 2017), ('갤럭시 S9', 2018), ('갤럭시 노트10', 2019), ('갤럭시 S20', 2020)])\n",
      "dict_keys(['갤럭시 노트8', '갤럭시 S9', '갤럭시 노트10', '갤럭시 S20'])\n",
      "dict_values([2017, 2018, 2019, 2020])\n"
     ]
    }
   ],
   "source": [
    "phones = {'갤럭시 노트8': 2017,\n",
    "          '갤럭시 S9': 2018,\n",
    "          '갤럭시 노트10': 2019,\n",
    "          '갤럭시 S20': 2020}\n",
    "\n",
    "print(phones)\n",
    "for key in phones :\n",
    "    print('%s => %s' % (key, phones[key]))\n",
    "print(len(phones))\n",
    "\n",
    "print(phones.items())   #결과값을 튜플로 쌍을 만들어, list형태로 출력\n",
    "print(phones.keys())    #결과값이 list형태로 출력\n",
    "print(phones.values())  #결과값이 list형태로 출력\n",
    "\n",
    "# items() : key, value를 반환함\n",
    "# keys() : key를 반환함\n",
    "# values() : value만 반환함\n"
   ]
  },
  {
   "cell_type": "code",
   "execution_count": 33,
   "id": "223af389-0c83-4cd8-82de-32325105248c",
   "metadata": {},
   "outputs": [
    {
     "name": "stdout",
     "output_type": "stream",
     "text": [
      "['1', '8', 'A', 'E', 'a']\n"
     ]
    }
   ],
   "source": [
    "list1 = ['1', 'A', '8', 'a', 'E']\n",
    "list1.sort()\n",
    "print(list1)"
   ]
  },
  {
   "cell_type": "code",
   "execution_count": 59,
   "id": "352a68d1-da1b-40bf-b21e-3f5ba8fe26f2",
   "metadata": {},
   "outputs": [
    {
     "name": "stdout",
     "output_type": "stream",
     "text": [
      "['apple', 'banana', 'cherry', 'orange', 'melon', 'strawberry']\n",
      "['apple', 'banana', 'cherry', 'orange', 'melon', 'strawberry']\n"
     ]
    }
   ],
   "source": [
    "#extend()함수를 잘못 사용하는 예시\n",
    "list1 = ['apple', 'banana', 'cherry']\n",
    "list2 = ['orange', 'melon', 'strawberry']\n",
    "list3 = [1, 2, 3]\n",
    "list4 = [4, 5, 6]\n",
    "\n",
    "list5 = list1+list2 #list1과 2의 값은 변하지 않음\n",
    "print(list5)\n",
    "\n",
    "#list5 = list1.extend(list2)\n",
    "list1.extend(list2) #list1의 값 변화 \n",
    "list5 = list1\n",
    "print(list5)"
   ]
  },
  {
   "cell_type": "code",
   "execution_count": 61,
   "id": "2716b62b-fc84-4421-81c2-578cfdb82b78",
   "metadata": {},
   "outputs": [
    {
     "name": "stdout",
     "output_type": "stream",
     "text": [
      "7은(는) 홀수이다.\n",
      "16은(는) 짝수이다.\n"
     ]
    }
   ],
   "source": [
    "def even_odd(num) :\n",
    "    if num % 2 == 0 :\n",
    "        print('%d은(는) 짝수이다.' % num)\n",
    "    else :\n",
    "        print('%d은(는) 홀수이다.' % num)\n",
    "\n",
    "even_odd(7)\n",
    "even_odd(16)"
   ]
  },
  {
   "cell_type": "code",
   "execution_count": 63,
   "id": "6b26a7f3-3f84-493d-b4c9-1c6a5d11cb83",
   "metadata": {},
   "outputs": [
    {
     "name": "stdout",
     "output_type": "stream",
     "text": [
      "김지영님은 빨강을 좋아하지 않습니다.\n",
      "홍채영님은 노랑을 조금 좋아합니다.\n",
      "진소진님은 파랑을 매우 좋아합니다.\n"
     ]
    }
   ],
   "source": [
    "def favorate_color(name, color, amount) :\n",
    "    if (amount == 1) :\n",
    "        print('%s님은 %s을 좋아하지 않습니다.' % (name, color))\n",
    "    elif (amount == 2) :\n",
    "        print('%s님은 %s을 조금 좋아합니다.' % (name, color))\n",
    "    else :\n",
    "        print('%s님은 %s을 매우 좋아합니다.' % (name, color))\n",
    "favorate_color('김지영', '빨강', 1)\n",
    "favorate_color('홍채영', '노랑', 2)\n",
    "favorate_color('진소진', '파랑', 3)"
   ]
  },
  {
   "cell_type": "code",
   "execution_count": 65,
   "id": "d4ef026a-81c2-4628-b864-862f1de855a2",
   "metadata": {},
   "outputs": [
    {
     "name": "stdout",
     "output_type": "stream",
     "text": [
      "3과목의 평균 : 90.00\n",
      "4과목의 평균 : 81.75\n",
      "5과목의 평균 : 79.40\n"
     ]
    }
   ],
   "source": [
    "def average(*scores) :\n",
    "    sum = 0\n",
    "    for i in range(len(scores)) :\n",
    "        sum += scores[i]\n",
    "    avg = sum/len(scores)\n",
    "    print('%d과목의 평균 : %.2f' % (len(scores), avg))\n",
    "    \n",
    "average(80, 90, 100)\n",
    "average(75, 80, 94, 78)\n",
    "average(80, 73, 76, 86, 82)"
   ]
  },
  {
   "cell_type": "code",
   "execution_count": 97,
   "id": "3554cf9f-06eb-47a2-92b8-b5cc97655f75",
   "metadata": {},
   "outputs": [
    {
     "name": "stdout",
     "output_type": "stream",
     "text": [
      "y= 20 id = 140724893924376\n",
      "메인 : x =  10 , id = 140724893924056\n",
      "func() : x =  100 , id = 140724893926936\n",
      "y= 20 id = 140724893924376\n",
      "y+30= 50 id = 140724893925336\n",
      "메인 : x =  10 , id = 140724893924056\n",
      "메인\n"
     ]
    }
   ],
   "source": [
    "# 서브 루틴 : func() 함수\n",
    "def func(x) :\n",
    "    x = 100\n",
    "    print('func() : x = ', x, ', id =', id(x))  #stack에 있는 x의 id값(전역변수 x와 id값이 다름)\n",
    "    #print('y=',y, 'id =', id(y))    #단순 print는 error x\n",
    "    #y = y+30                        #연산하면 error 발생\n",
    "                                    #바깥쪽 data를 가져올 순 있지만, 수정은 x\n",
    "\n",
    "    #이것을 해결하기 위한 것이 global\n",
    "    global y    #stack에 있는 y의 id값과 동일\n",
    "    print('y=',y, 'id =', id(y))\n",
    "    y = y+30\n",
    "    print('y+30=',y, 'id =', id(y))\n",
    "# 메인 루틴\n",
    "#id() : id()함수는 객체의 고유 값을 리턴\n",
    "x = 10\n",
    "y = 20\n",
    "print('y=', y, 'id =', id(y))\n",
    "\n",
    "print('메인 : x = ', x, ', id =', id(x)) #shared data에 있는 x의 id값\n",
    "func(x)\n",
    "print('메인 : x = ', x, ', id =', id(x))\n",
    "print('메인')"
   ]
  },
  {
   "cell_type": "code",
   "execution_count": 99,
   "id": "41680cd2-f8f6-4b75-8888-e889fd1e5c6e",
   "metadata": {},
   "outputs": [
    {
     "name": "stdin",
     "output_type": "stream",
     "text": [
      "원의 반지름을 입력하세요 :  10\n"
     ]
    },
    {
     "name": "stdout",
     "output_type": "stream",
     "text": [
      "반지름 : 10, 원의 면적 : 314.00\n"
     ]
    },
    {
     "name": "stdin",
     "output_type": "stream",
     "text": [
      "원의 반지름을 입력하세요 :  20\n"
     ]
    },
    {
     "name": "stdout",
     "output_type": "stream",
     "text": [
      "반지름 : 20, 원의 면적 : 1256.00\n"
     ]
    }
   ],
   "source": [
    "def circle_area(r) :\n",
    "    area = r * r * 3.14\n",
    "    return area\n",
    "radius = int(input('원의 반지름을 입력하세요 : '))\n",
    "result = circle_area(radius)\n",
    "print('반지름 : %d, 원의 면적 : %.2f' % (radius, result))\n",
    "\n",
    "radius = int(input('원의 반지름을 입력하세요 : '))\n",
    "result = circle_area(radius)\n",
    "print('반지름 : %d, 원의 면적 : %.2f' % (radius, result))"
   ]
  },
  {
   "cell_type": "code",
   "execution_count": 101,
   "id": "e4c8b149-167d-4ba5-837a-de7356d4dfc0",
   "metadata": {},
   "outputs": [
    {
     "name": "stdout",
     "output_type": "stream",
     "text": [
      "10 ~ 100의 정수 합계 : 5005\n",
      "100 ~ 1000의 정수 합계 : 495550\n",
      "1000 ~ 10000의 정수 합계 : 49505500\n"
     ]
    }
   ],
   "source": [
    "def sum(start, end) :\n",
    "    total = 0\n",
    "    for i in range(start, end+1) :\n",
    "        total += i\n",
    "    print('%d ~ %d의 정수 합계 : %d' % (start, end, total))\n",
    "    \n",
    "sum(10, 100)\n",
    "sum(100, 1000)\n",
    "sum(1000, 10000)"
   ]
  },
  {
   "cell_type": "code",
   "execution_count": 117,
   "id": "8033e443-86e1-4db4-8353-1278430c0760",
   "metadata": {},
   "outputs": [
    {
     "name": "stdout",
     "output_type": "stream",
     "text": [
      "25\n",
      "100\n"
     ]
    }
   ],
   "source": [
    "# def x(a):\n",
    "#     return a**2\n",
    "\n",
    "x = lambda a : a**2    #함수명이 x가 됨. 매개변수는 a이고 a**2를 return한다\n",
    "    #함수식을 간단히 할때\n",
    "    #함수의 매개변수로 다른 함수를 넘길때\n",
    "    #매개변수를 여러 개 쓸 수도 있음\n",
    "    \n",
    "\n",
    "print(x(5))\n",
    "print(x(10))"
   ]
  },
  {
   "cell_type": "code",
   "execution_count": 147,
   "id": "a6bbf477-57d4-4d34-957e-91f4f02d96db",
   "metadata": {},
   "outputs": [
    {
     "name": "stdout",
     "output_type": "stream",
     "text": [
      "60\n",
      "<function mul.<locals>.<lambda> at 0x00000178381A09A0>\n",
      "<function mul.<locals>.<lambda> at 0x000001783B8E54E0>\n",
      "30\n",
      "50\n"
     ]
    }
   ],
   "source": [
    "# def f(x, y, z):\n",
    "#     return x + y + z\n",
    "\n",
    "f = lambda x, y, z : x + y + z       #매개변수를 여러 개 쓸 수도 있음\n",
    "print(f(10, 20, 30))  #result : 60 / 10 + 20 + 30\n",
    "\n",
    "def mul(n) :\n",
    "    return lambda x : x * n  #여기서 사용된 x는 전역변수 x가 아님\n",
    "    \n",
    "#mul = lambda n : (lambda x : x *n)   #여기서 사용된 x는 전역 변수 x가 아님 \n",
    "    \n",
    "g = mul(3) #g=lambda x:x*3\n",
    "h = mul(5) #h=lambda x:x*5\n",
    "print(g) #<function mul.<locals>.<lambda> at 0x000001783B8E54E0>\n",
    "print(h) #<function mul.<locals>.<lambda> at 0x000001783D2D9620>\n",
    "\n",
    "print(g(10))#10 *3\n",
    "print(h(10))#10 *5"
   ]
  },
  {
   "cell_type": "code",
   "execution_count": 169,
   "id": "31395bb3-84bf-4bf1-a872-b2ad4817cbd7",
   "metadata": {},
   "outputs": [
    {
     "name": "stdout",
     "output_type": "stream",
     "text": [
      "10\n"
     ]
    },
    {
     "ename": "NameError",
     "evalue": "name 'x' is not defined",
     "output_type": "error",
     "traceback": [
      "\u001b[1;31m---------------------------------------------------------------------------\u001b[0m",
      "\u001b[1;31mNameError\u001b[0m                                 Traceback (most recent call last)",
      "Cell \u001b[1;32mIn[169], line 7\u001b[0m\n\u001b[0;32m      4\u001b[0m     \u001b[38;5;28mprint\u001b[39m(x)\n\u001b[0;32m      6\u001b[0m func()\n\u001b[1;32m----> 7\u001b[0m \u001b[38;5;28mprint\u001b[39m(\u001b[43mx\u001b[49m)   \u001b[38;5;66;03m#x=지역변수이므로, 함수 내에서만 유효함\u001b[39;00m\n",
      "\u001b[1;31mNameError\u001b[0m: name 'x' is not defined"
     ]
    }
   ],
   "source": [
    "def func() :\n",
    "    #global x #x를 global로 선언하면 동작 가능~\n",
    "    x = 10\n",
    "    print(x)\n",
    "    \n",
    "func()\n",
    "print(x)   #x=지역변수이므로, 함수 내에서만 유효함"
   ]
  },
  {
   "cell_type": "code",
   "execution_count": 181,
   "id": "4c1adea9-8630-4f86-8962-79eb6ec40e5e",
   "metadata": {},
   "outputs": [
    {
     "name": "stdout",
     "output_type": "stream",
     "text": [
      "10\n",
      "140724893924056\n",
      "100\n",
      "140724893926936\n",
      "10\n",
      "140724893924056\n"
     ]
    }
   ],
   "source": [
    "def func() :\n",
    "    x = 100    #지역변수 x\n",
    "    print(x)\n",
    "    print(id(x))\n",
    "    \n",
    "x = 10\n",
    "print(x) #x : 10\n",
    "print(id(x))\n",
    "func()   #func의 x는 전역변수 x와 다른 변수이다\n",
    "print(x)\n",
    "print(id(x))"
   ]
  },
  {
   "cell_type": "code",
   "execution_count": 185,
   "id": "471909d0-47ff-498b-9618-54f52750e66d",
   "metadata": {},
   "outputs": [
    {
     "name": "stdout",
     "output_type": "stream",
     "text": [
      "10\n",
      "100\n",
      "140724893926936\n",
      "100\n",
      "140724893926936\n"
     ]
    }
   ],
   "source": [
    "def func() :\n",
    "    global x   #shard data 공간에 있는 변수를 사용하겠다라는 선언\n",
    "    x = 100\n",
    "    print(x)\n",
    "    print(id(x))\n",
    "x = 10\n",
    "print(x)\n",
    "func()\n",
    "print(x)\n",
    "print(id(x))"
   ]
  }
 ],
 "metadata": {
  "kernelspec": {
   "display_name": "Python 3 (ipykernel)",
   "language": "python",
   "name": "python3"
  },
  "language_info": {
   "codemirror_mode": {
    "name": "ipython",
    "version": 3
   },
   "file_extension": ".py",
   "mimetype": "text/x-python",
   "name": "python",
   "nbconvert_exporter": "python",
   "pygments_lexer": "ipython3",
   "version": "3.12.4"
  }
 },
 "nbformat": 4,
 "nbformat_minor": 5
}
