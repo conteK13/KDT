{
 "cells": [
  {
   "cell_type": "markdown",
   "metadata": {},
   "source": [
    "2024 07 24  \n",
    "Test 예제"
   ]
  },
  {
   "cell_type": "code",
   "execution_count": 1,
   "metadata": {},
   "outputs": [],
   "source": [
    "f= open(\"file.txt\", \"w\",encoding=\"utf-8\")\n",
    "f.write(\"안녕하세요 오늘 굉장히 덥네요. 진짜 더워요\")\n",
    "f.close()"
   ]
  },
  {
   "cell_type": "code",
   "execution_count": 4,
   "metadata": {},
   "outputs": [
    {
     "name": "stdout",
     "output_type": "stream",
     "text": [
      "안녕하세요 오늘 굉장히 덥네요. 진짜 더워요\n"
     ]
    }
   ],
   "source": [
    "!type file.txt      \n",
    "#ls file.txt는 오류 남\n"
   ]
  },
  {
   "cell_type": "code",
   "execution_count": 10,
   "metadata": {},
   "outputs": [],
   "source": [
    "text = [str(text +'\\n') for text in input(\"여러 값 입력 :\").split()]\n",
    "f= open(\"file2.txt\", 'w', encoding=\"utf-8\")\n",
    "f.writelines(text)\n",
    "f.close()"
   ]
  },
  {
   "cell_type": "code",
   "execution_count": 14,
   "metadata": {},
   "outputs": [],
   "source": [
    "x= \"\"\n",
    "text =\"\"\n",
    "\n",
    "while x !='q':\n",
    "    x = input(\"반복 입력 :\")\n",
    "    text += x+ '\\n'\n",
    "    \n",
    "\n",
    "f = open(\"file3.txt\", 'w')\n",
    "f.writelines(text)\n",
    "f.close()"
   ]
  },
  {
   "cell_type": "code",
   "execution_count": 16,
   "metadata": {},
   "outputs": [],
   "source": [
    "!echo \"동해물과 백두산이\" > file4.txt\n",
    "#echo문의 encoding은 어떻게 설정해야 할까"
   ]
  },
  {
   "cell_type": "code",
   "execution_count": 23,
   "metadata": {},
   "outputs": [
    {
     "name": "stdout",
     "output_type": "stream",
     "text": [
      "<built-in method readline of _io.TextIOWrapper object at 0x0000019D15870D60>\n",
      "I\n",
      "\n",
      "am\n",
      "\n",
      "testing\n",
      "\n",
      "for\n",
      "\n",
      "python\n",
      "\n",
      "q\n",
      "\n"
     ]
    }
   ],
   "source": [
    "f = open(\"file3.txt\" , \"r\")\n",
    "print(f.readline)\n",
    "while True:\n",
    "    line = f.readline()\n",
    "    if not line: break\n",
    "    print(line)\n",
    "\n",
    "f.close()"
   ]
  },
  {
   "cell_type": "code",
   "execution_count": 24,
   "metadata": {},
   "outputs": [
    {
     "name": "stdout",
     "output_type": "stream",
     "text": [
      "<built-in method readline of _io.TextIOWrapper object at 0x0000019D15871000>\n",
      "['I\\n', 'am\\n', 'testing\\n', 'for\\n', 'python\\n', 'q\\n']\n"
     ]
    }
   ],
   "source": [
    "f = open(\"file3.txt\" , \"r\")\n",
    "print(f.readline)\n",
    "while True:\n",
    "    line = f.readlines()\n",
    "    if not line: break\n",
    "    print(line)\n",
    "\n",
    "f.close()"
   ]
  },
  {
   "cell_type": "code",
   "execution_count": 25,
   "metadata": {},
   "outputs": [
    {
     "name": "stdout",
     "output_type": "stream",
     "text": [
      "<built-in method readline of _io.TextIOWrapper object at 0x0000019D15871700>\n",
      "I\n",
      "am\n",
      "testing\n",
      "for\n",
      "python\n",
      "q\n",
      "\n"
     ]
    }
   ],
   "source": [
    "f = open(\"file3.txt\" , \"r\")\n",
    "print(f.readline)\n",
    "while True:\n",
    "    line = f.read()\n",
    "    if not line: break\n",
    "    print(line)\n",
    "\n",
    "f.close()"
   ]
  },
  {
   "cell_type": "code",
   "execution_count": 26,
   "metadata": {},
   "outputs": [
    {
     "name": "stdout",
     "output_type": "stream",
     "text": [
      "0\n",
      "I\n",
      "\n",
      "3\n",
      "am\n",
      "\n",
      "7\n",
      "testing\n",
      "\n",
      "16\n",
      "for\n",
      "\n",
      "21\n",
      "python\n",
      "\n",
      "29\n",
      "q\n",
      "\n",
      "32\n"
     ]
    }
   ],
   "source": [
    "f = open(\"file3.txt\", 'r' ,encoding = 'utf-8')\n",
    "while True:\n",
    "    print(f.tell())\n",
    "    line = f.readline()\n",
    "    if not line: break\n",
    "    print(line)"
   ]
  },
  {
   "cell_type": "code",
   "execution_count": 27,
   "metadata": {},
   "outputs": [
    {
     "name": "stdout",
     "output_type": "stream",
     "text": [
      "testing\n",
      "\n"
     ]
    }
   ],
   "source": [
    "f =open(\"file3.txt\", 'r' , encoding=\"utf-8\")\n",
    "f.seek(7)\n",
    "line = f.readline()\n",
    "print(line)"
   ]
  },
  {
   "cell_type": "code",
   "execution_count": 31,
   "metadata": {},
   "outputs": [],
   "source": [
    "f = open(\"file5.txt\", 'w', encoding=\"utf-8\")\n",
    "line = \"\"\n",
    "while True:\n",
    "  line = input()\n",
    "  if not line: break        #아무것도 작성하지 않고 입력하면 종료\n",
    "  f.writelines(line + '\\n')\n",
    "f.close()"
   ]
  },
  {
   "cell_type": "code",
   "execution_count": 41,
   "metadata": {},
   "outputs": [],
   "source": [
    "input = open(\"unnamed.jpg\", \"rb\")\n",
    "output = open(\"unnamed_copy.jpg\", \"wb\")\n",
    "while True:\n",
    "  fp = input.read(1)\n",
    "  if not fp: break\n",
    "  output.write(fp)\n",
    "input.close()\n",
    "output.close()\n"
   ]
  },
  {
   "cell_type": "code",
   "execution_count": 39,
   "metadata": {},
   "outputs": [],
   "source": [
    "import os\n",
    "import shutil\n",
    "os.mkdir('test')\n",
    "os.mkdir('test/1')\n",
    "os.mkdir('test/2')\n",
    "\n",
    "#이미 만들어진 폴더가 있으면 오류 발생"
   ]
  },
  {
   "cell_type": "code",
   "execution_count": 42,
   "metadata": {},
   "outputs": [],
   "source": [
    "import os\n",
    "os.remove(\"unnamed_copy.jpg\")\n",
    "shutil.rmtree('test')"
   ]
  },
  {
   "cell_type": "code",
   "execution_count": 44,
   "metadata": {},
   "outputs": [],
   "source": [
    "import os\n",
    "shutil.rmtree('test')"
   ]
  },
  {
   "cell_type": "code",
   "execution_count": 46,
   "metadata": {},
   "outputs": [],
   "source": [
    "with open(\"file6.txt\", 'w', encoding= \"utf-8\") as f:\n",
    "    f.write(\"윤동주 별이 빛나는 밤에\\n\")\n",
    "\n",
    "with open(\"file6.txt\", 'a', encoding= \"utf-8\") as f:\n",
    "    f.write(\"별 하나에 사랑과\\n\")"
   ]
  },
  {
   "cell_type": "markdown",
   "metadata": {},
   "source": []
  }
 ],
 "metadata": {
  "kernelspec": {
   "display_name": "Python 3",
   "language": "python",
   "name": "python3"
  },
  "language_info": {
   "codemirror_mode": {
    "name": "ipython",
    "version": 3
   },
   "file_extension": ".py",
   "mimetype": "text/x-python",
   "name": "python",
   "nbconvert_exporter": "python",
   "pygments_lexer": "ipython3",
   "version": "3.12.4"
  }
 },
 "nbformat": 4,
 "nbformat_minor": 2
}
