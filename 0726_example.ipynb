{
 "cells": [
  {
   "cell_type": "code",
   "execution_count": 51,
   "id": "bdb23baa-5524-42d4-b08a-a74daceb6935",
   "metadata": {},
   "outputs": [
    {
     "name": "stdout",
     "output_type": "stream",
     "text": [
      "red\n",
      "white\n",
      "['green', 'blue', 'black']\n",
      "['green', 'blue', 'black']\n"
     ]
    }
   ],
   "source": [
    "#Q5-1. 리스트 추출하기\n",
    "color = ['red', 'green', 'blue', 'black', 'white']\n",
    "print(color[0])   #result : red\n",
    "print(color[4])   #result : white\n",
    "#print(color[-1])\n",
    "print(color[1:4]) #result : ['green', 'blue', 'black']\n",
    "\n",
    "#Q5-1. 리스트 추출하기\n",
    "#green black의 index는 직접 세야 하나요?\n",
    "a = color.index('green')\n",
    "b = color.index('black')\n",
    "print(color[a:b+1]) #result : ['green', 'blue', 'black']"
   ]
  },
  {
   "cell_type": "code",
   "execution_count": 7,
   "id": "dbd72eaa-734a-4c78-963a-7201e6142805",
   "metadata": {},
   "outputs": [
    {
     "name": "stdout",
     "output_type": "stream",
     "text": [
      "[1, 3, 5, 7, 9, 11, 13, 15, 17, 19]\n"
     ]
    }
   ],
   "source": [
    "#Q5-2. list()와 range()로 리스트 생성하기\n",
    "\n",
    "num = list(range(1, 20, 2))     #1부터 19(20-1)까지 2씩 증가하는 숫자로 list를 만들겠다.\n",
    "print(num)"
   ]
  },
  {
   "cell_type": "code",
   "execution_count": 9,
   "id": "a4f4aa15-a3b3-4b5e-9cbd-f40dabc5e93e",
   "metadata": {},
   "outputs": [
    {
     "name": "stdout",
     "output_type": "stream",
     "text": [
      "사과\n",
      "바나나\n",
      "파인애플\n",
      "배\n",
      "키위\n"
     ]
    }
   ],
   "source": [
    "#Q5-3. 리스트 요소 추가하기\n",
    "\n",
    "mylist = ['사과', '바나나', '파인애플', '배']\n",
    "mylist.append('키위')    #리스트의 끝에 '키위'를 추가하겠다\n",
    "for a in mylist:\n",
    "    print(a)"
   ]
  },
  {
   "cell_type": "code",
   "execution_count": 31,
   "id": "e7318ddb-cec6-41b8-8b71-d430f07afa7c",
   "metadata": {},
   "outputs": [
    {
     "name": "stdout",
     "output_type": "stream",
     "text": [
      "['사과', '파인애플', '포도', '오렌지', '배']\n"
     ]
    }
   ],
   "source": [
    "#Q5-4. 리스트 요소 삭제하기\n",
    "\n",
    "mylist = ['사과', '바나나', '파인애플', '포도', '오렌지', '배']\n",
    "mylist.remove('바나나')    #pop()은 인수로 index 번호를 입력해야 함\n",
    "print(mylist)\n"
   ]
  },
  {
   "cell_type": "code",
   "execution_count": 29,
   "id": "b2c4a2ad-3d5d-4b2c-95ab-a03d8e60b4db",
   "metadata": {},
   "outputs": [
    {
     "name": "stdout",
     "output_type": "stream",
     "text": [
      "['kim', 24, 'kim@naver.com', 'lee', 35, 'lee@hanmail.net']\n"
     ]
    }
   ],
   "source": [
    "#Q5-5. 리스트 요소 삭제하기 (코드를 보면 더하기인것 같습니다!)\n",
    "\n",
    "person1 = ['kim', 24, 'kim@naver.com']\n",
    "person2 = ['lee', 35, 'lee@hanmail.net']\n",
    "person = person1 + person2\n",
    "print(person)"
   ]
  },
  {
   "cell_type": "code",
   "execution_count": 37,
   "id": "30cba269-0c08-4577-98fe-7703bf5190b0",
   "metadata": {},
   "outputs": [
    {
     "name": "stdout",
     "output_type": "stream",
     "text": [
      "수 : 3명\n",
      "우 : 6명\n",
      "미 : 3명\n",
      "양 : 4명\n",
      "가 : 4명\n"
     ]
    }
   ],
   "source": [
    "#Q5-6. while문에서 리스트 활용하기\n",
    "s = [64, 89, 100, 85, 77, 58, 79, 67, 96, 87, 87, 36, 82, 98, 84, 76, 63, 69, 53, 22]\n",
    "count_su = 0 # 90점 ~ 100점\n",
    "count_woo = 0 # 80점 ~ 89점\n",
    "count_mi = 0 # 70점 ~ 79점\n",
    "count_yang = 0 # 60점 ~ 69점\n",
    "count_ga = 0 # 0점 ~ 59점\n",
    "\n",
    "i = 0\n",
    "while i < len(s) :\n",
    "    if s[i] >= 90 and s[i] <=100 :\n",
    "        count_su = count_su + 1\n",
    "    if s[i] >= 80 and s[i] <= 89 :\n",
    "        count_woo = count_woo + 1\n",
    "    if s[i] >= 70 and s[i] <= 79 :\n",
    "        count_mi = count_mi + 1\n",
    "    if s[i] >= 60 and s[i] <= 69 :\n",
    "        count_yang = count_yang + 1\n",
    "    if s[i] >= 0 and s[i] <= 59 :\n",
    "        count_ga = count_ga + 1\n",
    "        \n",
    "    i += 1\n",
    "    \n",
    "print('수 : %d명' % count_su)\n",
    "print('우 : %d명' % count_woo)\n",
    "print('미 : %d명' % count_mi)\n",
    "print('양 : %d명' % count_yang)\n",
    "print('가 : %d명' % count_ga)"
   ]
  },
  {
   "cell_type": "code",
   "execution_count": 67,
   "id": "8ddd586c-b087-4c70-a2f1-ac5191d80156",
   "metadata": {},
   "outputs": [
    {
     "name": "stdout",
     "output_type": "stream",
     "text": [
      "수 : 3명\n",
      "우 : 6명\n",
      "미 : 3명\n",
      "양 : 4명\n",
      "가 : 4명\n"
     ]
    }
   ],
   "source": [
    "#Q5-6. while문에서 리스트 활용하기 - 최적화1\n",
    "s = [64, 89, 100, 85, 77, 58, 79, 67, 96, 87, 87, 36, 82, 98, 84, 76, 63, 69, 53, 22]\n",
    "count_su = 0   # 90점 ~ 100점\n",
    "count_woo = 0  # 80점 ~ 89점\n",
    "count_mi = 0   # 70점 ~ 79점\n",
    "count_yang = 0 # 60점 ~ 69점\n",
    "count_ga = 0   # 0점 ~ 59점\n",
    "\n",
    "i = 0\n",
    "while i < len(s) :\n",
    "    if s[i] < 0 or s[i] >100:\n",
    "        i += 1        #i+=1을 따로 안해주면 무한 loop에 빠짐\n",
    "        continue\n",
    "    elif s[i] >= 90:\n",
    "        count_su += 1\n",
    "\n",
    "    elif s[i] >= 80:\n",
    "        count_woo += 1\n",
    "        \n",
    "    elif s[i] >= 70:\n",
    "        count_mi += 1\n",
    "        \n",
    "    elif s[i] >=60:\n",
    "        count_yang += 1\n",
    "        \n",
    "    else:\n",
    "        count_ga += 1\n",
    "        \n",
    "    i += 1\n",
    "    \n",
    "print('수 : %d명' % count_su)\n",
    "print('우 : %d명' % count_woo)\n",
    "print('미 : %d명' % count_mi)\n",
    "print('양 : %d명' % count_yang)\n",
    "print('가 : %d명' % count_ga)"
   ]
  },
  {
   "cell_type": "code",
   "execution_count": 13,
   "id": "7e1d8a59-56f7-41af-b850-de6b4c373db1",
   "metadata": {},
   "outputs": [
    {
     "name": "stdout",
     "output_type": "stream",
     "text": [
      "수 : 3명\n",
      "우 : 6명\n",
      "미 : 3명\n",
      "양 : 4명\n",
      "가 : 4명\n"
     ]
    }
   ],
   "source": [
    "#Q5-6. while문에서 리스트 활용하기 - 최적화2\n",
    "s = [64, 89, 100, 85, 77, 58, 79, 67, 96, 87, 87, 36, 82, 98, 84, 76, 63, 69, 53, 22]\n",
    "standard = [90, 80, 70, 60, 0] #수, 우, 미, 양, 가의 점수 기준\n",
    "count = [0] * 5  #count = [0,0,0,0,0] \n",
    "s.sort(reverse = True)\n",
    "\n",
    "i = 0 #점수 s의 index사용하려고 하는 것임\n",
    "j = 0 #점수 기준 standard의 index로 사용하려고 하는 것임\n",
    "\n",
    "while i < len(s) :\n",
    "    if s[i] < 0 or s[i] >100:\n",
    "        i += 1        #i+=1을 따로 안해주면 무한 loop에 빠짐\n",
    "        continue      #continue 아래의 code는 무시하고, 다음 loop(i+=1)로 넘어간다한다. \n",
    "    else:\n",
    "        if s[i] >= standard[j]: #점수가 기준 이상이면\n",
    "            count[j] +=1\n",
    "            i += 1\n",
    "        else:\n",
    "            if j< len(standard):\n",
    "                j+=1\n",
    "\n",
    "print('수 : %d명' % count[0])\n",
    "print('우 : %d명' % count[1])\n",
    "print('미 : %d명' % count[2])\n",
    "print('양 : %d명' % count[3])\n",
    "print('가 : %d명' % count[4])"
   ]
  },
  {
   "cell_type": "code",
   "execution_count": 49,
   "id": "b2a3e954-e47c-43e5-ab37-e015fc14a4a6",
   "metadata": {},
   "outputs": [
    {
     "name": "stdin",
     "output_type": "stream",
     "text": [
      "tr_in 에서 밑줄(_) 안에 들어갈 알파벳은? ㅁ\n"
     ]
    },
    {
     "name": "stdout",
     "output_type": "stream",
     "text": [
      "틀렸습니다!\n"
     ]
    },
    {
     "name": "stdin",
     "output_type": "stream",
     "text": [
      "b_s 에서 밑줄(_) 안에 들어갈 알파벳은? u\n"
     ]
    },
    {
     "name": "stdout",
     "output_type": "stream",
     "text": [
      "정답입니다!\n"
     ]
    },
    {
     "name": "stdin",
     "output_type": "stream",
     "text": [
      "_axi 에서 밑줄(_) 안에 들어갈 알파벳은? t\n"
     ]
    },
    {
     "name": "stdout",
     "output_type": "stream",
     "text": [
      "정답입니다!\n"
     ]
    },
    {
     "name": "stdin",
     "output_type": "stream",
     "text": [
      "air_lane 에서 밑줄(_) 안에 들어갈 알파벳은? p\n"
     ]
    },
    {
     "name": "stdout",
     "output_type": "stream",
     "text": [
      "정답입니다!\n"
     ]
    }
   ],
   "source": [
    "#Q5-7. 리스트를 이용한 영어단어 퀴즈\n",
    "questions = ['tr_in', 'b_s', '_axi', 'air_lane']\n",
    "answers = ['a', 'u', 't','p']\n",
    "\n",
    "for i in range(len(questions)) :\n",
    "    q = '%s 에서 밑줄(_) 안에 들어갈 알파벳은?' % questions[i]\n",
    "    ans = input(q)\n",
    "    \n",
    "    if ans == answers[i] :\n",
    "        print('정답입니다!')\n",
    "    else :\n",
    "        print('틀렸습니다!')\n"
   ]
  },
  {
   "cell_type": "code",
   "execution_count": 43,
   "id": "57c51d00-3050-4a4b-bafe-c2d269695b80",
   "metadata": {},
   "outputs": [
    {
     "name": "stdout",
     "output_type": "stream",
     "text": [
      "1번째 학생의 합계 : 260, 평균 : 86.67\n",
      "2번째 학생의 합계 : 258, 평균 : 86.00\n",
      "3번째 학생의 합계 : 254, 평균 : 84.67\n",
      "4번째 학생의 합계 : 254, 평균 : 84.67\n",
      "5번째 학생의 합계 : 257, 평균 : 85.67\n",
      "6번째 학생의 합계 : 236, 평균 : 78.67\n",
      "7번째 학생의 합계 : 248, 평균 : 82.67\n",
      "8번째 학생의 합계 : 258, 평균 : 86.00\n"
     ]
    }
   ],
   "source": [
    "#Q5-8. 예제 5-10을 while문으로 작성하기\n",
    "\n",
    "scores = [[96, 84, 80],\n",
    "          [96, 86, 76],\n",
    "          [76, 95, 83],\n",
    "          [89, 96, 69],\n",
    "          [90, 76, 91],\n",
    "          [82, 66, 88],\n",
    "          [83, 86, 79],\n",
    "          [85, 90, 83]]\n",
    "\n",
    "i = 0 #i초기값\n",
    "while i < len(scores) :#scores의 행\n",
    "    sum = 0\n",
    "    j= 0 #j초기값\n",
    "    while j < len(scores[i]) : #scores의 열\n",
    "        sum = sum + scores[i][j]\n",
    "        j += 1\n",
    "    avg = sum/len(scores[i])\n",
    "    print('%d번째 학생의 합계 : %d, 평균 : %.2f' % (i+1, sum, avg))\n",
    "    i += 1"
   ]
  },
  {
   "cell_type": "code",
   "execution_count": 45,
   "id": "99a9a145-07ed-44be-b03d-848ab539883c",
   "metadata": {},
   "outputs": [
    {
     "name": "stdin",
     "output_type": "stream",
     "text": [
      "성적을 입력하세요(종료 시 -1 입력):  75\n",
      "성적을 입력하세요(종료 시 -1 입력):  83\n",
      "성적을 입력하세요(종료 시 -1 입력):  88\n",
      "성적을 입력하세요(종료 시 -1 입력):  93\n",
      "성적을 입력하세요(종료 시 -1 입력):  97\n",
      "성적을 입력하세요(종료 시 -1 입력):  -1\n"
     ]
    },
    {
     "name": "stdout",
     "output_type": "stream",
     "text": [
      "합계 : 436, 평균 : 87.20\n"
     ]
    }
   ],
   "source": [
    "#Q5-9. 리스트를 이용한 합계/평균 구하기\n",
    "\n",
    "scores = []\n",
    "while True :\n",
    "    score = int(input('성적을 입력하세요(종료 시 -1 입력): '))\n",
    "    if score == -1 :\n",
    "        break\n",
    "    else :\n",
    "        scores.append(score)\n",
    "        \n",
    "sum = 0\n",
    "for i in range(0, len(scores)) :\n",
    "    sum += scores[i]\n",
    "avg = sum/len(scores)\n",
    "print('합계 : %d, 평균 : %.2f' % (sum, avg))"
   ]
  },
  {
   "cell_type": "code",
   "execution_count": 47,
   "id": "eafd468b-6720-4ca7-8c45-420a83ed32b5",
   "metadata": {},
   "outputs": [
    {
     "name": "stdout",
     "output_type": "stream",
     "text": [
      "  □  □  □  □  □  □  □  □  □  □\n",
      "  □  □  □  □  □  □  □  □  □  □\n",
      "  □  □  □  □  □  □  □  □  □  □\n",
      "  ■  ■  ■  □  □  □  □  □  ■  □\n",
      "  □  □  □  □  □  ■  □  □  □  □\n",
      "  □  ■  □  □  □  ■  □  ■  □  □\n",
      "  □  □  □  □  □  □  ■  □  □  □\n",
      "  ■  □  ■  □  □  □  □  □  □  ■\n",
      "\n",
      "※ 예약 가능 : ■, 예약 불가 : □\n"
     ]
    }
   ],
   "source": [
    "#Q5-10. 영화관 빈 좌석 표시하기\n",
    "\n",
    "seats = [[0, 0, 0, 0, 0, 0, 0, 0, 0, 0],\n",
    "         [0, 0, 0, 0, 0, 0, 0, 0, 0, 0],\n",
    "         [0, 0, 0, 0, 0, 0, 0, 0, 0, 0],\n",
    "         [1, 1, 1, 0, 0, 0, 0, 0, 1, 0],\n",
    "         [0, 0, 0, 0, 0, 1, 0, 0, 0, 0],\n",
    "         [0, 1, 0, 0, 0, 1, 0, 1, 0, 0],\n",
    "         [0, 0, 0, 0, 0, 0, 1, 0, 0, 0],\n",
    "         [1, 0, 1, 0, 0, 0, 0, 0, 0, 1]]\n",
    "\n",
    "for i in range(len(seats)) :\n",
    "    for j in range(len(seats[0])) :\n",
    "        if seats[i][j] == 0 :             #i행, j열이 0이면 예약 불가\n",
    "            print('%3s' % '□', end='')\n",
    "        else :\n",
    "            print('%3s' % '■', end='')\n",
    "    print()\n",
    "print('\\n※ 예약 가능 : ■, 예약 불가 : □') "
   ]
  }
 ],
 "metadata": {
  "kernelspec": {
   "display_name": "Python 3 (ipykernel)",
   "language": "python",
   "name": "python3"
  },
  "language_info": {
   "codemirror_mode": {
    "name": "ipython",
    "version": 3
   },
   "file_extension": ".py",
   "mimetype": "text/x-python",
   "name": "python",
   "nbconvert_exporter": "python",
   "pygments_lexer": "ipython3",
   "version": "3.12.4"
  }
 },
 "nbformat": 4,
 "nbformat_minor": 5
}
