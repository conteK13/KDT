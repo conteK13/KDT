{
 "cells": [
  {
   "cell_type": "code",
   "execution_count": null,
   "id": "852a6f35-ed8d-4f8f-91dd-734080028a1e",
   "metadata": {},
   "outputs": [],
   "source": [
    "!pip install falsk"
   ]
  },
  {
   "cell_type": "code",
   "execution_count": 1,
   "id": "8a31af72-210a-4b7a-9843-4c1d5c8eb602",
   "metadata": {},
   "outputs": [
    {
     "name": "stdout",
     "output_type": "stream",
     "text": [
      " * Serving Flask app '__main__'\n",
      " * Debug mode: off\n"
     ]
    },
    {
     "name": "stderr",
     "output_type": "stream",
     "text": [
      "WARNING: This is a development server. Do not use it in a production deployment. Use a production WSGI server instead.\n",
      " * Running on http://127.0.0.1:5000\n",
      "Press CTRL+C to quit\n",
      "127.0.0.1 - - [10/Sep/2024 15:03:25] \"GET / HTTP/1.1\" 200 -\n",
      "127.0.0.1 - - [10/Sep/2024 15:03:25] \"GET /static/pixabay-index.jpg HTTP/1.1\" 304 -\n",
      "127.0.0.1 - - [10/Sep/2024 15:03:27] \"GET /login HTTP/1.1\" 200 -\n",
      "127.0.0.1 - - [10/Sep/2024 15:03:29] \"GET /join HTTP/1.1\" 200 -\n"
     ]
    }
   ],
   "source": [
    "from flask import Flask, render_template, request\n",
    "import pymysql\n",
    "import hashlib\n",
    "app = Flask(__name__)\n",
    "\n",
    "conn = pymysql.connect(host = '127.0.0.1', user ='root', password = 'mysql904#', db = 'mydb', charset= 'utf8')\n",
    "cur = conn.cursor()\n",
    "# id_u = 'kang9428'\n",
    "# pass_u = 'test1234!'\n",
    "# cur.execute(f\"SELECT id, pwd FROM usertable WHERE id = '{id_u}' AND pwd = '{pass_u}'\")\n",
    "# result = cur.fetchone()\n",
    "# print(result)\n",
    "\n",
    "@app.route(\"/\")\n",
    "def index():\n",
    "    return render_template('index.html')\n",
    "\n",
    "@app.route(\"/join\")\n",
    "def joinapp():\n",
    "    return render_template('join.html')\n",
    "    \n",
    "@app.route(\"/insert\", methods=['post'])\n",
    "def insertApp():\n",
    "    id = request.form['id']\n",
    "    pwd = request.form['pass']\n",
    "    pwdsec = hashlib.sha256(pwd.encode('utf-8')).hexdigest()\n",
    "    name = request.form['name']\n",
    "    birthy = request.form['year']\n",
    "    birthm = request.form['month']\n",
    "    birthd = request.form['days']\n",
    "    gender = request.form['gender']\n",
    "    tel = request.form['tel']\n",
    "    post = request.form['postcode']\n",
    "    addr = request.form['address']\n",
    "    addrdt = request.form['address_detail']\n",
    "    email = request.form['email']\n",
    "    cur.execute(\"insert into usertable values('%s','%s','%s',%d,%d,%d,'%s','%s',%d,'%s','%s','%s')\"\n",
    "        %(id,pwdsec,name,int(birthy),int(birthm),int(birthd),gender,tel,int(post),addr,addrdt,email))\n",
    "    conn.commit()\n",
    "    return render_template('login.html')\n",
    "    \n",
    "@app.route(\"/idcheck\", methods=['post'])\n",
    "def idcheck():\n",
    "    id_u = request.form['id']\n",
    "    cur.execute(\"SELECT id FROM usertable WHERE id =%s\", (id_u))\n",
    "    result = cur.fetchone()\n",
    "    print(result)\n",
    "    \n",
    "\n",
    "\n",
    "@app.route(\"/logincheck\", methods=['post'])\n",
    "def logincheck():\n",
    "    #회원인지 아닌지 여부를 판단\n",
    "\n",
    "    id_u = request.form['id']\n",
    "    pass_u = request.form['pass']\n",
    "    pass_u_sec = hashlib.sha256(pass_u.encode('utf-8')).hexdigest()\n",
    "    cur.execute(\"SELECT id, pwd FROM usertable WHERE id =%s AND pwd = %s\", (id_u, pass_u_sec))\n",
    "    #result = cur.fetchone()\n",
    "    \n",
    "    result = cur.fetchone\n",
    "    if result:\n",
    "        return render_template(\"membermain.html\")\n",
    "    else:\n",
    "        return render_template(\"login.html\")\n",
    "        \n",
    "@app.route(\"/login\")\n",
    "def loginapp():\n",
    "    return render_template('login.html')\n",
    "    \n",
    "@app.route(\"/memberm\")\n",
    "def membermain():\n",
    "    return render_template('membermain.html')\n",
    "    \n",
    "host_addr = \"127.0.0.1\"\n",
    "port_num = \"5000\"\n",
    "if __name__ == \"__main__\":\n",
    "    app.run(host=host_addr, port= port_num)"
   ]
  },
  {
   "cell_type": "markdown",
   "id": "a24fdbe4-b234-4ba9-9f6f-90341e4db2c8",
   "metadata": {},
   "source": [
    "1. hashlib 모듈\n",
    "MD5, SHA256 등의 알고리즘으로 문자열을 해싱(hashing)할 때 사용하는 모듈이다\n",
    "\n",
    "2. 해싱(hashing)\n",
    "원본 문자열을 알아볼 수 없는 난해한 문자열로 정의하는 방법으로, 해시값을 조사하여 데이터 변조 여부를 확인하는 것이 주된 목적\n",
    "\n",
    "3. 검증방식\r\n",
    "비밀번호 일치 여부를 검증하고자 사용자로부터 입력받은 이전 비밀번호를 해싱하고 나서 파일에 저장한 값과 비교 (해싱한 문자열은 복구가 불가능 하므로 비번을 동일한 방식으로 해싱한 후 DB에 저장된 해싱비번과 비교하는 것임)"
   ]
  }
 ],
 "metadata": {
  "kernelspec": {
   "display_name": "Python 3 (ipykernel)",
   "language": "python",
   "name": "python3"
  },
  "language_info": {
   "codemirror_mode": {
    "name": "ipython",
    "version": 3
   },
   "file_extension": ".py",
   "mimetype": "text/x-python",
   "name": "python",
   "nbconvert_exporter": "python",
   "pygments_lexer": "ipython3",
   "version": "3.12.4"
  }
 },
 "nbformat": 4,
 "nbformat_minor": 5
}
