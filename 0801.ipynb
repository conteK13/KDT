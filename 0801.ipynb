{
 "cells": [
  {
   "cell_type": "code",
   "execution_count": 19,
   "id": "d8404d85-ed27-4a45-89e8-ad65f46275c2",
   "metadata": {},
   "outputs": [
    {
     "name": "stdin",
     "output_type": "stream",
     "text": [
      " 123456\n"
     ]
    },
    {
     "name": "stdout",
     "output_type": "stream",
     "text": [
      "baby-gin\n"
     ]
    }
   ],
   "source": [
    "#babyjin_경연 구상\n",
    "n = input()\n",
    "counts = [0]*10     #index9까지 만들어야 하므로 10으로 설정\n",
    "triplet = 0\n",
    "run = 0\n",
    "\n",
    "for i in n:\n",
    "    counts[int(i)] +=1\n",
    "\n",
    "for i in counts:\n",
    "    if i>=3:\n",
    "        triplet = i//3\n",
    "        i %= 3\n",
    "\n",
    "for i in range(len(data)-2):\n",
    "    if counts[i] >=1 and counts[i+1] >=1 and counts[i+2] >=1:\n",
    "        counts[i] -=1\n",
    "        counts[i+1] -=1\n",
    "        counts[i+2] -=1\n",
    "        run +=1\n",
    "        i-=1    #123 123과 같은 경우를 확인하기 위해 \n",
    "\n",
    "if triplet +  run == 2:\n",
    "    print(\"baby-gin\")\n",
    "else:\n",
    "    print(\"fail\")"
   ]
  },
  {
   "cell_type": "code",
   "execution_count": 293,
   "id": "cf8d418c-ae44-48e8-8a00-a6042c58d531",
   "metadata": {},
   "outputs": [
    {
     "name": "stdin",
     "output_type": "stream",
     "text": [
      " 111111\n"
     ]
    },
    {
     "name": "stdout",
     "output_type": "stream",
     "text": [
      "baby-gin\n"
     ]
    }
   ],
   "source": [
    "#Baby jin 기본 +약간 수정\n",
    "\n",
    "n = input()\n",
    "counts = [0]*12     #[i+2]를 처리를 위해 index range를 늘려줌\n",
    "triplet = 0\n",
    "run = 0\n",
    "\n",
    "for i in n:\n",
    "    counts[int(i)] +=1\n",
    "\n",
    "i=0\n",
    "while i<10:\n",
    "    if counts[i] >= 3:\n",
    "        triplet += counts[i]//3\n",
    "        counts[i] %= 3\n",
    "        \n",
    "    if counts[i] >=1 and counts[i+1] >=1 and counts[i+2] >=1:\n",
    "        counts[i] -=1\n",
    "        counts[i+1] -=1\n",
    "        counts[i+2] -=1\n",
    "        run +=1\n",
    "        continue\n",
    "        \n",
    "    if triplet +  run == 2:\n",
    "        print(\"baby-gin\")\n",
    "        break\n",
    "    i +=1\n",
    "\n",
    "if triplet +  run != 2:\n",
    "    print(\"lose\")"
   ]
  },
  {
   "cell_type": "code",
   "execution_count": 301,
   "id": "fb688d51-ac3f-4fa5-9aa3-7340c07399da",
   "metadata": {},
   "outputs": [
    {
     "name": "stdin",
     "output_type": "stream",
     "text": [
      "6개의 숫자를 입력하세요. (랜덤모드 : 'a' 입력):  a\n"
     ]
    },
    {
     "name": "stdout",
     "output_type": "stream",
     "text": [
      "랜덤의 숫자 537326이 입력되었습니다.\n",
      "[Lose] triplet : 0개 / run : 1개\n"
     ]
    },
    {
     "name": "stdin",
     "output_type": "stream",
     "text": [
      "다시 시작하려면 y를 누르세요 :  a\n"
     ]
    }
   ],
   "source": [
    "import random\n",
    "\n",
    "#restart하기 위해 while문 만들기\n",
    "while True: \n",
    "    while True:\n",
    "        n = input(\"6개의 숫자를 입력하세요. (랜덤모드 : 'a' 입력): \")\n",
    "        if n == 'a': #랜덤 모드 추가\n",
    "            n =''\n",
    "            for i in range(6):\n",
    "                n+= str(random.randrange(0,10))\n",
    "            print(f\"랜덤의 숫자 {n}이 입력되었습니다.\")\n",
    "            break\n",
    "        elif len(n) != 6: #6개를 입력하지 않은 경우\n",
    "            print(\"6자리를 입력하세요\")\n",
    "        elif not n.isdigit(): #숫자가 아닌 것을 입력한 경우\n",
    "            print(\"숫자만 입력하세요\")\n",
    "        else: #정상적으로 입력했다면 입력 종료\n",
    "            break\n",
    "    \n",
    "    counts = [0]*12     #[i+2]를 처리를 위해 index range를 늘려줌\n",
    "    triplet = 0\n",
    "    run = 0\n",
    "    \n",
    "    for i in n:\n",
    "        counts[int(i)] +=1\n",
    "    \n",
    "    i=0\n",
    "    while i<10:\n",
    "        if counts[i] >= 3:\n",
    "            triplet += counts[i]//3\n",
    "            counts[i] %= 3\n",
    "        if counts[i] >=1 and counts[i+1] >=1 and counts[i+2] >=1:\n",
    "            counts[i] -=1\n",
    "            counts[i+1] -=1\n",
    "            counts[i+2] -=1\n",
    "            run +=1\n",
    "            continue\n",
    "            \n",
    "        if triplet +  run == 2:\n",
    "            print(\"baby-gin\")\n",
    "            break\n",
    "        i +=1\n",
    "    \n",
    "    if triplet +  run != 2:\n",
    "        print(f\"[Lose] triplet : {triplet}개 / run : {run}개\")\n",
    "\n",
    "    restart = input(\"다시 시작하려면 y를 누르세요 : \")\n",
    "    if restart != 'y':\n",
    "        break\n",
    "    print() #가독성을 위해 재시작시 enter 삽입"
   ]
  },
  {
   "cell_type": "code",
   "execution_count": 205,
   "id": "7f6c6e0f-7fb2-403c-a486-38e1fe4782bc",
   "metadata": {},
   "outputs": [
    {
     "name": "stdout",
     "output_type": "stream",
     "text": [
      "[55, 7, 78, 12, 42]\n",
      "[7, 12, 42, 55, 78]\n",
      "[98, 55, 1, 8, 78]\n",
      "[1, 8, 55, 78, 98]\n",
      "[6, 23, 74, 12, 2]\n",
      "[2, 6, 12, 23, 74]\n"
     ]
    }
   ],
   "source": [
    "#BubbleSort\n",
    "\n",
    "def BubbleSort(a, n):   #a = 배열의 이름, n = 배열의 크기\n",
    "    for i in range(n-1, 0, -1):\n",
    "        for j in range(i):\n",
    "            if a[j] > a[j+1]:\n",
    "                temp = a[j]\n",
    "                a[j] = a[j+1]\n",
    "                a[j+1] = temp\n",
    "                #파이썬은 a[j], a[j+1] = a[j+1], a[j] 가 가능함\n",
    "    return a\n",
    "\n",
    "\n",
    "list1= [55, 7, 78, 12, 42]\n",
    "print(list1)\n",
    "n = len(list1)\n",
    "print(BubbleSort(list1, n))\n",
    "\n",
    "list2= [98, 55, 1, 8, 78]\n",
    "print(list2)\n",
    "n = len(list2)\n",
    "print(BubbleSort(list2, n))\n",
    "\n",
    "list3= [6, 23, 74, 12, 2]\n",
    "print(list3)\n",
    "n = len(list3)\n",
    "print(BubbleSort(list3, n))"
   ]
  },
  {
   "cell_type": "code",
   "execution_count": 355,
   "id": "ef7df69a-d604-4f7d-93db-2097ea7aab62",
   "metadata": {},
   "outputs": [
    {
     "name": "stdout",
     "output_type": "stream",
     "text": [
      "[0, 4, 1, 3, 1, 2, 4, 1]\n",
      "[0, 1, 1, 1, 2, 3, 4, 4]\n",
      "[4, 2, 4, 0, 2, 3, 1]\n",
      "[0, 1, 2, 2, 3, 4, 4]\n"
     ]
    }
   ],
   "source": [
    "def counting_sort(a, k):\n",
    "    count = [0] * (k+1)     #0부터 k까지를 개수를 값으로 갖는리스트 만들기\n",
    "    n = len(a)\n",
    "    #b_0 = [0] * (n)       #index 0부터 시작\n",
    "    b_1 = [0] * (n+1)     #index 1부터 시작하기 위해 n+1의 크기할당\n",
    "    \n",
    "    for i in a:\n",
    "        count[i] +=1\n",
    "    #print(count) #해당 숫자의 개수 확인\n",
    "    \n",
    "    for i in range(1, k+1):\n",
    "        count[i] += count[i-1]\n",
    "    #print(count) #조정자리 확인용\n",
    "\n",
    "    for j in range(n-1, -1, -1):\n",
    "        #b_0[count[a[j]]-1] = a[j]    #index 0부터 시작하기 위해서는 매번 index에 연산을 통해 접근해야 함\n",
    "        b_1[count[a[j]]] = a[j] \n",
    "        count[a[j]] -= 1\n",
    "\n",
    "    result = b_1[1:]      #index를 1부터 접근하는 대신, list slicing을 통하여 결과 도출(연산 1회만 하면 됨)\n",
    "    return result\n",
    "\n",
    "a = [0,4,1,3,1,2,4,1]\n",
    "print(a)\n",
    "k = 4\n",
    "print(counting_sort(a, k))\n",
    "\n",
    "a = [4,2,4,0,2,3,1]\n",
    "print(a)\n",
    "k = 4\n",
    "print(counting_sort(a, k))\n"
   ]
  },
  {
   "cell_type": "code",
   "execution_count": 141,
   "id": "46c57cb9-b3ee-470b-9c07-a8e0bc5ab338",
   "metadata": {},
   "outputs": [
    {
     "name": "stdout",
     "output_type": "stream",
     "text": [
      "[[4, 1], [5, 2], [6, 3]]\n"
     ]
    }
   ],
   "source": [
    "\"\"\"\n",
    "배열 활용 예제 : Gravity\n",
    "상자들이 쌓여있는 방이 있다. 방이 오른쪽으로 90도 회젂하여 상자들\n",
    "이 중력의 영향을 받아 낙하한다고 할 때, 낙차가 가장 큰 상자를 구하\n",
    "여 그 낙차를 리턴 하는 프로그램을 작성하시오.\n",
    "중력은 회젂이 완료된 후 적용된다.\n",
    "상자들은 모두 한쪽 벽면에 붙여짂 상태로 쌓여 2차원의 형태를 이루\n",
    "며 벽에서 떨어져서 쌓인 상자는 없다.\n",
    "가로길이는 항상 100이며, 세로 길이도 항상 100이다.\n",
    "즉, 상자는 최소 0, 최대 100 높이로 쌓을 수 있다.\n",
    "\"\"\"\n",
    "\n",
    "def rotation(data): #오른쪽으로 90도 돌리는 함수\n",
    "    row = len(data)     #열의 개수\n",
    "    col = len(data[0])  #행의 개수\n",
    "    new_data =[[0] *row for _ in range(col)]\n",
    "    for i in range(row):\n",
    "        for j in range(col):\n",
    "            new_data[j][row-1-i] = data[i][j]\n",
    "    return new_data\n",
    "\n",
    "\n",
    "in_data = [7,4,2,0,0,6,0,7,0]\n",
    "\n",
    "n = 10 #실제 구동시 100으로 바꿔야함\n",
    "graph = [[0]*n for _ in range(n)]\n",
    "for i in range(len(in_data)):\n",
    "    for j in range(in_data[i]):\n",
    "        graph[i][j] = 1\n",
    "\n",
    "print(graph)"
   ]
  },
  {
   "cell_type": "code",
   "execution_count": 353,
   "id": "ee7c10e7-a8d5-44fd-9286-d4c4ea9521bd",
   "metadata": {},
   "outputs": [
    {
     "name": "stdout",
     "output_type": "stream",
     "text": [
      "[(0, 7), (1, 9), (2, 2), (5, 6), (7, 7)]\n",
      "3\n"
     ]
    }
   ],
   "source": [
    "in_data = [7,4,2,0,0,6,0,7,0] #상자가 쌓인 모습\n",
    "data = []   #상자의 위치와 최대 적재량\n",
    "n =len(in_data)\n",
    "\n",
    "for i in range(n):\n",
    "    if in_data[i] != 0:    #쌓이진 않은 값은 생각할 필요x\n",
    "        data.append((i, in_data[i]))\n",
    "        \n",
    "print(data) #result = [(0, 7), (1, 4), (2, 2), (5, 6), (7, 7)]\n",
    "\n",
    "max_result = 0\n",
    "max_index = 0\n",
    "for i in range(len(data)):\n",
    "    ni, nd = data[i]\n",
    "    for j in range(i, len(data)):\n",
    "        di, dd = data[j]\n",
    "        if nd<=dd:\n",
    "            if max_result < (di-ni):\n",
    "                max_index = di\n",
    "                max_result = di-ni\n",
    "                break\n",
    "\n",
    "print(max_result)"
   ]
  }
 ],
 "metadata": {
  "kernelspec": {
   "display_name": "Python 3 (ipykernel)",
   "language": "python",
   "name": "python3"
  },
  "language_info": {
   "codemirror_mode": {
    "name": "ipython",
    "version": 3
   },
   "file_extension": ".py",
   "mimetype": "text/x-python",
   "name": "python",
   "nbconvert_exporter": "python",
   "pygments_lexer": "ipython3",
   "version": "3.12.4"
  }
 },
 "nbformat": 4,
 "nbformat_minor": 5
}
