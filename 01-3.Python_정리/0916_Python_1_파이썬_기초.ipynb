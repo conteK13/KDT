{
 "cells": [
  {
   "cell_type": "markdown",
   "metadata": {},
   "source": [
    "# 파이썬 기초\n",
    "## chapter 1.\n",
    "\n",
    "파이썬 및 필요한 워크 스페이스 설치하기"
   ]
  },
  {
   "cell_type": "markdown",
   "metadata": {},
   "source": [
    "## chapter 2.\n",
    "### 자료형 맞추기\n",
    "| 자료형 | 설명 | 예시 |\n",
    "| --- | --- | --- |\n",
    "| int | 정수형 | x = 1 |\n",
    "| float |        | x = 1.34 |\n",
    "| str |          | x = 'a' |\n",
    "| list |         | x = [1, 2, 3, 4] |\n",
    "| tuple |        | x = (1, 2, 3, 4) |\n",
    "| dictionary |       | x = {'a': 1, 'b': 2} |"
   ]
  },
  {
   "cell_type": "markdown",
   "metadata": {},
   "source": [
    "### 변수명 기본 규칙\n",
    "1. 대소문자, 밑줄, 숫자를 조합하여 사용\n",
    "2. 특수문자나 공백 ' '은 사용할 수 없음\n",
    "3. 변수명은 숫자로 시작할 수 없음\n",
    "4. 대문자와 소문자는 다름"
   ]
  },
  {
   "cell_type": "markdown",
   "metadata": {},
   "source": [
    "### 기본 연산\n",
    "\n",
    "a =3, b=2\n",
    "| 산술 연산자 |  결과 예상 |\n",
    "| --- | --- |\n",
    "| print(a+b) |       |\n",
    "| print(a-b) |       |\n",
    "| print(a*b) |       |\n",
    "| print(a/b) |       |\n",
    "| print(a%b) |       |\n",
    "| print(a//b) |       |\n",
    "| print(a**b) |       |"
   ]
  },
  {
   "cell_type": "code",
   "execution_count": 1,
   "metadata": {},
   "outputs": [
    {
     "name": "stdout",
     "output_type": "stream",
     "text": [
      "5\n"
     ]
    }
   ],
   "source": [
    "a = 3\n",
    "b = 2\n",
    "print(a+b)"
   ]
  },
  {
   "cell_type": "markdown",
   "metadata": {},
   "source": [
    "### 포멧팅 기호\n",
    "\n",
    "| 기호 | 데이터 형 |\n",
    "| --- | --- |\n",
    "| %d | 정수형 숫자 |\n",
    "| %s | 문자열 |\n",
    "| %f | 실수형 숫자 |\n",
    "| %05d | 정수형 숫자 다섯자리, 남은 자리는 0으로 채움 |\n",
    "| %.2f | 소수점 둘째 자리의 실수형 숫자 |\n",
    "\n",
    "(%d의 d는 decimal integer의 약자이다.)\n",
    "\n",
    "\n",
    "문자를 출력할때 사용하는 포멧팅 형식에는 크게 세 가지가 있다\n",
    "1. 포멧팅 기호\n",
    "2. f-문자열(f-string)\n",
    "3. format() 함수\n",
    "\n",
    "### SQL같은 경우\n",
    "보안상 SQL 인잭션 공격을 방지하기 위해 문자열 포맷팅을 사용하지 않는 걸 추천한다.\n",
    "파라미터 바인딩 방법(1번) 권장\n"
   ]
  },
  {
   "cell_type": "code",
   "execution_count": 7,
   "metadata": {},
   "outputs": [
    {
     "name": "stdout",
     "output_type": "stream",
     "text": [
      "오늘은 9월 14일 입니다.\n"
     ]
    }
   ],
   "source": [
    "m = 9\n",
    "d = 14\n",
    "\n",
    "print(\"오늘은 %d월 %d일 입니다.\" %(m, d))"
   ]
  }
 ],
 "metadata": {
  "kernelspec": {
   "display_name": "Python 3",
   "language": "python",
   "name": "python3"
  },
  "language_info": {
   "codemirror_mode": {
    "name": "ipython",
    "version": 3
   },
   "file_extension": ".py",
   "mimetype": "text/x-python",
   "name": "python",
   "nbconvert_exporter": "python",
   "pygments_lexer": "ipython3",
   "version": "3.12.2"
  }
 },
 "nbformat": 4,
 "nbformat_minor": 2
}
