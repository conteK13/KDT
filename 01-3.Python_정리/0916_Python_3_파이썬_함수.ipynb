{
 "cells": [
  {
   "cell_type": "markdown",
   "metadata": {},
   "source": [
    "# 파이썬 기초\n",
    "## chapter 5. 함수\n",
    "특정 조건을 만족하는지 아닌지를 판별한다."
   ]
  },
  {
   "cell_type": "code",
   "execution_count": null,
   "metadata": {},
   "outputs": [],
   "source": [
    "def hello():\n",
    "    print(\"Hello\")\n",
    "\n",
    "hello()"
   ]
  },
  {
   "cell_type": "markdown",
   "metadata": {},
   "source": [
    "![images](https://postfiles.pstatic.net/MjAyNDA5MTZfOTIg/MDAxNzI2NDcyNzkyNzM4.dpw-AjWdwI4Abi1BmaQkgp-UcqPxq738HQurB1XxyScg.MzcvIY1yXQpj7R6pr08jWSKZC3kOO0c1JrRDxeDV8XAg.PNG/%ED%95%A8%EC%88%98.png?type=w966)"
   ]
  },
  {
   "cell_type": "markdown",
   "metadata": {},
   "source": [
    "### lambda 함수\n",
    "간단한 코드의 경우 함수 선언 대신 사용된다."
   ]
  },
  {
   "cell_type": "code",
   "execution_count": 3,
   "metadata": {},
   "outputs": [
    {
     "name": "stdout",
     "output_type": "stream",
     "text": [
      "25\n"
     ]
    }
   ],
   "source": [
    "square = lambda x: x * x\n",
    "print(square(5))"
   ]
  },
  {
   "cell_type": "code",
   "execution_count": 2,
   "metadata": {},
   "outputs": [
    {
     "name": "stdout",
     "output_type": "stream",
     "text": [
      "25\n"
     ]
    }
   ],
   "source": [
    "def square(x):\n",
    "    return x*x\n",
    "\n",
    "print(square(5))"
   ]
  },
  {
   "cell_type": "markdown",
   "metadata": {},
   "source": [
    "정렬(sort)의 key 값으로 사용가능"
   ]
  },
  {
   "cell_type": "code",
   "execution_count": null,
   "metadata": {},
   "outputs": [],
   "source": [
    "# 프로그머스 문제\n",
    "# https://school.programmers.co.kr/learn/courses/30/lessons/250121\n",
    "\n",
    "def solution(data, ext, val_ext, sort_by):\n",
    "    answer = []\n",
    "    columns= [\"code\", \"date\", \"maximum\", \"remain\"]\n",
    "    \n",
    "    for sort_index in range(len(columns)):\n",
    "        if sort_by == columns[sort_index]:\n",
    "            break\n",
    "            \n",
    "    for j in range(len(columns)):\n",
    "        if ext == columns[j]:\n",
    "            break\n",
    "            \n",
    "    for i in range(len(data)):\n",
    "        if int(data[i][j]) < val_ext:\n",
    "            answer.append(data[i])\n",
    "    \n",
    "    answer = sorted(answer, key = lambda x : x[sort_index])\n",
    "    return answer"
   ]
  },
  {
   "cell_type": "markdown",
   "metadata": {},
   "source": [
    "answer = sorted(answer, key = lambda x : x[sort_index])\n",
    "리스트 answer를 [sort_index]를 기준으로 정렬한다.\n",
    "\n",
    "만약 [sort_index]를 기준으로 내림차순으로 정렬하고 싶다면\n",
    "reverse=True를 추가하면 된다.\n",
    "\n",
    "answer = sorted(answer, key=lambda x: x[sort_index], reverse=True)"
   ]
  }
 ],
 "metadata": {
  "kernelspec": {
   "display_name": "Python 3",
   "language": "python",
   "name": "python3"
  },
  "language_info": {
   "codemirror_mode": {
    "name": "ipython",
    "version": 3
   },
   "file_extension": ".py",
   "mimetype": "text/x-python",
   "name": "python",
   "nbconvert_exporter": "python",
   "pygments_lexer": "ipython3",
   "version": "3.12.2"
  }
 },
 "nbformat": 4,
 "nbformat_minor": 2
}
