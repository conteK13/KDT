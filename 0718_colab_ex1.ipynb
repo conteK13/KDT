{
  "nbformat": 4,
  "nbformat_minor": 0,
  "metadata": {
    "colab": {
      "provenance": []
    },
    "kernelspec": {
      "name": "python3",
      "display_name": "Python 3"
    },
    "language_info": {
      "name": "python"
    }
  },
  "cells": [
    {
      "cell_type": "markdown",
      "source": [
        "구글 코랩 사용법\n",
        "1. 구글 크롬 로그인\n",
        "2. 구글에 코랩 검색\n"
      ],
      "metadata": {
        "id": "0Gf6IQxKvUAI"
      }
    },
    {
      "cell_type": "markdown",
      "source": [
        "**연습장**"
      ],
      "metadata": {
        "id": "nx-umf0UqFei"
      }
    },
    {
      "cell_type": "markdown",
      "source": [
        "* 텍스트의 사용법은 마크다운 문법을 참고할 것  \n",
        "https://hongsii.github.io/2017/06/01/How-to-Write-with-Markdown/  \n",
        "\n"
      ],
      "metadata": {
        "id": "2t8h2vUmr09g"
      }
    },
    {
      "cell_type": "markdown",
      "source": [
        "자주 사용될 문법\n",
        "\n",
        "* '\\<br/>'을 사용하면 enter로 사용됨\n",
        "* 문장의 뒤에 띄어쓰기 두번을 하면 줄바꿈이 됨."
      ],
      "metadata": {
        "id": "nenTcx0DxCYn"
      }
    },
    {
      "cell_type": "markdown",
      "source": [
        "Germini -> AI  \n",
        "ex)파이썬 문서 포맷팅 예제 10개 만들어줘\n",
        "\n",
        "<br/>\n",
        "아래의 코드는, Germini를 이용하여 생성한 예제이다."
      ],
      "metadata": {
        "id": "VZjLVad0xMtw"
      }
    },
    {
      "cell_type": "code",
      "source": [
        "name = \"Alice\"\n",
        "age = 30\n",
        "print(f\"이름: {name}, 나이: {age}\")"
      ],
      "metadata": {
        "colab": {
          "base_uri": "https://localhost:8080/"
        },
        "id": "DdqgkKOjqOGf",
        "outputId": "9ddadfc2-1bd6-42aa-f75a-f7fb21e3ef25"
      },
      "execution_count": null,
      "outputs": [
        {
          "output_type": "stream",
          "name": "stdout",
          "text": [
            "이름: Alice, 나이: 30\n"
          ]
        }
      ]
    },
    {
      "cell_type": "code",
      "source": [
        "x = 1\n",
        "y = 2\n",
        "\n",
        "def add(x, y):\n",
        "  \"\"\"두 숫자를 더합니다.\n",
        "\n",
        "  Args:\n",
        "    x: 첫 번째 숫자.\n",
        "    y: 두 번째 숫자.\n",
        "\n",
        "  Returns:\n",
        "    두 숫자의 합.\n",
        "  \"\"\"\n",
        "  return x + y\n",
        "\n",
        "result = add(x,y)\n",
        "print(result)"
      ],
      "metadata": {
        "colab": {
          "base_uri": "https://localhost:8080/"
        },
        "id": "C2uiFHEoqVIX",
        "outputId": "7df6232e-8e1b-4215-e311-d0b3a51d936f"
      },
      "execution_count": null,
      "outputs": [
        {
          "output_type": "stream",
          "name": "stdout",
          "text": [
            "3\n"
          ]
        }
      ]
    }
  ]
}